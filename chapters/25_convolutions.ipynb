{
 "cells": [
  {
   "cell_type": "code",
   "execution_count": 1,
   "metadata": {
    "slideshow": {
     "slide_type": "skip"
    },
    "tags": [
     "hide-input"
    ]
   },
   "outputs": [],
   "source": [
    "#hide\n",
    "from fastai.vision.all import *\n",
    "\n",
    "matplotlib.rc('image', cmap='Greys')"
   ]
  },
  {
   "cell_type": "markdown",
   "metadata": {},
   "source": [
    "# Convolutional Neural Networks\n",
    "\n",
    "In this section, we'll delve into the fundamentals of **convolutions** and build a Convolutional Neural Network (CNN) from scratch. CNNs are powerful tools for image recognition, especially effective in capturing spatial hierarchies within images. We will explore the mechanics of convolutions, discuss kernels and feature maps, and gradually move toward training strategies that stabilize learning and improve performance.\n",
    "\n",
    "## Introduction to Convolutions\n",
    "\n",
    "One of the most impactful concepts in image-based machine learning is **feature extraction**—identifying the essential parts of data that help distinguish between classes.\n",
    "\n",
    ">A *feature* is a transformed version of the data that makes patterns easier to model.\n",
    "\n",
    "In images, a feature can represent visually distinctive elements like edges, textures, and patterns. For example, distinguishing the number 7 from the number 3 involves identifying a horizontal line near the top (7) and distinguishing it from a more curved structure (3). The presence and orientation of lines or curves are vital characteristics.\n",
    "\n",
    "So, instead of working directly with raw pixel values, we can leverage **convolutions** to highlight these features, allowing the model to \"see\" parts of the image that are useful for classification.\n",
    "\n",
    "### What is a Convolution?\n",
    "\n",
    "A convolution is a mathematical operation that takes an **input image** and applies a **kernel** to it, producing a feature map that highlights specific structures (edges, textures) in the image. \n",
    "\n",
    "Mathematically, for a 2D image $ I $ and a 2D kernel $ K $, a convolution $ S $ at pixel $(i, j)$ is given by:\n",
    "\n",
    "$$\n",
    "S(i, j) = \\sum_{m=-k}^{k} \\sum_{n=-k}^{k} I(i+m, j+n) \\cdot K(m, n)\n",
    "$$\n",
    "\n",
    "where:\n",
    "- $ I(i+m, j+n) $ is the pixel value at location $(i+m, j+n)$ in the input image,\n",
    "- $ K(m, n) $ is the kernel value at $(m, n)$,\n",
    "- $ k $ is half the kernel width (for a 3×3 kernel, $ k=1 $).\n",
    "\n",
    "The **kernel** is a small matrix, typically 3×3, which slides across the image. At each location, it multiplies its values with the corresponding values in the image's 3×3 region and sums the result, creating one value in the **output feature map**. \n",
    "\n",
    "#### Example: Edge Detection\n",
    "\n",
    "Consider an edge-detection kernel like:\n",
    "\n",
    "$$\n",
    "K = \\begin{bmatrix} -1 & -1 & -1 \\\\ -1 & 8 & -1 \\\\ -1 & -1 & -1 \\end{bmatrix}\n",
    "$$\n",
    "\n",
    "Applying this kernel to a region of an image will emphasize regions where pixel values change sharply, helping detect edges. This ability to enhance specific features is what makes convolutions so powerful.\n",
    "\n",
    "### Convolution in Action\n",
    "\n",
    "Let's perform a convolution on a small patch of an image. Start by creating a simple 3×3 kernel matrix:\n",
    "\n"
   ]
  },
  {
   "cell_type": "code",
   "execution_count": 2,
   "metadata": {},
   "outputs": [],
   "source": [
    "import torch\n",
    "\n",
    "# Define a 3x3 kernel for edge detection\n",
    "edge_kernel = torch.tensor([\n",
    "    [-1.0, -1.0, -1.0],\n",
    "    [-1.0,  8.0, -1.0],\n",
    "    [-1.0, -1.0, -1.0]\n",
    "])"
   ]
  },
  {
   "cell_type": "markdown",
   "metadata": {},
   "source": [
    "\n",
    "\n",
    "Next, let's apply this kernel across a small sample image to see the effect:\n"
   ]
  },
  {
   "cell_type": "code",
   "execution_count": 3,
   "metadata": {},
   "outputs": [],
   "source": [
    "# Example image as a tensor (7x7 grayscale image)\n",
    "image = torch.tensor([\n",
    "    [0, 0, 0, 0, 0, 0, 0],\n",
    "    [0, 255, 255, 255, 255, 255, 0],\n",
    "    [0, 255, 0, 0, 0, 255, 0],\n",
    "    [0, 255, 0, 0, 0, 255, 0],\n",
    "    [0, 255, 0, 0, 0, 255, 0],\n",
    "    [0, 255, 255, 255, 255, 255, 0],\n",
    "    [0, 0, 0, 0, 0, 0, 0]\n",
    "], dtype=torch.float32)"
   ]
  },
  {
   "cell_type": "markdown",
   "metadata": {},
   "source": [
    "#### Computing the Convolution Output\n",
    "\n",
    "The kernel will slide over the 7×7 image. At each step, the sum of the element-wise multiplication of the kernel and the 3×3 region of the image will be calculated.\n",
    "\n",
    "For example, if the kernel is centered over the top-left corner of the `255` region in the image, we calculate:\n",
    "\n",
    "$$\n",
    "\\text{output}(i, j) = \\text{sum}\\big(\\text{element-wise } \\times \\text{ }\\text{image region and kernel}\\big)\n",
    "$$\n"
   ]
  },
  {
   "cell_type": "code",
   "execution_count": 4,
   "metadata": {},
   "outputs": [
    {
     "name": "stdout",
     "output_type": "stream",
     "text": [
      "tensor([[ 1530.,  1275.,  1530.,  1275.,  1530.],\n",
      "        [ 1275., -1275.,  -765., -1275.,  1275.],\n",
      "        [ 1530.,  -765.,     0.,  -765.,  1530.],\n",
      "        [ 1275., -1275.,  -765., -1275.,  1275.],\n",
      "        [ 1530.,  1275.,  1530.,  1275.,  1530.]])\n"
     ]
    }
   ],
   "source": [
    "# Reshape for convolution (add batch and channel dimensions)\n",
    "image = image.unsqueeze(0).unsqueeze(0)  # Shape: (1, 1, 7, 7)\n",
    "edge_kernel = edge_kernel.unsqueeze(0).unsqueeze(0)  # Shape: (1, 1, 3, 3)\n",
    "\n",
    "# Apply convolution\n",
    "output = F.conv2d(image, edge_kernel, padding=0)  \n",
    "\n",
    "print(output[0, 0])  # Display the output"
   ]
  },
  {
   "cell_type": "markdown",
   "metadata": {},
   "source": [
    "Look at the shape of the result. If the original image has a height of `h` and a width of `w`, how many 3×3 windows can we find? As you can see from the example, there are `h-2` by `w-2` windows, so the image we get has a result as a height of `h-2` and a width of `w-2`.\n"
   ]
  },
  {
   "cell_type": "markdown",
   "metadata": {},
   "source": [
    "\n",
    "Convolutions are at the heart of CNNs, helping to create layers of increasingly abstracted feature maps that capture the essential information needed for effective image recognition.\n"
   ]
  },
  {
   "cell_type": "markdown",
   "metadata": {},
   "source": [
    "### Convolutions in PyTorch\n",
    "Convolutions are a fundamental operation in computer vision, and PyTorch provides optimized support for them with the `F.conv2d` function. This function is part of the `torch.nn.functional` module, which fastai imports as `F`. According to the PyTorch documentation, `F.conv2d` requires two main parameters:\n",
    "\n",
    "- `input`: A tensor of shape `(minibatch, in_channels, iH, iW)`, where `iH` and `iW` represent the height and width of the input image.\n",
    "- `weight`: A tensor of filters (kernels) of shape `(out_channels, in_channels, kH, kW)`, where `kH` and `kW` are the kernel’s height and width.\n",
    "\n",
    "Here’s a code example of a simple 2D convolution on a batch of grayscale images with PyTorch:\n",
    "\n"
   ]
  },
  {
   "cell_type": "code",
   "execution_count": 5,
   "metadata": {},
   "outputs": [
    {
     "name": "stdout",
     "output_type": "stream",
     "text": [
      "tensor([[[[-1.,  1.],\n",
      "          [-3.,  1.]]]])\n"
     ]
    }
   ],
   "source": [
    "import torch\n",
    "import torch.nn.functional as F\n",
    "\n",
    "# Example input tensor (batch of 1 grayscale 4x4 image)\n",
    "input_tensor = torch.tensor([[[[1, 2, 0, 1],\n",
    "                               [0, 1, 3, 1],\n",
    "                               [1, 2, 0, 2],\n",
    "                               [0, 1, 1, 0]]]], dtype=torch.float32)\n",
    "\n",
    "# 3x3 kernel (filter) for convolution\n",
    "kernel = torch.tensor([[[[1, 0, -1],\n",
    "                         [1, 0, -1],\n",
    "                         [1, 0, -1]]]], dtype=torch.float32)\n",
    "\n",
    "# Apply convolution\n",
    "output = F.conv2d(input_tensor, kernel)\n",
    "print(output)\n"
   ]
  },
  {
   "cell_type": "markdown",
   "metadata": {},
   "source": [
    "### Strides and Padding\n",
    "To control the size of the output feature map, we use **padding** and **strides**.\n",
    "\n",
    "1. **Padding** allows us to maintain the same output size as the input by adding extra pixels (usually zeros) around the edges. This is particularly helpful for making sure that the convolutional output has the same spatial dimensions as the input.\n",
    "\n",
    "2. **Strides** define how many pixels we slide the kernel across the input with each step. For example, a stride of 1 moves the kernel one pixel at a time, while a stride of 2 moves it two pixels at a time, effectively downsampling the image.\n",
    "\n",
    "Let's see how these parameters affect the output size with some code and diagrams.\n",
    "\n",
    "#### Padding Example\n",
    "Here’s an example that adds padding to the image to ensure the output is the same size as the input:\n",
    "\n"
   ]
  },
  {
   "cell_type": "code",
   "execution_count": 6,
   "metadata": {},
   "outputs": [
    {
     "name": "stdout",
     "output_type": "stream",
     "text": [
      "Output with padding:\n",
      "tensor([[[[-3., -2.,  1.,  3.],\n",
      "          [-5., -1.,  1.,  3.],\n",
      "          [-4., -3.,  1.,  4.],\n",
      "          [-3.,  0.,  1.,  1.]]]])\n"
     ]
    }
   ],
   "source": [
    "# Apply convolution with padding\n",
    "output_with_padding = F.conv2d(input_tensor, kernel, padding=1)\n",
    "print(\"Output with padding:\")\n",
    "print(output_with_padding)"
   ]
  },
  {
   "cell_type": "markdown",
   "metadata": {},
   "source": [
    "\n",
    "This code will add a 1-pixel border around the input tensor, allowing the kernel to apply in all regions without reducing the size of the output.\n",
    "\n",
    "*Diagram of Padding with 3x3 Kernel and 4x4 Input*:\n",
    "\n",
    "```\n",
    "Input (4x4):\n",
    "[1 2 0 1]\n",
    "[0 1 3 1]\n",
    "[1 2 0 2]\n",
    "[0 1 1 0]\n",
    "\n",
    "Kernel (3x3):\n",
    "[1 0 -1]\n",
    "[1 0 -1]\n",
    "[1 0 -1]\n",
    "\n",
    "Output with Padding (4x4):\n",
    "[-3 -4  1  3]\n",
    "[ 0 -3 -1  1]\n",
    "[ 2  1  2  1]\n",
    "[ 1  0 -1 -1]\n",
    "```\n",
    "\n",
    "This padding allows the kernel to apply on all edges of the input without reducing the feature map size.\n",
    "\n",
    "#### Stride Example\n",
    "If we want to reduce the spatial dimensions of the output, we can apply a stride greater than 1. Here’s an example with a stride of 2:\n",
    "\n",
    "```python\n",
    "# Apply convolution with stride of 2\n",
    "output_with_stride = F.conv2d(input_tensor, kernel, stride=2)\n",
    "print(\"Output with stride 2:\")\n",
    "print(output_with_stride)\n",
    "```\n"
   ]
  },
  {
   "cell_type": "markdown",
   "metadata": {},
   "source": [
    "\n",
    "In this case, the kernel moves two pixels at a time across the input, resulting in a smaller output feature map.\n",
    "\n",
    "*Diagram of Stride-2 Convolution with 3x3 Kernel on 4x4 Input*:\n",
    "\n",
    "```\n",
    "Input (4x4):\n",
    "[1 2 0 1]\n",
    "[0 1 3 1]\n",
    "[1 2 0 2]\n",
    "[0 1 1 0]\n",
    "\n",
    "Kernel (3x3):\n",
    "[1 0 -1]\n",
    "[1 0 -1]\n",
    "[1 0 -1]\n",
    "\n",
    "Output with Stride-2 (2x2):\n",
    "[-1  3]\n",
    "[ 1  2]\n",
    "```\n"
   ]
  },
  {
   "cell_type": "markdown",
   "metadata": {},
   "source": [
    "\n",
    "### General Formula for Output Size\n",
    "For each dimension (height or width), the output size `out_dim` is given by the formula:\n",
    "\n",
    "$$ \\text{out-dim} = \\left\\lfloor \\frac{\\text{input-dim} + 2 \\times \\text{padding} - \\text{kernel-size}}{\\text{stride}} \\right\\rfloor + 1 $$\n",
    "\n",
    "where:\n",
    "- `input_dim` is the size of the input along a particular dimension,\n",
    "- `padding` is the amount of padding added to each side of the input,\n",
    "- `kernel_size` is the size of the kernel (filter),\n",
    "- `stride` is the stride used for the convolution.\n"
   ]
  },
  {
   "cell_type": "markdown",
   "metadata": {
    "slideshow": {
     "slide_type": "slide"
    }
   },
   "source": [
    "## Building a Convolutional Neural Network"
   ]
  },
  {
   "cell_type": "markdown",
   "metadata": {},
   "source": [
    "In constructing a CNN, we aim to learn effective image features automatically rather than handcrafting filters. Specifically, we will optimize the convolutional kernel values via Stochastic Gradient Descent (SGD), allowing the model to learn the most informative features directly from the data. This approach is crucial, as certain complex patterns (especially in later layers) are difficult to manually design. When we use convolutions instead of (or in addition to) fully connected layers, we build what is known as a *Convolutional Neural Network* (CNN)."
   ]
  },
  {
   "cell_type": "code",
   "execution_count": 11,
   "metadata": {
    "tags": [
     "hide-input"
    ]
   },
   "outputs": [
    {
     "data": {
      "text/plain": [
       "torch.Size([64, 1, 28, 28])"
      ]
     },
     "execution_count": 11,
     "metadata": {},
     "output_type": "execute_result"
    }
   ],
   "source": [
    "path = untar_data(URLs.MNIST_SAMPLE)\n",
    "mnist = DataBlock((ImageBlock(cls=PILImageBW), CategoryBlock), \n",
    "                  get_items=get_image_files, \n",
    "                  splitter=GrandparentSplitter(),\n",
    "                  get_y=parent_label)\n",
    "\n",
    "dls = mnist.dataloaders(path)\n",
    "xb,yb = first(dls.valid)\n",
    "xb.shape"
   ]
  },
  {
   "cell_type": "markdown",
   "metadata": {
    "slideshow": {
     "slide_type": "subslide"
    }
   },
   "source": [
    "### Creating the CNN"
   ]
  },
  {
   "cell_type": "markdown",
   "metadata": {},
   "source": [
    "Let's start with a basic convolutional neural network:"
   ]
  },
  {
   "cell_type": "code",
   "execution_count": 12,
   "metadata": {},
   "outputs": [],
   "source": [
    "broken_cnn = sequential(\n",
    "    nn.Conv2d(1,30, kernel_size=3, padding=1),\n",
    "    nn.ReLU(),\n",
    "    nn.Conv2d(30,1, kernel_size=3, padding=1) \n",
    ")"
   ]
  },
  {
   "cell_type": "markdown",
   "metadata": {},
   "source": [
    "> Here, `nn.Conv2d` is the PyTorch module that initializes convolutional layers with learned weights. This is more convenient than `F.conv2d` (which performs convolution operations directly) because it automatically creates and tracks the weight matrices needed for SGD optimization."
   ]
  },
  {
   "cell_type": "markdown",
   "metadata": {
    "slideshow": {
     "slide_type": "subslide"
    }
   },
   "source": [
    "In this model, we do not specify the input size as 28×28 because, unlike fully connected layers that require a separate weight for every pixel, convolutional layers automatically apply weights across all pixels. Thus, we only need to define the number of input/output channels and kernel size. Let’s examine the output shape after applying `broken_cnn` to a batch:"
   ]
  },
  {
   "cell_type": "code",
   "execution_count": 14,
   "metadata": {},
   "outputs": [
    {
     "data": {
      "text/plain": [
       "torch.Size([64, 1, 28, 28])"
      ]
     },
     "execution_count": 14,
     "metadata": {},
     "output_type": "execute_result"
    }
   ],
   "source": [
    "broken_cnn(xb).shape"
   ]
  },
  {
   "cell_type": "markdown",
   "metadata": {
    "slideshow": {
     "slide_type": "subslide"
    }
   },
   "source": [
    "This model, however, returns a 28×28 activation map rather than a single classification output per image. To fix this, we need to reduce the spatial dimensions to size 1×1. One solution is to use multiple stride-2 convolutions, reducing the activation map size by half each time:\n",
    "\n",
    "- 28×28 → 14×14 (after first stride-2)\n",
    "- 14×14 → 7×7 (after second stride-2)\n",
    "- 7×7 → 4×4 → 2×2 → 1×1 (repeating stride-2 convolutions)"
   ]
  },
  {
   "cell_type": "markdown",
   "metadata": {},
   "source": [
    "### Defining the Convolutional Layers\n",
    "Let’s build a function to simplify adding layers with a stride-2 convolution, kernel size, and optional activation:"
   ]
  },
  {
   "cell_type": "code",
   "execution_count": 15,
   "metadata": {},
   "outputs": [],
   "source": [
    "def conv(ni, nf, ks=3, act=True):\n",
    "    res = nn.Conv2d(ni, nf, stride=2, kernel_size=ks, padding=ks//2)\n",
    "    if act: res = nn.Sequential(res, nn.ReLU())\n",
    "    return res"
   ]
  },
  {
   "cell_type": "markdown",
   "metadata": {},
   "source": [
    "> Refactoring like this makes code more readable and helps avoid inconsistencies when constructing neural networks.\n",
    "\n",
    "As we decrease the spatial dimensions with stride-2 convolutions, we’ll also increase the number of channels to preserve model capacity. Typically, as the input grid decreases, the number of feature maps (or channels) should increase to allow the model to capture richer and more abstract patterns. This way, we prevent a reduction in computational capacity as the model deepens.\n",
    "\n",
    "Here’s a simple CNN:"
   ]
  },
  {
   "cell_type": "code",
   "execution_count": 16,
   "metadata": {},
   "outputs": [],
   "source": [
    "simple_cnn = sequential(\n",
    "    conv(1 ,4),            #14x14\n",
    "    conv(4 ,8),            #7x7\n",
    "    conv(8 ,16),           #4x4\n",
    "    conv(16,32),           #2x2\n",
    "    conv(32,2, act=False), #1x1\n",
    "    Flatten(),\n",
    ")"
   ]
  },
  {
   "cell_type": "markdown",
   "metadata": {},
   "source": [
    "Now, the model outputs two activations, which map to the two classes we aim to predict."
   ]
  },
  {
   "cell_type": "code",
   "execution_count": 17,
   "metadata": {},
   "outputs": [
    {
     "data": {
      "text/plain": [
       "torch.Size([64, 2])"
      ]
     },
     "execution_count": 17,
     "metadata": {},
     "output_type": "execute_result"
    }
   ],
   "source": [
    "simple_cnn(xb).shape"
   ]
  },
  {
   "cell_type": "markdown",
   "metadata": {
    "slideshow": {
     "slide_type": "subslide"
    }
   },
   "source": [
    "\n",
    "### Creating the Learner\n",
    "Let’s create a `Learner` to train this model:"
   ]
  },
  {
   "cell_type": "code",
   "execution_count": 18,
   "metadata": {},
   "outputs": [],
   "source": [
    "learn = Learner(dls, simple_cnn, loss_func=F.cross_entropy, metrics=accuracy)"
   ]
  },
  {
   "cell_type": "markdown",
   "metadata": {
    "slideshow": {
     "slide_type": "subslide"
    }
   },
   "source": [
    "To see exactly what's going on in the model, we can use `summary`:"
   ]
  },
  {
   "cell_type": "code",
   "execution_count": 19,
   "metadata": {},
   "outputs": [
    {
     "data": {
      "text/html": [
       "\n",
       "<style>\n",
       "    /* Turns off some styling */\n",
       "    progress {\n",
       "        /* gets rid of default border in Firefox and Opera. */\n",
       "        border: none;\n",
       "        /* Needs to be in here for Safari polyfill so background images work as expected. */\n",
       "        background-size: auto;\n",
       "    }\n",
       "    progress:not([value]), progress:not([value])::-webkit-progress-bar {\n",
       "        background: repeating-linear-gradient(45deg, #7e7e7e, #7e7e7e 10px, #5c5c5c 10px, #5c5c5c 20px);\n",
       "    }\n",
       "    .progress-bar-interrupted, .progress-bar-interrupted::-webkit-progress-bar {\n",
       "        background: #F44336;\n",
       "    }\n",
       "</style>\n"
      ],
      "text/plain": [
       "<IPython.core.display.HTML object>"
      ]
     },
     "metadata": {},
     "output_type": "display_data"
    },
    {
     "data": {
      "text/html": [],
      "text/plain": [
       "<IPython.core.display.HTML object>"
      ]
     },
     "metadata": {},
     "output_type": "display_data"
    },
    {
     "data": {
      "text/plain": [
       "Sequential (Input shape: 64 x 1 x 28 x 28)\n",
       "============================================================================\n",
       "Layer (type)         Output Shape         Param #    Trainable \n",
       "============================================================================\n",
       "                     64 x 4 x 14 x 14    \n",
       "Conv2d                                    40         True      \n",
       "ReLU                                                           \n",
       "____________________________________________________________________________\n",
       "                     64 x 8 x 7 x 7      \n",
       "Conv2d                                    296        True      \n",
       "ReLU                                                           \n",
       "____________________________________________________________________________\n",
       "                     64 x 16 x 4 x 4     \n",
       "Conv2d                                    1168       True      \n",
       "ReLU                                                           \n",
       "____________________________________________________________________________\n",
       "                     64 x 32 x 2 x 2     \n",
       "Conv2d                                    4640       True      \n",
       "ReLU                                                           \n",
       "____________________________________________________________________________\n",
       "                     64 x 2 x 1 x 1      \n",
       "Conv2d                                    578        True      \n",
       "____________________________________________________________________________\n",
       "                     64 x 2              \n",
       "Flatten                                                        \n",
       "____________________________________________________________________________\n",
       "\n",
       "Total params: 6,722\n",
       "Total trainable params: 6,722\n",
       "Total non-trainable params: 0\n",
       "\n",
       "Optimizer used: <function Adam at 0x00000211C6C9BBA0>\n",
       "Loss function: <function cross_entropy at 0x00000211BC6F40E0>\n",
       "\n",
       "Callbacks:\n",
       "  - TrainEvalCallback\n",
       "  - CastToTensor\n",
       "  - Recorder\n",
       "  - ProgressCallback"
      ]
     },
     "execution_count": 19,
     "metadata": {},
     "output_type": "execute_result"
    }
   ],
   "source": [
    "learn.summary()"
   ]
  },
  {
   "cell_type": "markdown",
   "metadata": {},
   "source": [
    "Note that the output of the final `Conv2d` layer is `64x2x1x1`. We need to remove those extra `1x1` axes; that's what `Flatten` does. It's basically the same as PyTorch's `squeeze` method, but as a module.\n"
   ]
  },
  {
   "cell_type": "code",
   "execution_count": 20,
   "metadata": {
    "slideshow": {
     "slide_type": "subslide"
    }
   },
   "outputs": [
    {
     "data": {
      "text/html": [
       "\n",
       "<style>\n",
       "    /* Turns off some styling */\n",
       "    progress {\n",
       "        /* gets rid of default border in Firefox and Opera. */\n",
       "        border: none;\n",
       "        /* Needs to be in here for Safari polyfill so background images work as expected. */\n",
       "        background-size: auto;\n",
       "    }\n",
       "    progress:not([value]), progress:not([value])::-webkit-progress-bar {\n",
       "        background: repeating-linear-gradient(45deg, #7e7e7e, #7e7e7e 10px, #5c5c5c 10px, #5c5c5c 20px);\n",
       "    }\n",
       "    .progress-bar-interrupted, .progress-bar-interrupted::-webkit-progress-bar {\n",
       "        background: #F44336;\n",
       "    }\n",
       "</style>\n"
      ],
      "text/plain": [
       "<IPython.core.display.HTML object>"
      ]
     },
     "metadata": {},
     "output_type": "display_data"
    },
    {
     "data": {
      "text/html": [
       "<table border=\"1\" class=\"dataframe\">\n",
       "  <thead>\n",
       "    <tr style=\"text-align: left;\">\n",
       "      <th>epoch</th>\n",
       "      <th>train_loss</th>\n",
       "      <th>valid_loss</th>\n",
       "      <th>accuracy</th>\n",
       "      <th>time</th>\n",
       "    </tr>\n",
       "  </thead>\n",
       "  <tbody>\n",
       "    <tr>\n",
       "      <td>0</td>\n",
       "      <td>0.061466</td>\n",
       "      <td>0.031233</td>\n",
       "      <td>0.987733</td>\n",
       "      <td>00:18</td>\n",
       "    </tr>\n",
       "    <tr>\n",
       "      <td>1</td>\n",
       "      <td>0.022755</td>\n",
       "      <td>0.019546</td>\n",
       "      <td>0.994603</td>\n",
       "      <td>00:15</td>\n",
       "    </tr>\n",
       "  </tbody>\n",
       "</table>"
      ],
      "text/plain": [
       "<IPython.core.display.HTML object>"
      ]
     },
     "metadata": {},
     "output_type": "display_data"
    }
   ],
   "source": [
    "learn.fit_one_cycle(2, 0.01)"
   ]
  },
  {
   "cell_type": "markdown",
   "metadata": {
    "slideshow": {
     "slide_type": "subslide"
    }
   },
   "source": [
    "### Understanding Convolution Arithmetic"
   ]
  },
  {
   "cell_type": "markdown",
   "metadata": {},
   "source": [
    "Examining the model's summary reveals an input shape of `64x1x28x28`, where:\n",
    "- `64` is the batch size\n",
    "- `1` is the input channel count (e.g., grayscale images)\n",
    "- `28x28` are the height and width of the input images.\n",
    "\n",
    "Let’s analyze the first layer:"
   ]
  },
  {
   "cell_type": "code",
   "execution_count": 21,
   "metadata": {},
   "outputs": [
    {
     "data": {
      "text/plain": [
       "Sequential(\n",
       "  (0): Conv2d(1, 4, kernel_size=(3, 3), stride=(2, 2), padding=(1, 1))\n",
       "  (1): ReLU()\n",
       ")"
      ]
     },
     "execution_count": 21,
     "metadata": {},
     "output_type": "execute_result"
    }
   ],
   "source": [
    "m = learn.model[0]\n",
    "m"
   ]
  },
  {
   "cell_type": "markdown",
   "metadata": {},
   "source": [
    "The first convolutional layer has 1 input channel, 4 output channels, and a kernel of size 3×3. Checking its weights:"
   ]
  },
  {
   "cell_type": "code",
   "execution_count": 22,
   "metadata": {},
   "outputs": [
    {
     "data": {
      "text/plain": [
       "torch.Size([4, 1, 3, 3])"
      ]
     },
     "execution_count": 22,
     "metadata": {},
     "output_type": "execute_result"
    }
   ],
   "source": [
    "m[0].weight.shape"
   ]
  },
  {
   "cell_type": "markdown",
   "metadata": {},
   "source": [
    "The 40 parameters include 36 for the kernel (`4*1*3*3=36`) and 4 for the bias. Each channel has one bias parameter:"
   ]
  },
  {
   "cell_type": "code",
   "execution_count": 23,
   "metadata": {},
   "outputs": [
    {
     "data": {
      "text/plain": [
       "torch.Size([4])"
      ]
     },
     "execution_count": 23,
     "metadata": {},
     "output_type": "execute_result"
    }
   ],
   "source": [
    "m[0].bias.shape"
   ]
  },
  {
   "cell_type": "markdown",
   "metadata": {},
   "source": [
    "Each stride-2 convolution reduces the grid size, while the number of filters increases to maintain overall capacity. For instance, the first layer maps a 28×28 input to a 14×14 output, then the next layer maps 14×14 to 7×7.\n",
    "\n",
    "The calculation for the total computation in each layer is as follows:\n",
    "- *Number of multiplications per feature map*: $H \\times W \\times C \\times kH \\times kW $\n",
    "- Where:\n",
    "  - $ H, W $ are the height and width of the activation map\n",
    "  - $ C $ is the number of output channels\n",
    "  - $ kH, kW $ are the height and width of the kernel\n",
    "\n",
    "For example, if the input activation map is 14×14 with 4 output channels and a 3×3 kernel, the computation would be:\n",
    "\n",
    "$$\n",
    "14 \\times 14 \\times 4 \\times 3 \\times 3 = 7,056 \\text{ multiplications per feature map.}\n",
    "$$\n",
    "\n",
    "By doubling the number of channels after each stride-2 operation, we maintain consistent computation as we reduce grid size. This design allows deeper layers to extract increasingly abstract and semantically rich features, balancing both capacity and efficiency in the network."
   ]
  },
  {
   "cell_type": "markdown",
   "metadata": {
    "slideshow": {
     "slide_type": "slide"
    }
   },
   "source": [
    "## Improving Training Stability"
   ]
  },
  {
   "cell_type": "markdown",
   "metadata": {},
   "source": [
    "Having successfully recognized 3s and 7s, let’s tackle a more challenging task: recognizing all 10 digits from the MNIST dataset."
   ]
  },
  {
   "cell_type": "code",
   "execution_count": 24,
   "metadata": {
    "slideshow": {
     "slide_type": "skip"
    }
   },
   "outputs": [
    {
     "data": {
      "text/plain": [
       "(#2) [Path('testing'),Path('training')]"
      ]
     },
     "execution_count": 24,
     "metadata": {},
     "output_type": "execute_result"
    }
   ],
   "source": [
    "path = untar_data(URLs.MNIST)\n",
    "Path.BASE_PATH = path\n",
    "path.ls()"
   ]
  },
  {
   "cell_type": "markdown",
   "metadata": {
    "slideshow": {
     "slide_type": "subslide"
    }
   },
   "source": [
    "The data is organized into *training* and *testing* folders. We use `GrandparentSplitter` to split the data correctly since the folder names differ from the default `train` and `valid` labels. To facilitate experimentation with batch sizes, we define a `get_dls` function:"
   ]
  },
  {
   "cell_type": "code",
   "execution_count": 25,
   "metadata": {},
   "outputs": [],
   "source": [
    "def get_dls(bs=64):\n",
    "    return DataBlock(\n",
    "        blocks=(ImageBlock(cls=PILImageBW), CategoryBlock), \n",
    "        get_items=get_image_files, \n",
    "        splitter=GrandparentSplitter('training','testing'),\n",
    "        get_y=parent_label,\n",
    "        batch_tfms=Normalize()\n",
    "    ).dataloaders(path, bs=bs)\n",
    "\n",
    "dls = get_dls()"
   ]
  },
  {
   "cell_type": "markdown",
   "metadata": {
    "slideshow": {
     "slide_type": "subslide"
    }
   },
   "source": [
    "Before proceeding, it’s good practice to inspect the data visually to ensure correctness:"
   ]
  },
  {
   "cell_type": "code",
   "execution_count": 26,
   "metadata": {},
   "outputs": [
    {
     "data": {
      "image/png": "[encoded data removed]",
      "text/plain": [
       "<Figure size 400x400 with 9 Axes>"
      ]
     },
     "metadata": {},
     "output_type": "display_data"
    }
   ],
   "source": [
    "dls.show_batch(max_n=9, figsize=(4,4))"
   ]
  },
  {
   "cell_type": "markdown",
   "metadata": {
    "slideshow": {
     "slide_type": "slide"
    }
   },
   "source": [
    "### A Simple Baseline CNN\n",
    "Let’s start by building a basic convolutional neural network (CNN) as our baseline model. We can reuse the `conv` function from earlier, which makes it easy to build convolutional layers with configurable options."
   ]
  },
  {
   "cell_type": "code",
   "execution_count": 27,
   "metadata": {},
   "outputs": [],
   "source": [
    "def conv(ni, nf, ks=3, act=True):\n",
    "    res = nn.Conv2d(ni, nf, stride=2, kernel_size=ks, padding=ks//2)\n",
    "    if act: res = nn.Sequential(res, nn.ReLU())\n",
    "    return res"
   ]
  },
  {
   "cell_type": "markdown",
   "metadata": {
    "slideshow": {
     "slide_type": "subslide"
    }
   },
   "source": [
    "#### Increasing Model Complexity\n",
    "Given that our task now involves distinguishing 10 classes instead of just two, we likely need a more complex model with additional filters. Generally, doubling the number of filters at each stride-2 convolutional layer is beneficial, as it compensates for the reduction in spatial dimensions.\n",
    "\n",
    "However, there’s a subtle problem to consider. In convolutional networks, feature extraction is effective only if the number of outputs at each layer is significantly smaller than the number of inputs. For example, if we use a 3×3 kernel (covering 9 pixels) and generate only four output filters, the model will still be forced to compress information meaningfully. But if we increase the filters without adjusting the kernel size, we risk having too few inputs per output feature, reducing the model's ability to learn effectively.\n",
    "\n",
    "To address this, we increase the kernel size in the first layer to 5×5, covering 25 pixels. This setup provides a more substantial input for each output feature, enhancing feature extraction:"
   ]
  },
  {
   "cell_type": "code",
   "execution_count": 28,
   "metadata": {},
   "outputs": [],
   "source": [
    "def simple_cnn():\n",
    "    return sequential(\n",
    "        conv(1 ,8, ks=5),        #14x14\n",
    "        conv(8 ,16),             #7x7\n",
    "        conv(16,32),             #4x4\n",
    "        conv(32,64),             #2x2\n",
    "        conv(64,10, act=False),  #1x1\n",
    "        Flatten(),\n",
    "    )"
   ]
  },
  {
   "cell_type": "markdown",
   "metadata": {
    "slideshow": {
     "slide_type": "subslide"
    }
   },
   "source": [
    "### Analyzing Model Training with Activation Statistics\n",
    "To better understand the behavior of our model during training, we can use the `ActivationStats` callback. This callback records the mean, standard deviation, and histogram of activations at each layer. Examining these statistics allows us to detect issues such as activation values becoming too small (near zero) or too large, both of which can lead to training instability."
   ]
  },
  {
   "cell_type": "code",
   "execution_count": 29,
   "metadata": {},
   "outputs": [],
   "source": [
    "from fastai.callback.hook import *\n",
    "def fit(epochs=1):\n",
    "    learn = Learner(dls, simple_cnn(), loss_func=F.cross_entropy,\n",
    "                    metrics=accuracy, cbs=ActivationStats(with_hist=True))\n",
    "    learn.fit(epochs, 0.06)\n",
    "    return learn\n",
    "learn = fit()"
   ]
  },
  {
   "cell_type": "markdown",
   "metadata": {
    "slideshow": {
     "slide_type": "subslide"
    }
   },
   "source": [
    "This initial attempt may result in poor training. Let’s diagnose why by examining activation statistics. `ActivationStats` provides a utility, `plot_layer_stats(idx)`, to visualize the mean, standard deviation, and percentage of activations near zero for each layer. Here’s an example for the first layer:"
   ]
  },
  {
   "cell_type": "code",
   "execution_count": 30,
   "metadata": {},
   "outputs": [
    {
     "data": {
      "image/png": "[encoded data removed]",
      "text/plain": [
       "<Figure size 1200x300 with 3 Axes>"
      ]
     },
     "metadata": {},
     "output_type": "display_data"
    }
   ],
   "source": [
    "learn.activation_stats.plot_layer_stats(0)"
   ]
  },
  {
   "cell_type": "markdown",
   "metadata": {
    "slideshow": {
     "slide_type": "subslide"
    }
   },
   "source": [
    "Ideally, the mean and standard deviation should remain stable or follow a smooth trend. A high percentage of activations near zero indicates that a significant portion of the model is inactive or contributing minimally, which can propagate through layers, worsening at deeper levels.\n",
    "\n",
    "Now let’s check the penultimate layer:"
   ]
  },
  {
   "cell_type": "code",
   "execution_count": 31,
   "metadata": {},
   "outputs": [
    {
     "data": {
      "image/png": "[encoded data removed]",
      "text/plain": [
       "<Figure size 1200x300 with 3 Axes>"
      ]
     },
     "metadata": {},
     "output_type": "display_data"
    }
   ],
   "source": [
    "learn.activation_stats.plot_layer_stats(-2)"
   ]
  },
  {
   "cell_type": "markdown",
   "metadata": {},
   "source": [
    "As expected, instability and zero activations often increase towards the end of the network, suggesting that some layers are \"dead\" and effectively passing zero values forward. This issue compounds through layers, making training difficult"
   ]
  },
  {
   "cell_type": "markdown",
   "metadata": {
    "slideshow": {
     "slide_type": "slide"
    }
   },
   "source": [
    "### Batch Size and Gradient Stability\n",
    "\n",
    "Increasing the batch size is a common technique to stabilize training. Mathematically, a larger batch size provides a better approximation of the population gradient by reducing the variance of the gradient estimate $\\nabla L$, where $L$ is the loss function. Formally, if the true gradient of the loss $L$ over the entire dataset is represented as $\\nabla L$, then the gradient computed with mini-batch $B$ of size $N$ can be written as:\n",
    "\n",
    "$$\n",
    "\\nabla L_B = \\frac{1}{N} \\sum_{i=1}^N \\nabla L(x_i, y_i)\n",
    "$$\n",
    "\n",
    "where $(x_i, y_i)$ are the data-label pairs in the batch. As $N$ increases, $\\nabla L_B$ converges to $\\nabla L$, which generally results in more stable gradient updates. However, larger batches reduce the number of parameter updates per epoch, which may slow down convergence in certain cases."
   ]
  },
  {
   "cell_type": "markdown",
   "metadata": {},
   "source": [
    "Let's see if a batch size of 512 helps:"
   ]
  },
  {
   "cell_type": "code",
   "execution_count": 32,
   "metadata": {},
   "outputs": [],
   "source": [
    "dls = get_dls(512)"
   ]
  },
  {
   "cell_type": "code",
   "execution_count": 33,
   "metadata": {},
   "outputs": [
    {
     "data": {
      "text/html": [
       "\n",
       "<style>\n",
       "    /* Turns off some styling */\n",
       "    progress {\n",
       "        /* gets rid of default border in Firefox and Opera. */\n",
       "        border: none;\n",
       "        /* Needs to be in here for Safari polyfill so background images work as expected. */\n",
       "        background-size: auto;\n",
       "    }\n",
       "    progress:not([value]), progress:not([value])::-webkit-progress-bar {\n",
       "        background: repeating-linear-gradient(45deg, #7e7e7e, #7e7e7e 10px, #5c5c5c 10px, #5c5c5c 20px);\n",
       "    }\n",
       "    .progress-bar-interrupted, .progress-bar-interrupted::-webkit-progress-bar {\n",
       "        background: #F44336;\n",
       "    }\n",
       "</style>\n"
      ],
      "text/plain": [
       "<IPython.core.display.HTML object>"
      ]
     },
     "metadata": {},
     "output_type": "display_data"
    },
    {
     "data": {
      "text/html": [
       "<table border=\"1\" class=\"dataframe\">\n",
       "  <thead>\n",
       "    <tr style=\"text-align: left;\">\n",
       "      <th>epoch</th>\n",
       "      <th>train_loss</th>\n",
       "      <th>valid_loss</th>\n",
       "      <th>accuracy</th>\n",
       "      <th>time</th>\n",
       "    </tr>\n",
       "  </thead>\n",
       "  <tbody>\n",
       "    <tr>\n",
       "      <td>0</td>\n",
       "      <td>2.308856</td>\n",
       "      <td>2.304741</td>\n",
       "      <td>0.113500</td>\n",
       "      <td>01:10</td>\n",
       "    </tr>\n",
       "  </tbody>\n",
       "</table>"
      ],
      "text/plain": [
       "<IPython.core.display.HTML object>"
      ]
     },
     "metadata": {},
     "output_type": "display_data"
    }
   ],
   "source": [
    "learn = fit()"
   ]
  },
  {
   "cell_type": "markdown",
   "metadata": {
    "slideshow": {
     "slide_type": "subslide"
    }
   },
   "source": [
    "Let's see what the penultimate layer looks like:"
   ]
  },
  {
   "cell_type": "code",
   "execution_count": 34,
   "metadata": {},
   "outputs": [
    {
     "data": {
      "image/png": "[encoded data removed]",
      "text/plain": [
       "<Figure size 1200x300 with 3 Axes>"
      ]
     },
     "metadata": {},
     "output_type": "display_data"
    }
   ],
   "source": [
    "learn.activation_stats.plot_layer_stats(-2)"
   ]
  },
  {
   "cell_type": "markdown",
   "metadata": {},
   "source": [
    "Again, we've got most of our activations near zero. Let's see what else we can do to improve training stability."
   ]
  },
  {
   "cell_type": "markdown",
   "metadata": {
    "slideshow": {
     "slide_type": "slide"
    }
   },
   "source": [
    "### 1cycle Training: Dynamic Learning Rates and Momentum\n",
    "\n",
    "1cycle training, introduced in [Smith’s \"Super-Convergence\"](https://arxiv.org/abs/1708.07120), involves a two-phase learning rate schedule to stabilize and speed up training. The learning rate $ \\alpha $ follows a schedule that initially increases during a warmup phase and then decreases during an annealing phase, effectively performing a one-cycle loop. Mathematically, this schedule is expressed as:\n",
    "\n",
    "$$\n",
    "\\alpha(t) = \n",
    "\\begin{cases} \n",
    "      \\alpha_{\\text{min}} + \\frac{t}{T} \\left( \\alpha_{\\text{max}} - \\alpha_{\\text{min}} \\right) & \\text{for} \\; t \\leq T \\\\\n",
    "      \\alpha_{\\text{max}} - \\frac{(t - T)}{T} \\left( \\alpha_{\\text{max}} - \\alpha_{\\text{min}} \\right) & \\text{for} \\; t > T \n",
    "   \\end{cases}\n",
    "$$\n",
    "\n",
    "where $t$ is the current iteration, $T$ is the halfway point, $\\alpha_{\\text{min}}$ and $\\alpha_{\\text{max}}$ are the minimum and maximum learning rates, respectively. This cyclic schedule allows models to avoid poor local minima, leveraging high learning rates for rapid convergence and low learning rates for fine-tuning."
   ]
  },
  {
   "cell_type": "markdown",
   "metadata": {
    "slideshow": {
     "slide_type": "subslide"
    }
   },
   "source": [
    "1cycle training allows us to use a much higher maximum learning rate than other types of training, which gives two benefits:\n",
    "\n",
    "- By training with higher learning rates, we train faster—hence the *super-convergence* of the title.\n",
    "- By training with higher learning rates, we overfit less because we skip over the sharp local minima to end up in a smoother (and therefore more generalizable) part of the loss.\n",
    "\n",
    "The second point is an interesting and subtle one; it is based on the observation that a model that generalizes well is one whose loss would not change very much if you changed the input by a small amount. If a model trains at a large learning rate for quite a while, and can find a good loss when doing so, it must have found an area that also generalizes well, because it is jumping around a lot from batch to batch (that is basically the definition of a high learning rate). The problem is that, as we have discussed, just jumping to a high learning rate is more likely to result in diverging losses, rather than seeing your losses improve. So we don't jump straight to a high learning rate. Instead, we start at a low learning rate, where our losses do not diverge, and we allow the optimizer to gradually find smoother and smoother areas of our parameters by gradually going to higher and higher learning rates.\n",
    "\n",
    "Then, once we have found a nice smooth area for our parameters, we want to find the very best part of that area, which means we have to bring our learning rates down again. This is why 1cycle training has a gradual learning rate warmup, and a gradual learning rate cooldown. Many researchers have found that in practice this approach leads to more accurate models and trains more quickly. "
   ]
  },
  {
   "cell_type": "markdown",
   "metadata": {
    "slideshow": {
     "slide_type": "subslide"
    }
   },
   "source": [
    "We can use 1cycle training in fastai by calling `fit_one_cycle`:"
   ]
  },
  {
   "cell_type": "code",
   "execution_count": 35,
   "metadata": {},
   "outputs": [],
   "source": [
    "def fit(epochs=1, lr=0.06):\n",
    "    learn = Learner(dls, simple_cnn(), loss_func=F.cross_entropy,\n",
    "                    metrics=accuracy, cbs=ActivationStats(with_hist=True))\n",
    "    learn.fit_one_cycle(epochs, lr)\n",
    "    return learn"
   ]
  },
  {
   "cell_type": "code",
   "execution_count": 36,
   "metadata": {},
   "outputs": [
    {
     "data": {
      "text/html": [
       "\n",
       "<style>\n",
       "    /* Turns off some styling */\n",
       "    progress {\n",
       "        /* gets rid of default border in Firefox and Opera. */\n",
       "        border: none;\n",
       "        /* Needs to be in here for Safari polyfill so background images work as expected. */\n",
       "        background-size: auto;\n",
       "    }\n",
       "    progress:not([value]), progress:not([value])::-webkit-progress-bar {\n",
       "        background: repeating-linear-gradient(45deg, #7e7e7e, #7e7e7e 10px, #5c5c5c 10px, #5c5c5c 20px);\n",
       "    }\n",
       "    .progress-bar-interrupted, .progress-bar-interrupted::-webkit-progress-bar {\n",
       "        background: #F44336;\n",
       "    }\n",
       "</style>\n"
      ],
      "text/plain": [
       "<IPython.core.display.HTML object>"
      ]
     },
     "metadata": {},
     "output_type": "display_data"
    },
    {
     "data": {
      "text/html": [
       "<table border=\"1\" class=\"dataframe\">\n",
       "  <thead>\n",
       "    <tr style=\"text-align: left;\">\n",
       "      <th>epoch</th>\n",
       "      <th>train_loss</th>\n",
       "      <th>valid_loss</th>\n",
       "      <th>accuracy</th>\n",
       "      <th>time</th>\n",
       "    </tr>\n",
       "  </thead>\n",
       "  <tbody>\n",
       "    <tr>\n",
       "      <td>0</td>\n",
       "      <td>0.210347</td>\n",
       "      <td>0.074806</td>\n",
       "      <td>0.974900</td>\n",
       "      <td>01:09</td>\n",
       "    </tr>\n",
       "  </tbody>\n",
       "</table>"
      ],
      "text/plain": [
       "<IPython.core.display.HTML object>"
      ]
     },
     "metadata": {},
     "output_type": "display_data"
    }
   ],
   "source": [
    "learn = fit()"
   ]
  },
  {
   "cell_type": "markdown",
   "metadata": {
    "slideshow": {
     "slide_type": "slide"
    }
   },
   "source": [
    "We're finally making some progress! It's giving us a reasonable accuracy now.\n",
    "\n",
    "We can view the learning rate and momentum throughout training by calling `plot_sched` on `learn.recorder`. \n",
    "\n",
    "`learn.recorder` (as the name suggests) records everything that happens during training, including losses, metrics, and hyperparameters such as learning rate and momentum:"
   ]
  },
  {
   "cell_type": "code",
   "execution_count": 37,
   "metadata": {},
   "outputs": [
    {
     "data": {
      "image/png": "[encoded data removed]",
      "text/plain": [
       "<Figure size 1200x400 with 2 Axes>"
      ]
     },
     "metadata": {},
     "output_type": "display_data"
    }
   ],
   "source": [
    "learn.recorder.plot_sched()"
   ]
  },
  {
   "cell_type": "markdown",
   "metadata": {
    "slideshow": {
     "slide_type": "subslide"
    }
   },
   "source": [
    "Let's take a look at our layer stats again:"
   ]
  },
  {
   "cell_type": "code",
   "execution_count": 38,
   "metadata": {},
   "outputs": [
    {
     "data": {
      "image/png": "[encoded data removed]",
      "text/plain": [
       "<Figure size 1200x300 with 3 Axes>"
      ]
     },
     "metadata": {},
     "output_type": "display_data"
    }
   ],
   "source": [
    "learn.activation_stats.plot_layer_stats(-2)"
   ]
  },
  {
   "cell_type": "markdown",
   "metadata": {},
   "source": [
    "The percentage of near-zero weights is getting much better, although it's still quite high."
   ]
  },
  {
   "cell_type": "markdown",
   "metadata": {},
   "source": [
    "This shows a classic \"bad training.\" We start with nearly all activations at zero. Then, over the first few batches we see the number of nonzero activations exponentially increasing. But it goes too far, and collapses! It almost looks like training restarts from scratch. \n",
    "\n",
    "It's much better if training can be smooth from the start. The cycles of exponential increase and then collapse tend to result in a lot of near-zero activations, resulting in slow training and poor final results. One way to solve this problem is to use batch normalization."
   ]
  },
  {
   "cell_type": "markdown",
   "metadata": {
    "slideshow": {
     "slide_type": "slide"
    }
   },
   "source": [
    "### Batch Normalization\n",
    "\n",
    "Batch Normalization (BatchNorm) mitigates the problem of **internal covariate shift**—the change in the distribution of layer inputs during training. By normalizing activations within each mini-batch, BatchNorm helps stabilize and accelerate training.\n",
    "\n",
    "Mathematically, for each mini-batch, BatchNorm computes the mean and variance of activations $ \\mu_B $ and $ \\sigma_B^2 $, and then normalizes each activation $ x_i $ as:\n",
    "\n",
    "$$\n",
    "\\hat{x}_i = \\frac{x_i - \\mu_B}{\\sqrt{\\sigma_B^2 + \\epsilon}}\n",
    "$$\n",
    "\n",
    "where $ \\epsilon $ is a small constant added for numerical stability. This normalized activation $ \\hat{x}_i $ is then scaled and shifted using learnable parameters $\\gamma$ and $\\beta$:\n",
    "\n",
    "$$\n",
    "y_i = \\gamma \\hat{x}_i + \\beta\n",
    "$$\n",
    "\n",
    "The parameters $\\gamma$ and $\\beta$ allow the model to maintain any mean and standard deviation for each layer that it deems optimal, enhancing flexibility and capacity. During inference, the running averages of $\\mu_B$ and $\\sigma_B^2$ (computed over training batches) are used for consistent normalization.\n"
   ]
  },
  {
   "cell_type": "code",
   "execution_count": 39,
   "metadata": {},
   "outputs": [],
   "source": [
    "def conv(ni, nf, ks=3, act=True):\n",
    "    layers = [nn.Conv2d(ni, nf, stride=2, kernel_size=ks, padding=ks//2)]\n",
    "    if act: layers.append(nn.ReLU())\n",
    "    layers.append(nn.BatchNorm2d(nf))\n",
    "    return nn.Sequential(*layers)"
   ]
  },
  {
   "cell_type": "markdown",
   "metadata": {
    "slideshow": {
     "slide_type": "subslide"
    }
   },
   "source": [
    "and fit our model:"
   ]
  },
  {
   "cell_type": "code",
   "execution_count": 40,
   "metadata": {},
   "outputs": [
    {
     "data": {
      "text/html": [
       "\n",
       "<style>\n",
       "    /* Turns off some styling */\n",
       "    progress {\n",
       "        /* gets rid of default border in Firefox and Opera. */\n",
       "        border: none;\n",
       "        /* Needs to be in here for Safari polyfill so background images work as expected. */\n",
       "        background-size: auto;\n",
       "    }\n",
       "    progress:not([value]), progress:not([value])::-webkit-progress-bar {\n",
       "        background: repeating-linear-gradient(45deg, #7e7e7e, #7e7e7e 10px, #5c5c5c 10px, #5c5c5c 20px);\n",
       "    }\n",
       "    .progress-bar-interrupted, .progress-bar-interrupted::-webkit-progress-bar {\n",
       "        background: #F44336;\n",
       "    }\n",
       "</style>\n"
      ],
      "text/plain": [
       "<IPython.core.display.HTML object>"
      ]
     },
     "metadata": {},
     "output_type": "display_data"
    },
    {
     "data": {
      "text/html": [
       "<table border=\"1\" class=\"dataframe\">\n",
       "  <thead>\n",
       "    <tr style=\"text-align: left;\">\n",
       "      <th>epoch</th>\n",
       "      <th>train_loss</th>\n",
       "      <th>valid_loss</th>\n",
       "      <th>accuracy</th>\n",
       "      <th>time</th>\n",
       "    </tr>\n",
       "  </thead>\n",
       "  <tbody>\n",
       "    <tr>\n",
       "      <td>0</td>\n",
       "      <td>0.133975</td>\n",
       "      <td>0.058637</td>\n",
       "      <td>0.985600</td>\n",
       "      <td>01:10</td>\n",
       "    </tr>\n",
       "  </tbody>\n",
       "</table>"
      ],
      "text/plain": [
       "<IPython.core.display.HTML object>"
      ]
     },
     "metadata": {},
     "output_type": "display_data"
    }
   ],
   "source": [
    "learn = fit()"
   ]
  },
  {
   "cell_type": "markdown",
   "metadata": {
    "slideshow": {
     "slide_type": "subslide"
    }
   },
   "source": [
    "That's even better! Let's take a look at the activation stats:"
   ]
  },
  {
   "cell_type": "code",
   "execution_count": 41,
   "metadata": {},
   "outputs": [
    {
     "data": {
      "image/png": "[encoded data removed]",
      "text/plain": [
       "<Figure size 1200x300 with 3 Axes>"
      ]
     },
     "metadata": {},
     "output_type": "display_data"
    }
   ],
   "source": [
    "learn.activation_stats.plot_layer_stats(-2)"
   ]
  },
  {
   "cell_type": "markdown",
   "metadata": {
    "slideshow": {
     "slide_type": "subslide"
    }
   },
   "source": [
    "This is closer to what we hope to see: a smooth development of activations, with no \"crashes\". This gives us a hint of why batchnorm has been so successful that we see it (or something very similar) in nearly all modern neural networks.\n"
   ]
  },
  {
   "cell_type": "markdown",
   "metadata": {},
   "source": [
    "BatchNorm acts as a form of **regularization** by introducing slight stochasticity to the model’s activations during training, as each mini-batch’s statistics vary slightly. This randomness makes the model robust to small variations, leading to improved generalization. It has been empirically observed that BatchNorm often leads to better test performance and a reduction in overfitting compared to networks that do not include it."
   ]
  },
  {
   "cell_type": "markdown",
   "metadata": {},
   "source": [
    "---\n"
   ]
  },
  {
   "cell_type": "markdown",
   "metadata": {},
   "source": [
    "## From Fully Connected Layers to Convolutions\n",
    "\n",
    "So far, fully connected neural networks (MLPs) have been our main tool. They work well for **tabular data**, where each row corresponds to an example and each column to a feature. In this setting, we make no assumptions about how features interact; all dependencies must be learned directly.\n",
    "\n",
    "However, when we move to **high-dimensional perceptual data**, such as images or audio, this approach quickly breaks down. Consider image classification. Suppose we want to distinguish cats from dogs using photographs of size $1000 \\times 1000$ pixels (one megapixel). Flattening the image yields a million input features. Even if we reduce to just $1000$ hidden units, a fully connected layer would require\n",
    "\n",
    "$$\n",
    "10^6 \\times 10^3 = 10^9 \\quad \\text{parameters},\n",
    "$$\n",
    "\n",
    "just for one layer. Scaling such a network would demand massive datasets, distributed optimization across many GPUs, and enormous patience. And in practice, effective models would require even *larger* hidden layers, pushing parameter counts into the billions.\n",
    "\n",
    "Humans, of course, recognize cats and dogs effortlessly. Computers also manage it with modern deep learning models. The resolution of this apparent contradiction is that **images are not just arbitrary vectors—they have structure**. Neighboring pixels are related, objects appear at different locations but retain their identity, and patterns repeat across space. Convolutional neural networks (CNNs) were designed specifically to exploit this structure.\n",
    "\n",
    "\n",
    "### Invariance: Why Location Shouldn’t Matter\n",
    "\n",
    "Imagine trying to detect Waldo in a picture. Waldo looks the same whether he is at the top or the bottom of the image. We want a detector that recognizes him *regardless of location*. This is the principle of **translation invariance** (or more precisely, *translation equivariance* at intermediate layers).\n",
    "\n",
    "Humans exploit this naturally—we can recognize shapes even if they appear shifted. CNNs encode this property by scanning the image with small filters that apply the same weights across all positions. Thus, instead of learning a separate parameter for every possible pixel-to-hidden-unit connection, we reuse the same filter everywhere.\n",
    "\n",
    "Two guiding principles emerge:\n",
    "\n",
    "1. **Translation invariance:** shifting the input should correspond to shifting the representation, not fundamentally changing it.\n",
    "2. **Locality:** early features should depend only on local regions, not the entire image at once.\n",
    "3. **Hierarchy:** deeper layers combine local features into larger, more abstract representations.\n",
    "\n",
    "Together, these principles let CNNs learn effective models with far fewer parameters.\n",
    "\n",
    "\n",
    "\n",
    "### Constraining the MLP\n",
    "\n",
    "To see how convolutions arise, let’s start from a fully connected view. Suppose the input image is $\\mathbf{X}$ and the hidden representation is $\\mathbf{H}$, both treated as 2D arrays of the same shape. Then each hidden unit $[\\mathbf{H}]_{i,j}$ depends on all input pixels:\n",
    "\n",
    "$$\n",
    "[\\mathbf{H}]_{i,j} = [\\mathbf{U}]_{i,j} + \\sum_k \\sum_l [\\mathsf{W}]_{i,j,k,l} \\,[\\mathbf{X}]_{k,l},\n",
    "$$\n",
    "\n",
    "where $\\mathsf{W}$ is a fourth-order weight tensor and $\\mathbf{U}$ contains biases.\n",
    "\n",
    "This is already unrealistic: for a $1000 \\times 1000$ image, $\\mathsf{W}$ contains $10^{12}$ parameters—far beyond current hardware limits.\n",
    "\n",
    "#### Step 1: Translation Invariance\n",
    "\n",
    "If we require that shifting $\\mathbf{X}$ simply shifts $\\mathbf{H}$, then the weights cannot depend on $(i,j)$ explicitly. Instead, the weights depend only on offsets $(a,b)$ relative to the current location:\n",
    "\n",
    "$$\n",
    "[\\mathbf{H}]_{i,j} = u + \\sum_a \\sum_b [\\mathbf{V}]_{a,b}\\,[\\mathbf{X}]_{i+a, j+b}.\n",
    "$$\n",
    "\n",
    "Here $\\mathbf{V}$ is shared across the image, and $u$ is a global bias. This is exactly the definition of a **convolution**. Already, the number of parameters drops dramatically, since we no longer need a separate weight tensor for each location.\n",
    "\n",
    "#### Step 2: Locality\n",
    "\n",
    "Next, we impose **locality**: nearby pixels are most relevant. This means that offsets are limited to a small neighborhood:\n",
    "\n",
    "$$\n",
    "[\\mathbf{H}]_{i,j} = u + \\sum_{a=-\\Delta}^{\\Delta} \\sum_{b=-\\Delta}^{\\Delta} [\\mathbf{V}]_{a,b}\\,[\\mathbf{X}]_{i+a, j+b}.\n",
    "$$\n",
    "\n",
    "This is the **convolutional layer**, where $\\Delta$ controls the *receptive field size*. Typically, $\\Delta \\leq 3$, so filters are tiny ($3\\times 3$ or $5\\times 5$). The parameter count now shrinks from trillions to just a few dozen per filter.\n",
    "\n",
    "By stacking many such layers, deeper networks can capture broader context: small filters combine into larger receptive fields, enabling recognition of global structures from local building blocks.\n",
    "\n",
    "### Convolutions and Cross-Correlation\n",
    "\n",
    "Mathematically, convolution between functions $f,g:\\mathbb{R}^d\\to\\mathbb{R}$ is defined as\n",
    "\n",
    "$$\n",
    "(f * g)(\\mathbf{x}) = \\int f(\\mathbf{z})\\, g(\\mathbf{x}-\\mathbf{z})\\, d\\mathbf{z}.\n",
    "$$\n",
    "\n",
    "In discrete 2D form:\n",
    "\n",
    "$$\n",
    "(f * g)(i,j) = \\sum_a \\sum_b f(a,b)\\, g(i-a, j-b).\n",
    "$$\n",
    "\n",
    "In deep learning libraries, however, the operation is usually implemented as **cross-correlation**, which replaces $(i-a,j-b)$ with $(i+a,j+b)$. The difference is only a flip in indexing, and in practice both are referred to as “convolution.”\n",
    "\n",
    "### Channels: From Grayscale to RGB and Beyond\n",
    "\n",
    "So far we treated images as 2D grids. Real images, however, have **channels** (e.g., RGB). Thus, the input is a 3D tensor $\\mathsf{X}_{i,j,c}$ with height, width, and channel dimensions. The hidden representation is also 3D, now with multiple *feature maps*.\n",
    "\n",
    "The convolution filter must therefore handle channels. A filter is defined as $\\mathsf{V}_{a,b,c,d}$, where $c$ indexes input channels and $d$ indexes output channels. The operation is:\n",
    "\n",
    "$$\n",
    "[\\mathsf{H}]_{i,j,d} = \\sum_{a=-\\Delta}^{\\Delta} \\sum_{b=-\\Delta}^{\\Delta} \\sum_c [\\mathsf{V}]_{a,b,c,d}\\,[\\mathsf{X}]_{i+a,j+b,c}.\n",
    "$$\n",
    "\n",
    "Thus each output channel $d$ is computed as a weighted combination of local regions across *all* input channels. Different filters can specialize: some detect edges, others textures or color patterns. By stacking layers, higher-level features emerge—like shapes, objects, and eventually categories.\n",
    "\n",
    "### Why This Works\n",
    "\n",
    "* **Parameter efficiency:** billions of parameters shrink to a few thousand.\n",
    "* **Inductive bias:** convolution encodes translation invariance and locality, properties true of natural images.\n",
    "* **Hierarchical learning:** shallow filters capture edges, deeper filters combine them into textures, shapes, and semantic objects.\n",
    "\n",
    "The cost is that we impose assumptions (e.g., translation invariance). If these assumptions fail, CNNs may struggle. But in vision and many perceptual tasks, they align well with reality, making CNNs the backbone of modern computer vision."
   ]
  }
 ],
 "metadata": {
  "celltoolbar": "Slideshow",
  "jupytext": {
   "split_at_heading": true
  },
  "kernelspec": {
   "display_name": "book",
   "language": "python",
   "name": "python3"
  },
  "language_info": {
   "codemirror_mode": {
    "name": "ipython",
    "version": 3
   },
   "file_extension": ".py",
   "mimetype": "text/x-python",
   "name": "python",
   "nbconvert_exporter": "python",
   "pygments_lexer": "ipython3",
   "version": "3.12.5"
  },
  "rise": {
   "enable_chalkboard": true,
   "scroll": true,
   "theme": "simple"
  }
 },
 "nbformat": 4,
 "nbformat_minor": 4
}
