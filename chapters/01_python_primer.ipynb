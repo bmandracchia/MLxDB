{
 "cells": [
  {
   "cell_type": "markdown",
   "id": "ea95506c",
   "metadata": {
    "slideshow": {
     "slide_type": "slide"
    }
   },
   "source": [
    "# Python: a Primer\n",
    "\n",
    "Python is an object-oriented programming language. This means that **everything in python is an object**. Objects have (1) a class (aka \"type\"), (2) properties, and (3) methods. Let's look at some simple object types in python and their associated methods:"
   ]
  },
  {
   "cell_type": "markdown",
   "id": "85fd1758",
   "metadata": {
    "slideshow": {
     "slide_type": "slide"
    }
   },
   "source": [
    "### Booleans and comparisons\n",
    "\n",
    "Booleans (logicals) are a simple object type in python. They are binary because they can be only `True` or `False`."
   ]
  },
  {
   "cell_type": "code",
   "execution_count": null,
   "id": "dec6ebcb",
   "metadata": {
    "slideshow": {
     "slide_type": "fragment"
    }
   },
   "outputs": [],
   "source": [
    "True"
   ]
  },
  {
   "cell_type": "code",
   "execution_count": null,
   "id": "d4125c21",
   "metadata": {
    "slideshow": {
     "slide_type": "fragment"
    }
   },
   "outputs": [],
   "source": [
    "False"
   ]
  },
  {
   "cell_type": "markdown",
   "id": "1bdacd9b",
   "metadata": {
    "slideshow": {
     "slide_type": "subslide"
    }
   },
   "source": [
    "We can also verify this is a `bool` object with the type method. This method can be used on any type of object in python and it returns the class of that object."
   ]
  },
  {
   "cell_type": "code",
   "execution_count": null,
   "id": "d40e6785",
   "metadata": {
    "slideshow": {
     "slide_type": "fragment"
    }
   },
   "outputs": [],
   "source": [
    "type(True)"
   ]
  },
  {
   "cell_type": "markdown",
   "id": "d242e99e",
   "metadata": {
    "slideshow": {
     "slide_type": "subslide"
    }
   },
   "source": [
    "### Logical operations\n",
    "\n",
    "Python makes logical operations easy and allows us to determine whether some logical condition is met. For example, we can use the `and` operator. This operator will evaluate to `True` if both left and right sides are `True`"
   ]
  },
  {
   "cell_type": "code",
   "execution_count": null,
   "id": "7beb84e9",
   "metadata": {
    "slideshow": {
     "slide_type": "fragment"
    }
   },
   "outputs": [],
   "source": [
    "# And (both left and right are True)\n",
    "True and True"
   ]
  },
  {
   "cell_type": "code",
   "execution_count": null,
   "id": "d11132a4",
   "metadata": {
    "slideshow": {
     "slide_type": "fragment"
    }
   },
   "outputs": [],
   "source": [
    "# And (one side isn't true)\n",
    "True and False"
   ]
  },
  {
   "cell_type": "markdown",
   "id": "7410d8f8",
   "metadata": {
    "slideshow": {
     "slide_type": "subslide"
    }
   },
   "source": [
    "There is also the `or` operator, which evaluates to `True` if at least one side is `True`."
   ]
  },
  {
   "cell_type": "code",
   "execution_count": null,
   "id": "ab2f6f4c",
   "metadata": {
    "slideshow": {
     "slide_type": "fragment"
    }
   },
   "outputs": [],
   "source": [
    "# Or (only one side has to be True)\n",
    "True or False"
   ]
  },
  {
   "cell_type": "markdown",
   "id": "4179cb7e",
   "metadata": {
    "slideshow": {
     "slide_type": "fragment"
    }
   },
   "source": [
    "Finally, the `not` (not) operator. This negates a logical's value:"
   ]
  },
  {
   "cell_type": "code",
   "execution_count": null,
   "id": "a9e9fc5d",
   "metadata": {
    "slideshow": {
     "slide_type": "fragment"
    }
   },
   "outputs": [],
   "source": [
    "not True"
   ]
  },
  {
   "cell_type": "markdown",
   "id": "4dbc08ed",
   "metadata": {
    "slideshow": {
     "slide_type": "subslide"
    }
   },
   "source": [
    "Logical operators can be easily combined to make more complex statements. They also follow an order of operations, just like mathematical expressions. The order is:\n",
    "\n",
    "1. `()`\n",
    "2. `not`\n",
    "3. `and`\n",
    "4. `or`"
   ]
  },
  {
   "cell_type": "code",
   "execution_count": null,
   "id": "a8902924",
   "metadata": {
    "slideshow": {
     "slide_type": "subslide"
    }
   },
   "outputs": [],
   "source": [
    "not False and True"
   ]
  },
  {
   "cell_type": "code",
   "execution_count": null,
   "id": "e06716e2",
   "metadata": {
    "slideshow": {
     "slide_type": "fragment"
    }
   },
   "outputs": [],
   "source": [
    "not False or not True"
   ]
  },
  {
   "cell_type": "code",
   "execution_count": null,
   "id": "9446ef30",
   "metadata": {
    "slideshow": {
     "slide_type": "fragment"
    }
   },
   "outputs": [],
   "source": [
    "not False and False"
   ]
  },
  {
   "cell_type": "code",
   "execution_count": null,
   "id": "e5345fd1",
   "metadata": {
    "slideshow": {
     "slide_type": "fragment"
    }
   },
   "outputs": [],
   "source": [
    "not (False and False)"
   ]
  },
  {
   "cell_type": "code",
   "execution_count": null,
   "id": "73d0f903",
   "metadata": {
    "slideshow": {
     "slide_type": "fragment"
    }
   },
   "outputs": [],
   "source": [
    "not False or not (True or not True)"
   ]
  },
  {
   "cell_type": "markdown",
   "id": "e8c1ee44",
   "metadata": {
    "slideshow": {
     "slide_type": "fragment"
    }
   },
   "source": [
    "**Challenge question**: What is the output for the following (without running it yourself):\n",
    "\n",
    "```python\n",
    "False and True or True and (not False or False)\n",
    "```"
   ]
  },
  {
   "cell_type": "markdown",
   "id": "7562be0d",
   "metadata": {
    "slideshow": {
     "slide_type": "slide"
    }
   },
   "source": [
    "### Numerics and mathematics\n",
    "\n",
    "There are three main types of numerical objects in python:\n",
    "\n",
    "- `int` -- includes whole numbers\n",
    "- `float` -- includes decimals\n",
    "- `complex` -- includes imaginary numbers\n",
    "\n",
    "Let's explore the `int` type first. We can create an instance of `int` by simply typing any whole number into the code block:"
   ]
  },
  {
   "cell_type": "markdown",
   "id": "9ac919b7",
   "metadata": {
    "slideshow": {
     "slide_type": "subslide"
    }
   },
   "source": [
    "#### `int` "
   ]
  },
  {
   "cell_type": "code",
   "execution_count": null,
   "id": "c813803a",
   "metadata": {
    "slideshow": {
     "slide_type": "fragment"
    }
   },
   "outputs": [],
   "source": [
    "1"
   ]
  },
  {
   "cell_type": "markdown",
   "id": "bcef1f55",
   "metadata": {
    "slideshow": {
     "slide_type": "fragment"
    }
   },
   "source": [
    "We can also verify this is an `int` object with the `type` method. "
   ]
  },
  {
   "cell_type": "code",
   "execution_count": null,
   "id": "b746452e",
   "metadata": {
    "slideshow": {
     "slide_type": "fragment"
    }
   },
   "outputs": [],
   "source": [
    "type(1)"
   ]
  },
  {
   "cell_type": "markdown",
   "id": "a742229f",
   "metadata": {
    "slideshow": {
     "slide_type": "subslide"
    }
   },
   "source": [
    "#### `float`"
   ]
  },
  {
   "cell_type": "markdown",
   "id": "91362799",
   "metadata": {
    "slideshow": {
     "slide_type": "fragment"
    }
   },
   "source": [
    "`floats` are numerical objects which have a decimal place. For example:"
   ]
  },
  {
   "cell_type": "code",
   "execution_count": null,
   "id": "3fd2bb95",
   "metadata": {
    "slideshow": {
     "slide_type": "fragment"
    }
   },
   "outputs": [],
   "source": [
    "1.01"
   ]
  },
  {
   "cell_type": "code",
   "execution_count": null,
   "id": "749ff623",
   "metadata": {
    "slideshow": {
     "slide_type": "fragment"
    }
   },
   "outputs": [],
   "source": [
    "type(1.01)"
   ]
  },
  {
   "cell_type": "markdown",
   "id": "36d199b8",
   "metadata": {
    "slideshow": {
     "slide_type": "subslide"
    }
   },
   "source": [
    "#### `complex`"
   ]
  },
  {
   "cell_type": "markdown",
   "id": "79d1a898",
   "metadata": {
    "slideshow": {
     "slide_type": "fragment"
    }
   },
   "source": [
    "`complex` are numerical objects which have imaginary numbers. For example:"
   ]
  },
  {
   "cell_type": "code",
   "execution_count": null,
   "id": "d503bf23",
   "metadata": {
    "slideshow": {
     "slide_type": "fragment"
    }
   },
   "outputs": [],
   "source": [
    "2 + 2j  # j is the square root of -1"
   ]
  },
  {
   "cell_type": "code",
   "execution_count": null,
   "id": "ed1f415f",
   "metadata": {
    "slideshow": {
     "slide_type": "fragment"
    }
   },
   "outputs": [],
   "source": [
    "type(2+2j)"
   ]
  },
  {
   "cell_type": "markdown",
   "id": "d295167e",
   "metadata": {
    "slideshow": {
     "slide_type": "slide"
    }
   },
   "source": [
    "#### Numerical methods: Math operations\n",
    "\n",
    "We can perform simple mathematical operations with numerical objects."
   ]
  },
  {
   "cell_type": "code",
   "execution_count": null,
   "id": "2ded4002",
   "metadata": {
    "slideshow": {
     "slide_type": "fragment"
    }
   },
   "outputs": [],
   "source": [
    "# Addition\n",
    "1 + 1"
   ]
  },
  {
   "cell_type": "code",
   "execution_count": null,
   "id": "f5233965",
   "metadata": {
    "slideshow": {
     "slide_type": "fragment"
    }
   },
   "outputs": [],
   "source": [
    "# Subtraction\n",
    "4 - 2"
   ]
  },
  {
   "cell_type": "code",
   "execution_count": null,
   "id": "fb95fc17",
   "metadata": {
    "slideshow": {
     "slide_type": "fragment"
    }
   },
   "outputs": [],
   "source": [
    "# Multiplication \n",
    "2 * 3"
   ]
  },
  {
   "cell_type": "code",
   "execution_count": null,
   "id": "9fd09421",
   "metadata": {
    "slideshow": {
     "slide_type": "fragment"
    }
   },
   "outputs": [],
   "source": [
    "# Division\n",
    "16 / 3"
   ]
  },
  {
   "cell_type": "code",
   "execution_count": null,
   "id": "c46361c4",
   "metadata": {
    "slideshow": {
     "slide_type": "fragment"
    }
   },
   "outputs": [],
   "source": [
    "# Floored Division\n",
    "16 // 3"
   ]
  },
  {
   "cell_type": "code",
   "execution_count": null,
   "id": "d0cb0dfa",
   "metadata": {
    "slideshow": {
     "slide_type": "fragment"
    }
   },
   "outputs": [],
   "source": [
    "# Modulo (remainder)\n",
    "16 % 3"
   ]
  },
  {
   "cell_type": "code",
   "execution_count": null,
   "id": "3d7f6fe6",
   "metadata": {
    "slideshow": {
     "slide_type": "fragment"
    }
   },
   "outputs": [],
   "source": [
    "# Exponentiation\n",
    "2**5"
   ]
  },
  {
   "cell_type": "code",
   "execution_count": null,
   "id": "12ee6382",
   "metadata": {
    "slideshow": {
     "slide_type": "fragment"
    }
   },
   "outputs": [],
   "source": [
    "# Negation\n",
    "-1"
   ]
  },
  {
   "cell_type": "code",
   "execution_count": null,
   "id": "5fc4ac05",
   "metadata": {
    "slideshow": {
     "slide_type": "fragment"
    }
   },
   "outputs": [],
   "source": [
    "# Absolute value\n",
    "abs(-1)"
   ]
  },
  {
   "cell_type": "markdown",
   "id": "3624fcbd",
   "metadata": {
    "slideshow": {
     "slide_type": "fragment"
    }
   },
   "source": [
    "**Challenge question**: What is the `type` of `22 / 2`?"
   ]
  },
  {
   "cell_type": "markdown",
   "id": "203bcfb7",
   "metadata": {
    "slideshow": {
     "slide_type": "subslide"
    }
   },
   "source": [
    "#### Order of operations\n",
    "\n",
    "Python obeys PEMDAS (parentheses, exponent, multiplication, division, addition, subtraction) to determine the order in which to evaluate a mathematical operation. For example:"
   ]
  },
  {
   "cell_type": "code",
   "execution_count": null,
   "id": "ac46c67a",
   "metadata": {
    "slideshow": {
     "slide_type": "fragment"
    }
   },
   "outputs": [],
   "source": [
    "3 + 5 * 2  # It is not 16 because the multiplication comes first"
   ]
  },
  {
   "cell_type": "markdown",
   "id": "9376c6c4",
   "metadata": {
    "slideshow": {
     "slide_type": "fragment"
    }
   },
   "source": [
    "**Challenge question:** What is the result of this operation (without running it yourself): \n",
    "\n",
    "```python\n",
    "2 + 3 * (2 + 25 / 5 ** 2) \n",
    "```"
   ]
  },
  {
   "cell_type": "markdown",
   "id": "a3812140",
   "metadata": {
    "slideshow": {
     "slide_type": "slide"
    }
   },
   "source": [
    "#### Logical comparisons of numerics\n",
    "\n",
    "We can use comparison operators in python to check the relationship between any two numerics. "
   ]
  },
  {
   "cell_type": "code",
   "execution_count": null,
   "id": "b0245b09",
   "metadata": {
    "slideshow": {
     "slide_type": "fragment"
    }
   },
   "outputs": [],
   "source": [
    "# Greater-than\n",
    "9 > 8"
   ]
  },
  {
   "cell_type": "code",
   "execution_count": null,
   "id": "0672123a",
   "metadata": {
    "slideshow": {
     "slide_type": "fragment"
    }
   },
   "outputs": [],
   "source": [
    "# Less-than\n",
    "8 < 10"
   ]
  },
  {
   "cell_type": "code",
   "execution_count": null,
   "id": "e2ab9588",
   "metadata": {
    "slideshow": {
     "slide_type": "fragment"
    }
   },
   "outputs": [],
   "source": [
    "# less-than or equal-to\n",
    "2 <= 2"
   ]
  },
  {
   "cell_type": "code",
   "execution_count": null,
   "id": "ba86a02b",
   "metadata": {
    "slideshow": {
     "slide_type": "fragment"
    }
   },
   "outputs": [],
   "source": [
    "# Greater-than or equal-to\n",
    "10 >= 12"
   ]
  },
  {
   "cell_type": "code",
   "execution_count": null,
   "id": "64e583c6",
   "metadata": {
    "slideshow": {
     "slide_type": "fragment"
    }
   },
   "outputs": [],
   "source": [
    "# Equal to\n",
    "1 == 2"
   ]
  },
  {
   "cell_type": "code",
   "execution_count": null,
   "id": "7133a3ee",
   "metadata": {
    "slideshow": {
     "slide_type": "fragment"
    }
   },
   "outputs": [],
   "source": [
    "# Not equal to\n",
    "1 != 2"
   ]
  },
  {
   "cell_type": "markdown",
   "id": "ae42be02",
   "metadata": {
    "slideshow": {
     "slide_type": "subslide"
    }
   },
   "source": [
    "#### Complex comparisons\n",
    "\n",
    "We can add in arthimetic to perform more mathematically complex operations"
   ]
  },
  {
   "cell_type": "code",
   "execution_count": null,
   "id": "07c46e2c",
   "metadata": {
    "slideshow": {
     "slide_type": "fragment"
    }
   },
   "outputs": [],
   "source": [
    "5 ** 2 + 1 == 52 / 2"
   ]
  },
  {
   "cell_type": "markdown",
   "id": "f602a8d5",
   "metadata": {
    "slideshow": {
     "slide_type": "fragment"
    }
   },
   "source": [
    "**Challenge:** What is the result of this statement? (Without running it yourself)\n",
    "\n",
    "```python\n",
    "1j**2 == -1**(5/(2+3))\n",
    "```"
   ]
  },
  {
   "cell_type": "code",
   "execution_count": null,
   "id": "46bb1e99",
   "metadata": {
    "slideshow": {
     "slide_type": "fragment"
    }
   },
   "outputs": [],
   "source": [
    "import numpy as np\n",
    "print(np.sqrt(1j))\n",
    "print(1j**2)"
   ]
  },
  {
   "cell_type": "markdown",
   "id": "b8e04822",
   "metadata": {
    "slideshow": {
     "slide_type": "slide"
    }
   },
   "source": [
    "### Strings\n",
    "\n",
    "Strings hold text data, such as names or addresses. They are constructed by using quotations (double or single):"
   ]
  },
  {
   "cell_type": "code",
   "execution_count": null,
   "id": "d76111cc",
   "metadata": {
    "slideshow": {
     "slide_type": "fragment"
    }
   },
   "outputs": [],
   "source": [
    "'Hello world!'  # Single quotes"
   ]
  },
  {
   "cell_type": "code",
   "execution_count": null,
   "id": "7c4e4a91",
   "metadata": {
    "slideshow": {
     "slide_type": "fragment"
    }
   },
   "outputs": [],
   "source": [
    "\"Hello world!\"  # Double quotes"
   ]
  },
  {
   "cell_type": "code",
   "execution_count": null,
   "id": "0b72c9f8",
   "metadata": {
    "slideshow": {
     "slide_type": "fragment"
    }
   },
   "outputs": [],
   "source": [
    "type(\"Hello world!\")"
   ]
  },
  {
   "cell_type": "markdown",
   "id": "42b2d6e6",
   "metadata": {
    "slideshow": {
     "slide_type": "subslide"
    }
   },
   "source": [
    "#### String methods\n",
    "\n",
    "There are several basic methods for string objects. Many more exist and they will be covered later in the course. For a list of string methods please see the W3 schools guide [here](https://www.w3schools.com/python/python_ref_string.asp)."
   ]
  },
  {
   "cell_type": "code",
   "execution_count": null,
   "id": "113e8086",
   "metadata": {
    "slideshow": {
     "slide_type": "fragment"
    }
   },
   "outputs": [],
   "source": [
    "# Print\n",
    "print(\"Hello world!\")"
   ]
  },
  {
   "cell_type": "code",
   "execution_count": null,
   "id": "d292ee1a",
   "metadata": {
    "slideshow": {
     "slide_type": "fragment"
    }
   },
   "outputs": [],
   "source": [
    "# Concatenate\n",
    "\"Hello \" + \"world!\""
   ]
  },
  {
   "cell_type": "code",
   "execution_count": null,
   "id": "959b5ef6",
   "metadata": {
    "slideshow": {
     "slide_type": "fragment"
    }
   },
   "outputs": [],
   "source": [
    "# Upper-case\n",
    "\"Hello world!\".upper()"
   ]
  },
  {
   "cell_type": "markdown",
   "id": "6121e866",
   "metadata": {
    "slideshow": {
     "slide_type": "subslide"
    }
   },
   "source": [
    "#### Logical comparisons with strings\n",
    "\n",
    "Just like numerics, logical comparisons work with strings as well"
   ]
  },
  {
   "cell_type": "code",
   "execution_count": null,
   "id": "0a98294b",
   "metadata": {
    "slideshow": {
     "slide_type": "fragment"
    }
   },
   "outputs": [],
   "source": [
    "\"Hello\" == \"Hello\""
   ]
  },
  {
   "cell_type": "code",
   "execution_count": null,
   "id": "f9bc0225",
   "metadata": {
    "slideshow": {
     "slide_type": "fragment"
    }
   },
   "outputs": [],
   "source": [
    "\"Hello\" == \"World\""
   ]
  },
  {
   "cell_type": "code",
   "execution_count": null,
   "id": "26c9b2f7",
   "metadata": {
    "slideshow": {
     "slide_type": "fragment"
    }
   },
   "outputs": [],
   "source": [
    "\"Hello\" != \"World\""
   ]
  },
  {
   "cell_type": "markdown",
   "id": "4e506985",
   "metadata": {
    "slideshow": {
     "slide_type": "slide"
    }
   },
   "source": [
    "### Type conversion\n",
    "\n",
    "Some types of obejcts in `python` can be converted. This is necessary when performing certain operations, such as adding `str` and `int` objects to make a phrase such as the following:\n",
    "\n",
    "```python\n",
    "\"I am \" + 26 + \" years old!\"\n",
    "```\n",
    "\n",
    "If we attempt to run this code, we should see an error because the `+` method only works with strings or numerics, but not both. \n"
   ]
  },
  {
   "cell_type": "code",
   "execution_count": null,
   "id": "ceb79ee0",
   "metadata": {
    "slideshow": {
     "slide_type": "subslide"
    }
   },
   "outputs": [],
   "source": [
    "\"I am \" + 26 + \" years old!\""
   ]
  },
  {
   "cell_type": "markdown",
   "id": "23de57eb",
   "metadata": {
    "slideshow": {
     "slide_type": "subslide"
    }
   },
   "source": [
    "How can we interpret this error? When looking at an error in `python`, you can usually skip right to the last line, in this case: `TypeError: can only concatenate str (not \"int\") to str`. This line indicates a `TypeError` which arises when an operation is performed on incompatible object types. The text of the error says `can only concatenate str (not \"int\") to str`, indicating that the user has attempted to `concatenate` (`+`) a `str` with an `int` object, which is not allowed. \n",
    "\n",
    "To understand how to fix this, let's fix look at the ways `python` handles type conversion:"
   ]
  },
  {
   "cell_type": "markdown",
   "id": "e641ced6",
   "metadata": {
    "slideshow": {
     "slide_type": "subslide"
    }
   },
   "source": [
    "1. `int` to `float`"
   ]
  },
  {
   "cell_type": "code",
   "execution_count": null,
   "id": "66e1fd6c",
   "metadata": {
    "slideshow": {
     "slide_type": "subslide"
    }
   },
   "outputs": [],
   "source": [
    "# Let's look at the int 1\n",
    "type(1)"
   ]
  },
  {
   "cell_type": "code",
   "execution_count": null,
   "id": "a8d3ef12",
   "metadata": {
    "slideshow": {
     "slide_type": "fragment"
    }
   },
   "outputs": [],
   "source": [
    "# Convert int: 1 to a float.\n",
    "float(1)"
   ]
  },
  {
   "cell_type": "code",
   "execution_count": null,
   "id": "b943f68e",
   "metadata": {
    "slideshow": {
     "slide_type": "fragment"
    }
   },
   "outputs": [],
   "source": [
    "# Confirm that float(1) is a float\n",
    "type(float(1))"
   ]
  },
  {
   "cell_type": "markdown",
   "id": "b3923fef",
   "metadata": {
    "slideshow": {
     "slide_type": "subslide"
    }
   },
   "source": [
    "2. `bool` to `int`"
   ]
  },
  {
   "cell_type": "code",
   "execution_count": null,
   "id": "5a50d683",
   "metadata": {
    "slideshow": {
     "slide_type": "fragment"
    }
   },
   "outputs": [],
   "source": [
    "# Let's look at True\n",
    "type(True)"
   ]
  },
  {
   "cell_type": "code",
   "execution_count": null,
   "id": "184769f7",
   "metadata": {
    "slideshow": {
     "slide_type": "fragment"
    }
   },
   "outputs": [],
   "source": [
    "# Convert True to int\n",
    "int(True)"
   ]
  },
  {
   "cell_type": "markdown",
   "id": "592b716a",
   "metadata": {
    "slideshow": {
     "slide_type": "fragment"
    }
   },
   "source": [
    "**Challenge:** What error results from `2 ** 2 / int(False)` ? and why this operation produced that error?"
   ]
  },
  {
   "cell_type": "markdown",
   "id": "e64ca234",
   "metadata": {
    "slideshow": {
     "slide_type": "subslide"
    }
   },
   "source": [
    "3. `str` to `int`"
   ]
  },
  {
   "cell_type": "code",
   "execution_count": null,
   "id": "92eca7a8",
   "metadata": {
    "slideshow": {
     "slide_type": "fragment"
    }
   },
   "outputs": [],
   "source": [
    "        # Look at the type of \"5\"\n",
    "type(\"5\")"
   ]
  },
  {
   "cell_type": "code",
   "execution_count": null,
   "id": "1933b204",
   "metadata": {
    "slideshow": {
     "slide_type": "fragment"
    }
   },
   "outputs": [],
   "source": [
    "# Convert \"5\" to int\n",
    "int(\"5\")"
   ]
  },
  {
   "cell_type": "code",
   "execution_count": null,
   "id": "906bb68a",
   "metadata": {
    "slideshow": {
     "slide_type": "fragment"
    }
   },
   "outputs": [],
   "source": [
    "# 1 is not the same as \"1\"\n",
    "1 == \"1\""
   ]
  },
  {
   "cell_type": "code",
   "execution_count": null,
   "id": "016cc84e",
   "metadata": {
    "slideshow": {
     "slide_type": "fragment"
    }
   },
   "outputs": [],
   "source": [
    "# str(1) is equivalent to \"1\"\n",
    "1 == int(\"1\")"
   ]
  },
  {
   "cell_type": "markdown",
   "id": "a0971404",
   "metadata": {
    "slideshow": {
     "slide_type": "fragment"
    }
   },
   "source": [
    "**Challenge:** Modify the code from earlier so that it doesn't produce a `TypeError`:\n",
    "\n",
    "```python\n",
    "\"I am \" + 26 + \" years old!\"\n",
    "```"
   ]
  },
  {
   "cell_type": "markdown",
   "id": "9de52f9f",
   "metadata": {
    "slideshow": {
     "slide_type": "subslide"
    }
   },
   "source": [
    "#### Cross-type comparison\n",
    "\n",
    "Additionally, there is no requirement that logical comparisons involve only one data type. For example:"
   ]
  },
  {
   "cell_type": "code",
   "execution_count": null,
   "id": "e7bebe01",
   "metadata": {
    "slideshow": {
     "slide_type": "fragment"
    }
   },
   "outputs": [],
   "source": [
    "# 1 is not equivalent to \"Hello world!\"\n",
    "1 != \"Hello world!\""
   ]
  },
  {
   "cell_type": "code",
   "execution_count": null,
   "id": "32b7bd26",
   "metadata": {
    "slideshow": {
     "slide_type": "fragment"
    }
   },
   "outputs": [],
   "source": [
    "# Both sides generate booleans which can be compared using \"and\"\n",
    "\"Hello\" != \"world\" and 1 < 2"
   ]
  },
  {
   "cell_type": "markdown",
   "id": "ba3bc067",
   "metadata": {
    "slideshow": {
     "slide_type": "slide"
    }
   },
   "source": [
    "### Variables\n",
    "\n",
    "Variables are names (aka 'aliases' or 'references') given to an object in python. Any object in python can be assigned a variable. Rather than calling the object directly, you can use the variable name instead. This enables complicated code to be written and understood by humans.\n",
    "\n",
    "To create a variable, use the `=` sign:"
   ]
  },
  {
   "cell_type": "code",
   "execution_count": null,
   "id": "49db98de",
   "metadata": {
    "slideshow": {
     "slide_type": "fragment"
    }
   },
   "outputs": [],
   "source": [
    "a = 1"
   ]
  },
  {
   "cell_type": "markdown",
   "id": "d62bfa75",
   "metadata": {
    "slideshow": {
     "slide_type": "subslide"
    }
   },
   "source": [
    "Now that we have created the variable `a` to hold the integer `1`, we can perform operations on `a` directly."
   ]
  },
  {
   "cell_type": "code",
   "execution_count": null,
   "id": "b3d10fcb",
   "metadata": {
    "slideshow": {
     "slide_type": "fragment"
    }
   },
   "outputs": [],
   "source": [
    "# Use a for arithmetic\n",
    "a + 2"
   ]
  },
  {
   "cell_type": "code",
   "execution_count": null,
   "id": "533fb129",
   "metadata": {
    "slideshow": {
     "slide_type": "fragment"
    }
   },
   "outputs": [],
   "source": [
    "# Use a for logical comparisons\n",
    "a != \"Hello world!\""
   ]
  },
  {
   "cell_type": "markdown",
   "id": "b9d7d02c",
   "metadata": {
    "slideshow": {
     "slide_type": "subslide"
    }
   },
   "source": [
    "In python, any variable can reference any object, including the results of computations."
   ]
  },
  {
   "cell_type": "code",
   "execution_count": null,
   "id": "09872468",
   "metadata": {
    "slideshow": {
     "slide_type": "fragment"
    }
   },
   "outputs": [],
   "source": [
    "result_1 = 1 + 2 < 3  # Variable to reference numeric comparison\n",
    "result_2 = \"Hello \" + \"world\" == \"Hello world\"  # Variable to reference string comparison"
   ]
  },
  {
   "cell_type": "code",
   "execution_count": null,
   "id": "9653dee5",
   "metadata": {
    "slideshow": {
     "slide_type": "fragment"
    }
   },
   "outputs": [],
   "source": [
    "result_1 or result_2"
   ]
  },
  {
   "cell_type": "markdown",
   "id": "abf6f6e9",
   "metadata": {
    "slideshow": {
     "slide_type": "slide"
    }
   },
   "source": [
    "#### `is` and `==`\n",
    "\n",
    "In python, two methods exist for testing equivalence:\n",
    "\n",
    "1. `==` (equivalent values)\n",
    "2. `is` (identical objects)\n",
    "\n",
    "While the distinction is subtle, it is crucial to remember that `is` tests whether two objects are literally the same where as `==` only tests whether two objects are equal to eachother. \n"
   ]
  },
  {
   "cell_type": "markdown",
   "id": "7af8632b",
   "metadata": {
    "slideshow": {
     "slide_type": "subslide"
    }
   },
   "source": [
    "For example, we can assign the numerical object `1` to the variable `a`, and then assign `a` to `b`. Both `a` and `b` refer to the same object of the numeric class holding the value `257`. Therefore, they are equivalent and the same."
   ]
  },
  {
   "cell_type": "code",
   "execution_count": null,
   "id": "9e6d4400",
   "metadata": {
    "slideshow": {
     "slide_type": "fragment"
    }
   },
   "outputs": [],
   "source": [
    "a = 257\n",
    "b = a"
   ]
  },
  {
   "cell_type": "code",
   "execution_count": null,
   "id": "1f1fd1d3",
   "metadata": {
    "slideshow": {
     "slide_type": "fragment"
    }
   },
   "outputs": [],
   "source": [
    "a == b"
   ]
  },
  {
   "cell_type": "code",
   "execution_count": null,
   "id": "057efb1a",
   "metadata": {
    "slideshow": {
     "slide_type": "fragment"
    }
   },
   "outputs": [],
   "source": [
    "a is b"
   ]
  },
  {
   "cell_type": "markdown",
   "id": "714c354f",
   "metadata": {
    "slideshow": {
     "slide_type": "subslide"
    }
   },
   "source": [
    "Conversly, if we assign `a` and `b` to `257` separately, we see that they do not refer to the same object:"
   ]
  },
  {
   "cell_type": "code",
   "execution_count": null,
   "id": "42a930a1",
   "metadata": {
    "slideshow": {
     "slide_type": "fragment"
    }
   },
   "outputs": [],
   "source": [
    "a = 257\n",
    "b = 257"
   ]
  },
  {
   "cell_type": "code",
   "execution_count": null,
   "id": "21fd5a4e",
   "metadata": {
    "slideshow": {
     "slide_type": "fragment"
    }
   },
   "outputs": [],
   "source": [
    "a == b"
   ]
  },
  {
   "cell_type": "code",
   "execution_count": null,
   "id": "1449d29a",
   "metadata": {
    "slideshow": {
     "slide_type": "fragment"
    }
   },
   "outputs": [],
   "source": [
    "a is b"
   ]
  },
  {
   "cell_type": "markdown",
   "id": "256d96dd",
   "metadata": {
    "slideshow": {
     "slide_type": "skip"
    }
   },
   "source": [
    "**EXTREME Challenge question**:\n",
    "\n",
    "What happens when I repeat the above example using `256` instead of `257`? Why does the result change? \n",
    "\n",
    "*Hint*: See [this article](https://codeburst.io/the-unseen-pitfalls-of-python-7ca57f021d08) for additional guidance."
   ]
  },
  {
   "cell_type": "markdown",
   "id": "efb80396",
   "metadata": {
    "slideshow": {
     "slide_type": "slide"
    }
   },
   "source": [
    "### Intermediate Python\n",
    "\n",
    "Now that we have discussed simple python objects, lets explore the wide world of complex objects. These objects provide powerful methods for the storage and manipulation of data. They are essential tools for the data scientist to wield.\n"
   ]
  },
  {
   "cell_type": "markdown",
   "id": "8fa6f35e",
   "metadata": {
    "slideshow": {
     "slide_type": "slide"
    }
   },
   "source": [
    "#### Lists\n",
    "\n",
    "Lists are a python object type which can store any arbitrary number of any type of object. "
   ]
  },
  {
   "cell_type": "code",
   "execution_count": null,
   "id": "7a1bbec4",
   "metadata": {
    "slideshow": {
     "slide_type": "fragment"
    }
   },
   "outputs": [],
   "source": [
    "# List of strings\n",
    "words = [\"Hello\", \"World\"]\n",
    "words"
   ]
  },
  {
   "cell_type": "code",
   "execution_count": null,
   "id": "eb54f967",
   "metadata": {
    "slideshow": {
     "slide_type": "fragment"
    }
   },
   "outputs": [],
   "source": [
    "# List of numbers\n",
    "numbers = [1, 2, 3]\n",
    "numbers"
   ]
  },
  {
   "cell_type": "code",
   "execution_count": null,
   "id": "b54a2fce",
   "metadata": {
    "slideshow": {
     "slide_type": "subslide"
    }
   },
   "outputs": [],
   "source": [
    "# List of booleans\n",
    "bools = [True, False, False]\n",
    "bools"
   ]
  },
  {
   "cell_type": "code",
   "execution_count": null,
   "id": "74dab2db",
   "metadata": {
    "slideshow": {
     "slide_type": "fragment"
    }
   },
   "outputs": [],
   "source": [
    "# Mixed list\n",
    "mix = [1, True, \"Hello\"]\n",
    "mix"
   ]
  },
  {
   "cell_type": "markdown",
   "id": "b28df889",
   "metadata": {
    "slideshow": {
     "slide_type": "slide"
    }
   },
   "source": [
    "##### List methods\n",
    "\n",
    "Lists have a wide variety of methods associated with them. For a more exhaustive reference, please refer to the W3 schools guide [here](https://www.w3schools.com/python/python_ref_list.asp).\n",
    "\n",
    "For now, we will discuss:\n",
    "1. Construction\n",
    "2. Indices\n",
    "3. Appending\n",
    "4. Length\n",
    "5. Sort"
   ]
  },
  {
   "cell_type": "markdown",
   "id": "45bdb932",
   "metadata": {
    "slideshow": {
     "slide_type": "subslide"
    }
   },
   "source": [
    "##### Construction\n",
    "\n",
    "Lists can be constructed using the `list()` function:"
   ]
  },
  {
   "cell_type": "code",
   "execution_count": null,
   "id": "887d5e22",
   "metadata": {
    "slideshow": {
     "slide_type": "fragment"
    }
   },
   "outputs": [],
   "source": [
    "# Just like other python object, there is a constructor function for lists\n",
    "my_list = list()\n",
    "my_list"
   ]
  },
  {
   "cell_type": "markdown",
   "id": "cf32675e",
   "metadata": {
    "slideshow": {
     "slide_type": "subslide"
    }
   },
   "source": [
    "More commonly, lists are defined by using `[]` and providing the objects to include:"
   ]
  },
  {
   "cell_type": "code",
   "execution_count": null,
   "id": "3f1c922d",
   "metadata": {
    "slideshow": {
     "slide_type": "fragment"
    }
   },
   "outputs": [],
   "source": [
    "my_list = [1, 2, 3, 'a', 'b']\n",
    "my_list"
   ]
  },
  {
   "cell_type": "code",
   "execution_count": null,
   "id": "2e13aeb6",
   "metadata": {
    "slideshow": {
     "slide_type": "fragment"
    }
   },
   "outputs": [],
   "source": [
    "# Lists can even contain lists\n",
    "lst_list = [1, 2, 3, [4, 5, 6]]\n",
    "print(lst_list)"
   ]
  },
  {
   "cell_type": "markdown",
   "id": "bd44afa5",
   "metadata": {
    "slideshow": {
     "slide_type": "subslide"
    }
   },
   "source": [
    "##### Indices\n",
    "\n",
    "Lists hold data and have a specific order. To access the objects in a list, one can use the object's index. **NOTE**: unlike `R`, indices start at `0` in python."
   ]
  },
  {
   "cell_type": "code",
   "execution_count": null,
   "id": "26c8a802",
   "metadata": {
    "slideshow": {
     "slide_type": "fragment"
    }
   },
   "outputs": [],
   "source": [
    "my_list = [1, 2, 3, 'a', 'b']"
   ]
  },
  {
   "cell_type": "code",
   "execution_count": null,
   "id": "a1f2f906",
   "metadata": {
    "slideshow": {
     "slide_type": "fragment"
    }
   },
   "outputs": [],
   "source": [
    "# Retrieve first element from list\n",
    "my_list[0]"
   ]
  },
  {
   "cell_type": "code",
   "execution_count": null,
   "id": "34d1615a",
   "metadata": {
    "slideshow": {
     "slide_type": "fragment"
    }
   },
   "outputs": [],
   "source": [
    "# Retrieve fourth element from list\n",
    "my_list[3]"
   ]
  },
  {
   "cell_type": "code",
   "execution_count": null,
   "id": "7f89dfe3",
   "metadata": {
    "slideshow": {
     "slide_type": "fragment"
    }
   },
   "outputs": [],
   "source": [
    "# Retrieve the last element from list\n",
    "my_list[-1]"
   ]
  },
  {
   "cell_type": "markdown",
   "id": "2248cd59",
   "metadata": {
    "slideshow": {
     "slide_type": "subslide"
    }
   },
   "source": [
    "Indices can also be accessed using a slice (`start:stop:step`). The slice indicates the range of indices to retrieve. If either `start` or `stop` is blank all elements will be included up until an element (former) or after an element (latter). The `step` is the intervals between values -- if not specified, it will be `1` by default. "
   ]
  },
  {
   "cell_type": "code",
   "execution_count": null,
   "id": "abfd3b94",
   "metadata": {
    "slideshow": {
     "slide_type": "fragment"
    }
   },
   "outputs": [],
   "source": [
    "# Retrieve the values from the 2nd to the 5th element\n",
    "my_list[1:4]"
   ]
  },
  {
   "cell_type": "code",
   "execution_count": null,
   "id": "46491035",
   "metadata": {
    "slideshow": {
     "slide_type": "fragment"
    }
   },
   "outputs": [],
   "source": [
    "# Retrieve all values from the 2nd element to the end of the list\n",
    "my_list[1:]"
   ]
  },
  {
   "cell_type": "code",
   "execution_count": null,
   "id": "111d6beb",
   "metadata": {
    "slideshow": {
     "slide_type": "subslide"
    }
   },
   "outputs": [],
   "source": [
    "# Retrieve all values until the 4th element\n",
    "my_list[:3]"
   ]
  },
  {
   "cell_type": "code",
   "execution_count": null,
   "id": "64d3cfa0",
   "metadata": {
    "slideshow": {
     "slide_type": "fragment"
    }
   },
   "outputs": [],
   "source": [
    "# Step allows you to specify the intervals\n",
    "numbers = [1, 2, 3, 4, 5, 6, 7, 8, 9, 10]\n",
    "numbers[2:9:2]  # From 3rd element to 10th element, in steps of 2"
   ]
  },
  {
   "cell_type": "code",
   "execution_count": null,
   "id": "caf51a24",
   "metadata": {
    "slideshow": {
     "slide_type": "fragment"
    }
   },
   "outputs": [],
   "source": [
    "# You can also use steps to help reverse the list order\n",
    "numbers[9:1:-1]  "
   ]
  },
  {
   "cell_type": "code",
   "execution_count": null,
   "id": "d48d2f47",
   "metadata": {
    "slideshow": {
     "slide_type": "fragment"
    }
   },
   "outputs": [],
   "source": [
    "# You can also get elements from within nested lists\n",
    "nested_list = [1, 2, 3, [\"a\", \"b\", \"c\"]]\n",
    "nested_list[3]"
   ]
  },
  {
   "cell_type": "code",
   "execution_count": null,
   "id": "195d0bbf",
   "metadata": {
    "slideshow": {
     "slide_type": "fragment"
    }
   },
   "outputs": [],
   "source": [
    "nested_list[3][0]"
   ]
  },
  {
   "cell_type": "code",
   "execution_count": null,
   "id": "f63a90a4",
   "metadata": {
    "slideshow": {
     "slide_type": "fragment"
    }
   },
   "outputs": [],
   "source": [
    "lst = ['a', 'b', 4, [True, 29, \"Hello world!\"], False, 1, int(False), bool(\"True\")]\n",
    "lst[::-1][4][::-1][0]"
   ]
  },
  {
   "cell_type": "markdown",
   "id": "fb6e7d52",
   "metadata": {
    "slideshow": {
     "slide_type": "subslide"
    }
   },
   "source": [
    "##### Appending\n",
    "\n",
    "New elements can be added to the end of a list using the `append()` method:"
   ]
  },
  {
   "cell_type": "code",
   "execution_count": null,
   "id": "ef970f8d",
   "metadata": {
    "slideshow": {
     "slide_type": "fragment"
    }
   },
   "outputs": [],
   "source": [
    "my_list = [1, 2, 3, 'a', 'b']\n",
    "my_list"
   ]
  },
  {
   "cell_type": "code",
   "execution_count": null,
   "id": "163c1823",
   "metadata": {
    "slideshow": {
     "slide_type": "fragment"
    }
   },
   "outputs": [],
   "source": [
    "# Append 1 to a list\n",
    "my_list.append(1)\n",
    "my_list"
   ]
  },
  {
   "cell_type": "code",
   "execution_count": null,
   "id": "2b80196c",
   "metadata": {
    "slideshow": {
     "slide_type": "fragment"
    }
   },
   "outputs": [],
   "source": [
    "# NOTE: This overwrites the list object. \n",
    "my_list.append(2)\n",
    "my_list.append(\"a\")\n",
    "my_list"
   ]
  },
  {
   "cell_type": "code",
   "execution_count": null,
   "id": "0a45dc3a",
   "metadata": {
    "slideshow": {
     "slide_type": "fragment"
    }
   },
   "outputs": [],
   "source": [
    "# NOTE: References to the my_list object will also be modified!\n",
    "my_list = [1, 2, 3, 'a', 'b']\n",
    "my_list_2 = my_list\n",
    "\n",
    "my_list.append(\"Added :)\")\n",
    "my_list"
   ]
  },
  {
   "cell_type": "code",
   "execution_count": null,
   "id": "e142755f",
   "metadata": {
    "slideshow": {
     "slide_type": "fragment"
    }
   },
   "outputs": [],
   "source": [
    "my_list_2"
   ]
  },
  {
   "cell_type": "markdown",
   "id": "66c78924",
   "metadata": {
    "slideshow": {
     "slide_type": "subslide"
    }
   },
   "source": [
    "##### Length\n",
    "\n",
    "It may be helpful to know the length of a list. You can get that information with the `len()` function:"
   ]
  },
  {
   "cell_type": "code",
   "execution_count": null,
   "id": "0871e2cf",
   "metadata": {
    "slideshow": {
     "slide_type": "fragment"
    }
   },
   "outputs": [],
   "source": [
    "len(my_list)"
   ]
  },
  {
   "cell_type": "markdown",
   "id": "26765d4b",
   "metadata": {
    "slideshow": {
     "slide_type": "subslide"
    }
   },
   "source": [
    "##### Sorting\n",
    "\n",
    "It may be helpful to sort the elements of a list. This can be accomplished with the `sort()` function."
   ]
  },
  {
   "cell_type": "code",
   "execution_count": null,
   "id": "fc98733d",
   "metadata": {
    "slideshow": {
     "slide_type": "fragment"
    }
   },
   "outputs": [],
   "source": [
    "my_list2 = [1, 2, 5, 3]\n",
    "my_list2.sort()\n",
    "print(my_list2)"
   ]
  },
  {
   "cell_type": "markdown",
   "id": "fcb94078",
   "metadata": {
    "slideshow": {
     "slide_type": "slide"
    }
   },
   "source": [
    "##### in\n",
    "Sometimes, you want to test whether a value exists within a list. To do this, we use the `in` operator. "
   ]
  },
  {
   "cell_type": "code",
   "execution_count": null,
   "id": "46f1e45d",
   "metadata": {
    "slideshow": {
     "slide_type": "fragment"
    }
   },
   "outputs": [],
   "source": [
    "my_lst = [\"Hello world!\", 200, int(\"1\"), [True, False, [1, 0, bool(0)]], 2**4, \"This is a list!\", 2+2j]\n",
    "my_lst"
   ]
  },
  {
   "cell_type": "code",
   "execution_count": null,
   "id": "2f89217a",
   "metadata": {
    "slideshow": {
     "slide_type": "fragment"
    }
   },
   "outputs": [],
   "source": [
    "# 200 is inside of my_lst?\n",
    "200 in my_lst"
   ]
  },
  {
   "cell_type": "code",
   "execution_count": null,
   "id": "5c09e401",
   "metadata": {
    "slideshow": {
     "slide_type": "fragment"
    }
   },
   "outputs": [],
   "source": [
    "# \"Hello list!\" is inside of my_lst\n",
    "\"Hello list!\" in my_lst"
   ]
  },
  {
   "cell_type": "markdown",
   "id": "5ba4591b",
   "metadata": {
    "slideshow": {
     "slide_type": "slide"
    }
   },
   "source": [
    "##### Range\n",
    "\n",
    "Range allows you to easily construct a list-like object containing all the values between two numbers. \n",
    "\n",
    "They follow the pattern `range( start, stop, step )`."
   ]
  },
  {
   "cell_type": "code",
   "execution_count": null,
   "id": "757040eb",
   "metadata": {
    "slideshow": {
     "slide_type": "fragment"
    }
   },
   "outputs": [],
   "source": [
    "range(0, 100)"
   ]
  },
  {
   "cell_type": "code",
   "execution_count": null,
   "id": "03a3d925",
   "metadata": {
    "slideshow": {
     "slide_type": "fragment"
    }
   },
   "outputs": [],
   "source": [
    "range(10, 20, 3)"
   ]
  },
  {
   "cell_type": "code",
   "execution_count": null,
   "id": "0bb63f0d",
   "metadata": {
    "slideshow": {
     "slide_type": "fragment"
    }
   },
   "outputs": [],
   "source": [
    "20 in range(0, 100)"
   ]
  },
  {
   "cell_type": "markdown",
   "id": "4ff89c38",
   "metadata": {
    "slideshow": {
     "slide_type": "fragment"
    }
   },
   "source": [
    "Ranges can be easily converted to a `list`. **Note** they are not inclusive of the 'end' value in the range. "
   ]
  },
  {
   "cell_type": "code",
   "execution_count": null,
   "id": "b2d6c70d",
   "metadata": {
    "slideshow": {
     "slide_type": "fragment"
    }
   },
   "outputs": [],
   "source": [
    "list(range(0, 10, 1))"
   ]
  },
  {
   "cell_type": "code",
   "execution_count": null,
   "id": "54d148e6",
   "metadata": {
    "slideshow": {
     "slide_type": "fragment"
    }
   },
   "outputs": [],
   "source": [
    "list(range(20, 30, 2))"
   ]
  },
  {
   "cell_type": "code",
   "execution_count": null,
   "id": "e5b79a37",
   "metadata": {
    "slideshow": {
     "slide_type": "fragment"
    }
   },
   "outputs": [],
   "source": [
    "list(range(10))"
   ]
  },
  {
   "cell_type": "markdown",
   "id": "68e9a537",
   "metadata": {
    "slideshow": {
     "slide_type": "slide"
    }
   },
   "source": [
    "##### String - List Conversion\n",
    "\n",
    "In python, strings are actually similar to a list of letters. You can access individual values using list access notation:"
   ]
  },
  {
   "cell_type": "code",
   "execution_count": null,
   "id": "66e31e79",
   "metadata": {
    "slideshow": {
     "slide_type": "fragment"
    }
   },
   "outputs": [],
   "source": [
    "my_str = \"Hello world!\"\n",
    "my_str[4]"
   ]
  },
  {
   "cell_type": "code",
   "execution_count": null,
   "id": "1e09b176",
   "metadata": {
    "slideshow": {
     "slide_type": "fragment"
    }
   },
   "outputs": [],
   "source": [
    "my_str[3::2]"
   ]
  },
  {
   "cell_type": "markdown",
   "id": "f39d3c2c",
   "metadata": {
    "slideshow": {
     "slide_type": "subslide"
    }
   },
   "source": [
    "Additionally, strings containing a *separator* can be broken up into a list of strings using `.split()`. This is useful, for example, when trying to parse the text of a document."
   ]
  },
  {
   "cell_type": "code",
   "execution_count": null,
   "id": "7dcdddf1",
   "metadata": {
    "slideshow": {
     "slide_type": "-"
    }
   },
   "outputs": [],
   "source": [
    "sentence = \"It was a dark and stormy night.\"\n",
    "sentence.split(sep=\" \")"
   ]
  },
  {
   "cell_type": "markdown",
   "id": "5ee61a27",
   "metadata": {
    "slideshow": {
     "slide_type": "fragment"
    }
   },
   "source": [
    "You can also rejoin a list into a string using `.join()`. \n",
    "\n",
    "Notice that `.join()` is a method belonging to objects of the `str` class. "
   ]
  },
  {
   "cell_type": "code",
   "execution_count": null,
   "id": "216ce6d3",
   "metadata": {
    "slideshow": {
     "slide_type": "-"
    }
   },
   "outputs": [],
   "source": [
    "words = ['It', 'was', 'a', 'dark', 'and', 'stormy', 'night.']\n",
    "\" \".join(words)"
   ]
  },
  {
   "cell_type": "markdown",
   "id": "dc2652cb",
   "metadata": {
    "slideshow": {
     "slide_type": "-"
    }
   },
   "source": [
    "Any arbitrary `str` can use the `.join()` method!"
   ]
  },
  {
   "cell_type": "code",
   "execution_count": null,
   "id": "38cfa7ac",
   "metadata": {
    "slideshow": {
     "slide_type": "-"
    }
   },
   "outputs": [],
   "source": [
    "\"(-_-)\".join(words)"
   ]
  },
  {
   "cell_type": "markdown",
   "id": "c93c83d0",
   "metadata": {
    "slideshow": {
     "slide_type": "slide"
    }
   },
   "source": [
    "#### Dictionaries\n",
    "\n",
    "Dictionaries are the core data type of the python language. Unlike lists, dictionaries are **unordered** and accessed using keys rather than using numerical indices. This workshop will not describe dictionaries in detail, but you can refer to the W3 schools guide [here](https://www.w3schools.com/python/python_dictionaries.asp) for more info. "
   ]
  },
  {
   "cell_type": "code",
   "execution_count": null,
   "id": "0a06c46e",
   "metadata": {},
   "outputs": [],
   "source": [
    "# Create a dict using key-value pairs between {}\n",
    "my_dict = {\n",
    "    'hello': 1\n",
    "}\n",
    "my_dict"
   ]
  },
  {
   "cell_type": "code",
   "execution_count": null,
   "id": "8d2e63fa",
   "metadata": {},
   "outputs": [],
   "source": [
    "# Access the value in a dict using keys\n",
    "my_dict['hello']"
   ]
  },
  {
   "cell_type": "code",
   "execution_count": null,
   "id": "f0e9e5f4",
   "metadata": {
    "slideshow": {
     "slide_type": "subslide"
    }
   },
   "outputs": [],
   "source": [
    "# Dictionaries can have numerical, string, and boolean keys. They can hold any number of arbitrary object types.\n",
    "my_dict = {\n",
    "    'hello': 1,\n",
    "    'world': True,\n",
    "    123: [1, 2, [\"Hello world\"]],\n",
    "    True: {\n",
    "        \"New\": True\n",
    "    }\n",
    "}\n",
    "my_dict"
   ]
  },
  {
   "cell_type": "code",
   "execution_count": null,
   "id": "3b405c09",
   "metadata": {
    "slideshow": {
     "slide_type": "fragment"
    }
   },
   "outputs": [],
   "source": [
    "my_dict[True]"
   ]
  },
  {
   "cell_type": "markdown",
   "id": "25a074b7",
   "metadata": {
    "slideshow": {
     "slide_type": "slide"
    }
   },
   "source": [
    "### Modules and Packages"
   ]
  },
  {
   "cell_type": "markdown",
   "id": "2dd5acab",
   "metadata": {
    "slideshow": {
     "slide_type": "slide"
    }
   },
   "source": [
    "#### Modules\n",
    "\n",
    "Modules are python script files (`*.py`) which are imported into python. Typically, they contain functions and/or classes which are useful for your code. We can import modules like so:"
   ]
  },
  {
   "cell_type": "code",
   "execution_count": null,
   "id": "18d85680",
   "metadata": {},
   "outputs": [],
   "source": [
    "import builtins"
   ]
  },
  {
   "cell_type": "markdown",
   "id": "85b49f7f",
   "metadata": {},
   "source": [
    "`builtins` is a generic python module which contains many core functions such as `print()`. If we check the `type()` of `builtins`, we see that it is a `module` object:"
   ]
  },
  {
   "cell_type": "code",
   "execution_count": null,
   "id": "4a6d980b",
   "metadata": {},
   "outputs": [],
   "source": [
    "type(builtins)"
   ]
  },
  {
   "cell_type": "markdown",
   "id": "27cd74bc",
   "metadata": {
    "slideshow": {
     "slide_type": "subslide"
    }
   },
   "source": [
    "If we import `builtins` as a module, we can then use the functions within that module, like so:"
   ]
  },
  {
   "cell_type": "code",
   "execution_count": null,
   "id": "478eabe4",
   "metadata": {},
   "outputs": [],
   "source": [
    "builtins.print(\"Hello world!\")"
   ]
  },
  {
   "cell_type": "markdown",
   "id": "9f9a7256",
   "metadata": {},
   "source": [
    "It might get inconvenient to keep typing `builtins` every time we want to use the `builtins.print()` function. Instead, we can import `builtins` using a variable which is easier to type:"
   ]
  },
  {
   "cell_type": "code",
   "execution_count": null,
   "id": "444e41e7",
   "metadata": {},
   "outputs": [],
   "source": [
    "import builtins as btns\n",
    "\n",
    "btns.print(\"Hello world!\")"
   ]
  },
  {
   "cell_type": "markdown",
   "id": "6c9b705a",
   "metadata": {
    "slideshow": {
     "slide_type": "subslide"
    }
   },
   "source": [
    "Sometimes we only want to use a small number of functions from a module. So, instead of importing the whole module, we might instead just import those functions directly using `from ... import ...`:"
   ]
  },
  {
   "cell_type": "code",
   "execution_count": null,
   "id": "f70ffa83",
   "metadata": {},
   "outputs": [],
   "source": [
    "from builtins import print\n",
    "\n",
    "print(\"Hello world!\")"
   ]
  },
  {
   "cell_type": "markdown",
   "id": "a8fb0042",
   "metadata": {},
   "source": [
    "Finally, we can even make a variable for a function:"
   ]
  },
  {
   "cell_type": "code",
   "execution_count": null,
   "id": "49657b41",
   "metadata": {},
   "outputs": [],
   "source": [
    "from builtins import print as pnt\n",
    "\n",
    "pnt(\"Hello world!\")"
   ]
  },
  {
   "cell_type": "markdown",
   "id": "0da2565d",
   "metadata": {
    "slideshow": {
     "slide_type": "slide"
    }
   },
   "source": [
    "##### Packages and CLI usage in Jupyter\n",
    "\n",
    "Packages are collections of modules typically based on a shared purpose. They are typically installed using a package manager such as `pip` from the command line, like so:\n",
    "\n",
    "```shell\n",
    "pip install <name_of_package>\n",
    "```\n",
    "\n",
    "However, we are in a notebook and not on the command line! How do we install packages? Fortunately, Jupyter Notebook allows us to write any arbitrary command-line commands using the `!` symbol at the beginning of a block. For example, on the CLI, you can write \"Hello world!\":"
   ]
  },
  {
   "cell_type": "code",
   "execution_count": null,
   "id": "e8ba7c1d",
   "metadata": {
    "slideshow": {
     "slide_type": "fragment"
    }
   },
   "outputs": [],
   "source": [
    "!echo \"Hello world!\""
   ]
  },
  {
   "cell_type": "markdown",
   "id": "b218daa8",
   "metadata": {
    "slideshow": {
     "slide_type": "subslide"
    }
   },
   "source": [
    "This is equivalent to opening command prompt (windows) or terminal (macOS) and typing:\n",
    "\n",
    "```shell\n",
    "echo \"Hello world!\"\n",
    "```\n",
    "\n",
    "This capability is also very useful when you need to install python packages using `pip`, which is typically done from the command line. Instead, we can install packages from within Jupyter like so:\n",
    "\n",
    "```\n",
    "!pip install numpy\n",
    "```\n",
    "\n",
    "although, the preferred way to install packages is using jupyter **magic**: \n",
    "\n",
    "```%pip install numpy```"
   ]
  },
  {
   "cell_type": "code",
   "execution_count": null,
   "id": "1e8d7950",
   "metadata": {},
   "outputs": [],
   "source": [
    "%pip install numpy"
   ]
  },
  {
   "cell_type": "markdown",
   "id": "80b810a0",
   "metadata": {
    "slideshow": {
     "slide_type": "slide"
    }
   },
   "source": [
    "#### Numpy arrays\n",
    "\n",
    "`numpy` is a python package that provides complex data types for performing mathematical operations. In particular, numpy provides the `array` data type which is similar to the `matrix` in R. \n",
    "\n",
    "Before arrays can be constructed it is necessary to install the numpy library in Python (if you don't already have it) and load it into Python:"
   ]
  },
  {
   "cell_type": "code",
   "execution_count": null,
   "id": "2030c7ef",
   "metadata": {},
   "outputs": [],
   "source": [
    "import numpy as np"
   ]
  },
  {
   "cell_type": "code",
   "execution_count": null,
   "id": "11698828",
   "metadata": {},
   "outputs": [],
   "source": [
    "type(np)"
   ]
  },
  {
   "cell_type": "markdown",
   "id": "5f54f067",
   "metadata": {
    "slideshow": {
     "slide_type": "subslide"
    }
   },
   "source": [
    "Just like other objects, they have properties and methods. We typically load modules into python because we want to use the methods they contain. As a reminder, you can access an object's methods using the `<object>.<method>()` notation. For the `numpy` module, the method we are most interested is the `array()` method -- this is what we can use to construct an `array` object.\n",
    "\n",
    "Arrays are similar to lists, except that they are specifically design for holding only one type of data, typically numerical data. "
   ]
  },
  {
   "cell_type": "code",
   "execution_count": null,
   "id": "d6a6bfc3",
   "metadata": {},
   "outputs": [],
   "source": [
    "# Create a 1-dimensional (1d) array holding the values 1, 2, and 3\n",
    "np.array([1, 2, 3])"
   ]
  },
  {
   "cell_type": "markdown",
   "id": "e931f3e0",
   "metadata": {
    "slideshow": {
     "slide_type": "subslide"
    }
   },
   "source": [
    "We can create 2-dimensional arrays by adding lists of lists:"
   ]
  },
  {
   "cell_type": "code",
   "execution_count": null,
   "id": "3a436970",
   "metadata": {},
   "outputs": [],
   "source": [
    "# Construct a 2d array\n",
    "numpy.array([\n",
    "    [1, 2, 3],\n",
    "    [4, 5, 6]\n",
    "])"
   ]
  },
  {
   "cell_type": "markdown",
   "id": "ebc147f5",
   "metadata": {
    "slideshow": {
     "slide_type": "subslide"
    }
   },
   "source": [
    "We can even create a 3-dimension array (and beyond) using lists of lists of lists (etc). "
   ]
  },
  {
   "cell_type": "code",
   "execution_count": null,
   "id": "190ca2c8",
   "metadata": {},
   "outputs": [],
   "source": [
    "# Construct a 3d array\n",
    "numpy.array([\n",
    "    [\n",
    "        [1, 2, 3],\n",
    "        [4, 5, 6]\n",
    "    ],\n",
    "    [\n",
    "        [7, 8, 9],\n",
    "        [10, 11, 12]\n",
    "    ]\n",
    "])"
   ]
  },
  {
   "cell_type": "markdown",
   "id": "8b5f8435",
   "metadata": {
    "slideshow": {
     "slide_type": "slide"
    }
   },
   "source": [
    "##### Numpy array methods\n",
    "\n",
    "Many methods are available for `array` objects. An exhaustive reference is available [here](https://numpy.org/doc/stable/reference/index.html). For now, we will discuss a few key methods:\n",
    "\n",
    "1. Creation\n",
    "2. Shape and dimensions\n",
    "3. Accessing elements\n",
    "4. Setting elements\n",
    "5. any / all \n",
    "6. Mathematical operations"
   ]
  },
  {
   "cell_type": "markdown",
   "id": "bf397bfb",
   "metadata": {
    "slideshow": {
     "slide_type": "subslide"
    }
   },
   "source": [
    "##### Creation\n",
    "\n",
    "Numpy arrays are created in multiple ways. The simplest invovles the use of lists (shown above):"
   ]
  },
  {
   "cell_type": "code",
   "execution_count": null,
   "id": "2638649c",
   "metadata": {},
   "outputs": [],
   "source": [
    "my_arr = np.array([\n",
    "    [True, False, False],\n",
    "    [False, True, False]\n",
    "])\n",
    "my_arr"
   ]
  },
  {
   "cell_type": "code",
   "execution_count": null,
   "id": "18cc1e8f",
   "metadata": {},
   "outputs": [],
   "source": [
    "type(my_arr)"
   ]
  },
  {
   "cell_type": "markdown",
   "id": "aa7da280",
   "metadata": {
    "slideshow": {
     "slide_type": "subslide"
    }
   },
   "source": [
    "Arrays can also be created using the `arange()` method. This method creates a sequential `array` given the max element specified:"
   ]
  },
  {
   "cell_type": "code",
   "execution_count": null,
   "id": "ed83ce4f",
   "metadata": {},
   "outputs": [],
   "source": [
    "# Create a 1d integer array from 0-10\n",
    "my_arr = np.arange(10)\n",
    "my_arr"
   ]
  },
  {
   "cell_type": "code",
   "execution_count": null,
   "id": "8be2a7d7",
   "metadata": {},
   "outputs": [],
   "source": [
    "# Create a 1d integer array from 10-20\n",
    "my_arr = np.arange(10, 20)\n",
    "my_arr"
   ]
  },
  {
   "cell_type": "code",
   "execution_count": null,
   "id": "6b4bbbb8",
   "metadata": {},
   "outputs": [],
   "source": [
    "# Create a 1d integer array from 10-100 in steps of 5\n",
    "my_arr = np.arange(10, 100, 5)\n",
    "my_arr"
   ]
  },
  {
   "cell_type": "code",
   "execution_count": null,
   "id": "363a03ef",
   "metadata": {},
   "outputs": [],
   "source": [
    "# Create a 1d float array from 0.0-10.0\n",
    "my_arr = np.arange(10.0)\n",
    "my_arr"
   ]
  },
  {
   "cell_type": "markdown",
   "id": "7a60ab1b",
   "metadata": {
    "slideshow": {
     "slide_type": "subslide"
    }
   },
   "source": [
    "##### Shape and dimensions\n",
    "\n",
    "`numpy` arrays have a number of dimensions and a shape. Note that these are properties, not methods. They are accessed using this pattern: `<object>.<property_name>` as follows:"
   ]
  },
  {
   "cell_type": "code",
   "execution_count": null,
   "id": "23d85d42",
   "metadata": {},
   "outputs": [],
   "source": [
    "# Construct 2d array\n",
    "my_arr = np.array([\n",
    "    [True, False, False],\n",
    "    [False, True, False]\n",
    "])"
   ]
  },
  {
   "cell_type": "code",
   "execution_count": null,
   "id": "bdf26103",
   "metadata": {
    "slideshow": {
     "slide_type": "subslide"
    }
   },
   "outputs": [],
   "source": [
    "# Get number of dimensions property\n",
    "my_arr.ndim"
   ]
  },
  {
   "cell_type": "markdown",
   "id": "d22450ff",
   "metadata": {
    "slideshow": {
     "slide_type": "fragment"
    }
   },
   "source": [
    "**Note**: The `shape` of any `array` follows the format:\n",
    "\n",
    "```python\n",
    "(dimN, dimN-1, ..., dim3, dim2, dim1)\n",
    "```\n",
    "\n",
    "Where `dim1` is the innermost brackets (dimension \\#1), `dim2` is the next innermost, ... and `dimN` is the outermost brackets.\n",
    "\n",
    "Where the value for each `dim` corresponds to the number of elements in that dimension. For example:"
   ]
  },
  {
   "cell_type": "code",
   "execution_count": null,
   "id": "ab897a6e",
   "metadata": {
    "slideshow": {
     "slide_type": "fragment"
    }
   },
   "outputs": [],
   "source": [
    "# Get the shape property (number of rows (ie dim 2), number of columns (ie dim 1))\n",
    "my_arr.shape"
   ]
  },
  {
   "cell_type": "markdown",
   "id": "e8f93c17",
   "metadata": {
    "slideshow": {
     "slide_type": "subslide"
    }
   },
   "source": [
    "Let's examine this in action with a 3D array:"
   ]
  },
  {
   "cell_type": "code",
   "execution_count": null,
   "id": "5574d8dc",
   "metadata": {},
   "outputs": [],
   "source": [
    "# Construct a 3d array\n",
    "arr_3d = np.array([\n",
    "    [\n",
    "        [1, 2, 3],\n",
    "        [4, 5, 6]\n",
    "    ],\n",
    "    [\n",
    "        [7, 8, 9],\n",
    "        [10, 11, 12]\n",
    "    ]\n",
    "])\n",
    "\n",
    "# Get the shape (number of 2d arrays (aka \"stacks\"), number of rows, number of columns)\n",
    "arr_3d.shape"
   ]
  },
  {
   "cell_type": "markdown",
   "id": "29269ff0",
   "metadata": {
    "slideshow": {
     "slide_type": "subslide"
    }
   },
   "source": [
    "Finally, the shape of an array can be altered using the `reshape()` method. This is particularly useful for quickly constructing arrays of a desired shape:"
   ]
  },
  {
   "cell_type": "code",
   "execution_count": null,
   "id": "7509dd8b",
   "metadata": {},
   "outputs": [],
   "source": [
    "my_arr = np.arange(15)\n",
    "my_arr = my_arr.reshape((5, 3))  # Note that this does NOT overwrite the my_arr object until you re-assign using '='"
   ]
  },
  {
   "cell_type": "code",
   "execution_count": null,
   "id": "8fe16716",
   "metadata": {},
   "outputs": [],
   "source": [
    "my_arr"
   ]
  },
  {
   "cell_type": "markdown",
   "id": "fdc30339",
   "metadata": {
    "slideshow": {
     "slide_type": "fragment"
    }
   },
   "source": [
    "The above can be simplified in 1 line of code:"
   ]
  },
  {
   "cell_type": "code",
   "execution_count": null,
   "id": "34e941b8",
   "metadata": {},
   "outputs": [],
   "source": [
    "my_arr = np.arange(15).reshape((5, 3))\n",
    "my_arr"
   ]
  },
  {
   "cell_type": "markdown",
   "id": "39225e9a",
   "metadata": {
    "slideshow": {
     "slide_type": "skip"
    }
   },
   "source": [
    "**Challenge problem:** Create an array with all the even numbers from 2 through 13 in 2D format with two rows and three columns."
   ]
  },
  {
   "cell_type": "markdown",
   "id": "218ccaf0",
   "metadata": {
    "slideshow": {
     "slide_type": "subslide"
    }
   },
   "source": [
    "##### Accessing elements\n",
    "\n",
    "Elements can be accessed using several approaches:\n",
    "\n",
    "1. Numerical\n",
    "2. Logical\n",
    "\n",
    "For the **Numerical** approach, numerical indices are utilized using the pattern suited to their shape following this form:\n",
    "\n",
    "```python\n",
    "my_array[dimN, dimN-1, ..., dim3, dim2, dim1]\n",
    "```\n",
    "\n",
    "In which the value for `dim*` is the index of the element within that dimension of the dataset you want to access. For example:"
   ]
  },
  {
   "cell_type": "code",
   "execution_count": null,
   "id": "036eacf6",
   "metadata": {
    "slideshow": {
     "slide_type": "subslide"
    }
   },
   "outputs": [],
   "source": [
    "# For a 1D array, similar to list\n",
    "my_arr = np.array([3, 8, 1, 5])\n",
    "my_arr[1]  # Get the 2nd element of the first (and only) dimension"
   ]
  },
  {
   "cell_type": "markdown",
   "id": "757f9aea",
   "metadata": {
    "slideshow": {
     "slide_type": "fragment"
    }
   },
   "source": [
    "Now in a 2D array with `dim2` (rows) and `dim1` (cols):"
   ]
  },
  {
   "cell_type": "code",
   "execution_count": null,
   "id": "43f33815",
   "metadata": {},
   "outputs": [],
   "source": [
    "# For a 2D array, the pattern is array[dim2_index, dim1_index]\n",
    "my_arr = np.array([\n",
    "    [5, 7, 4, 6],\n",
    "    [2, 1, 9, 8]\n",
    "])\n",
    "my_arr[0, 1]  # First element in dim 2 (row 0) and second element in dim 1 (column 2)"
   ]
  },
  {
   "cell_type": "markdown",
   "id": "9e6ec8f8",
   "metadata": {
    "slideshow": {
     "slide_type": "subslide"
    }
   },
   "source": [
    "Now in a 3D array with `dim3` (stacks), `dim2` (rows), and `dim1` (cols):"
   ]
  },
  {
   "cell_type": "code",
   "execution_count": null,
   "id": "dc9c58d6",
   "metadata": {},
   "outputs": [],
   "source": [
    "# For an n-dimensional array, the pattern is the same: array[dimN_index, dimN-1_index, dimN-2_index..., dim1_index]\n",
    "my_arr = np.arange(125).reshape((5, 5, 5))\n",
    "print(my_arr)"
   ]
  },
  {
   "cell_type": "code",
   "execution_count": null,
   "id": "42f38821",
   "metadata": {
    "slideshow": {
     "slide_type": "fragment"
    }
   },
   "outputs": [],
   "source": [
    "my_arr[2, 3, 1]  # 3rd element in dim 1 (matrix 3), 4th element in dim 2 (row 4), 2nd element in dim 3 (column 2)"
   ]
  },
  {
   "cell_type": "markdown",
   "id": "334a0d96",
   "metadata": {
    "slideshow": {
     "slide_type": "subslide"
    }
   },
   "source": [
    "We can also use slice notation in order to get elements within a dimension! For example, if we wanted to get the 2nd column from every row in the first stack of `my_arr`:"
   ]
  },
  {
   "cell_type": "code",
   "execution_count": null,
   "id": "413533dc",
   "metadata": {},
   "outputs": [],
   "source": [
    "my_arr[0, :, 1]"
   ]
  },
  {
   "cell_type": "markdown",
   "id": "b0202b0e",
   "metadata": {
    "slideshow": {
     "slide_type": "skip"
    }
   },
   "source": [
    "**Challenge problem**: Write a statement which accesses every other column, from the last two rows, of the last stack in `my_arr`."
   ]
  },
  {
   "cell_type": "markdown",
   "id": "9a05c8e6",
   "metadata": {
    "slideshow": {
     "slide_type": "subslide"
    }
   },
   "source": [
    "For the **Logical** approach to accessing data, we can use a boolean array to extract the element(s) of interest:"
   ]
  },
  {
   "cell_type": "code",
   "execution_count": null,
   "id": "b8b41e8d",
   "metadata": {},
   "outputs": [],
   "source": [
    "num_arr = np.array([1, 2, 3])\n",
    "bool_arr = np.array([False, False, True])\n",
    "num_arr[bool_arr]  #  We access the element of num_arr for which bool_arr is True"
   ]
  },
  {
   "cell_type": "markdown",
   "id": "174cabfb",
   "metadata": {
    "slideshow": {
     "slide_type": "subslide"
    }
   },
   "source": [
    "This approach is extremely powerful when you can use logical operations to create a boolean array:"
   ]
  },
  {
   "cell_type": "code",
   "execution_count": null,
   "id": "dbd45fd9",
   "metadata": {},
   "outputs": [],
   "source": [
    "# Create a 2D matrix\n",
    "dataset = np.array([\n",
    "    [1, 2, 3, 4, 5],\n",
    "    [6, 7, 8, 9, 10]\n",
    "])\n",
    "print(dataset)"
   ]
  },
  {
   "cell_type": "code",
   "execution_count": null,
   "id": "e22c2373",
   "metadata": {
    "slideshow": {
     "slide_type": "subslide"
    }
   },
   "outputs": [],
   "source": [
    "# Create a boolean matrix for this dataset to test where values are greater than 3\n",
    "bools = dataset > 3\n",
    "print(bools)"
   ]
  },
  {
   "cell_type": "code",
   "execution_count": null,
   "id": "c9cf04b1",
   "metadata": {},
   "outputs": [],
   "source": [
    "# Extract the value(s) which satisfy this logical operation\n",
    "dataset[bools]"
   ]
  },
  {
   "cell_type": "markdown",
   "id": "a7620288",
   "metadata": {
    "slideshow": {
     "slide_type": "subslide"
    }
   },
   "source": [
    "We can also use `np.equal()` to construct a boolean array based on equivalence with a value:"
   ]
  },
  {
   "cell_type": "code",
   "execution_count": null,
   "id": "a089f272",
   "metadata": {},
   "outputs": [],
   "source": [
    "# Create a boolean matrix for this dataset to test where values are equal to 5 using np.equals()\n",
    "bools = np.equal(dataset, 5)\n",
    "print(bools)"
   ]
  },
  {
   "cell_type": "code",
   "execution_count": null,
   "id": "8fbb3c67",
   "metadata": {},
   "outputs": [],
   "source": [
    "# Extract the value(s) which satisfy this logical operation\n",
    "dataset[bools]"
   ]
  },
  {
   "cell_type": "code",
   "execution_count": null,
   "id": "a4385f08",
   "metadata": {},
   "outputs": [],
   "source": [
    "# Create a boolean matrix for this dataset to test where values are > 8 or < 3\n",
    "bools = np.logical_or(dataset > 8, dataset < 3)\n",
    "print(bools)\n",
    "# Subset the data using these booleans\n",
    "dataset[bools]"
   ]
  },
  {
   "cell_type": "markdown",
   "id": "51b072b5",
   "metadata": {
    "slideshow": {
     "slide_type": "subslide"
    }
   },
   "source": [
    "Finally, we can use the **where** approach that is a hybrid of these two methods. `where()` returns the numerical indices in which a logical condition was met. For example:"
   ]
  },
  {
   "cell_type": "code",
   "execution_count": null,
   "id": "ab687efe",
   "metadata": {},
   "outputs": [],
   "source": [
    "dataset"
   ]
  },
  {
   "cell_type": "code",
   "execution_count": null,
   "id": "bbd39f7e",
   "metadata": {},
   "outputs": [],
   "source": [
    "# Find the numerical indices for values in the dataset > 6\n",
    "indices = np.where(dataset > 6)\n",
    "print(indices)\n",
    "# Subset the data using these indices\n",
    "dataset[indices]"
   ]
  },
  {
   "cell_type": "markdown",
   "id": "e80d4f62",
   "metadata": {
    "slideshow": {
     "slide_type": "subslide"
    }
   },
   "source": [
    "##### Setting elements\n",
    "\n",
    "Just as you can access elements of an array, you can also set them. This can be done with integer and logical indexing. \n",
    "\n",
    "Here is an example with simple integer indexing:"
   ]
  },
  {
   "cell_type": "code",
   "execution_count": null,
   "id": "41a6ae20",
   "metadata": {},
   "outputs": [],
   "source": [
    "# Create a 2D matrix\n",
    "dataset = np.array([\n",
    "    [1, 2, 3, 4, 5],\n",
    "    [6, 7, 8, 9, 10]\n",
    "])\n",
    "print(dataset)"
   ]
  },
  {
   "cell_type": "code",
   "execution_count": null,
   "id": "f4ca249c",
   "metadata": {},
   "outputs": [],
   "source": [
    "# Change row 2, column 5 to the value 100\n",
    "dataset[1, 4] = 100\n",
    "dataset"
   ]
  },
  {
   "cell_type": "markdown",
   "id": "b87049e9",
   "metadata": {
    "slideshow": {
     "slide_type": "subslide"
    }
   },
   "source": [
    "You can also use logical indexing to set array values:"
   ]
  },
  {
   "cell_type": "code",
   "execution_count": null,
   "id": "076776d9",
   "metadata": {},
   "outputs": [],
   "source": [
    "# Set every value > 3 to 0\n",
    "dataset = np.array([\n",
    "    [1, 2, 3, 4, 5],\n",
    "    [6, 7, 8, 9, 10]\n",
    "])\n",
    "dataset[dataset > 3] = 0 \n",
    "dataset"
   ]
  },
  {
   "cell_type": "markdown",
   "id": "41681077",
   "metadata": {
    "slideshow": {
     "slide_type": "subslide"
    }
   },
   "source": [
    "And, finally, you can use the `where()` method:"
   ]
  },
  {
   "cell_type": "code",
   "execution_count": null,
   "id": "0034afa7",
   "metadata": {},
   "outputs": [],
   "source": [
    "# Set all value < 7 to -1\n",
    "dataset = np.array([\n",
    "    [1, 2, 3, 4, 5],\n",
    "    [6, 7, 8, 9, 10]\n",
    "])\n",
    "dataset[np.where(dataset < 7)] = -1\n",
    "dataset"
   ]
  },
  {
   "cell_type": "markdown",
   "id": "33d81ab6",
   "metadata": {
    "slideshow": {
     "slide_type": "subslide"
    }
   },
   "source": [
    "##### Any / All\n",
    "\n",
    "`any()` and `all()` are two methods which determine whether an array satisfies a logical condition. `any()` is `True` if any element in the array satisfies the condition. `all()` is `True` if all elements of the array satisfy the condition. Examples:"
   ]
  },
  {
   "cell_type": "code",
   "execution_count": null,
   "id": "8f96442b",
   "metadata": {},
   "outputs": [],
   "source": [
    "dataset = np.array([\n",
    "    [1, 2, 3, 4, 5],\n",
    "    [6, 7, 8, 9, 10]\n",
    "])"
   ]
  },
  {
   "cell_type": "code",
   "execution_count": null,
   "id": "e1650b10",
   "metadata": {},
   "outputs": [],
   "source": [
    "# Any values equal to 0?\n",
    "np.any(dataset == 0)"
   ]
  },
  {
   "cell_type": "code",
   "execution_count": null,
   "id": "78b7e97a",
   "metadata": {},
   "outputs": [],
   "source": [
    "# All values NOT equal to 0?\n",
    "np.all(dataset != 0)"
   ]
  },
  {
   "cell_type": "markdown",
   "id": "17d2c39b",
   "metadata": {
    "slideshow": {
     "slide_type": "subslide"
    }
   },
   "source": [
    "##### Mathematical methods\n",
    "\n",
    "Arrays have a large number of built-in mathematic methods. Examples include `sum()` and `mean()`. They can also be used for multi-dimensional algebraic operations, such as matrix multiplication and dot products. Here are a small number of examples:"
   ]
  },
  {
   "cell_type": "code",
   "execution_count": null,
   "id": "1cde1b39",
   "metadata": {},
   "outputs": [],
   "source": [
    "my_data = np.arange(9).reshape((3,3))\n",
    "my_data"
   ]
  },
  {
   "cell_type": "code",
   "execution_count": null,
   "id": "933c0d13",
   "metadata": {},
   "outputs": [],
   "source": [
    "# Multiplication by scalar\n",
    "my_data * 3"
   ]
  },
  {
   "cell_type": "code",
   "execution_count": null,
   "id": "e004c05f",
   "metadata": {},
   "outputs": [],
   "source": [
    "# Addition by vector\n",
    "my_vector = np.array([5, 10, 20])\n",
    "my_data + my_vector"
   ]
  },
  {
   "cell_type": "code",
   "execution_count": null,
   "id": "265a74bf",
   "metadata": {},
   "outputs": [],
   "source": [
    "# Sum of values\n",
    "my_data.sum()"
   ]
  },
  {
   "cell_type": "code",
   "execution_count": null,
   "id": "d6f104f9",
   "metadata": {},
   "outputs": [],
   "source": [
    "# Mean of values within dimension 2 (rows) -- \"axis\" specificies the dimension index\n",
    "my_data.mean(axis=1)"
   ]
  },
  {
   "cell_type": "code",
   "execution_count": null,
   "id": "c7967b57",
   "metadata": {},
   "outputs": [],
   "source": [
    "# Max values within dimension 1 (columns)\n",
    "my_data.max(axis=0)"
   ]
  },
  {
   "cell_type": "code",
   "execution_count": null,
   "id": "d86bf509",
   "metadata": {},
   "outputs": [],
   "source": [
    "# Transposition\n",
    "my_data.transpose()"
   ]
  },
  {
   "cell_type": "code",
   "execution_count": null,
   "id": "f234bf69",
   "metadata": {},
   "outputs": [],
   "source": [
    "# Make new dataset\n",
    "my_data2 = np.arange(100, 109).reshape((3,3))  # 3x3 matrix of 100:109\n",
    "\n",
    "# Compute dot product\n",
    "dot_prod = np.dot(my_data, my_data2)\n",
    "dot_prod"
   ]
  },
  {
   "cell_type": "code",
   "execution_count": null,
   "id": "1b739544",
   "metadata": {},
   "outputs": [],
   "source": [
    "# Compute the pearson correlation of two 1d arrays\n",
    "arr1 = np.array([1, 5, 6, 6, 7, 10])\n",
    "arr2 = np.array([3, 3, 4, 3, 6, 9])\n",
    "np.corrcoef(arr1, arr2)  # Correlation is ~.809"
   ]
  },
  {
   "cell_type": "markdown",
   "id": "676ac3bc",
   "metadata": {
    "slideshow": {
     "slide_type": "subslide"
    }
   },
   "source": [
    "**Random**: Randomness is very useful in advanced mathematics and statistics. `numpy` has builtin methods for generating randomnes. For example, we can easily pick a random integer between 1 and 100:"
   ]
  },
  {
   "cell_type": "code",
   "execution_count": null,
   "id": "b30a09d5",
   "metadata": {},
   "outputs": [],
   "source": [
    "np.random.randint(low=1, high = 100)"
   ]
  },
  {
   "cell_type": "markdown",
   "id": "c5622c18",
   "metadata": {
    "slideshow": {
     "slide_type": "fragment"
    }
   },
   "source": [
    "We can also generate a random integer array based based on a supplied size parameter:"
   ]
  },
  {
   "cell_type": "code",
   "execution_count": null,
   "id": "42bf045e",
   "metadata": {},
   "outputs": [],
   "source": [
    "np.random.randint(low=1, high=100, size=(5, 3))"
   ]
  },
  {
   "cell_type": "markdown",
   "id": "2adad407",
   "metadata": {
    "slideshow": {
     "slide_type": "fragment"
    }
   },
   "source": [
    "We can also generate an array of random floats between 0 and 1 by supplying a shape:"
   ]
  },
  {
   "cell_type": "code",
   "execution_count": null,
   "id": "34fafd94",
   "metadata": {},
   "outputs": [],
   "source": [
    "np.random.rand(4, 4)"
   ]
  },
  {
   "cell_type": "markdown",
   "id": "460cbaed",
   "metadata": {},
   "source": [
    "### Flow control & Functions\n",
    "\n",
    "We will also briefly discuss control flow and functions in python. While these are useful techniques for python programming, they are not necessary for most typical data science activities in python. These are the topics which we will now summarize:\n",
    "\n",
    "1. If...elif...else\n",
    "2. Loops\n",
    "3. Function definitions"
   ]
  },
  {
   "cell_type": "markdown",
   "id": "0ae81822",
   "metadata": {},
   "source": [
    "#### If...elif...else\n",
    "\n",
    "These statements indicate code blocks that will only be executed given that a logical condition is met."
   ]
  },
  {
   "cell_type": "markdown",
   "id": "d030b489",
   "metadata": {},
   "source": [
    "##### If statements\n",
    "\n",
    "`if` statements in python create a logic gate, such that some code will only execute if a logical condition is met. See an example here:"
   ]
  },
  {
   "cell_type": "code",
   "execution_count": null,
   "id": "a9a06baa",
   "metadata": {},
   "outputs": [],
   "source": [
    "a = 1\n",
    "b = 1\n",
    "\n",
    "if a == b:\n",
    "    # Execute this code only if a == b is True\n",
    "    print(\"a is equal to b!\")"
   ]
  },
  {
   "cell_type": "markdown",
   "id": "90732f6c",
   "metadata": {},
   "source": [
    "The above example shows an `if` statement. The code in this statement only executes which the condition (`a == b`) is `True`. **Challenge:** Can you modify the above block so that the code will not execute?"
   ]
  },
  {
   "cell_type": "markdown",
   "id": "d8395919",
   "metadata": {},
   "source": []
  },
  {
   "cell_type": "markdown",
   "id": "2e32bceb",
   "metadata": {},
   "source": [
    "##### If...else statements\n",
    "\n",
    "`else` statements are executed if no previous conditions are satisfied. In other words, if not of the `if` statements execute, only then will the `else` statement execute."
   ]
  },
  {
   "cell_type": "code",
   "execution_count": null,
   "id": "1fe27d36",
   "metadata": {},
   "outputs": [],
   "source": [
    "a = 1\n",
    "b = 2\n",
    "\n",
    "if a == b:\n",
    "    print(\"a is equal to b!\")\n",
    "else:\n",
    "    print(\"a is NOT equal to b!\")"
   ]
  },
  {
   "cell_type": "code",
   "execution_count": null,
   "id": "d357e54e",
   "metadata": {},
   "outputs": [],
   "source": [
    "a = [1, 2, 3]\n",
    "cond = a[1] == 2\n",
    "if cond:\n",
    "    print(\"Yes\")\n",
    "else:\n",
    "    print(\"No\")"
   ]
  },
  {
   "cell_type": "markdown",
   "id": "1537578a",
   "metadata": {},
   "source": [
    "##### If...elif...else statements\n",
    "\n",
    "`elif` is a phrase that means \"else if\". This means that if the preceeding logical conditions are not satisfied, only then is this statement tested. "
   ]
  },
  {
   "cell_type": "code",
   "execution_count": null,
   "id": "93fbe581",
   "metadata": {},
   "outputs": [],
   "source": [
    "grade = 78\n",
    "\n",
    "if grade > 90:\n",
    "    # Only executes if grade > 90\n",
    "    letter_grade = \"A\"\n",
    "elif grade > 80:\n",
    "    # Only executes if grade > 80 and grade <= 90\n",
    "    letter_grade = \"B\"\n",
    "elif grade > 70:\n",
    "    # Only executes if grade > 70 and grade <= 80\n",
    "    letter_grade = \"C\"\n",
    "elif grade >= 60:\n",
    "    # Only executes if grade > 60 and grade <= 70\n",
    "    letter_grade = \"D\"\n",
    "else:\n",
    "    # Only executes if grade < 60\n",
    "    letter_grade = \"F\"\n",
    "    \n",
    "print(\"Student earned a grade of \" + letter_grade)"
   ]
  },
  {
   "cell_type": "markdown",
   "id": "a32a90b9",
   "metadata": {},
   "source": [
    "In the above example, each logical condition is tested in sequence. Only when a condition is not met is the next one tested. If a student has a grade of `68`, then every `elif` statement will be tested. If the student had a `96`, then no `elif` statements would have been tested."
   ]
  },
  {
   "cell_type": "code",
   "execution_count": null,
   "id": "aaf8d5be",
   "metadata": {},
   "outputs": [],
   "source": [
    "trees = ['pine', 'spruce', 'fir', 'oak', 'cherry']\n",
    "\n",
    "if 'pi' + ' ne' in trees:\n",
    "    print(\"Pine Trees!\")\n",
    "elif \",\".join(['fir', 'oak']) == \"fir, oak\":\n",
    "    print(\"Fir Trees!\")\n",
    "elif \"\".join(['ry', 'cher'][::-1]) in trees:\n",
    "    print(\"Cherry Trees!\")\n",
    "else:\n",
    "    print(\"No trees!\")"
   ]
  },
  {
   "cell_type": "code",
   "execution_count": null,
   "id": "fad19caa",
   "metadata": {},
   "outputs": [],
   "source": [
    "\",\".join(['fir', 'oak'])"
   ]
  },
  {
   "cell_type": "markdown",
   "id": "b71112f6",
   "metadata": {},
   "source": [
    "#### Loops\n",
    "\n",
    "Loops allow for python code to be applied to every element of an iterable object, such as a list."
   ]
  },
  {
   "cell_type": "markdown",
   "id": "01cbbc6f",
   "metadata": {},
   "source": [
    "##### For loops\n",
    "\n",
    "For loops are a type of finite loop in python (as opposed to `while` loops which we will not discuss here). A for loop iterates over an iterable object, such as a `list` or `tuple`. For every element of the object, code will be executed in succession. Here is an example:"
   ]
  },
  {
   "cell_type": "code",
   "execution_count": null,
   "id": "0b04a5da",
   "metadata": {},
   "outputs": [],
   "source": [
    "# Loop through a list of 1 through 10\n",
    "numbers = [1, 2, 3, 4, 5, 6, 7, 8, 9, 10]\n",
    "\n",
    "for number in numbers:\n",
    "    print(number)"
   ]
  },
  {
   "cell_type": "markdown",
   "id": "cd0a4d74",
   "metadata": {},
   "source": [
    "As the loop iterates, it assigns each element of `numbers` to the variable `number` and then runs the code within the loop. For example, we can add 10 to `number`:"
   ]
  },
  {
   "cell_type": "code",
   "execution_count": null,
   "id": "decfa500",
   "metadata": {},
   "outputs": [],
   "source": [
    "for number in numbers:\n",
    "    print(number + 10)"
   ]
  },
  {
   "cell_type": "markdown",
   "id": "3be1c3ef",
   "metadata": {},
   "source": [
    "Loops can be a relatively convenient way to add numbers to a list using the `.append()` method. For example:"
   ]
  },
  {
   "cell_type": "code",
   "execution_count": null,
   "id": "f147b76b",
   "metadata": {},
   "outputs": [],
   "source": [
    "new_numbers = list()\n",
    "for number in numbers:\n",
    "    new_numbers.append(number + 10)\n",
    "    \n",
    "new_numbers"
   ]
  },
  {
   "cell_type": "markdown",
   "id": "9b7a01ae",
   "metadata": {},
   "source": [
    "##### Combining loops and if / else"
   ]
  },
  {
   "cell_type": "code",
   "execution_count": null,
   "id": "bfe82b7a",
   "metadata": {},
   "outputs": [],
   "source": [
    "# Combining loops and if...else\n",
    "grades = [85, 98, 45, 73]\n",
    "\n",
    "# Loop over list of grades and print letter grade\n",
    "for grade in grades:\n",
    "    if grade > 90:\n",
    "        # Only executes if grade > 90\n",
    "        letter_grade = \"A\"\n",
    "    elif grade > 80:\n",
    "        # Only executes if grade > 80 and grade <= 90\n",
    "        letter_grade = \"B\"\n",
    "    elif grade > 70:\n",
    "        # Only executes if grade > 70 and grade <= 80\n",
    "        letter_grade = \"C\"\n",
    "    elif grade >= 60:\n",
    "        # Only executes if grade > 60 and grade <= 70\n",
    "        letter_grade = \"D\"\n",
    "    else:\n",
    "        # Only executes if grade < 60\n",
    "        letter_grade = \"F\"\n",
    "\n",
    "    print(\"Student earned a grade of \" + letter_grade)\n"
   ]
  },
  {
   "cell_type": "markdown",
   "id": "fb63f943",
   "metadata": {},
   "source": [
    "##### Integer indices instead of direct for loops"
   ]
  },
  {
   "cell_type": "markdown",
   "id": "b8c6507d",
   "metadata": {},
   "source": [
    "Rather than using the list of grades directly, it may be useful to use the numerical indices of list elements. For example:"
   ]
  },
  {
   "cell_type": "code",
   "execution_count": null,
   "id": "c646bfe9",
   "metadata": {},
   "outputs": [],
   "source": [
    "# Loop through a list of letters\n",
    "letters = [\"a\", \"b\", \"c\", \"d\"]\n",
    "\n",
    "for letter in letters:\n",
    "    print(letter)"
   ]
  },
  {
   "cell_type": "code",
   "execution_count": null,
   "id": "fb50f35b",
   "metadata": {},
   "outputs": [],
   "source": [
    "range(len(letters))"
   ]
  },
  {
   "cell_type": "code",
   "execution_count": null,
   "id": "511b5c9f",
   "metadata": {},
   "outputs": [],
   "source": [
    "for i in range(len(letters)):\n",
    "    letter = letters[i]\n",
    "    print(letter)"
   ]
  },
  {
   "cell_type": "markdown",
   "id": "f23b2af6",
   "metadata": {},
   "source": [
    "While this may seem more complicated, there are many situations in which this is necessary! For example:"
   ]
  },
  {
   "cell_type": "code",
   "execution_count": null,
   "id": "4544d3ad",
   "metadata": {},
   "outputs": [],
   "source": [
    "students = ['alice', 'kevin', 'sara', 'tim']\n",
    "grades = [85, 98, 45, 73]\n",
    "\n",
    "for i in range(len(grades)):\n",
    "    \n",
    "    grade = grades[i]\n",
    "    student = students[i]\n",
    "    \n",
    "    if grade > 90:\n",
    "        # Only executes if grade > 90\n",
    "        letter_grade = \"A\"\n",
    "    elif grade > 80:\n",
    "        # Only executes if grade > 80 and grade <= 90\n",
    "        letter_grade = \"B\"\n",
    "    elif grade > 70:\n",
    "        # Only executes if grade > 70 and grade <= 80\n",
    "        letter_grade = \"C\"\n",
    "    elif grade >= 60:\n",
    "        # Only executes if grade > 60 and grade <= 70\n",
    "        letter_grade = \"D\"\n",
    "    else:\n",
    "        # Only executes if grade < 60\n",
    "        letter_grade = \"F\"\n",
    "\n",
    "    print(student + \" earned a grade of \" + letter_grade)\n"
   ]
  },
  {
   "cell_type": "markdown",
   "id": "0415bfe6",
   "metadata": {},
   "source": [
    "##### List comprehension"
   ]
  },
  {
   "cell_type": "markdown",
   "id": "6871d72e",
   "metadata": {},
   "source": [
    "Typically, for loops are a terrible coding pattern in `Python`. There's almost always a much better/faster alternative to using one. However, they do have one area of utility in data science: **list comprehensions**. \n",
    "\n",
    "**List comprehension** is a *pythonic* coding pattern used for performing an action on a list. It is faster than a typical for-loop and reduces the number of lines needed to use one. \n",
    "\n",
    "It usually takes the following form:\n",
    "\n",
    "```python\n",
    "[ modify_value(value) for value in values ]\n",
    "```\n",
    "This will take every element of `values` and modify it using `modify_value()` function, returning a list of modified values of the same order and length as `values`.\n",
    "\n",
    "For example we can simply return the `number` for every `number` in `range(1, 11)` like so:"
   ]
  },
  {
   "cell_type": "code",
   "execution_count": null,
   "id": "7be3edde",
   "metadata": {},
   "outputs": [],
   "source": [
    "# NOTE: You can also use list comprehension to achieve this\n",
    "[number for number in range(1, 11)]  # Print doesn't actually return a value"
   ]
  },
  {
   "cell_type": "markdown",
   "id": "ad68ec1a",
   "metadata": {},
   "source": [
    "We could also modify these numbers:"
   ]
  },
  {
   "cell_type": "code",
   "execution_count": null,
   "id": "0675fd13",
   "metadata": {},
   "outputs": [],
   "source": [
    "[number + 10 for number in numbers]  # Returns a value"
   ]
  },
  {
   "cell_type": "markdown",
   "id": "b7750551",
   "metadata": {},
   "source": [
    "We can even add conditionals! Such as if...else statements:"
   ]
  },
  {
   "cell_type": "code",
   "execution_count": null,
   "id": "ae633f1d",
   "metadata": {},
   "outputs": [],
   "source": [
    "[-number if number % 2 == 0 else number for number in numbers]  # Returns a value"
   ]
  },
  {
   "cell_type": "markdown",
   "id": "faf8bdae",
   "metadata": {},
   "source": [
    "#### Functions\n",
    "\n",
    "Functions are objects in python which take an input, perform computations, and return an output. Functions have arguments that help the function operate correctly. For example, we can define a function, `square_it()` which finds the square of any number:"
   ]
  },
  {
   "cell_type": "code",
   "execution_count": null,
   "id": "04dee145",
   "metadata": {},
   "outputs": [],
   "source": [
    "def square_it(x):\n",
    "    print(x ** 2)\n",
    "    \n",
    "type(square_it)"
   ]
  },
  {
   "cell_type": "code",
   "execution_count": null,
   "id": "f870a01f",
   "metadata": {},
   "outputs": [],
   "source": [
    "square_it(5)  # Gets 5 ** 2"
   ]
  },
  {
   "cell_type": "markdown",
   "id": "7e7bf240",
   "metadata": {},
   "source": [
    "Functions do not have to return a value. Because `square_it()` only prints an object, it doesn't return anything. Any variable that references the output of `square_it()` will be a `None`, which means \"doesn't exist\". "
   ]
  },
  {
   "cell_type": "code",
   "execution_count": null,
   "id": "8e14388b",
   "metadata": {},
   "outputs": [],
   "source": [
    "result = square_it(5)"
   ]
  },
  {
   "cell_type": "code",
   "execution_count": null,
   "id": "d44365d8",
   "metadata": {},
   "outputs": [],
   "source": [
    "print(result)"
   ]
  },
  {
   "cell_type": "markdown",
   "id": "0ff5c360",
   "metadata": {},
   "source": [
    "Interestingly, `None` is actually a type of object in Python. This allows you to easily reference them, which can make solving certain coding problems easier. "
   ]
  },
  {
   "cell_type": "code",
   "execution_count": null,
   "id": "ecc143ca",
   "metadata": {},
   "outputs": [],
   "source": [
    "type(result)  # NoneType objects"
   ]
  },
  {
   "cell_type": "markdown",
   "id": "cdb6523d",
   "metadata": {},
   "source": [
    "Functions can also return a value with the `return` statement. This is more common in python programming than simply printing the value:"
   ]
  },
  {
   "cell_type": "code",
   "execution_count": null,
   "id": "a7668c4f",
   "metadata": {},
   "outputs": [],
   "source": [
    "def square_it(x):\n",
    "    return x ** 2  # Return a value\n",
    "    \n",
    "result = square_it(5)"
   ]
  },
  {
   "cell_type": "code",
   "execution_count": null,
   "id": "2626bffc",
   "metadata": {},
   "outputs": [],
   "source": [
    "print(result)"
   ]
  }
 ],
 "metadata": {
  "celltoolbar": "Slideshow",
  "kernelspec": {
   "display_name": "Python 3 (ipykernel)",
   "language": "python",
   "name": "python3"
  },
  "language_info": {
   "codemirror_mode": {
    "name": "ipython",
    "version": 3
   },
   "file_extension": ".py",
   "mimetype": "text/x-python",
   "name": "python",
   "nbconvert_exporter": "python",
   "pygments_lexer": "ipython3",
   "version": "3.12.5"
  },
  "rise": {
   "enable_chalkboard": true,
   "scroll": true,
   "theme": "simple"
  }
 },
 "nbformat": 4,
 "nbformat_minor": 5
}
