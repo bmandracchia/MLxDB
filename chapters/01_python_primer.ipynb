{
 "cells": [
  {
   "cell_type": "markdown",
   "id": "ea95506c",
   "metadata": {
    "slideshow": {
     "slide_type": "slide"
    }
   },
   "source": [
    "# Python: una introducción\n",
    "\n",
    "Python es un lenguaje de programación orientado a objetos. Esto significa que **todo en Python es un objeto** con una **clase (tipo)**, **atributos** y **métodos**. En este cuaderno repasaremos los tipos básicos (booleanos, numéricos, cadenas, listas, diccionarios, conjuntos), operadores lógicos y de comparación, módulos y paquetes, `NumPy`, bucles, condicionales y funciones."
   ]
  },
  {
   "cell_type": "markdown",
   "id": "85fd1758",
   "metadata": {
    "slideshow": {
     "slide_type": "slide"
    }
   },
   "source": [
    "### Booleanos y comparaciones\n",
    "\n",
    "Los booleanos son un tipo de dato simple con dos valores posibles: `True` (verdadero) y `False` (falso). Las **comparaciones** entre valores devuelven booleanos y son la base de las estructuras de control. Operadores de comparación: `==`, `!=`, `>`, `<`, `>=`, `<=`."
   ]
  },
  {
   "cell_type": "code",
   "execution_count": null,
   "id": "dec6ebcb",
   "metadata": {
    "slideshow": {
     "slide_type": "fragment"
    }
   },
   "outputs": [],
   "source": [
    "True"
   ]
  },
  {
   "cell_type": "code",
   "execution_count": null,
   "id": "d4125c21",
   "metadata": {
    "slideshow": {
     "slide_type": "fragment"
    }
   },
   "outputs": [],
   "source": [
    "False"
   ]
  },
  {
   "cell_type": "markdown",
   "id": "1bdacd9b",
   "metadata": {
    "slideshow": {
     "slide_type": "subslide"
    }
   },
   "source": [
    "También podemos verificar que un valor es de tipo `bool` con `type(valor)`, que devuelve la **clase** (tipo) del objeto en Python."
   ]
  },
  {
   "cell_type": "code",
   "execution_count": null,
   "id": "d40e6785",
   "metadata": {
    "slideshow": {
     "slide_type": "fragment"
    }
   },
   "outputs": [],
   "source": [
    "type(True)"
   ]
  },
  {
   "cell_type": "markdown",
   "id": "d242e99e",
   "metadata": {
    "slideshow": {
     "slide_type": "subslide"
    }
   },
   "source": [
    "### Operaciones lógicas\n",
    "\n",
    "- `A and B` es `True` solo si **ambos** son `True`.\n",
    "- `A or B` es `True` si **al menos uno** es `True`.\n",
    "- `not A` invierte el valor lógico de `A`."
   ]
  },
  {
   "cell_type": "code",
   "execution_count": null,
   "id": "7beb84e9",
   "metadata": {
    "slideshow": {
     "slide_type": "fragment"
    }
   },
   "outputs": [],
   "source": [
    "# AND (ambos lados son True)\n",
    "True and True"
   ]
  },
  {
   "cell_type": "code",
   "execution_count": null,
   "id": "d11132a4",
   "metadata": {
    "slideshow": {
     "slide_type": "fragment"
    }
   },
   "outputs": [],
   "source": [
    "# AND (uno de los lados no es True)\n",
    "True and False"
   ]
  },
  {
   "cell_type": "markdown",
   "id": "7410d8f8",
   "metadata": {
    "slideshow": {
     "slide_type": "subslide"
    }
   },
   "source": [
    "Además, el operador `or` es `True` si **al menos uno** de los operandos es `True`."
   ]
  },
  {
   "cell_type": "code",
   "execution_count": null,
   "id": "ab2f6f4c",
   "metadata": {
    "slideshow": {
     "slide_type": "fragment"
    }
   },
   "outputs": [],
   "source": [
    "# OR (con que uno de los lados sea True)\n",
    "True or False"
   ]
  },
  {
   "cell_type": "markdown",
   "id": "4179cb7e",
   "metadata": {
    "slideshow": {
     "slide_type": "fragment"
    }
   },
   "source": [
    "Por último, `not` niega (invierte) el valor lógico: `not True` → `False`, `not False` → `True`."
   ]
  },
  {
   "cell_type": "code",
   "execution_count": null,
   "id": "a9e9fc5d",
   "metadata": {
    "slideshow": {
     "slide_type": "fragment"
    }
   },
   "outputs": [],
   "source": [
    "not True"
   ]
  },
  {
   "cell_type": "markdown",
   "id": "4dbc08ed",
   "metadata": {
    "slideshow": {
     "slide_type": "subslide"
    }
   },
   "source": [
    "Los operadores lógicos pueden combinarse para formar expresiones complejas. La **precedencia** habitual es: `not` → `and` → `or`. Usa paréntesis para dejar clara la intención."
   ]
  },
  {
   "cell_type": "code",
   "execution_count": null,
   "id": "a8902924",
   "metadata": {
    "slideshow": {
     "slide_type": "subslide"
    }
   },
   "outputs": [],
   "source": [
    "not False and True"
   ]
  },
  {
   "cell_type": "code",
   "execution_count": null,
   "id": "e06716e2",
   "metadata": {
    "slideshow": {
     "slide_type": "fragment"
    }
   },
   "outputs": [],
   "source": [
    "not False or not True"
   ]
  },
  {
   "cell_type": "code",
   "execution_count": null,
   "id": "9446ef30",
   "metadata": {
    "slideshow": {
     "slide_type": "fragment"
    }
   },
   "outputs": [],
   "source": [
    "not False and False"
   ]
  },
  {
   "cell_type": "code",
   "execution_count": null,
   "id": "e5345fd1",
   "metadata": {
    "slideshow": {
     "slide_type": "fragment"
    }
   },
   "outputs": [],
   "source": [
    "not (False and False)"
   ]
  },
  {
   "cell_type": "code",
   "execution_count": null,
   "id": "73d0f903",
   "metadata": {
    "slideshow": {
     "slide_type": "fragment"
    }
   },
   "outputs": [],
   "source": [
    "not False or not (True or not True)"
   ]
  },
  {
   "cell_type": "markdown",
   "id": "e8c1ee44",
   "metadata": {
    "slideshow": {
     "slide_type": "fragment"
    }
   },
   "source": [
    "**Pregunta de desafío**: ¿Cuál es la salida del siguiente bloque (sin ejecutarlo)?"
   ]
  },
  {
   "cell_type": "markdown",
   "id": "7562be0d",
   "metadata": {
    "slideshow": {
     "slide_type": "slide"
    }
   },
   "source": [
    "### Números y matemáticas\n",
    "\n",
    "Python cuenta con tipos numéricos principales: `int` (enteros), `float` (coma flotante) y `complex` (complejos). Se pueden operar con los operadores aritméticos estándar y funciones integradas."
   ]
  },
  {
   "cell_type": "markdown",
   "id": "9ac919b7",
   "metadata": {
    "slideshow": {
     "slide_type": "subslide"
    }
   },
   "source": [
    "#### `int`\n",
    "\n",
    "Los enteros (`int`) representan números sin parte decimal."
   ]
  },
  {
   "cell_type": "code",
   "execution_count": null,
   "id": "c813803a",
   "metadata": {
    "slideshow": {
     "slide_type": "fragment"
    }
   },
   "outputs": [],
   "source": [
    "1"
   ]
  },
  {
   "cell_type": "markdown",
   "id": "bcef1f55",
   "metadata": {
    "slideshow": {
     "slide_type": "fragment"
    }
   },
   "source": [
    "Podemos verificar que es un `int` con `type(valor)`."
   ]
  },
  {
   "cell_type": "code",
   "execution_count": null,
   "id": "b746452e",
   "metadata": {
    "slideshow": {
     "slide_type": "fragment"
    }
   },
   "outputs": [],
   "source": [
    "type(1)"
   ]
  },
  {
   "cell_type": "markdown",
   "id": "a742229f",
   "metadata": {
    "slideshow": {
     "slide_type": "subslide"
    }
   },
   "source": [
    "#### `float`\n",
    "\n",
    "Los `float` representan números con parte decimal."
   ]
  },
  {
   "cell_type": "markdown",
   "id": "91362799",
   "metadata": {
    "slideshow": {
     "slide_type": "fragment"
    }
   },
   "source": [
    "`float` son objetos numéricos con parte decimal. Por ejemplo:"
   ]
  },
  {
   "cell_type": "code",
   "execution_count": null,
   "id": "3fd2bb95",
   "metadata": {
    "slideshow": {
     "slide_type": "fragment"
    }
   },
   "outputs": [],
   "source": [
    "1.01"
   ]
  },
  {
   "cell_type": "code",
   "execution_count": null,
   "id": "749ff623",
   "metadata": {
    "slideshow": {
     "slide_type": "fragment"
    }
   },
   "outputs": [],
   "source": [
    "type(1.01)"
   ]
  },
  {
   "cell_type": "markdown",
   "id": "36d199b8",
   "metadata": {
    "slideshow": {
     "slide_type": "subslide"
    }
   },
   "source": [
    "#### `complex`\n",
    "\n",
    "Los `complex` tienen parte real e imaginaria."
   ]
  },
  {
   "cell_type": "markdown",
   "id": "79d1a898",
   "metadata": {
    "slideshow": {
     "slide_type": "fragment"
    }
   },
   "source": [
    "`complex` son números con componente imaginaria. Por ejemplo:"
   ]
  },
  {
   "cell_type": "code",
   "execution_count": null,
   "id": "d503bf23",
   "metadata": {
    "slideshow": {
     "slide_type": "fragment"
    }
   },
   "outputs": [],
   "source": [
    "2 + 2j  # j is the square root of -1"
   ]
  },
  {
   "cell_type": "code",
   "execution_count": null,
   "id": "ed1f415f",
   "metadata": {
    "slideshow": {
     "slide_type": "fragment"
    }
   },
   "outputs": [],
   "source": [
    "type(2+2j)"
   ]
  },
  {
   "cell_type": "markdown",
   "id": "d295167e",
   "metadata": {
    "slideshow": {
     "slide_type": "slide"
    }
   },
   "source": [
    "#### Operaciones matemáticas\n",
    "\n",
    "Operadores comunes: `+`, `-`, `*`, `/`, `//` (entera), `%` (módulo), `**` (potencia)."
   ]
  },
  {
   "cell_type": "code",
   "execution_count": null,
   "id": "2ded4002",
   "metadata": {
    "slideshow": {
     "slide_type": "fragment"
    }
   },
   "outputs": [],
   "source": [
    "# Suma\n",
    "1 + 1"
   ]
  },
  {
   "cell_type": "code",
   "execution_count": null,
   "id": "f5233965",
   "metadata": {
    "slideshow": {
     "slide_type": "fragment"
    }
   },
   "outputs": [],
   "source": [
    "# Resta\n",
    "4 - 2"
   ]
  },
  {
   "cell_type": "code",
   "execution_count": null,
   "id": "fb95fc17",
   "metadata": {
    "slideshow": {
     "slide_type": "fragment"
    }
   },
   "outputs": [],
   "source": [
    "# Multiplication \n",
    "2 * 3"
   ]
  },
  {
   "cell_type": "code",
   "execution_count": null,
   "id": "9fd09421",
   "metadata": {
    "slideshow": {
     "slide_type": "fragment"
    }
   },
   "outputs": [],
   "source": [
    "# División\n",
    "16 / 3"
   ]
  },
  {
   "cell_type": "code",
   "execution_count": null,
   "id": "c46361c4",
   "metadata": {
    "slideshow": {
     "slide_type": "fragment"
    }
   },
   "outputs": [],
   "source": [
    "# División entera (floor)\n",
    "16 // 3"
   ]
  },
  {
   "cell_type": "code",
   "execution_count": null,
   "id": "d0cb0dfa",
   "metadata": {
    "slideshow": {
     "slide_type": "fragment"
    }
   },
   "outputs": [],
   "source": [
    "# Módulo (resto)\n",
    "16 % 3"
   ]
  },
  {
   "cell_type": "code",
   "execution_count": null,
   "id": "3d7f6fe6",
   "metadata": {
    "slideshow": {
     "slide_type": "fragment"
    }
   },
   "outputs": [],
   "source": [
    "# Exponenciación\n",
    "2**5"
   ]
  },
  {
   "cell_type": "code",
   "execution_count": null,
   "id": "12ee6382",
   "metadata": {
    "slideshow": {
     "slide_type": "fragment"
    }
   },
   "outputs": [],
   "source": [
    "# Negación\n",
    "-1"
   ]
  },
  {
   "cell_type": "code",
   "execution_count": null,
   "id": "5fc4ac05",
   "metadata": {
    "slideshow": {
     "slide_type": "fragment"
    }
   },
   "outputs": [],
   "source": [
    "# Valor absoluto\n",
    "abs(-1)"
   ]
  },
  {
   "cell_type": "markdown",
   "id": "3624fcbd",
   "metadata": {
    "slideshow": {
     "slide_type": "fragment"
    }
   },
   "source": [
    "**Pregunta de desafío**: ¿Cuál es la salida del siguiente bloque (sin ejecutarlo)?"
   ]
  },
  {
   "cell_type": "markdown",
   "id": "203bcfb7",
   "metadata": {
    "slideshow": {
     "slide_type": "subslide"
    }
   },
   "source": [
    "#### Orden de operaciones\n",
    "\n",
    "Precedencia típica: potencias `**` → multiplicación/división `*` `/` `//` `%` → suma/resta `+` `-`."
   ]
  },
  {
   "cell_type": "code",
   "execution_count": null,
   "id": "ac46c67a",
   "metadata": {
    "slideshow": {
     "slide_type": "fragment"
    }
   },
   "outputs": [],
   "source": [
    "3 + 5 * 2  # It is not 16 because the multiplication comes first"
   ]
  },
  {
   "cell_type": "markdown",
   "id": "9376c6c4",
   "metadata": {
    "slideshow": {
     "slide_type": "fragment"
    }
   },
   "source": [
    "**Desafío:** ¿Cuál es el resultado de esta operación (sin ejecutarla)?"
   ]
  },
  {
   "cell_type": "markdown",
   "id": "a3812140",
   "metadata": {
    "slideshow": {
     "slide_type": "slide"
    }
   },
   "source": [
    "#### Comparaciones lógicas con números\n",
    "\n",
    "Usa `==`, `!=`, `>`, `<`, `>=`, `<=` para comparar valores numéricos."
   ]
  },
  {
   "cell_type": "code",
   "execution_count": null,
   "id": "b0245b09",
   "metadata": {
    "slideshow": {
     "slide_type": "fragment"
    }
   },
   "outputs": [],
   "source": [
    "# Mayor que\n",
    "9 > 8"
   ]
  },
  {
   "cell_type": "code",
   "execution_count": null,
   "id": "0672123a",
   "metadata": {
    "slideshow": {
     "slide_type": "fragment"
    }
   },
   "outputs": [],
   "source": [
    "# Menor que\n",
    "8 < 10"
   ]
  },
  {
   "cell_type": "code",
   "execution_count": null,
   "id": "e2ab9588",
   "metadata": {
    "slideshow": {
     "slide_type": "fragment"
    }
   },
   "outputs": [],
   "source": [
    "# Menor o igual que\n",
    "2 <= 2"
   ]
  },
  {
   "cell_type": "code",
   "execution_count": null,
   "id": "ba86a02b",
   "metadata": {
    "slideshow": {
     "slide_type": "fragment"
    }
   },
   "outputs": [],
   "source": [
    "# Mayor o igual que\n",
    "10 >= 12"
   ]
  },
  {
   "cell_type": "code",
   "execution_count": null,
   "id": "64e583c6",
   "metadata": {
    "slideshow": {
     "slide_type": "fragment"
    }
   },
   "outputs": [],
   "source": [
    "# Igual a\n",
    "1 == 2"
   ]
  },
  {
   "cell_type": "code",
   "execution_count": null,
   "id": "7133a3ee",
   "metadata": {
    "slideshow": {
     "slide_type": "fragment"
    }
   },
   "outputs": [],
   "source": [
    "# Distinto de\n",
    "1 != 2"
   ]
  },
  {
   "cell_type": "markdown",
   "id": "ae42be02",
   "metadata": {
    "slideshow": {
     "slide_type": "subslide"
    }
   },
   "source": [
    "#### Comparaciones con complejos\n",
    "\n",
    "Con números complejos, ciertas comparaciones no están definidas; utiliza igualdad/desigualdad."
   ]
  },
  {
   "cell_type": "code",
   "execution_count": null,
   "id": "07c46e2c",
   "metadata": {
    "slideshow": {
     "slide_type": "fragment"
    }
   },
   "outputs": [],
   "source": [
    "5 ** 2 + 1 == 52 / 2"
   ]
  },
  {
   "cell_type": "markdown",
   "id": "f602a8d5",
   "metadata": {
    "slideshow": {
     "slide_type": "fragment"
    }
   },
   "source": [
    "**Desafío:** ¿Cuál es el resultado de esta sentencia (sin ejecutarla)?"
   ]
  },
  {
   "cell_type": "code",
   "execution_count": null,
   "id": "46bb1e99",
   "metadata": {
    "slideshow": {
     "slide_type": "fragment"
    }
   },
   "outputs": [],
   "source": [
    "import numpy as np\n",
    "print(np.sqrt(1j))\n",
    "print(1j**2)"
   ]
  },
  {
   "cell_type": "markdown",
   "id": "b8e04822",
   "metadata": {
    "slideshow": {
     "slide_type": "slide"
    }
   },
   "source": [
    "### Cadenas (strings)\n",
    "\n",
    "Las cadenas (`str`) representan texto y ofrecen numerosos métodos de manipulación."
   ]
  },
  {
   "cell_type": "code",
   "execution_count": null,
   "id": "d76111cc",
   "metadata": {
    "slideshow": {
     "slide_type": "fragment"
    }
   },
   "outputs": [],
   "source": [
    "'Hello world!'  # Single quotes"
   ]
  },
  {
   "cell_type": "code",
   "execution_count": null,
   "id": "7c4e4a91",
   "metadata": {
    "slideshow": {
     "slide_type": "fragment"
    }
   },
   "outputs": [],
   "source": [
    "\"Hello world!\"  # Double quotes"
   ]
  },
  {
   "cell_type": "code",
   "execution_count": null,
   "id": "0b72c9f8",
   "metadata": {
    "slideshow": {
     "slide_type": "fragment"
    }
   },
   "outputs": [],
   "source": [
    "type(\"Hello world!\")"
   ]
  },
  {
   "cell_type": "markdown",
   "id": "42b2d6e6",
   "metadata": {
    "slideshow": {
     "slide_type": "subslide"
    }
   },
   "source": [
    "#### Métodos de cadenas\n",
    "\n",
    "Métodos comunes: `.upper()`, `.lower()`, `.title()`, `.strip()`, `.replace()`, etc."
   ]
  },
  {
   "cell_type": "code",
   "execution_count": null,
   "id": "113e8086",
   "metadata": {
    "slideshow": {
     "slide_type": "fragment"
    }
   },
   "outputs": [],
   "source": [
    "# Imprimir\n",
    "print(\"Hello world!\")"
   ]
  },
  {
   "cell_type": "code",
   "execution_count": null,
   "id": "d292ee1a",
   "metadata": {
    "slideshow": {
     "slide_type": "fragment"
    }
   },
   "outputs": [],
   "source": [
    "# Concatenar\n",
    "\"Hello \" + \"world!\""
   ]
  },
  {
   "cell_type": "code",
   "execution_count": null,
   "id": "959b5ef6",
   "metadata": {
    "slideshow": {
     "slide_type": "fragment"
    }
   },
   "outputs": [],
   "source": [
    "# Mayúsculas\n",
    "\"Hello world!\".upper()"
   ]
  },
  {
   "cell_type": "markdown",
   "id": "6121e866",
   "metadata": {
    "slideshow": {
     "slide_type": "subslide"
    }
   },
   "source": [
    "#### Comparaciones lógicas con cadenas\n",
    "\n",
    "Las cadenas se pueden comparar con los mismos operadores que los números."
   ]
  },
  {
   "cell_type": "code",
   "execution_count": null,
   "id": "0a98294b",
   "metadata": {
    "slideshow": {
     "slide_type": "fragment"
    }
   },
   "outputs": [],
   "source": [
    "\"Hello\" == \"Hello\""
   ]
  },
  {
   "cell_type": "code",
   "execution_count": null,
   "id": "f9bc0225",
   "metadata": {
    "slideshow": {
     "slide_type": "fragment"
    }
   },
   "outputs": [],
   "source": [
    "\"Hello\" == \"World\""
   ]
  },
  {
   "cell_type": "code",
   "execution_count": null,
   "id": "26c9b2f7",
   "metadata": {
    "slideshow": {
     "slide_type": "fragment"
    }
   },
   "outputs": [],
   "source": [
    "\"Hello\" != \"World\""
   ]
  },
  {
   "cell_type": "markdown",
   "id": "4e506985",
   "metadata": {
    "slideshow": {
     "slide_type": "slide"
    }
   },
   "source": [
    "### Conversión de tipos\n",
    "\n",
    "Conversión entre `int`, `float`, `bool` y `str` con funciones como `int()`, `float()`, `bool()`, `str()`."
   ]
  },
  {
   "cell_type": "code",
   "execution_count": null,
   "id": "ceb79ee0",
   "metadata": {
    "slideshow": {
     "slide_type": "subslide"
    }
   },
   "outputs": [],
   "source": [
    "\"I am \" + 26 + \" years old!\""
   ]
  },
  {
   "cell_type": "markdown",
   "id": "23de57eb",
   "metadata": {
    "slideshow": {
     "slide_type": "subslide"
    }
   },
   "source": [
    "¿Cómo interpretamos este error? Muchas veces aparece al **intentar concatenar** (`+`) un `str` con un `int`, lo cual no está permitido sin conversión explícita."
   ]
  },
  {
   "cell_type": "markdown",
   "id": "e641ced6",
   "metadata": {
    "slideshow": {
     "slide_type": "subslide"
    }
   },
   "source": [
    "1. `int` → `float`"
   ]
  },
  {
   "cell_type": "code",
   "execution_count": null,
   "id": "66e1fd6c",
   "metadata": {
    "slideshow": {
     "slide_type": "subslide"
    }
   },
   "outputs": [],
   "source": [
    "# Let's look at the int 1\n",
    "type(1)"
   ]
  },
  {
   "cell_type": "code",
   "execution_count": null,
   "id": "a8d3ef12",
   "metadata": {
    "slideshow": {
     "slide_type": "fragment"
    }
   },
   "outputs": [],
   "source": [
    "# Convert int: 1 to a float.\n",
    "float(1)"
   ]
  },
  {
   "cell_type": "code",
   "execution_count": null,
   "id": "b943f68e",
   "metadata": {
    "slideshow": {
     "slide_type": "fragment"
    }
   },
   "outputs": [],
   "source": [
    "# Confirm that float(1) is a float\n",
    "type(float(1))"
   ]
  },
  {
   "cell_type": "markdown",
   "id": "b3923fef",
   "metadata": {
    "slideshow": {
     "slide_type": "subslide"
    }
   },
   "source": [
    "2. `bool` → `int`"
   ]
  },
  {
   "cell_type": "code",
   "execution_count": null,
   "id": "5a50d683",
   "metadata": {
    "slideshow": {
     "slide_type": "fragment"
    }
   },
   "outputs": [],
   "source": [
    "# Let's look at True\n",
    "type(True)"
   ]
  },
  {
   "cell_type": "code",
   "execution_count": null,
   "id": "184769f7",
   "metadata": {
    "slideshow": {
     "slide_type": "fragment"
    }
   },
   "outputs": [],
   "source": [
    "# Convert True to int\n",
    "int(True)"
   ]
  },
  {
   "cell_type": "markdown",
   "id": "592b716a",
   "metadata": {
    "slideshow": {
     "slide_type": "fragment"
    }
   },
   "source": [
    "**Desafío:** ¿Qué error produce `2 ** 2 / int(False)` y por qué ocurre?"
   ]
  },
  {
   "cell_type": "markdown",
   "id": "e64ca234",
   "metadata": {
    "slideshow": {
     "slide_type": "subslide"
    }
   },
   "source": [
    "3. `str` → `int`"
   ]
  },
  {
   "cell_type": "code",
   "execution_count": null,
   "id": "92eca7a8",
   "metadata": {
    "slideshow": {
     "slide_type": "fragment"
    }
   },
   "outputs": [],
   "source": [
    "        # Look at the type of \"5\"\n",
    "type(\"5\")"
   ]
  },
  {
   "cell_type": "code",
   "execution_count": null,
   "id": "1933b204",
   "metadata": {
    "slideshow": {
     "slide_type": "fragment"
    }
   },
   "outputs": [],
   "source": [
    "# Convert \"5\" to int\n",
    "int(\"5\")"
   ]
  },
  {
   "cell_type": "code",
   "execution_count": null,
   "id": "906bb68a",
   "metadata": {
    "slideshow": {
     "slide_type": "fragment"
    }
   },
   "outputs": [],
   "source": [
    "# 1 no es lo mismo que \"1\"\n",
    "1 == \"1\""
   ]
  },
  {
   "cell_type": "code",
   "execution_count": null,
   "id": "016cc84e",
   "metadata": {
    "slideshow": {
     "slide_type": "fragment"
    }
   },
   "outputs": [],
   "source": [
    "# str(1) is equivalent to \"1\"\n",
    "1 == int(\"1\")"
   ]
  },
  {
   "cell_type": "markdown",
   "id": "a0971404",
   "metadata": {
    "slideshow": {
     "slide_type": "fragment"
    }
   },
   "source": [
    "**Desafío:** Modifica el código anterior para que no lance `TypeError`."
   ]
  },
  {
   "cell_type": "markdown",
   "id": "9de52f9f",
   "metadata": {
    "slideshow": {
     "slide_type": "subslide"
    }
   },
   "source": [
    "#### Comparación entre tipos\n",
    "\n",
    "Comparar tipos distintos puede dar resultados inesperados o errores; convierte explícitamente cuando sea necesario."
   ]
  },
  {
   "cell_type": "code",
   "execution_count": null,
   "id": "e7bebe01",
   "metadata": {
    "slideshow": {
     "slide_type": "fragment"
    }
   },
   "outputs": [],
   "source": [
    "# 1 no es equivalente a \"Hello world!\"\n",
    "1 != \"Hello world!\""
   ]
  },
  {
   "cell_type": "code",
   "execution_count": null,
   "id": "32b7bd26",
   "metadata": {
    "slideshow": {
     "slide_type": "fragment"
    }
   },
   "outputs": [],
   "source": [
    "# Ambos lados generan booleanos que pueden compararse con \"and\"\n",
    "\"Hello\" != \"world\" and 1 < 2"
   ]
  },
  {
   "cell_type": "markdown",
   "id": "ba3bc067",
   "metadata": {
    "slideshow": {
     "slide_type": "slide"
    }
   },
   "source": [
    "### Variables\n",
    "\n",
    "Una **variable** es un nombre que referencia (apunta a) un objeto en memoria."
   ]
  },
  {
   "cell_type": "code",
   "execution_count": null,
   "id": "49db98de",
   "metadata": {
    "slideshow": {
     "slide_type": "fragment"
    }
   },
   "outputs": [],
   "source": [
    "a = 1"
   ]
  },
  {
   "cell_type": "markdown",
   "id": "d62bfa75",
   "metadata": {
    "slideshow": {
     "slide_type": "subslide"
    }
   },
   "source": [
    "Como ya hemos creado la variable `a` para guardar el entero `1`, podemos operar directamente con `a`."
   ]
  },
  {
   "cell_type": "code",
   "execution_count": null,
   "id": "b3d10fcb",
   "metadata": {
    "slideshow": {
     "slide_type": "fragment"
    }
   },
   "outputs": [],
   "source": [
    "# Usa `a` para aritmética\n",
    "a + 2"
   ]
  },
  {
   "cell_type": "code",
   "execution_count": null,
   "id": "533fb129",
   "metadata": {
    "slideshow": {
     "slide_type": "fragment"
    }
   },
   "outputs": [],
   "source": [
    "# Usa `a` para comparaciones lógicas\n",
    "a != \"Hello world!\""
   ]
  },
  {
   "cell_type": "markdown",
   "id": "b9d7d02c",
   "metadata": {
    "slideshow": {
     "slide_type": "subslide"
    }
   },
   "source": [
    "En Python, cualquier variable puede referenciar cualquier objeto, incluidos los resultados de operaciones."
   ]
  },
  {
   "cell_type": "code",
   "execution_count": null,
   "id": "09872468",
   "metadata": {
    "slideshow": {
     "slide_type": "fragment"
    }
   },
   "outputs": [],
   "source": [
    "result_1 = 1 + 2 < 3  # Variable to reference numeric comparison\n",
    "result_2 = \"Hello \" + \"world\" == \"Hello world\"  # Variable to reference string comparison"
   ]
  },
  {
   "cell_type": "code",
   "execution_count": null,
   "id": "9653dee5",
   "metadata": {
    "slideshow": {
     "slide_type": "fragment"
    }
   },
   "outputs": [],
   "source": [
    "result_1 or result_2"
   ]
  },
  {
   "cell_type": "markdown",
   "id": "abf6f6e9",
   "metadata": {
    "slideshow": {
     "slide_type": "slide"
    }
   },
   "source": [
    "#### `is` y `==`\n",
    "\n",
    "`==` comprueba **igualdad de valor**; `is` comprueba **identidad** (si es el **mismo objeto**)."
   ]
  },
  {
   "cell_type": "markdown",
   "id": "7af8632b",
   "metadata": {
    "slideshow": {
     "slide_type": "subslide"
    }
   },
   "source": [
    "Por ejemplo, si asignamos el número `1` a `a` y a `b`, ambos referencian el **mismo** objeto inmutable para ciertos rangos pequeños (internamiento de enteros), por lo que `a is b` puede ser `True`."
   ]
  },
  {
   "cell_type": "code",
   "execution_count": null,
   "id": "9e6d4400",
   "metadata": {
    "slideshow": {
     "slide_type": "fragment"
    }
   },
   "outputs": [],
   "source": [
    "a = 257\n",
    "b = a"
   ]
  },
  {
   "cell_type": "code",
   "execution_count": null,
   "id": "1f1fd1d3",
   "metadata": {
    "slideshow": {
     "slide_type": "fragment"
    }
   },
   "outputs": [],
   "source": [
    "a == b"
   ]
  },
  {
   "cell_type": "code",
   "execution_count": null,
   "id": "057efb1a",
   "metadata": {
    "slideshow": {
     "slide_type": "fragment"
    }
   },
   "outputs": [],
   "source": [
    "a is b"
   ]
  },
  {
   "cell_type": "markdown",
   "id": "714c354f",
   "metadata": {
    "slideshow": {
     "slide_type": "subslide"
    }
   },
   "source": [
    "En cambio, si asignamos `a` y `b` por separado a `257`, pueden referirse a **objetos distintos**; `a == b` será `True`, pero `a is b` será `False`."
   ]
  },
  {
   "cell_type": "code",
   "execution_count": null,
   "id": "42a930a1",
   "metadata": {
    "slideshow": {
     "slide_type": "fragment"
    }
   },
   "outputs": [],
   "source": [
    "a = 257\n",
    "b = 257"
   ]
  },
  {
   "cell_type": "code",
   "execution_count": null,
   "id": "21fd5a4e",
   "metadata": {
    "slideshow": {
     "slide_type": "fragment"
    }
   },
   "outputs": [],
   "source": [
    "a == b"
   ]
  },
  {
   "cell_type": "code",
   "execution_count": null,
   "id": "1449d29a",
   "metadata": {
    "slideshow": {
     "slide_type": "fragment"
    }
   },
   "outputs": [],
   "source": [
    "a is b"
   ]
  },
  {
   "cell_type": "markdown",
   "id": "256d96dd",
   "metadata": {
    "slideshow": {
     "slide_type": "skip"
    }
   },
   "source": [
    "**Desafío EXTREMO:**"
   ]
  },
  {
   "cell_type": "markdown",
   "id": "efb80396",
   "metadata": {
    "slideshow": {
     "slide_type": "slide"
    }
   },
   "source": [
    "### Python intermedio"
   ]
  },
  {
   "cell_type": "markdown",
   "id": "8fa6f35e",
   "metadata": {
    "slideshow": {
     "slide_type": "slide"
    }
   },
   "source": [
    "#### Listas\n",
    "\n",
    "Estructuras ordenadas y mutables. Se crean con `[]` y pueden contener objetos de cualquier tipo."
   ]
  },
  {
   "cell_type": "code",
   "execution_count": null,
   "id": "7a1bbec4",
   "metadata": {
    "slideshow": {
     "slide_type": "fragment"
    }
   },
   "outputs": [],
   "source": [
    "# Lista de cadenas\n",
    "words = [\"Hello\", \"World\"]\n",
    "words"
   ]
  },
  {
   "cell_type": "code",
   "execution_count": null,
   "id": "eb54f967",
   "metadata": {
    "slideshow": {
     "slide_type": "fragment"
    }
   },
   "outputs": [],
   "source": [
    "# Lista de números\n",
    "numbers = [1, 2, 3]\n",
    "numbers"
   ]
  },
  {
   "cell_type": "code",
   "execution_count": null,
   "id": "b54a2fce",
   "metadata": {
    "slideshow": {
     "slide_type": "subslide"
    }
   },
   "outputs": [],
   "source": [
    "# Lista de booleanos\n",
    "bools = [True, False, False]\n",
    "bools"
   ]
  },
  {
   "cell_type": "code",
   "execution_count": null,
   "id": "74dab2db",
   "metadata": {
    "slideshow": {
     "slide_type": "fragment"
    }
   },
   "outputs": [],
   "source": [
    "# Mixed list\n",
    "mix = [1, True, \"Hello\"]\n",
    "mix"
   ]
  },
  {
   "cell_type": "markdown",
   "id": "b28df889",
   "metadata": {
    "slideshow": {
     "slide_type": "slide"
    }
   },
   "source": [
    "##### Métodos de lista\n",
    "\n",
    "Métodos comunes: `.append()`, `.insert()`, `.extend()`, `.pop()`, `.remove()`, `.sort()`, `.reverse()`."
   ]
  },
  {
   "cell_type": "markdown",
   "id": "45bdb932",
   "metadata": {
    "slideshow": {
     "slide_type": "subslide"
    }
   },
   "source": [
    "##### Construcción"
   ]
  },
  {
   "cell_type": "code",
   "execution_count": null,
   "id": "887d5e22",
   "metadata": {
    "slideshow": {
     "slide_type": "fragment"
    }
   },
   "outputs": [],
   "source": [
    "# Como otros objetos de Python, existe una función constructora para listas\n",
    "my_list = list()\n",
    "my_list"
   ]
  },
  {
   "cell_type": "markdown",
   "id": "cf32675e",
   "metadata": {
    "slideshow": {
     "slide_type": "subslide"
    }
   },
   "source": [
    "Más comúnmente, las listas se definen con `[]` indicando los elementos a incluir:"
   ]
  },
  {
   "cell_type": "code",
   "execution_count": null,
   "id": "3f1c922d",
   "metadata": {
    "slideshow": {
     "slide_type": "fragment"
    }
   },
   "outputs": [],
   "source": [
    "my_list = [1, 2, 3, 'a', 'b']\n",
    "my_list"
   ]
  },
  {
   "cell_type": "code",
   "execution_count": null,
   "id": "2e13aeb6",
   "metadata": {
    "slideshow": {
     "slide_type": "fragment"
    }
   },
   "outputs": [],
   "source": [
    "# Las listas incluso pueden contener listas\n",
    "lst_list = [1, 2, 3, [4, 5, 6]]\n",
    "print(lst_list)"
   ]
  },
  {
   "cell_type": "markdown",
   "id": "bd44afa5",
   "metadata": {
    "slideshow": {
     "slide_type": "subslide"
    }
   },
   "source": [
    "##### Índices"
   ]
  },
  {
   "cell_type": "code",
   "execution_count": null,
   "id": "26c8a802",
   "metadata": {
    "slideshow": {
     "slide_type": "fragment"
    }
   },
   "outputs": [],
   "source": [
    "my_list = [1, 2, 3, 'a', 'b']"
   ]
  },
  {
   "cell_type": "code",
   "execution_count": null,
   "id": "a1f2f906",
   "metadata": {
    "slideshow": {
     "slide_type": "fragment"
    }
   },
   "outputs": [],
   "source": [
    "# Retrieve first element from list\n",
    "my_list[0]"
   ]
  },
  {
   "cell_type": "code",
   "execution_count": null,
   "id": "34d1615a",
   "metadata": {
    "slideshow": {
     "slide_type": "fragment"
    }
   },
   "outputs": [],
   "source": [
    "# Retrieve fourth element from list\n",
    "my_list[3]"
   ]
  },
  {
   "cell_type": "code",
   "execution_count": null,
   "id": "7f89dfe3",
   "metadata": {
    "slideshow": {
     "slide_type": "fragment"
    }
   },
   "outputs": [],
   "source": [
    "# Retrieve the last element from list\n",
    "my_list[-1]"
   ]
  },
  {
   "cell_type": "markdown",
   "id": "2248cd59",
   "metadata": {
    "slideshow": {
     "slide_type": "subslide"
    }
   },
   "source": [
    "Los índices también pueden accederse con *slice* (`inicio:fin:paso`). El paso por defecto es `1`."
   ]
  },
  {
   "cell_type": "code",
   "execution_count": null,
   "id": "abfd3b94",
   "metadata": {
    "slideshow": {
     "slide_type": "fragment"
    }
   },
   "outputs": [],
   "source": [
    "# Retrieve the values from the 2nd to the 5th element\n",
    "my_list[1:4]"
   ]
  },
  {
   "cell_type": "code",
   "execution_count": null,
   "id": "46491035",
   "metadata": {
    "slideshow": {
     "slide_type": "fragment"
    }
   },
   "outputs": [],
   "source": [
    "# Retrieve all values from the 2nd element to the end of the list\n",
    "my_list[1:]"
   ]
  },
  {
   "cell_type": "code",
   "execution_count": null,
   "id": "111d6beb",
   "metadata": {
    "slideshow": {
     "slide_type": "subslide"
    }
   },
   "outputs": [],
   "source": [
    "# Retrieve all values until the 4th element\n",
    "my_list[:3]"
   ]
  },
  {
   "cell_type": "code",
   "execution_count": null,
   "id": "64d3cfa0",
   "metadata": {
    "slideshow": {
     "slide_type": "fragment"
    }
   },
   "outputs": [],
   "source": [
    "# El paso permite especificar los intervalos\n",
    "numbers = [1, 2, 3, 4, 5, 6, 7, 8, 9, 10]\n",
    "numbers[2:9:2]  # From 3rd element to 10th element, in steps of 2"
   ]
  },
  {
   "cell_type": "code",
   "execution_count": null,
   "id": "caf51a24",
   "metadata": {
    "slideshow": {
     "slide_type": "fragment"
    }
   },
   "outputs": [],
   "source": [
    "# También puedes usar pasos para invertir el orden de la lista\n",
    "numbers[9:1:-1]  "
   ]
  },
  {
   "cell_type": "code",
   "execution_count": null,
   "id": "d48d2f47",
   "metadata": {
    "slideshow": {
     "slide_type": "fragment"
    }
   },
   "outputs": [],
   "source": [
    "# También puedes obtener elementos de listas anidadas\n",
    "nested_list = [1, 2, 3, [\"a\", \"b\", \"c\"]]\n",
    "nested_list[3]"
   ]
  },
  {
   "cell_type": "code",
   "execution_count": null,
   "id": "195d0bbf",
   "metadata": {
    "slideshow": {
     "slide_type": "fragment"
    }
   },
   "outputs": [],
   "source": [
    "nested_list[3][0]"
   ]
  },
  {
   "cell_type": "code",
   "execution_count": null,
   "id": "f63a90a4",
   "metadata": {
    "slideshow": {
     "slide_type": "fragment"
    }
   },
   "outputs": [],
   "source": [
    "lst = ['a', 'b', 4, [True, 29, \"Hello world!\"], False, 1, int(False), bool(\"True\")]\n",
    "lst[::-1][4][::-1][0]"
   ]
  },
  {
   "cell_type": "markdown",
   "id": "fb6e7d52",
   "metadata": {
    "slideshow": {
     "slide_type": "subslide"
    }
   },
   "source": [
    "##### Añadir (`append`)"
   ]
  },
  {
   "cell_type": "code",
   "execution_count": null,
   "id": "ef970f8d",
   "metadata": {
    "slideshow": {
     "slide_type": "fragment"
    }
   },
   "outputs": [],
   "source": [
    "my_list = [1, 2, 3, 'a', 'b']\n",
    "my_list"
   ]
  },
  {
   "cell_type": "code",
   "execution_count": null,
   "id": "163c1823",
   "metadata": {
    "slideshow": {
     "slide_type": "fragment"
    }
   },
   "outputs": [],
   "source": [
    "# Añade 1 a una lista\n",
    "my_list.append(1)\n",
    "my_list"
   ]
  },
  {
   "cell_type": "code",
   "execution_count": null,
   "id": "2b80196c",
   "metadata": {
    "slideshow": {
     "slide_type": "fragment"
    }
   },
   "outputs": [],
   "source": [
    "# NOTE: This overwrites the list object. \n",
    "my_list.append(2)\n",
    "my_list.append(\"a\")\n",
    "my_list"
   ]
  },
  {
   "cell_type": "code",
   "execution_count": null,
   "id": "0a45dc3a",
   "metadata": {
    "slideshow": {
     "slide_type": "fragment"
    }
   },
   "outputs": [],
   "source": [
    "# NOTE: References to the my_list object will also be modified!\n",
    "my_list = [1, 2, 3, 'a', 'b']\n",
    "my_list_2 = my_list\n",
    "\n",
    "my_list.append(\"Added :)\")\n",
    "my_list"
   ]
  },
  {
   "cell_type": "code",
   "execution_count": null,
   "id": "e142755f",
   "metadata": {
    "slideshow": {
     "slide_type": "fragment"
    }
   },
   "outputs": [],
   "source": [
    "my_list_2"
   ]
  },
  {
   "cell_type": "markdown",
   "id": "66c78924",
   "metadata": {
    "slideshow": {
     "slide_type": "subslide"
    }
   },
   "source": [
    "##### Longitud (`len`)"
   ]
  },
  {
   "cell_type": "code",
   "execution_count": null,
   "id": "0871e2cf",
   "metadata": {
    "slideshow": {
     "slide_type": "fragment"
    }
   },
   "outputs": [],
   "source": [
    "len(my_list)"
   ]
  },
  {
   "cell_type": "markdown",
   "id": "26765d4b",
   "metadata": {
    "slideshow": {
     "slide_type": "subslide"
    }
   },
   "source": [
    "##### Ordenación (`sort`)"
   ]
  },
  {
   "cell_type": "code",
   "execution_count": null,
   "id": "fc98733d",
   "metadata": {
    "slideshow": {
     "slide_type": "fragment"
    }
   },
   "outputs": [],
   "source": [
    "my_list2 = [1, 2, 5, 3]\n",
    "my_list2.sort()\n",
    "print(my_list2)"
   ]
  },
  {
   "cell_type": "markdown",
   "id": "fcb94078",
   "metadata": {
    "slideshow": {
     "slide_type": "slide"
    }
   },
   "source": [
    "##### Pertenencia (`in`)"
   ]
  },
  {
   "cell_type": "code",
   "execution_count": null,
   "id": "46f1e45d",
   "metadata": {
    "slideshow": {
     "slide_type": "fragment"
    }
   },
   "outputs": [],
   "source": [
    "my_lst = [\"Hello world!\", 200, int(\"1\"), [True, False, [1, 0, bool(0)]], 2**4, \"This is a list!\", 2+2j]\n",
    "my_lst"
   ]
  },
  {
   "cell_type": "code",
   "execution_count": null,
   "id": "2f89217a",
   "metadata": {
    "slideshow": {
     "slide_type": "fragment"
    }
   },
   "outputs": [],
   "source": [
    "# ¿200 está dentro de my_lst?\n",
    "200 in my_lst"
   ]
  },
  {
   "cell_type": "code",
   "execution_count": null,
   "id": "5c09e401",
   "metadata": {
    "slideshow": {
     "slide_type": "fragment"
    }
   },
   "outputs": [],
   "source": [
    "# \"Hello list!\" está dentro de my_lst\n",
    "\"Hello list!\" in my_lst"
   ]
  },
  {
   "cell_type": "markdown",
   "id": "5ba4591b",
   "metadata": {
    "slideshow": {
     "slide_type": "slide"
    }
   },
   "source": [
    "##### Rango (`range`)"
   ]
  },
  {
   "cell_type": "code",
   "execution_count": null,
   "id": "757040eb",
   "metadata": {
    "slideshow": {
     "slide_type": "fragment"
    }
   },
   "outputs": [],
   "source": [
    "range(0, 100)"
   ]
  },
  {
   "cell_type": "code",
   "execution_count": null,
   "id": "03a3d925",
   "metadata": {
    "slideshow": {
     "slide_type": "fragment"
    }
   },
   "outputs": [],
   "source": [
    "range(10, 20, 3)"
   ]
  },
  {
   "cell_type": "code",
   "execution_count": null,
   "id": "0bb63f0d",
   "metadata": {
    "slideshow": {
     "slide_type": "fragment"
    }
   },
   "outputs": [],
   "source": [
    "20 in range(0, 100)"
   ]
  },
  {
   "cell_type": "markdown",
   "id": "4ff89c38",
   "metadata": {
    "slideshow": {
     "slide_type": "fragment"
    }
   },
   "source": [
    "Los `range` pueden convertirse fácilmente en `list`. **Nota**: no incluyen el valor final."
   ]
  },
  {
   "cell_type": "code",
   "execution_count": null,
   "id": "b2d6c70d",
   "metadata": {
    "slideshow": {
     "slide_type": "fragment"
    }
   },
   "outputs": [],
   "source": [
    "list(range(0, 10, 1))"
   ]
  },
  {
   "cell_type": "code",
   "execution_count": null,
   "id": "54d148e6",
   "metadata": {
    "slideshow": {
     "slide_type": "fragment"
    }
   },
   "outputs": [],
   "source": [
    "list(range(20, 30, 2))"
   ]
  },
  {
   "cell_type": "code",
   "execution_count": null,
   "id": "e5b79a37",
   "metadata": {
    "slideshow": {
     "slide_type": "fragment"
    }
   },
   "outputs": [],
   "source": [
    "list(range(10))"
   ]
  },
  {
   "cell_type": "markdown",
   "id": "68e9a537",
   "metadata": {
    "slideshow": {
     "slide_type": "slide"
    }
   },
   "source": [
    "##### Conversión cadena ↔ lista"
   ]
  },
  {
   "cell_type": "code",
   "execution_count": null,
   "id": "66e31e79",
   "metadata": {
    "slideshow": {
     "slide_type": "fragment"
    }
   },
   "outputs": [],
   "source": [
    "my_str = \"Hello world!\"\n",
    "my_str[4]"
   ]
  },
  {
   "cell_type": "code",
   "execution_count": null,
   "id": "1e09b176",
   "metadata": {
    "slideshow": {
     "slide_type": "fragment"
    }
   },
   "outputs": [],
   "source": [
    "my_str[3::2]"
   ]
  },
  {
   "cell_type": "markdown",
   "id": "f39d3c2c",
   "metadata": {
    "slideshow": {
     "slide_type": "subslide"
    }
   },
   "source": [
    "Además, las cadenas con un *separador* pueden dividirse con `.split(sep)`, útil al analizar texto."
   ]
  },
  {
   "cell_type": "code",
   "execution_count": null,
   "id": "7dcdddf1",
   "metadata": {
    "slideshow": {
     "slide_type": "-"
    }
   },
   "outputs": [],
   "source": [
    "sentence = \"It was a dark and stormy night.\"\n",
    "sentence.split(sep=\" \")"
   ]
  },
  {
   "cell_type": "markdown",
   "id": "5ee61a27",
   "metadata": {
    "slideshow": {
     "slide_type": "fragment"
    }
   },
   "source": [
    "También puedes unir una lista en una cadena con `sep.join(lista)`."
   ]
  },
  {
   "cell_type": "code",
   "execution_count": null,
   "id": "216ce6d3",
   "metadata": {
    "slideshow": {
     "slide_type": "-"
    }
   },
   "outputs": [],
   "source": [
    "words = ['It', 'was', 'a', 'dark', 'and', 'stormy', 'night.']\n",
    "\" \".join(words)"
   ]
  },
  {
   "cell_type": "markdown",
   "id": "dc2652cb",
   "metadata": {
    "slideshow": {
     "slide_type": "-"
    }
   },
   "source": [
    "¡Cualquier `str` puede usar `.join()`!"
   ]
  },
  {
   "cell_type": "code",
   "execution_count": null,
   "id": "38cfa7ac",
   "metadata": {
    "slideshow": {
     "slide_type": "-"
    }
   },
   "outputs": [],
   "source": [
    "\"(-_-)\".join(words)"
   ]
  },
  {
   "cell_type": "markdown",
   "id": "c93c83d0",
   "metadata": {
    "slideshow": {
     "slide_type": "slide"
    }
   },
   "source": [
    "#### Diccionarios\n",
    "\n",
    "Estructuras de pares clave–valor, mutables y no ordenadas (hasta Python 3.6)."
   ]
  },
  {
   "cell_type": "code",
   "execution_count": null,
   "id": "0a06c46e",
   "metadata": {},
   "outputs": [],
   "source": [
    "# Create a dict using key-value pairs between {}\n",
    "my_dict = {\n",
    "    'hello': 1\n",
    "}\n",
    "my_dict"
   ]
  },
  {
   "cell_type": "code",
   "execution_count": null,
   "id": "8d2e63fa",
   "metadata": {},
   "outputs": [],
   "source": [
    "# Accede al valor en un diccionario usando sus claves\n",
    "my_dict['hello']"
   ]
  },
  {
   "cell_type": "code",
   "execution_count": null,
   "id": "f0e9e5f4",
   "metadata": {
    "slideshow": {
     "slide_type": "subslide"
    }
   },
   "outputs": [],
   "source": [
    "# Dictionaries can have numerical, string, and boolean keys. They can hold any number of arbitrary object types.\n",
    "my_dict = {\n",
    "    'hello': 1,\n",
    "    'world': True,\n",
    "    123: [1, 2, [\"Hello world\"]],\n",
    "    True: {\n",
    "        \"New\": True\n",
    "    }\n",
    "}\n",
    "my_dict"
   ]
  },
  {
   "cell_type": "code",
   "execution_count": null,
   "id": "3b405c09",
   "metadata": {
    "slideshow": {
     "slide_type": "fragment"
    }
   },
   "outputs": [],
   "source": [
    "my_dict[True]"
   ]
  },
  {
   "cell_type": "markdown",
   "id": "25a074b7",
   "metadata": {
    "slideshow": {
     "slide_type": "slide"
    }
   },
   "source": [
    "### Módulos y paquetes"
   ]
  },
  {
   "cell_type": "markdown",
   "id": "2dd5acab",
   "metadata": {
    "slideshow": {
     "slide_type": "slide"
    }
   },
   "source": [
    "#### Módulos\n",
    "\n",
    "Un módulo agrupa funciones, clases y variables. Se importa con `import nombre_modulo`."
   ]
  },
  {
   "cell_type": "code",
   "execution_count": null,
   "id": "18d85680",
   "metadata": {},
   "outputs": [],
   "source": [
    "import builtins"
   ]
  },
  {
   "cell_type": "markdown",
   "id": "85b49f7f",
   "metadata": {},
   "source": [
    "`builtins` es un módulo de Python con funciones básicas. `type(builtins)` devuelve `module`."
   ]
  },
  {
   "cell_type": "code",
   "execution_count": null,
   "id": "4a6d980b",
   "metadata": {},
   "outputs": [],
   "source": [
    "type(builtins)"
   ]
  },
  {
   "cell_type": "markdown",
   "id": "27cd74bc",
   "metadata": {
    "slideshow": {
     "slide_type": "subslide"
    }
   },
   "source": [
    "Si importamos `builtins` como módulo, podemos usar sus funciones mediante la notación de punto:"
   ]
  },
  {
   "cell_type": "code",
   "execution_count": null,
   "id": "478eabe4",
   "metadata": {},
   "outputs": [],
   "source": [
    "builtins.print(\"Hello world!\")"
   ]
  },
  {
   "cell_type": "markdown",
   "id": "9f9a7256",
   "metadata": {},
   "source": [
    "Para abreviar, podemos importar `builtins` con un alias (variable) más corto:"
   ]
  },
  {
   "cell_type": "code",
   "execution_count": null,
   "id": "444e41e7",
   "metadata": {},
   "outputs": [],
   "source": [
    "import builtins as btns\n",
    "\n",
    "btns.print(\"Hello world!\")"
   ]
  },
  {
   "cell_type": "markdown",
   "id": "6c9b705a",
   "metadata": {
    "slideshow": {
     "slide_type": "subslide"
    }
   },
   "source": [
    "A veces solo queremos algunas funciones: podemos importarlas directamente con `from ... import ...`."
   ]
  },
  {
   "cell_type": "code",
   "execution_count": null,
   "id": "f70ffa83",
   "metadata": {},
   "outputs": [],
   "source": [
    "from builtins import print\n",
    "\n",
    "print(\"Hello world!\")"
   ]
  },
  {
   "cell_type": "markdown",
   "id": "a8fb0042",
   "metadata": {},
   "source": [
    "Incluso podemos asignar una función a una variable:"
   ]
  },
  {
   "cell_type": "code",
   "execution_count": null,
   "id": "49657b41",
   "metadata": {},
   "outputs": [],
   "source": [
    "from builtins import print as pnt\n",
    "\n",
    "pnt(\"Hello world!\")"
   ]
  },
  {
   "cell_type": "markdown",
   "id": "0da2565d",
   "metadata": {
    "slideshow": {
     "slide_type": "slide"
    }
   },
   "source": [
    "##### Paquetes e interfaz de línea de comandos (CLI) en Jupyter"
   ]
  },
  {
   "cell_type": "code",
   "execution_count": null,
   "id": "e8ba7c1d",
   "metadata": {
    "slideshow": {
     "slide_type": "fragment"
    }
   },
   "outputs": [],
   "source": [
    "!echo \"Hello world!\""
   ]
  },
  {
   "cell_type": "markdown",
   "id": "b218daa8",
   "metadata": {
    "slideshow": {
     "slide_type": "subslide"
    }
   },
   "source": [
    "Esto equivale a abrir la consola del sistema y escribir:"
   ]
  },
  {
   "cell_type": "code",
   "execution_count": null,
   "id": "1e8d7950",
   "metadata": {},
   "outputs": [],
   "source": [
    "%pip install numpy"
   ]
  },
  {
   "cell_type": "markdown",
   "id": "80b810a0",
   "metadata": {
    "slideshow": {
     "slide_type": "slide"
    }
   },
   "source": [
    "#### Arreglos de Numpy (`ndarray`)\n",
    "\n",
    "`NumPy` proporciona el tipo `ndarray` para vectores y matrices multidimensionales."
   ]
  },
  {
   "cell_type": "code",
   "execution_count": null,
   "id": "2030c7ef",
   "metadata": {},
   "outputs": [],
   "source": [
    "import numpy as np"
   ]
  },
  {
   "cell_type": "code",
   "execution_count": null,
   "id": "11698828",
   "metadata": {},
   "outputs": [],
   "source": [
    "type(np)"
   ]
  },
  {
   "cell_type": "markdown",
   "id": "5f54f067",
   "metadata": {
    "slideshow": {
     "slide_type": "subslide"
    }
   },
   "source": [
    "Como otros objetos, tienen propiedades y métodos. Usamos `np.array()` para construir un `ndarray`:"
   ]
  },
  {
   "cell_type": "code",
   "execution_count": null,
   "id": "d6a6bfc3",
   "metadata": {},
   "outputs": [],
   "source": [
    "# Create a 1-dimensional (1d) array holding the values 1, 2, and 3\n",
    "np.array([1, 2, 3])"
   ]
  },
  {
   "cell_type": "markdown",
   "id": "e931f3e0",
   "metadata": {
    "slideshow": {
     "slide_type": "subslide"
    }
   },
   "source": [
    "Podemos crear arreglos 2D a partir de listas de listas:"
   ]
  },
  {
   "cell_type": "code",
   "execution_count": null,
   "id": "3a436970",
   "metadata": {},
   "outputs": [],
   "source": [
    "# Construct a 2d array\n",
    "numpy.array([\n",
    "    [1, 2, 3],\n",
    "    [4, 5, 6]\n",
    "])"
   ]
  },
  {
   "cell_type": "markdown",
   "id": "ebc147f5",
   "metadata": {
    "slideshow": {
     "slide_type": "subslide"
    }
   },
   "source": [
    "También podemos crear arreglos 3D (y de mayor dimensión) usando listas de listas de listas:"
   ]
  },
  {
   "cell_type": "code",
   "execution_count": null,
   "id": "190ca2c8",
   "metadata": {},
   "outputs": [],
   "source": [
    "# Construct a 3d array\n",
    "numpy.array([\n",
    "    [\n",
    "        [1, 2, 3],\n",
    "        [4, 5, 6]\n",
    "    ],\n",
    "    [\n",
    "        [7, 8, 9],\n",
    "        [10, 11, 12]\n",
    "    ]\n",
    "])"
   ]
  },
  {
   "cell_type": "markdown",
   "id": "8b5f8435",
   "metadata": {
    "slideshow": {
     "slide_type": "slide"
    }
   },
   "source": [
    "##### Métodos de `ndarray`"
   ]
  },
  {
   "cell_type": "markdown",
   "id": "bf397bfb",
   "metadata": {
    "slideshow": {
     "slide_type": "subslide"
    }
   },
   "source": [
    "##### Creación"
   ]
  },
  {
   "cell_type": "code",
   "execution_count": null,
   "id": "2638649c",
   "metadata": {},
   "outputs": [],
   "source": [
    "my_arr = np.array([\n",
    "    [True, False, False],\n",
    "    [False, True, False]\n",
    "])\n",
    "my_arr"
   ]
  },
  {
   "cell_type": "code",
   "execution_count": null,
   "id": "18cc1e8f",
   "metadata": {},
   "outputs": [],
   "source": [
    "type(my_arr)"
   ]
  },
  {
   "cell_type": "markdown",
   "id": "aa7da280",
   "metadata": {
    "slideshow": {
     "slide_type": "subslide"
    }
   },
   "source": [
    "También se pueden crear arreglos con `np.arange()`, que genera secuencias hasta un máximo dado:"
   ]
  },
  {
   "cell_type": "code",
   "execution_count": null,
   "id": "ed83ce4f",
   "metadata": {},
   "outputs": [],
   "source": [
    "# Create a 1d integer array from 0-10\n",
    "my_arr = np.arange(10)\n",
    "my_arr"
   ]
  },
  {
   "cell_type": "code",
   "execution_count": null,
   "id": "8be2a7d7",
   "metadata": {},
   "outputs": [],
   "source": [
    "# Create a 1d integer array from 10-20\n",
    "my_arr = np.arange(10, 20)\n",
    "my_arr"
   ]
  },
  {
   "cell_type": "code",
   "execution_count": null,
   "id": "6b4bbbb8",
   "metadata": {},
   "outputs": [],
   "source": [
    "# Create a 1d integer array from 10-100 in steps of 5\n",
    "my_arr = np.arange(10, 100, 5)\n",
    "my_arr"
   ]
  },
  {
   "cell_type": "code",
   "execution_count": null,
   "id": "363a03ef",
   "metadata": {},
   "outputs": [],
   "source": [
    "# Create a 1d float array from 0.0-10.0\n",
    "my_arr = np.arange(10.0)\n",
    "my_arr"
   ]
  },
  {
   "cell_type": "markdown",
   "id": "7a60ab1b",
   "metadata": {
    "slideshow": {
     "slide_type": "subslide"
    }
   },
   "source": [
    "##### Forma y dimensiones"
   ]
  },
  {
   "cell_type": "code",
   "execution_count": null,
   "id": "23d85d42",
   "metadata": {},
   "outputs": [],
   "source": [
    "# Construct 2d array\n",
    "my_arr = np.array([\n",
    "    [True, False, False],\n",
    "    [False, True, False]\n",
    "])"
   ]
  },
  {
   "cell_type": "code",
   "execution_count": null,
   "id": "bdf26103",
   "metadata": {
    "slideshow": {
     "slide_type": "subslide"
    }
   },
   "outputs": [],
   "source": [
    "# Obtén el número de dimensiones\n",
    "my_arr.ndim"
   ]
  },
  {
   "cell_type": "markdown",
   "id": "d22450ff",
   "metadata": {
    "slideshow": {
     "slide_type": "fragment"
    }
   },
   "source": [
    "**Nota**: La propiedad `shape` sigue el formato `(dimN, ..., dim2, dim1)`."
   ]
  },
  {
   "cell_type": "code",
   "execution_count": null,
   "id": "ab897a6e",
   "metadata": {
    "slideshow": {
     "slide_type": "fragment"
    }
   },
   "outputs": [],
   "source": [
    "# Obtén la forma (número de filas (dim 2) y columnas (dim 1))\n",
    "my_arr.shape"
   ]
  },
  {
   "cell_type": "markdown",
   "id": "e8f93c17",
   "metadata": {
    "slideshow": {
     "slide_type": "subslide"
    }
   },
   "source": [
    "Veamos esto con un arreglo 3D:"
   ]
  },
  {
   "cell_type": "code",
   "execution_count": null,
   "id": "5574d8dc",
   "metadata": {},
   "outputs": [],
   "source": [
    "# Construct a 3d array\n",
    "arr_3d = np.array([\n",
    "    [\n",
    "        [1, 2, 3],\n",
    "        [4, 5, 6]\n",
    "    ],\n",
    "    [\n",
    "        [7, 8, 9],\n",
    "        [10, 11, 12]\n",
    "    ]\n",
    "])\n",
    "\n",
    "# Obtén la forma (número de arrays 2D (\"pilas\"), filas y columnas)\n",
    "arr_3d.shape"
   ]
  },
  {
   "cell_type": "markdown",
   "id": "29269ff0",
   "metadata": {
    "slideshow": {
     "slide_type": "subslide"
    }
   },
   "source": [
    "Finally, the shape of an array can be altered using the `reshape()` method. This is particularly useful for quickly constructing arrays of a desired shape:"
   ]
  },
  {
   "cell_type": "code",
   "execution_count": null,
   "id": "7509dd8b",
   "metadata": {},
   "outputs": [],
   "source": [
    "my_arr = np.arange(15)\n",
    "my_arr = my_arr.reshape((5, 3))  # Note that this does NOT overwrite the my_arr object until you re-assign using '='"
   ]
  },
  {
   "cell_type": "code",
   "execution_count": null,
   "id": "8fe16716",
   "metadata": {},
   "outputs": [],
   "source": [
    "my_arr"
   ]
  },
  {
   "cell_type": "markdown",
   "id": "fdc30339",
   "metadata": {
    "slideshow": {
     "slide_type": "fragment"
    }
   },
   "source": [
    "Lo anterior puede simplificarse en **una** línea:"
   ]
  },
  {
   "cell_type": "code",
   "execution_count": null,
   "id": "34e941b8",
   "metadata": {},
   "outputs": [],
   "source": [
    "my_arr = np.arange(15).reshape((5, 3))\n",
    "my_arr"
   ]
  },
  {
   "cell_type": "markdown",
   "id": "39225e9a",
   "metadata": {
    "slideshow": {
     "slide_type": "skip"
    }
   },
   "source": [
    "**Desafío**: crea un arreglo con los números pares del 2 al 13 en formato 2D con dos filas y tres columnas."
   ]
  },
  {
   "cell_type": "markdown",
   "id": "218ccaf0",
   "metadata": {
    "slideshow": {
     "slide_type": "subslide"
    }
   },
   "source": [
    "##### Acceso a elementos"
   ]
  },
  {
   "cell_type": "code",
   "execution_count": null,
   "id": "036eacf6",
   "metadata": {
    "slideshow": {
     "slide_type": "subslide"
    }
   },
   "outputs": [],
   "source": [
    "# Para un array 1D, similar a una lista\n",
    "my_arr = np.array([3, 8, 1, 5])\n",
    "my_arr[1]  # Get the 2nd element of the first (and only) dimension"
   ]
  },
  {
   "cell_type": "markdown",
   "id": "757f9aea",
   "metadata": {
    "slideshow": {
     "slide_type": "fragment"
    }
   },
   "source": [
    "En un arreglo 2D con `dim2` (filas) y `dim1` (columnas):"
   ]
  },
  {
   "cell_type": "code",
   "execution_count": null,
   "id": "43f33815",
   "metadata": {},
   "outputs": [],
   "source": [
    "# Para un array 2D, el patrón es array[índice_dim2, índice_dim1]\n",
    "my_arr = np.array([\n",
    "    [5, 7, 4, 6],\n",
    "    [2, 1, 9, 8]\n",
    "])\n",
    "my_arr[0, 1]  # First element in dim 2 (row 0) and second element in dim 1 (column 2)"
   ]
  },
  {
   "cell_type": "markdown",
   "id": "9e6ec8f8",
   "metadata": {
    "slideshow": {
     "slide_type": "subslide"
    }
   },
   "source": [
    "En un arreglo 3D con `dim3` (pilas), `dim2` (filas) y `dim1` (columnas):"
   ]
  },
  {
   "cell_type": "code",
   "execution_count": null,
   "id": "dc9c58d6",
   "metadata": {},
   "outputs": [],
   "source": [
    "# Para un array n-dimensional, el patrón es similar: array[índice_dimN, índice_dimN-1, ..., índice_dim1]\n",
    "my_arr = np.arange(125).reshape((5, 5, 5))\n",
    "print(my_arr)"
   ]
  },
  {
   "cell_type": "code",
   "execution_count": null,
   "id": "42f38821",
   "metadata": {
    "slideshow": {
     "slide_type": "fragment"
    }
   },
   "outputs": [],
   "source": [
    "my_arr[2, 3, 1]  # 3rd element in dim 1 (matrix 3), 4th element in dim 2 (row 4), 2nd element in dim 3 (column 2)"
   ]
  },
  {
   "cell_type": "markdown",
   "id": "334a0d96",
   "metadata": {
    "slideshow": {
     "slide_type": "subslide"
    }
   },
   "source": [
    "Podemos usar notación de *slice* (`inicio:fin:paso`) para acceder a subconjuntos:"
   ]
  },
  {
   "cell_type": "code",
   "execution_count": null,
   "id": "413533dc",
   "metadata": {},
   "outputs": [],
   "source": [
    "my_arr[0, :, 1]"
   ]
  },
  {
   "cell_type": "markdown",
   "id": "b0202b0e",
   "metadata": {
    "slideshow": {
     "slide_type": "skip"
    }
   },
   "source": [
    "**Desafío**: escribe una sentencia que acceda a la segunda columna de las dos últimas filas de la última pila en `my_arr`."
   ]
  },
  {
   "cell_type": "markdown",
   "id": "9a05c8e6",
   "metadata": {
    "slideshow": {
     "slide_type": "subslide"
    }
   },
   "source": [
    "Para el enfoque **lógico**, usamos un arreglo booleano para extraer los elementos de interés:"
   ]
  },
  {
   "cell_type": "code",
   "execution_count": null,
   "id": "b8b41e8d",
   "metadata": {},
   "outputs": [],
   "source": [
    "num_arr = np.array([1, 2, 3])\n",
    "bool_arr = np.array([False, False, True])\n",
    "num_arr[bool_arr]  #  We access the element of num_arr for which bool_arr is True"
   ]
  },
  {
   "cell_type": "markdown",
   "id": "174cabfb",
   "metadata": {
    "slideshow": {
     "slide_type": "subslide"
    }
   },
   "source": [
    "Este enfoque es muy potente cuando construimos máscaras booleanas con operaciones lógicas:"
   ]
  },
  {
   "cell_type": "code",
   "execution_count": null,
   "id": "dbd45fd9",
   "metadata": {},
   "outputs": [],
   "source": [
    "# Create a 2D matrix\n",
    "dataset = np.array([\n",
    "    [1, 2, 3, 4, 5],\n",
    "    [6, 7, 8, 9, 10]\n",
    "])\n",
    "print(dataset)"
   ]
  },
  {
   "cell_type": "code",
   "execution_count": null,
   "id": "e22c2373",
   "metadata": {
    "slideshow": {
     "slide_type": "subslide"
    }
   },
   "outputs": [],
   "source": [
    "# Create a boolean matrix for this dataset to test where values are greater than 3\n",
    "bools = dataset > 3\n",
    "print(bools)"
   ]
  },
  {
   "cell_type": "code",
   "execution_count": null,
   "id": "c9cf04b1",
   "metadata": {},
   "outputs": [],
   "source": [
    "# Extract the value(s) which satisfy this logical operation\n",
    "dataset[bools]"
   ]
  },
  {
   "cell_type": "markdown",
   "id": "a7620288",
   "metadata": {
    "slideshow": {
     "slide_type": "subslide"
    }
   },
   "source": [
    "También podemos usar `np.equal()` para crear máscaras por equivalencia con un valor:"
   ]
  },
  {
   "cell_type": "code",
   "execution_count": null,
   "id": "a089f272",
   "metadata": {},
   "outputs": [],
   "source": [
    "# Create a boolean matrix for this dataset to test where values are equal to 5 using np.equals()\n",
    "bools = np.equal(dataset, 5)\n",
    "print(bools)"
   ]
  },
  {
   "cell_type": "code",
   "execution_count": null,
   "id": "8fbb3c67",
   "metadata": {},
   "outputs": [],
   "source": [
    "# Extract the value(s) which satisfy this logical operation\n",
    "dataset[bools]"
   ]
  },
  {
   "cell_type": "code",
   "execution_count": null,
   "id": "a4385f08",
   "metadata": {},
   "outputs": [],
   "source": [
    "# Create a boolean matrix for this dataset to test where values are > 8 or < 3\n",
    "bools = np.logical_or(dataset > 8, dataset < 3)\n",
    "print(bools)\n",
    "# Subconjunto de datos usando estos booleanos\n",
    "dataset[bools]"
   ]
  },
  {
   "cell_type": "markdown",
   "id": "51b072b5",
   "metadata": {
    "slideshow": {
     "slide_type": "subslide"
    }
   },
   "source": [
    "Por último, `np.where(condición)` devuelve los índices donde se cumple la condición."
   ]
  },
  {
   "cell_type": "code",
   "execution_count": null,
   "id": "ab687efe",
   "metadata": {},
   "outputs": [],
   "source": [
    "dataset"
   ]
  },
  {
   "cell_type": "code",
   "execution_count": null,
   "id": "bbd39f7e",
   "metadata": {},
   "outputs": [],
   "source": [
    "# Find the numerical indices for values in the dataset > 6\n",
    "indices = np.where(dataset > 6)\n",
    "print(indices)\n",
    "# Subconjunto de datos usando estos índices\n",
    "dataset[indices]"
   ]
  },
  {
   "cell_type": "markdown",
   "id": "e80d4f62",
   "metadata": {
    "slideshow": {
     "slide_type": "subslide"
    }
   },
   "source": [
    "##### Asignación de elementos"
   ]
  },
  {
   "cell_type": "code",
   "execution_count": null,
   "id": "41a6ae20",
   "metadata": {},
   "outputs": [],
   "source": [
    "# Create a 2D matrix\n",
    "dataset = np.array([\n",
    "    [1, 2, 3, 4, 5],\n",
    "    [6, 7, 8, 9, 10]\n",
    "])\n",
    "print(dataset)"
   ]
  },
  {
   "cell_type": "code",
   "execution_count": null,
   "id": "f4ca249c",
   "metadata": {},
   "outputs": [],
   "source": [
    "# Cambia la fila 2, columna 5 al valor 100\n",
    "dataset[1, 4] = 100\n",
    "dataset"
   ]
  },
  {
   "cell_type": "markdown",
   "id": "b87049e9",
   "metadata": {
    "slideshow": {
     "slide_type": "subslide"
    }
   },
   "source": [
    "También podemos usar indexación lógica para **asignar** valores en el arreglo:"
   ]
  },
  {
   "cell_type": "code",
   "execution_count": null,
   "id": "076776d9",
   "metadata": {},
   "outputs": [],
   "source": [
    "# Pon todos los valores > 3 a 0\n",
    "dataset = np.array([\n",
    "    [1, 2, 3, 4, 5],\n",
    "    [6, 7, 8, 9, 10]\n",
    "])\n",
    "dataset[dataset > 3] = 0 \n",
    "dataset"
   ]
  },
  {
   "cell_type": "markdown",
   "id": "41681077",
   "metadata": {
    "slideshow": {
     "slide_type": "subslide"
    }
   },
   "source": [
    "Y finalmente, puedes usar el método `where()`:"
   ]
  },
  {
   "cell_type": "code",
   "execution_count": null,
   "id": "0034afa7",
   "metadata": {},
   "outputs": [],
   "source": [
    "# Pon todos los valores < 7 a -1\n",
    "dataset = np.array([\n",
    "    [1, 2, 3, 4, 5],\n",
    "    [6, 7, 8, 9, 10]\n",
    "])\n",
    "dataset[np.where(dataset < 7)] = -1\n",
    "dataset"
   ]
  },
  {
   "cell_type": "markdown",
   "id": "33d81ab6",
   "metadata": {
    "slideshow": {
     "slide_type": "subslide"
    }
   },
   "source": [
    "##### `any` / `all`"
   ]
  },
  {
   "cell_type": "code",
   "execution_count": null,
   "id": "8f96442b",
   "metadata": {},
   "outputs": [],
   "source": [
    "dataset = np.array([\n",
    "    [1, 2, 3, 4, 5],\n",
    "    [6, 7, 8, 9, 10]\n",
    "])"
   ]
  },
  {
   "cell_type": "code",
   "execution_count": null,
   "id": "e1650b10",
   "metadata": {},
   "outputs": [],
   "source": [
    "# ¿Algún valor igual a 0?\n",
    "np.any(dataset == 0)"
   ]
  },
  {
   "cell_type": "code",
   "execution_count": null,
   "id": "78b7e97a",
   "metadata": {},
   "outputs": [],
   "source": [
    "# ¿Todos los valores DISTINTOS de 0?\n",
    "np.all(dataset != 0)"
   ]
  },
  {
   "cell_type": "markdown",
   "id": "17d2c39b",
   "metadata": {
    "slideshow": {
     "slide_type": "subslide"
    }
   },
   "source": [
    "##### Métodos matemáticos"
   ]
  },
  {
   "cell_type": "code",
   "execution_count": null,
   "id": "1cde1b39",
   "metadata": {},
   "outputs": [],
   "source": [
    "my_data = np.arange(9).reshape((3,3))\n",
    "my_data"
   ]
  },
  {
   "cell_type": "code",
   "execution_count": null,
   "id": "933c0d13",
   "metadata": {},
   "outputs": [],
   "source": [
    "# Multiplication by scalar\n",
    "my_data * 3"
   ]
  },
  {
   "cell_type": "code",
   "execution_count": null,
   "id": "e004c05f",
   "metadata": {},
   "outputs": [],
   "source": [
    "# Addition by vector\n",
    "my_vector = np.array([5, 10, 20])\n",
    "my_data + my_vector"
   ]
  },
  {
   "cell_type": "code",
   "execution_count": null,
   "id": "265a74bf",
   "metadata": {},
   "outputs": [],
   "source": [
    "# Suma de valores\n",
    "my_data.sum()"
   ]
  },
  {
   "cell_type": "code",
   "execution_count": null,
   "id": "d6f104f9",
   "metadata": {},
   "outputs": [],
   "source": [
    "# Mean of values within dimension 2 (rows) -- \"axis\" specificies the dimension index\n",
    "my_data.mean(axis=1)"
   ]
  },
  {
   "cell_type": "code",
   "execution_count": null,
   "id": "c7967b57",
   "metadata": {},
   "outputs": [],
   "source": [
    "# Max values within dimension 1 (columns)\n",
    "my_data.max(axis=0)"
   ]
  },
  {
   "cell_type": "code",
   "execution_count": null,
   "id": "d86bf509",
   "metadata": {},
   "outputs": [],
   "source": [
    "# Transposición\n",
    "my_data.transpose()"
   ]
  },
  {
   "cell_type": "code",
   "execution_count": null,
   "id": "f234bf69",
   "metadata": {},
   "outputs": [],
   "source": [
    "# Make new dataset\n",
    "my_data2 = np.arange(100, 109).reshape((3,3))  # 3x3 matrix of 100:109\n",
    "\n",
    "# Compute dot product\n",
    "dot_prod = np.dot(my_data, my_data2)\n",
    "dot_prod"
   ]
  },
  {
   "cell_type": "code",
   "execution_count": null,
   "id": "1b739544",
   "metadata": {},
   "outputs": [],
   "source": [
    "# Compute the pearson correlation of two 1d arrays\n",
    "arr1 = np.array([1, 5, 6, 6, 7, 10])\n",
    "arr2 = np.array([3, 3, 4, 3, 6, 9])\n",
    "np.corrcoef(arr1, arr2)  # Correlation is ~.809"
   ]
  },
  {
   "cell_type": "markdown",
   "id": "676ac3bc",
   "metadata": {
    "slideshow": {
     "slide_type": "subslide"
    }
   },
   "source": [
    "**Aleatoriedad**: muy útil en estadística y simulación. Por ejemplo, un entero aleatorio entre 1 y 100:"
   ]
  },
  {
   "cell_type": "code",
   "execution_count": null,
   "id": "b30a09d5",
   "metadata": {},
   "outputs": [],
   "source": [
    "np.random.randint(low=1, high = 100)"
   ]
  },
  {
   "cell_type": "markdown",
   "id": "c5622c18",
   "metadata": {
    "slideshow": {
     "slide_type": "fragment"
    }
   },
   "source": [
    "También podemos generar un arreglo de enteros aleatorios indicando el tamaño:"
   ]
  },
  {
   "cell_type": "code",
   "execution_count": null,
   "id": "42bf045e",
   "metadata": {},
   "outputs": [],
   "source": [
    "np.random.randint(low=1, high=100, size=(5, 3))"
   ]
  },
  {
   "cell_type": "markdown",
   "id": "2adad407",
   "metadata": {
    "slideshow": {
     "slide_type": "fragment"
    }
   },
   "source": [
    "Y un arreglo de `float` aleatorios entre 0 y 1 indicando la forma:"
   ]
  },
  {
   "cell_type": "code",
   "execution_count": null,
   "id": "34fafd94",
   "metadata": {},
   "outputs": [],
   "source": [
    "np.random.rand(4, 4)"
   ]
  },
  {
   "cell_type": "markdown",
   "id": "460cbaed",
   "metadata": {},
   "source": [
    "### Control de flujo y funciones"
   ]
  },
  {
   "cell_type": "markdown",
   "id": "0ae81822",
   "metadata": {},
   "source": [
    "#### `if` / `elif` / `else`"
   ]
  },
  {
   "cell_type": "markdown",
   "id": "d030b489",
   "metadata": {},
   "source": [
    "##### Sentencias `if`"
   ]
  },
  {
   "cell_type": "code",
   "execution_count": null,
   "id": "a9a06baa",
   "metadata": {},
   "outputs": [],
   "source": [
    "a = 1\n",
    "b = 1\n",
    "\n",
    "if a == b:\n",
    "    # Execute this code only if a == b is True\n",
    "    print(\"a is equal to b!\")"
   ]
  },
  {
   "cell_type": "markdown",
   "id": "90732f6c",
   "metadata": {},
   "source": [
    "El ejemplo muestra una sentencia `if`: el bloque solo se ejecuta si la condición es `True`."
   ]
  },
  {
   "cell_type": "markdown",
   "id": "d8395919",
   "metadata": {},
   "source": []
  },
  {
   "cell_type": "markdown",
   "id": "2e32bceb",
   "metadata": {},
   "source": [
    "##### Sentencias `if...else`"
   ]
  },
  {
   "cell_type": "code",
   "execution_count": null,
   "id": "1fe27d36",
   "metadata": {},
   "outputs": [],
   "source": [
    "a = 1\n",
    "b = 2\n",
    "\n",
    "if a == b:\n",
    "    print(\"a is equal to b!\")\n",
    "else:\n",
    "    print(\"a is NOT equal to b!\")"
   ]
  },
  {
   "cell_type": "code",
   "execution_count": null,
   "id": "d357e54e",
   "metadata": {},
   "outputs": [],
   "source": [
    "a = [1, 2, 3]\n",
    "cond = a[1] == 2\n",
    "if cond:\n",
    "    print(\"Yes\")\n",
    "else:\n",
    "    print(\"No\")"
   ]
  },
  {
   "cell_type": "markdown",
   "id": "1537578a",
   "metadata": {},
   "source": [
    "##### Sentencias `if...elif...else`"
   ]
  },
  {
   "cell_type": "code",
   "execution_count": null,
   "id": "93fbe581",
   "metadata": {},
   "outputs": [],
   "source": [
    "grade = 78\n",
    "\n",
    "if grade > 90:\n",
    "    # Only executes if grade > 90\n",
    "    letter_grade = \"A\"\n",
    "elif grade > 80:\n",
    "    # Only executes if grade > 80 and grade <= 90\n",
    "    letter_grade = \"B\"\n",
    "elif grade > 70:\n",
    "    # Only executes if grade > 70 and grade <= 80\n",
    "    letter_grade = \"C\"\n",
    "elif grade >= 60:\n",
    "    # Only executes if grade > 60 and grade <= 70\n",
    "    letter_grade = \"D\"\n",
    "else:\n",
    "    # Only executes if grade < 60\n",
    "    letter_grade = \"F\"\n",
    "    \n",
    "print(\"Student earned a grade of \" + letter_grade)"
   ]
  },
  {
   "cell_type": "markdown",
   "id": "a32a90b9",
   "metadata": {},
   "source": [
    "En el ejemplo, cada condición se evalúa en secuencia; al cumplirse una, se omiten las siguientes."
   ]
  },
  {
   "cell_type": "code",
   "execution_count": null,
   "id": "aaf8d5be",
   "metadata": {},
   "outputs": [],
   "source": [
    "trees = ['pine', 'spruce', 'fir', 'oak', 'cherry']\n",
    "\n",
    "if 'pi' + ' ne' in trees:\n",
    "    print(\"Pine Trees!\")\n",
    "elif \",\".join(['fir', 'oak']) == \"fir, oak\":\n",
    "    print(\"Fir Trees!\")\n",
    "elif \"\".join(['ry', 'cher'][::-1]) in trees:\n",
    "    print(\"Cherry Trees!\")\n",
    "else:\n",
    "    print(\"No trees!\")"
   ]
  },
  {
   "cell_type": "code",
   "execution_count": null,
   "id": "fad19caa",
   "metadata": {},
   "outputs": [],
   "source": [
    "\",\".join(['fir', 'oak'])"
   ]
  },
  {
   "cell_type": "markdown",
   "id": "b71112f6",
   "metadata": {},
   "source": [
    "#### Bucles"
   ]
  },
  {
   "cell_type": "markdown",
   "id": "01cbbc6f",
   "metadata": {},
   "source": [
    "##### Bucles `for`\n",
    "\n",
    "Iteran sobre elementos de un iterable (lista, tupla, rango, etc.)."
   ]
  },
  {
   "cell_type": "code",
   "execution_count": null,
   "id": "0b04a5da",
   "metadata": {},
   "outputs": [],
   "source": [
    "# Loop through a list of 1 through 10\n",
    "numbers = [1, 2, 3, 4, 5, 6, 7, 8, 9, 10]\n",
    "\n",
    "for number in numbers:\n",
    "    print(number)"
   ]
  },
  {
   "cell_type": "markdown",
   "id": "cd0a4d74",
   "metadata": {},
   "source": [
    "En cada iteración, el bucle asigna un elemento a la variable del bucle y ejecuta el bloque de código."
   ]
  },
  {
   "cell_type": "code",
   "execution_count": null,
   "id": "decfa500",
   "metadata": {},
   "outputs": [],
   "source": [
    "for number in numbers:\n",
    "    print(number + 10)"
   ]
  },
  {
   "cell_type": "markdown",
   "id": "3be1c3ef",
   "metadata": {},
   "source": [
    "Los bucles permiten ir acumulando resultados, por ejemplo añadiendo números a una lista con `.append()`."
   ]
  },
  {
   "cell_type": "code",
   "execution_count": null,
   "id": "f147b76b",
   "metadata": {},
   "outputs": [],
   "source": [
    "new_numbers = list()\n",
    "for number in numbers:\n",
    "    new_numbers.append(number + 10)\n",
    "    \n",
    "new_numbers"
   ]
  },
  {
   "cell_type": "markdown",
   "id": "9b7a01ae",
   "metadata": {},
   "source": [
    "##### Combinando bucles y `if/else`"
   ]
  },
  {
   "cell_type": "code",
   "execution_count": null,
   "id": "bfe82b7a",
   "metadata": {},
   "outputs": [],
   "source": [
    "# Combining loops and if...else\n",
    "grades = [85, 98, 45, 73]\n",
    "\n",
    "# Loop over list of grades and print letter grade\n",
    "for grade in grades:\n",
    "    if grade > 90:\n",
    "        # Only executes if grade > 90\n",
    "        letter_grade = \"A\"\n",
    "    elif grade > 80:\n",
    "        # Only executes if grade > 80 and grade <= 90\n",
    "        letter_grade = \"B\"\n",
    "    elif grade > 70:\n",
    "        # Only executes if grade > 70 and grade <= 80\n",
    "        letter_grade = \"C\"\n",
    "    elif grade >= 60:\n",
    "        # Only executes if grade > 60 and grade <= 70\n",
    "        letter_grade = \"D\"\n",
    "    else:\n",
    "        # Only executes if grade < 60\n",
    "        letter_grade = \"F\"\n",
    "\n",
    "    print(\"Student earned a grade of \" + letter_grade)"
   ]
  },
  {
   "cell_type": "markdown",
   "id": "fb63f943",
   "metadata": {},
   "source": [
    "##### Índices enteros en lugar de iterar directamente"
   ]
  },
  {
   "cell_type": "markdown",
   "id": "b8c6507d",
   "metadata": {},
   "source": [
    "En lugar de iterar directamente sobre los valores, a veces conviene usar sus **índices** numéricos."
   ]
  },
  {
   "cell_type": "code",
   "execution_count": null,
   "id": "c646bfe9",
   "metadata": {},
   "outputs": [],
   "source": [
    "# Loop through a list of letters\n",
    "letters = [\"a\", \"b\", \"c\", \"d\"]\n",
    "\n",
    "for letter in letters:\n",
    "    print(letter)"
   ]
  },
  {
   "cell_type": "code",
   "execution_count": null,
   "id": "fb50f35b",
   "metadata": {},
   "outputs": [],
   "source": [
    "range(len(letters))"
   ]
  },
  {
   "cell_type": "code",
   "execution_count": null,
   "id": "511b5c9f",
   "metadata": {},
   "outputs": [],
   "source": [
    "for i in range(len(letters)):\n",
    "    letter = letters[i]\n",
    "    print(letter)"
   ]
  },
  {
   "cell_type": "markdown",
   "id": "f23b2af6",
   "metadata": {},
   "source": [
    "Aunque parezca más complejo, es necesario en muchas situaciones (por ejemplo, al modificar posiciones específicas)."
   ]
  },
  {
   "cell_type": "code",
   "execution_count": null,
   "id": "4544d3ad",
   "metadata": {},
   "outputs": [],
   "source": [
    "students = ['alice', 'kevin', 'sara', 'tim']\n",
    "grades = [85, 98, 45, 73]\n",
    "\n",
    "for i in range(len(grades)):\n",
    "    \n",
    "    grade = grades[i]\n",
    "    student = students[i]\n",
    "    \n",
    "    if grade > 90:\n",
    "        # Only executes if grade > 90\n",
    "        letter_grade = \"A\"\n",
    "    elif grade > 80:\n",
    "        # Only executes if grade > 80 and grade <= 90\n",
    "        letter_grade = \"B\"\n",
    "    elif grade > 70:\n",
    "        # Only executes if grade > 70 and grade <= 80\n",
    "        letter_grade = \"C\"\n",
    "    elif grade >= 60:\n",
    "        # Only executes if grade > 60 and grade <= 70\n",
    "        letter_grade = \"D\"\n",
    "    else:\n",
    "        # Only executes if grade < 60\n",
    "        letter_grade = \"F\"\n",
    "\n",
    "    print(student + \" earned a grade of \" + letter_grade)"
   ]
  },
  {
   "cell_type": "markdown",
   "id": "0415bfe6",
   "metadata": {},
   "source": [
    "##### Comprensiones de listas\n",
    "\n",
    "Sintaxis compacta para construir listas a partir de iterables y condiciones."
   ]
  },
  {
   "cell_type": "markdown",
   "id": "6871d72e",
   "metadata": {},
   "source": [
    "Aunque los bucles `for` pueden ser ineficientes, las **comprensiones de listas** son una excepción útil."
   ]
  },
  {
   "cell_type": "code",
   "execution_count": null,
   "id": "7be3edde",
   "metadata": {},
   "outputs": [],
   "source": [
    "# NOTE: You can also use list comprehension to achieve this\n",
    "[number for number in range(1, 11)]  # Print doesn't actually return a value"
   ]
  },
  {
   "cell_type": "markdown",
   "id": "ad68ec1a",
   "metadata": {},
   "source": [
    "También podemos transformar los números:"
   ]
  },
  {
   "cell_type": "code",
   "execution_count": null,
   "id": "0675fd13",
   "metadata": {},
   "outputs": [],
   "source": [
    "[number + 10 for number in numbers]  # Returns a value"
   ]
  },
  {
   "cell_type": "markdown",
   "id": "b7750551",
   "metadata": {},
   "source": [
    "Incluso podemos añadir condiciones (`if ... else`) dentro de la comprensión:"
   ]
  },
  {
   "cell_type": "code",
   "execution_count": null,
   "id": "ae633f1d",
   "metadata": {},
   "outputs": [],
   "source": [
    "[-number if number % 2 == 0 else number for number in numbers]  # Returns a value"
   ]
  },
  {
   "cell_type": "markdown",
   "id": "faf8bdae",
   "metadata": {},
   "source": [
    "#### Funciones\n",
    "\n",
    "Bloques reutilizables que aceptan entradas (argumentos) y opcionalmente devuelven un resultado."
   ]
  },
  {
   "cell_type": "code",
   "execution_count": null,
   "id": "04dee145",
   "metadata": {},
   "outputs": [],
   "source": [
    "def square_it(x):\n",
    "    print(x ** 2)\n",
    "    \n",
    "type(square_it)"
   ]
  },
  {
   "cell_type": "code",
   "execution_count": null,
   "id": "f870a01f",
   "metadata": {},
   "outputs": [],
   "source": [
    "square_it(5)  # Gets 5 ** 2"
   ]
  },
  {
   "cell_type": "markdown",
   "id": "7e7bf240",
   "metadata": {},
   "source": [
    "Las funciones no tienen por qué devolver un valor. Si no hay `return`, devuelven `None` por defecto."
   ]
  },
  {
   "cell_type": "code",
   "execution_count": null,
   "id": "8e14388b",
   "metadata": {},
   "outputs": [],
   "source": [
    "result = square_it(5)"
   ]
  },
  {
   "cell_type": "code",
   "execution_count": null,
   "id": "d44365d8",
   "metadata": {},
   "outputs": [],
   "source": [
    "print(result)"
   ]
  },
  {
   "cell_type": "markdown",
   "id": "0ff5c360",
   "metadata": {},
   "source": [
    "`None` es un tipo de objeto especial en Python que representa la ausencia de valor."
   ]
  },
  {
   "cell_type": "code",
   "execution_count": null,
   "id": "ecc143ca",
   "metadata": {},
   "outputs": [],
   "source": [
    "type(result)  # NoneType objects"
   ]
  },
  {
   "cell_type": "markdown",
   "id": "cdb6523d",
   "metadata": {},
   "source": [
    "Las funciones pueden devolver un valor usando `return`, lo más habitual en programación con Python."
   ]
  },
  {
   "cell_type": "code",
   "execution_count": null,
   "id": "a7668c4f",
   "metadata": {},
   "outputs": [],
   "source": [
    "def square_it(x):\n",
    "    return x ** 2  # Return a value\n",
    "    \n",
    "result = square_it(5)"
   ]
  },
  {
   "cell_type": "code",
   "execution_count": null,
   "id": "2626bffc",
   "metadata": {},
   "outputs": [],
   "source": [
    "print(result)"
   ]
  }
 ],
 "metadata": {
  "celltoolbar": "Slideshow",
  "kernelspec": {
   "display_name": "Python 3 (ipykernel)",
   "language": "python",
   "name": "python3"
  },
  "language_info": {
   "codemirror_mode": {
    "name": "ipython",
    "version": 3
   },
   "file_extension": ".py",
   "mimetype": "text/x-python",
   "name": "python",
   "nbconvert_exporter": "python",
   "pygments_lexer": "ipython3",
   "version": "3.12.5"
  },
  "rise": {
   "enable_chalkboard": true,
   "scroll": true,
   "theme": "simple"
  }
 },
 "nbformat": 4,
 "nbformat_minor": 5
}
