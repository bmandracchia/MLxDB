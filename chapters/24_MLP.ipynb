{
 "cells": [
  {
   "cell_type": "markdown",
   "metadata": {},
   "source": [
    "# Classification with Multilayer Perceptrons\n",
    "\n",
    "Here, we will introduce the simplest deep networks, which are called **multilayer perceptrons (MLP)**, and they consist of multiple layers of neurons each fully connected to those in the layer below (from which they receive input) and those above (which they, in turn, influence). \n",
    "\n",
    "MLP overcome the limitations of linear models by incorporating one or more hidden layers. The easiest way to do this is to stack many fully connected layers on top of one another. Each layer feeds into the layer above it, until we generate outputs. We can think of the first \n",
    "layers as our representation and the final layer as our linear predictor. \n",
    "\n",
    "![MLP](./images/MLP.png)\n",
    "\n"
   ]
  },
  {
   "cell_type": "markdown",
   "metadata": {},
   "source": [
    "## Implementation of Multilayer Perceptrons\n",
    "\n",
    "Multilayer perceptrons (MLPs) are not much more complex to implement than simple linear models. The key conceptual difference is that we now concatenate multiple layers.\n"
   ]
  },
  {
   "cell_type": "markdown",
   "metadata": {},
   "source": [
    "\n",
    "### Initializing Model Parameters\n",
    "The MNIST dataset contains 10 classes, and that each image consists of a $ 28 \\times 28 = 784$ grid of grayscale pixel values. As before we will disregard the spatial structure among the pixels for now, so we can think of this as a classification dataset with 784 input features and 10 classes. \n"
   ]
  },
  {
   "cell_type": "code",
   "execution_count": 14,
   "metadata": {
    "tags": [
     "hide-input"
    ]
   },
   "outputs": [
    {
     "data": {
      "text/html": [
       "\n",
       "<style>\n",
       "    /* Turns off some styling */\n",
       "    progress {\n",
       "        /* gets rid of default border in Firefox and Opera. */\n",
       "        border: none;\n",
       "        /* Needs to be in here for Safari polyfill so background images work as expected. */\n",
       "        background-size: auto;\n",
       "    }\n",
       "    progress:not([value]), progress:not([value])::-webkit-progress-bar {\n",
       "        background: repeating-linear-gradient(45deg, #7e7e7e, #7e7e7e 10px, #5c5c5c 10px, #5c5c5c 20px);\n",
       "    }\n",
       "    .progress-bar-interrupted, .progress-bar-interrupted::-webkit-progress-bar {\n",
       "        background: #F44336;\n",
       "    }\n",
       "</style>\n"
      ],
      "text/plain": [
       "<IPython.core.display.HTML object>"
      ]
     },
     "metadata": {},
     "output_type": "display_data"
    },
    {
     "data": {
      "text/html": [
       "\n",
       "    <div>\n",
       "      <progress value='15687680' class='' max='15683414' style='width:300px; height:20px; vertical-align: middle;'></progress>\n",
       "      100.03% [15687680/15683414 00:31&lt;00:00]\n",
       "    </div>\n",
       "    "
      ],
      "text/plain": [
       "<IPython.core.display.HTML object>"
      ]
     },
     "metadata": {},
     "output_type": "display_data"
    }
   ],
   "source": [
    "from fastai.vision.all import *\n",
    "path = untar_data(URLs.MNIST)\n"
   ]
  },
  {
   "cell_type": "markdown",
   "metadata": {},
   "source": [
    "To begin, we will implement an MLP with one hidden layer and 256 hidden units. Both the number of layers and their width are adjustable (they are considered hyperparameters). Typically, we choose the layer widths to be divisible by larger powers of 2. This is computationally efficient due to the way memory is allocated and addressed in hardware.\n",
    "\n",
    "Again, we will represent our parameters with several tensors. Note that for every layer, we must keep track of one weight matrix and one bias vector. As always, we allocate memory for the gradients of the loss with respect to these parameters.\n"
   ]
  },
  {
   "cell_type": "code",
   "execution_count": 15,
   "metadata": {},
   "outputs": [],
   "source": [
    "num_hiddens = 256\n",
    "num_outputs = 10\n",
    "model = nn.Sequential(nn.Flatten(), nn.LazyLinear(num_hiddens),\n",
    "                                 nn.ReLU(), nn.LazyLinear(num_outputs))"
   ]
  },
  {
   "cell_type": "markdown",
   "metadata": {},
   "source": [
    "### Building the DataBlock\n",
    "\n",
    "With our extraction pattern in place, we’ll use fastai’s `DataBlock` API to set up the data pipeline. `DataBlock` helps you organize and transform data for training, providing a flexible approach to defining inputs, outputs, and transformations.\n",
    "\n"
   ]
  },
  {
   "cell_type": "code",
   "execution_count": 16,
   "metadata": {},
   "outputs": [],
   "source": [
    "dgt = DataBlock(\n",
    "    blocks=(ImageBlock, CategoryBlock),\n",
    "    get_items=get_image_files,\n",
    "    get_y=parent_label,\n",
    "    splitter=RandomSplitter(seed=42),\n",
    "    batch_tfms=aug_transforms()\n",
    ")\n",
    "dls = dgt.dataloaders(path)"
   ]
  },
  {
   "cell_type": "markdown",
   "metadata": {},
   "source": [
    "#### Explanation of the `DataBlock` Parameters\n",
    "\n",
    "- **`blocks=(ImageBlock, CategoryBlock)`**: Specifies that the input type is an image and the output is a category (label).\n",
    "- **`get_items=get_image_files`**: Retrieves all image files within the specified path.\n",
    "- **`get_y=parent_label`**: Retrieves the label for each image from the name of the parent folder.\n",
    "- **`splitter=RandomSplitter(seed=42)`**: Randomly splits the dataset into training and validation sets. Setting a seed ensures consistency across runs.\n",
    "- **`batch_tfms=aug_transforms(size=224, min_scale=0.75)`**: Performs batch-level transformations, such as applying data augmentation.\n",
    "\n"
   ]
  },
  {
   "cell_type": "markdown",
   "metadata": {},
   "source": [
    "##  Validating the Data Pipeline\n",
    "\n",
    "Before training, always verify the data pipeline. Errors or misaligned labels can lead to incorrect model training. We can check the data layout using `show_batch`:\n",
    "\n"
   ]
  },
  {
   "cell_type": "code",
   "execution_count": 17,
   "metadata": {},
   "outputs": [
    {
     "data": {
      "image/png": "[encoded data removed]",
      "text/plain": [
       "<Figure size 900x300 with 3 Axes>"
      ]
     },
     "metadata": {},
     "output_type": "display_data"
    }
   ],
   "source": [
    "dls.show_batch(nrows=1, ncols=3)"
   ]
  },
  {
   "cell_type": "markdown",
   "metadata": {},
   "source": [
    "\n",
    "This visualizes a batch of images and their labels, helping confirm that images match expected labels. If needed, use the `summary` method to display a detailed breakdown of data transformations and steps.\n"
   ]
  },
  {
   "cell_type": "code",
   "execution_count": 18,
   "metadata": {},
   "outputs": [
    {
     "name": "stdout",
     "output_type": "stream",
     "text": [
      "Setting-up type transforms pipelines\n",
      "Collecting items from C:\\Users\\biagi\\.fastai\\data\\mnist_png\n",
      "Found 70000 items\n",
      "2 datasets of sizes 56000,14000\n",
      "Setting up Pipeline: PILBase.create\n",
      "Setting up Pipeline: parent_label -> Categorize -- {'vocab': None, 'sort': True, 'add_na': False}\n",
      "\n",
      "Building one sample\n",
      "  Pipeline: PILBase.create\n",
      "    starting from\n",
      "      C:\\Users\\biagi\\.fastai\\data\\mnist_png\\training\\7\\48923.png\n",
      "    applying PILBase.create gives\n",
      "      PILImage mode=RGB size=28x28\n",
      "  Pipeline: parent_label -> Categorize -- {'vocab': None, 'sort': True, 'add_na': False}\n",
      "    starting from\n",
      "      C:\\Users\\biagi\\.fastai\\data\\mnist_png\\training\\7\\48923.png\n",
      "    applying parent_label gives\n",
      "      7\n",
      "    applying Categorize -- {'vocab': None, 'sort': True, 'add_na': False} gives\n",
      "      TensorCategory(7)\n",
      "\n",
      "Final sample: (PILImage mode=RGB size=28x28, TensorCategory(7))\n",
      "\n",
      "\n",
      "Collecting items from C:\\Users\\biagi\\.fastai\\data\\mnist_png\n",
      "Found 70000 items\n",
      "2 datasets of sizes 56000,14000\n",
      "Setting up Pipeline: PILBase.create\n",
      "Setting up Pipeline: parent_label -> Categorize -- {'vocab': None, 'sort': True, 'add_na': False}\n",
      "Setting up after_item: Pipeline: ToTensor\n",
      "Setting up before_batch: Pipeline: \n",
      "Setting up after_batch: Pipeline: IntToFloatTensor -- {'div': 255.0, 'div_mask': 1} -> Flip -- {'size': None, 'mode': 'bilinear', 'pad_mode': 'reflection', 'mode_mask': 'nearest', 'align_corners': True, 'p': 0.5} -> Brightness -- {'max_lighting': 0.2, 'p': 1.0, 'draw': None, 'batch': False}\n",
      "\n",
      "Building one batch\n",
      "Applying item_tfms to the first sample:\n",
      "  Pipeline: ToTensor\n",
      "    starting from\n",
      "      (PILImage mode=RGB size=28x28, TensorCategory(7))\n",
      "    applying ToTensor gives\n",
      "      (TensorImage of size 3x28x28, TensorCategory(7))\n",
      "\n",
      "Adding the next 3 samples\n",
      "\n",
      "No before_batch transform to apply\n",
      "\n",
      "Collating items in a batch\n",
      "\n",
      "Applying batch_tfms to the batch built\n",
      "  Pipeline: IntToFloatTensor -- {'div': 255.0, 'div_mask': 1} -> Flip -- {'size': None, 'mode': 'bilinear', 'pad_mode': 'reflection', 'mode_mask': 'nearest', 'align_corners': True, 'p': 0.5} -> Brightness -- {'max_lighting': 0.2, 'p': 1.0, 'draw': None, 'batch': False}\n",
      "    starting from\n",
      "      (TensorImage of size 4x3x28x28, TensorCategory([7, 7, 2, 2]))\n",
      "    applying IntToFloatTensor -- {'div': 255.0, 'div_mask': 1} gives\n",
      "      (TensorImage of size 4x3x28x28, TensorCategory([7, 7, 2, 2]))\n",
      "    applying Flip -- {'size': None, 'mode': 'bilinear', 'pad_mode': 'reflection', 'mode_mask': 'nearest', 'align_corners': True, 'p': 0.5} gives\n",
      "      (TensorImage of size 4x3x28x28, TensorCategory([7, 7, 2, 2]))\n",
      "    applying Brightness -- {'max_lighting': 0.2, 'p': 1.0, 'draw': None, 'batch': False} gives\n",
      "      (TensorImage of size 4x3x28x28, TensorCategory([7, 7, 2, 2]))\n"
     ]
    }
   ],
   "source": [
    "dgt.summary(path)"
   ]
  },
  {
   "cell_type": "markdown",
   "metadata": {},
   "source": [
    "##  Training the Model\n",
    "\n",
    "Now that our data is ready, we can proceed to training. \n"
   ]
  },
  {
   "cell_type": "code",
   "execution_count": 19,
   "metadata": {},
   "outputs": [
    {
     "data": {
      "text/html": [
       "\n",
       "<style>\n",
       "    /* Turns off some styling */\n",
       "    progress {\n",
       "        /* gets rid of default border in Firefox and Opera. */\n",
       "        border: none;\n",
       "        /* Needs to be in here for Safari polyfill so background images work as expected. */\n",
       "        background-size: auto;\n",
       "    }\n",
       "    progress:not([value]), progress:not([value])::-webkit-progress-bar {\n",
       "        background: repeating-linear-gradient(45deg, #7e7e7e, #7e7e7e 10px, #5c5c5c 10px, #5c5c5c 20px);\n",
       "    }\n",
       "    .progress-bar-interrupted, .progress-bar-interrupted::-webkit-progress-bar {\n",
       "        background: #F44336;\n",
       "    }\n",
       "</style>\n"
      ],
      "text/plain": [
       "<IPython.core.display.HTML object>"
      ]
     },
     "metadata": {},
     "output_type": "display_data"
    },
    {
     "data": {
      "text/html": [
       "<table border=\"1\" class=\"dataframe\">\n",
       "  <thead>\n",
       "    <tr style=\"text-align: left;\">\n",
       "      <th>epoch</th>\n",
       "      <th>train_loss</th>\n",
       "      <th>valid_loss</th>\n",
       "      <th>error_rate</th>\n",
       "      <th>time</th>\n",
       "    </tr>\n",
       "  </thead>\n",
       "  <tbody>\n",
       "    <tr>\n",
       "      <td>0</td>\n",
       "      <td>0.397549</td>\n",
       "      <td>0.262883</td>\n",
       "      <td>0.077929</td>\n",
       "      <td>01:29</td>\n",
       "    </tr>\n",
       "    <tr>\n",
       "      <td>1</td>\n",
       "      <td>0.309400</td>\n",
       "      <td>0.186758</td>\n",
       "      <td>0.056429</td>\n",
       "      <td>01:24</td>\n",
       "    </tr>\n",
       "  </tbody>\n",
       "</table>"
      ],
      "text/plain": [
       "<IPython.core.display.HTML object>"
      ]
     },
     "metadata": {},
     "output_type": "display_data"
    }
   ],
   "source": [
    "learn = Learner(dls, model, metrics=error_rate)\n",
    "learn.fit(2)"
   ]
  },
  {
   "cell_type": "markdown",
   "metadata": {},
   "source": [
    "The automatic calculation of gradients profoundly simplifies the implementation of deep learning algorithms. Before automatic differentiation, even small changes to complicated models required recalculating complicated derivatives by hand. Surprisingly often, academic papers had to allocate numerous pages to deriving update rules. While we must continue to rely on automatic differentiation so we can focus on the interesting parts, you ought to know how these gradients are calculated under the hood if you want to go beyond a shallow understanding of deep learning.\n"
   ]
  },
  {
   "cell_type": "markdown",
   "metadata": {},
   "source": [
    "### Forward Propagation\n",
    "\n",
    "*Forward propagation* (or *forward pass*) is the process of computing intermediate variables in a neural network from the input layer to the output layer.\n",
    "\n",
    "Given an input $\\mathbf{x}\\in\\mathbb{R}^d$, the hidden layer (without bias) first computes\n",
    "\n",
    "$$\n",
    "\\mathbf{z} = \\mathbf{W}^{(1)} \\mathbf{x}, \\quad \\mathbf{W}^{(1)} \\in \\mathbb{R}^{h \\times d}.\n",
    "$$\n",
    "\n",
    "Applying the activation function $\\phi$ gives the hidden representation\n",
    "\n",
    "$$\n",
    "\\mathbf{h} = \\phi(\\mathbf{z}), \\quad \\mathbf{h}\\in\\mathbb{R}^h.\n",
    "$$\n",
    "\n",
    "The output layer then produces\n",
    "\n",
    "$$\n",
    "\\mathbf{o} = \\mathbf{W}^{(2)} \\mathbf{h}, \\quad \\mathbf{W}^{(2)} \\in \\mathbb{R}^{q \\times h}.\n",
    "$$\n",
    "\n",
    "With a loss function $l$ and label $y$, the loss for a single example is\n",
    "\n",
    "$$\n",
    "L = l(\\mathbf{o}, y).\n",
    "$$\n",
    "\n",
    "Including $\\ell\\_2$ regularization with hyperparameter $\\lambda$, the penalty term is\n",
    "\n",
    "$$\n",
    "s = \\tfrac{\\lambda}{2}\\left(\\|\\mathbf{W}^{(1)}\\|_F^2 + \\|\\mathbf{W}^{(2)}\\|_F^2\\right),\n",
    "$$\n",
    "\n",
    "where $|\\cdot|_F$ denotes the Frobenius norm.\n",
    "\n",
    "Finally, the regularized objective function is\n",
    "\n",
    "$$\n",
    "J = L + s.\n",
    "$$\n"
   ]
  },
  {
   "cell_type": "markdown",
   "metadata": {},
   "source": [
    "### Backpropagation\n",
    "\n",
    "*Backpropagation* is the method for computing gradients of neural network parameters by traversing the network in reverse, from output to input, using the chain rule of calculus. Intermediate partial derivatives are stored during the process.\n",
    "\n",
    "For functions $\\mathsf{Y}=f(\\mathsf{X})$ and $\\mathsf{Z}=g(\\mathsf{Y})$, the chain rule gives\n",
    "\n",
    "$$\n",
    "\\frac{\\partial \\mathsf{Z}}{\\partial \\mathsf{X}} = \\text{prod}\\!\\left(\\frac{\\partial \\mathsf{Z}}{\\partial \\mathsf{Y}}, \\frac{\\partial \\mathsf{Y}}{\\partial \\mathsf{X}}\\right),\n",
    "$$\n",
    "\n",
    "where $\\text{prod}$ denotes the correct multiplication (matrix–matrix or tensor equivalent).\n",
    "\n",
    "In our network with parameters $\\mathbf{W}^{(1)}$ and $\\mathbf{W}^{(2)}$, the objective is $J=L+s$, where $L$ is the loss and $s$ the $\\ell\\_2$ regularization term. The first gradients are straightforward:\n",
    "\n",
    "$$\n",
    "\\frac{\\partial J}{\\partial L}=1, \\qquad \\frac{\\partial J}{\\partial s}=1.\n",
    "$$\n",
    "\n",
    "From here, we work backwards. The gradient with respect to the output layer variable is\n",
    "\n",
    "$$\n",
    "\\frac{\\partial J}{\\partial \\mathbf{o}} = \\frac{\\partial L}{\\partial \\mathbf{o}} \\in \\mathbb{R}^q.\n",
    "$$\n",
    "\n",
    "The regularization gradients are\n",
    "\n",
    "$$\n",
    "\\frac{\\partial s}{\\partial \\mathbf{W}^{(1)}} = \\lambda \\mathbf{W}^{(1)}, \\qquad \n",
    "\\frac{\\partial s}{\\partial \\mathbf{W}^{(2)}} = \\lambda \\mathbf{W}^{(2)}.\n",
    "$$\n",
    "\n",
    "Thus, for the output layer parameters we obtain\n",
    "\n",
    "$$\n",
    "\\frac{\\partial J}{\\partial \\mathbf{W}^{(2)}} = \\frac{\\partial J}{\\partial \\mathbf{o}} \\mathbf{h}^\\top + \\lambda \\mathbf{W}^{(2)}.\n",
    "$$\n",
    "\n",
    "Moving to the hidden layer, the gradients are propagated as\n",
    "\n",
    "$$\n",
    "\\frac{\\partial J}{\\partial \\mathbf{h}} = {\\mathbf{W}^{(2)}}^\\top \\frac{\\partial J}{\\partial \\mathbf{o}}, \n",
    "$$\n",
    "\n",
    "and, applying the elementwise derivative of the activation function,\n",
    "\n",
    "$$\n",
    "\\frac{\\partial J}{\\partial \\mathbf{z}} = \\frac{\\partial J}{\\partial \\mathbf{h}} \\odot \\phi'(\\mathbf{z}).\n",
    "$$\n",
    "\n",
    "Finally, for the hidden layer parameters,\n",
    "\n",
    "$$\n",
    "\\frac{\\partial J}{\\partial \\mathbf{W}^{(1)}} = \\frac{\\partial J}{\\partial \\mathbf{z}} \\mathbf{x}^\\top + \\lambda \\mathbf{W}^{(1)}.\n",
    "$$\n"
   ]
  },
  {
   "cell_type": "markdown",
   "metadata": {},
   "source": [
    "### The Cross-Entropy Loss\n",
    "\n",
    "In multi-class classification, the commonly used loss function is the *cross-entropy loss*, also known as log loss. \n",
    "\n",
    "This choice can be easily justified with maximum likelihood estimation.\n",
    "\n",
    "The softmax function gives us a vector $\\mathbf{p}$, which\n",
    "we can interpret as the (estimated) conditional probabilities of each\n",
    "class, given any input $\\mathbf{x}$, such as $p_1$ =\n",
    "$P(y=\\textrm{cat} \\mid \\mathbf{x})$. \n",
    "In the following we assume that for a dataset with features $\\mathbf{X}$ the labels\n",
    "$\\mathbf{Y}$ are represented using a one-hot encoding label\n",
    "vector. We can compare the estimates with reality by checking how\n",
    "probable the actual classes are according to our model, given the\n",
    "features:\n",
    "\n",
    "$$   P(\\mathbf{Y} \\mid \\mathbf{X}) = \\prod_{i=1}^n P(\\mathbf{y}^{(i)} \\mid \\mathbf{x}^{(i)}). $$\n",
    "\n",
    "We are allowed to use the factorization since we assume that each label\n",
    "is drawn independently from its respective distribution\n",
    "$P(\\mathbf{y}\\mid\\mathbf{x}^{(i)})$. Then, we take the negative logarithm to obtain the\n",
    "equivalent problem of minimizing the negative log-likelihood:\n",
    "\n",
    "$$   -\\log P(\\mathbf{Y} \\mid \\mathbf{X}) = \\sum_{i=1}^n -\\log P(\\mathbf{y}^{(i)} \\mid \\mathbf{x}^{(i)})\n",
    "   = \\sum_{i=1}^n l(\\mathbf{y}^{(i)}, \\mathbf{p}^{(i)}),$$\n",
    "\n",
    "where for any pair of label $\\mathbf{y}$ and model prediction\n",
    "$\\mathbf{p}$ over $C$ classes, the loss function\n",
    "$L$ is\n",
    "\n",
    "$$  L(\\mathbf{y}, \\mathbf{p}) = - \\sum_{j=1}^C y_j \\log \\hat{y}_j. $$\n",
    "  \n",
    "This equation is commonly called the *cross-entropy\n",
    "loss*. Since $\\mathbf{y}$ is a one-hot vector of length $C$,\n",
    "the sum over all its coordinates $j$ vanishes for all but one\n",
    "term. Note that the loss $L(\\mathbf{y}, \\mathbf{p})$ is\n",
    "bounded from below by $0$ whenever $\\mathbf{p}$ is a\n",
    "probability vector: no single entry is larger than $1$, hence\n",
    "their negative logarithm cannot be lower than $0$;\n",
    "$L(\\mathbf{y}, \\mathbf{p}) = 0$ only if we predict the\n",
    "actual label with *certainty*. This can never happen for any finite\n",
    "setting of the weights because taking a softmax output towards $1$\n",
    "requires taking the corresponding input $o_i$ to infinity (or all\n",
    "other outputs $o_j$ for $j \\neq i$ to negative infinity).\n",
    "Even if our model could assign an output probability of $0$, any\n",
    "error made when assigning such high confidence would incur infinite loss\n",
    "($-\\log 0 = \\infty$)."
   ]
  },
  {
   "cell_type": "markdown",
   "metadata": {},
   "source": [
    "##  Interpreting the Model\n",
    "\n",
    "After training, it’s helpful to interpret the model’s performance to understand areas of improvement. A confusion matrix is useful for identifying patterns in misclassifications.\n"
   ]
  },
  {
   "cell_type": "code",
   "execution_count": 20,
   "metadata": {},
   "outputs": [
    {
     "data": {
      "text/html": [
       "\n",
       "<style>\n",
       "    /* Turns off some styling */\n",
       "    progress {\n",
       "        /* gets rid of default border in Firefox and Opera. */\n",
       "        border: none;\n",
       "        /* Needs to be in here for Safari polyfill so background images work as expected. */\n",
       "        background-size: auto;\n",
       "    }\n",
       "    progress:not([value]), progress:not([value])::-webkit-progress-bar {\n",
       "        background: repeating-linear-gradient(45deg, #7e7e7e, #7e7e7e 10px, #5c5c5c 10px, #5c5c5c 20px);\n",
       "    }\n",
       "    .progress-bar-interrupted, .progress-bar-interrupted::-webkit-progress-bar {\n",
       "        background: #F44336;\n",
       "    }\n",
       "</style>\n"
      ],
      "text/plain": [
       "<IPython.core.display.HTML object>"
      ]
     },
     "metadata": {},
     "output_type": "display_data"
    },
    {
     "data": {
      "text/html": [],
      "text/plain": [
       "<IPython.core.display.HTML object>"
      ]
     },
     "metadata": {},
     "output_type": "display_data"
    },
    {
     "data": {
      "text/html": [
       "\n",
       "<style>\n",
       "    /* Turns off some styling */\n",
       "    progress {\n",
       "        /* gets rid of default border in Firefox and Opera. */\n",
       "        border: none;\n",
       "        /* Needs to be in here for Safari polyfill so background images work as expected. */\n",
       "        background-size: auto;\n",
       "    }\n",
       "    progress:not([value]), progress:not([value])::-webkit-progress-bar {\n",
       "        background: repeating-linear-gradient(45deg, #7e7e7e, #7e7e7e 10px, #5c5c5c 10px, #5c5c5c 20px);\n",
       "    }\n",
       "    .progress-bar-interrupted, .progress-bar-interrupted::-webkit-progress-bar {\n",
       "        background: #F44336;\n",
       "    }\n",
       "</style>\n"
      ],
      "text/plain": [
       "<IPython.core.display.HTML object>"
      ]
     },
     "metadata": {},
     "output_type": "display_data"
    },
    {
     "data": {
      "text/html": [],
      "text/plain": [
       "<IPython.core.display.HTML object>"
      ]
     },
     "metadata": {},
     "output_type": "display_data"
    },
    {
     "data": {
      "image/png": "[encoded data removed]",
      "text/plain": [
       "<Figure size 720x720 with 1 Axes>"
      ]
     },
     "metadata": {},
     "output_type": "display_data"
    }
   ],
   "source": [
    "interp = ClassificationInterpretation.from_learner(learn)\n",
    "interp.plot_confusion_matrix(figsize=(12,12), dpi=60)\n"
   ]
  },
  {
   "cell_type": "markdown",
   "metadata": {},
   "source": [
    "\n",
    "When dealing with a large number of classes, the confusion matrix can become complex. The `most_confused` method highlights the most common errors:\n"
   ]
  },
  {
   "cell_type": "code",
   "execution_count": 23,
   "metadata": {},
   "outputs": [
    {
     "data": {
      "text/html": [
       "\n",
       "<style>\n",
       "    /* Turns off some styling */\n",
       "    progress {\n",
       "        /* gets rid of default border in Firefox and Opera. */\n",
       "        border: none;\n",
       "        /* Needs to be in here for Safari polyfill so background images work as expected. */\n",
       "        background-size: auto;\n",
       "    }\n",
       "    progress:not([value]), progress:not([value])::-webkit-progress-bar {\n",
       "        background: repeating-linear-gradient(45deg, #7e7e7e, #7e7e7e 10px, #5c5c5c 10px, #5c5c5c 20px);\n",
       "    }\n",
       "    .progress-bar-interrupted, .progress-bar-interrupted::-webkit-progress-bar {\n",
       "        background: #F44336;\n",
       "    }\n",
       "</style>\n"
      ],
      "text/plain": [
       "<IPython.core.display.HTML object>"
      ]
     },
     "metadata": {},
     "output_type": "display_data"
    },
    {
     "data": {
      "text/html": [],
      "text/plain": [
       "<IPython.core.display.HTML object>"
      ]
     },
     "metadata": {},
     "output_type": "display_data"
    },
    {
     "data": {
      "text/plain": [
       "[('5', '3', 52),\n",
       " ('6', '2', 49),\n",
       " ('3', '5', 45),\n",
       " ('9', '7', 41),\n",
       " ('4', '9', 32),\n",
       " ('8', '3', 27)]"
      ]
     },
     "execution_count": 23,
     "metadata": {},
     "output_type": "execute_result"
    }
   ],
   "source": [
    "interp.most_confused(min_val=25)\n"
   ]
  },
  {
   "cell_type": "markdown",
   "metadata": {},
   "source": [
    "\n",
    "This output shows which breeds the model often confuses, providing insights into areas needing improvement.\n",
    "\n"
   ]
  },
  {
   "cell_type": "markdown",
   "metadata": {},
   "source": [
    "##  Improving the Model"
   ]
  },
  {
   "cell_type": "markdown",
   "metadata": {},
   "source": [
    "### The Learning Rate\n",
    "\n",
    "The learning rate $ \\eta $ controls the step size in the gradient descent optimization process. At each training step, the model updates its weights $ w $ in the opposite direction of the gradient $ \\nabla L(w) $ of the loss function $ L $ with respect to the weights. This update rule is:\n",
    "\n",
    "$$\n",
    "w_{i+1} = w_i - \\eta \\nabla L(w_i)\n",
    "$$\n",
    "\n",
    "If $ \\eta $ is too large, the model may overshoot the optimal weights, causing unstable training. If $ \\eta $ is too small, training may take too long to converge. The optimal learning rate is usually found by experimenting or using a learning rate finder."
   ]
  },
  {
   "cell_type": "markdown",
   "metadata": {},
   "source": [
    "### Learning Rate Finder\n",
    "\n",
    "The learning rate finder in fastai allows us to identify a suitable learning rate by gradually increasing it and observing the effect on the loss. Here’s how to apply it:\n"
   ]
  },
  {
   "cell_type": "code",
   "execution_count": 22,
   "metadata": {},
   "outputs": [
    {
     "data": {
      "text/html": [
       "\n",
       "<style>\n",
       "    /* Turns off some styling */\n",
       "    progress {\n",
       "        /* gets rid of default border in Firefox and Opera. */\n",
       "        border: none;\n",
       "        /* Needs to be in here for Safari polyfill so background images work as expected. */\n",
       "        background-size: auto;\n",
       "    }\n",
       "    progress:not([value]), progress:not([value])::-webkit-progress-bar {\n",
       "        background: repeating-linear-gradient(45deg, #7e7e7e, #7e7e7e 10px, #5c5c5c 10px, #5c5c5c 20px);\n",
       "    }\n",
       "    .progress-bar-interrupted, .progress-bar-interrupted::-webkit-progress-bar {\n",
       "        background: #F44336;\n",
       "    }\n",
       "</style>\n"
      ],
      "text/plain": [
       "<IPython.core.display.HTML object>"
      ]
     },
     "metadata": {},
     "output_type": "display_data"
    },
    {
     "data": {
      "text/html": [],
      "text/plain": [
       "<IPython.core.display.HTML object>"
      ]
     },
     "metadata": {},
     "output_type": "display_data"
    },
    {
     "name": "stderr",
     "output_type": "stream",
     "text": [
      "c:\\Users\\biagi\\anaconda3\\envs\\book\\Lib\\site-packages\\fastai\\learner.py:53: FutureWarning: You are using `torch.load` with `weights_only=False` (the current default value), which uses the default pickle module implicitly. It is possible to construct malicious pickle data which will execute arbitrary code during unpickling (See https://github.com/pytorch/pytorch/blob/main/SECURITY.md#untrusted-models for more details). In a future release, the default value for `weights_only` will be flipped to `True`. This limits the functions that could be executed during unpickling. Arbitrary objects will no longer be allowed to be loaded via this mode unless they are explicitly allowlisted by the user via `torch.serialization.add_safe_globals`. We recommend you start setting `weights_only=True` for any use case where you don't have full control of the loaded file. Please open an issue on GitHub for any issues related to this experimental feature.\n",
      "  state = torch.load(file, map_location=device, **torch_load_kwargs)\n"
     ]
    },
    {
     "name": "stdout",
     "output_type": "stream",
     "text": [
      "Minimum/10: 1.32e-07, steepest point: 1.10e-06\n"
     ]
    },
    {
     "data": {
      "image/png": "[encoded data removed]",
      "text/plain": [
       "<Figure size 640x480 with 1 Axes>"
      ]
     },
     "metadata": {},
     "output_type": "display_data"
    }
   ],
   "source": [
    "lr_min, lr_steep = learn.lr_find(suggest_funcs=(minimum, steep))\n",
    "print(f\"Minimum/10: {lr_min:.2e}, steepest point: {lr_steep:.2e}\")"
   ]
  },
  {
   "cell_type": "markdown",
   "metadata": {},
   "source": [
    "> Note: Logarithmic Scale: The learning rate finder plot has a logarithmic scale, which is why the middle point between 1e-3 and 1e-2 is between 3e-3 and 4e-3. This is because we care mostly about the order of magnitude of the learning rate."
   ]
  },
  {
   "cell_type": "markdown",
   "metadata": {},
   "source": [
    "\n",
    "The learning rate plot helps identify a rate that minimizes loss without diverging. Choose a rate slightly lower than the minimum or steepest point, around 3e-3 in this case.\n",
    "\n"
   ]
  },
  {
   "cell_type": "markdown",
   "metadata": {},
   "source": [
    "### Early Stopping\n",
    "\n",
    "Deep neural networks can eventually memorize even random labels (Zhang et al., 2021). However, research shows they fit clean labels first and only later adapt to mislabeled ones (Rolnick et al., 2017). This leads to an important insight: if a model fits the correct labels but not the noisy ones, it has generalized (Garg et al., 2021).\n",
    "\n",
    "This motivates **early stopping**, a classic regularization method. Instead of limiting weights directly, we limit the training duration. The usual practice is to monitor validation error at each epoch and stop when it fails to improve beyond a small threshold for a set number of epochs, often called the *patience criterion*.\n",
    "\n",
    "Early stopping offers two advantages:\n",
    "\n",
    "1. Better generalization in the presence of noisy labels.\n",
    "2. Reduced training cost and time, especially for large models requiring multi-GPU setups.\n",
    "\n",
    "When data is noise-free and fully separable (e.g., cats vs. dogs), early stopping rarely improves generalization. But in cases with label noise or inherent uncertainty (e.g., predicting patient outcomes), stopping before the model memorizes noise is essential.\n"
   ]
  },
  {
   "cell_type": "markdown",
   "metadata": {},
   "source": [
    "### Dropout\n",
    "\n",
    "A good predictive model should generalize well to unseen data. Classical theory links generalization to *simplicity*, which can mean low dimensionality, small parameter norms (as in weight decay), or smoothness—insensitivity to small perturbations in the input. For example, image classifiers should be robust to minor pixel noise.\n",
    "\n",
    "Bishop (1995) showed that training with input noise is equivalent to Tikhonov regularization, formalizing the link between smoothness and robustness. Building on this idea, Srivastava et al. (2014) proposed **dropout**, a technique that applies noise to the *internal layers* of neural networks. During training, dropout randomly “drops” (zeros out) a fraction of neurons at each iteration, preventing layers from relying too heavily on specific activation patterns—a problem they call *co-adaptation*.\n",
    "\n",
    "The mechanism is simple: with dropout probability $p$, each activation $h$ is replaced by\n",
    "\n",
    "$$\n",
    "\\tilde{h} = \\begin{cases} \n",
    "0 & \\text{with prob. } p, \\\\ \n",
    "\\frac{h}{1-p} & \\text{with prob. } 1-p,\n",
    "\\end{cases}\n",
    "$$\n",
    "\n",
    "so that the expectation $ \\mathbb{E}[\\tilde{h}] = h $ remains unchanged.\n",
    "\n",
    "Typically, dropout is diabled at test time. Given a trained model and a new example, we do not drop out any nodes and thus do not need to normalize. However, there are some exceptions: some researchers use dropout at test time as a heuristic for estimating the uncertainty of neural network predictions: if the predictions agree across many different dropout outputs, then we might say that the network is more confident.\n",
    "\n",
    "Dropout has become a standard regularization method in deep learning, helping models avoid overfitting and improving generalization, especially when training large networks."
   ]
  },
  {
   "cell_type": "markdown",
   "metadata": {},
   "source": [
    "\n",
    "### Further Optimization: Selecting Epochs and Avoiding Overfitting\n",
    "\n",
    "Choosing the number of epochs is a balancing act. Too few epochs can result in underfitting, while too many can lead to overfitting. Here are some general guidelines:\n",
    "\n",
    "- Start with a few epochs to see baseline performance.\n",
    "- Monitor validation loss and accuracy over epochs to determine when the model starts overfitting.\n",
    "- Use early stopping or cross-validation if needed.\n",
    "\n",
    "If training resources allow, try experimenting with larger models or deeper architectures. However, always validate if additional complexity improves your specific task."
   ]
  }
 ],
 "metadata": {
  "kernelspec": {
   "display_name": "book",
   "language": "python",
   "name": "python3"
  },
  "language_info": {
   "codemirror_mode": {
    "name": "ipython",
    "version": 3
   },
   "file_extension": ".py",
   "mimetype": "text/x-python",
   "name": "python",
   "nbconvert_exporter": "python",
   "pygments_lexer": "ipython3",
   "version": "3.12.5"
  }
 },
 "nbformat": 4,
 "nbformat_minor": 2
}
