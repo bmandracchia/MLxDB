{
 "cells": [
  {
   "cell_type": "markdown",
   "metadata": {},
   "source": [
    "# Neural Networks as Universal Approximators"
   ]
  },
  {
   "cell_type": "markdown",
   "metadata": {},
   "source": [
    "## Basic Structure of a Neural Network\n",
    "\n",
    "A neural network is a mathematical function that takes inputs, transforms them through layers of computation, and produces outputs. In a standard neural network:\n",
    "\n",
    "1. Each input is multiplied by a set of weights, which are adjustable values, or *parameters*.\n",
    "2. These weighted inputs are summed together and passed through an *activation function* that adds non-linearity to the network.\n",
    "3. The outputs of one layer become the inputs to the next layer, repeating the process until we reach the final layer, which produces the network’s prediction.\n",
    "\n",
    "The initial weights are typically set randomly, so a newly initialized neural network doesn’t perform any useful task—it behaves as a random function. The real magic of neural networks happens when we adjust these weights to improve the network’s performance on a specific task, a process called *training*."
   ]
  },
  {
   "cell_type": "markdown",
   "metadata": {
    "slideshow": {
     "slide_type": "slide"
    }
   },
   "source": [
    "## Neural Networks as Flexible Function Approximators\n",
    "\n",
    "With deep neural networks, we use observational data to jointly learn both a representation via hidden layers and a linear predictor that acts upon that representation.\n",
    "\n",
    "By combining multiple layers, each with its own parameters and activation functions, neural networks can approximate highly complex functions. This capability is central to the Universal Approximation Theorem, which states that a neural network with enough parameters can approximate any continuous function."
   ]
  },
  {
   "cell_type": "markdown",
   "metadata": {},
   "source": [
    "### The Building Blocks of Neural Networks\n",
    "The two fundamental operations in neural networks are:\n",
    "\n",
    "1. **Matrix Multiplication**: This involves multiplying inputs by weights and adding biases. In neural networks, this operation is the core of each layer’s computation.\n",
    "2. **Activation Functions**: Non-linear functions, like the rectified linear unit (ReLU), allow the network to capture complex patterns. ReLU replaces negative values with zero, enabling the network to learn non-linear transformations."
   ]
  },
  {
   "cell_type": "markdown",
   "metadata": {},
   "source": [
    "Here’s a simple implementation of a rectified linear function (ReLU):"
   ]
  },
  {
   "cell_type": "code",
   "execution_count": 2,
   "metadata": {
    "execution": {
     "iopub.execute_input": "2022-04-22T22:28:41.970814Z",
     "iopub.status.busy": "2022-04-22T22:28:41.970051Z",
     "iopub.status.idle": "2022-04-22T22:28:41.976113Z",
     "shell.execute_reply": "2022-04-22T22:28:41.975338Z",
     "shell.execute_reply.started": "2022-04-22T22:28:41.970763Z"
    },
    "slideshow": {
     "slide_type": "subslide"
    }
   },
   "outputs": [],
   "source": [
    "def rectified_linear(m,b,x):\n",
    "    y = m*x+b\n",
    "    return torch.clip(y, 0.)"
   ]
  },
  {
   "cell_type": "markdown",
   "metadata": {
    "slideshow": {
     "slide_type": "skip"
    }
   },
   "source": [
    "Here's what it looks like:"
   ]
  },
  {
   "cell_type": "code",
   "execution_count": 7,
   "metadata": {},
   "outputs": [],
   "source": [
    "from ipywidgets import interact\n",
    "from fastai.basics import *\n",
    "\n",
    "def plot_function(f, title=None, min=-2.1, max=2.1, color='r', ylim=None):\n",
    "    x = torch.linspace(min,max, 100)[:,None]\n",
    "    if ylim: plt.ylim(ylim)\n",
    "    plt.plot(x, f(x), color)\n",
    "    if title is not None: plt.title(title)"
   ]
  },
  {
   "cell_type": "code",
   "execution_count": 9,
   "metadata": {
    "execution": {
     "iopub.execute_input": "2022-04-22T22:28:41.978052Z",
     "iopub.status.busy": "2022-04-22T22:28:41.977336Z",
     "iopub.status.idle": "2022-04-22T22:28:42.197682Z",
     "shell.execute_reply": "2022-04-22T22:28:42.196709Z",
     "shell.execute_reply.started": "2022-04-22T22:28:41.978012Z"
    },
    "slideshow": {
     "slide_type": "skip"
    }
   },
   "outputs": [
    {
     "data": {
      "image/png": "[encoded data removed]",
      "text/plain": [
       "<Figure size 640x480 with 1 Axes>"
      ]
     },
     "metadata": {},
     "output_type": "display_data"
    }
   ],
   "source": [
    "plot_function(partial(rectified_linear, 1,1))"
   ]
  },
  {
   "cell_type": "markdown",
   "metadata": {
    "slideshow": {
     "slide_type": "skip"
    }
   },
   "source": [
    "To understand how this function works, try using this interactive version to play around with the parameters `m` and `b`:"
   ]
  },
  {
   "cell_type": "code",
   "execution_count": 10,
   "metadata": {
    "execution": {
     "iopub.execute_input": "2022-04-22T22:28:42.406108Z",
     "iopub.status.busy": "2022-04-22T22:28:42.405808Z",
     "iopub.status.idle": "2022-04-22T22:28:42.61219Z",
     "shell.execute_reply": "2022-04-22T22:28:42.61144Z",
     "shell.execute_reply.started": "2022-04-22T22:28:42.406071Z"
    },
    "slideshow": {
     "slide_type": "-"
    }
   },
   "outputs": [
    {
     "data": {
      "application/vnd.jupyter.widget-view+json": {
       "model_id": "1fbe66f72135414bad02bf27a6143928",
       "version_major": 2,
       "version_minor": 0
      },
      "text/plain": [
       "interactive(children=(FloatSlider(value=1.5, description='m', max=4.5, min=-1.5), FloatSlider(value=1.5, descr…"
      ]
     },
     "metadata": {},
     "output_type": "display_data"
    }
   ],
   "source": [
    "@interact(m=1.5, b=1.5)\n",
    "def plot_relu(m, b):\n",
    "    plot_function(partial(rectified_linear, m,b), ylim=(-1,4))"
   ]
  },
  {
   "cell_type": "markdown",
   "metadata": {
    "slideshow": {
     "slide_type": "subslide"
    }
   },
   "source": [
    "As you see, `m` changes the slope, and `b` changes where the \"hook\" appears. This function doesn't do much on its own, but let's see what happens when we add two of them together:"
   ]
  },
  {
   "cell_type": "code",
   "execution_count": 11,
   "metadata": {
    "execution": {
     "iopub.execute_input": "2022-04-22T22:28:42.614042Z",
     "iopub.status.busy": "2022-04-22T22:28:42.613745Z",
     "iopub.status.idle": "2022-04-22T22:28:42.851224Z",
     "shell.execute_reply": "2022-04-22T22:28:42.85035Z",
     "shell.execute_reply.started": "2022-04-22T22:28:42.614007Z"
    }
   },
   "outputs": [
    {
     "data": {
      "application/vnd.jupyter.widget-view+json": {
       "model_id": "71da28cc229e46e6a9faa6ef7cfe0831",
       "version_major": 2,
       "version_minor": 0
      },
      "text/plain": [
       "interactive(children=(FloatSlider(value=-1.5, description='m1', max=1.5, min=-4.5), FloatSlider(value=-1.5, de…"
      ]
     },
     "metadata": {},
     "output_type": "display_data"
    }
   ],
   "source": [
    "def double_relu(m1,b1,m2,b2,x):\n",
    "    return rectified_linear(m1,b1,x) + rectified_linear(m2,b2,x)\n",
    "\n",
    "@interact(m1=-1.5, b1=-1.5, m2=1.5, b2=1.5)\n",
    "def plot_double_relu(m1, b1, m2, b2):\n",
    "    plot_function(partial(double_relu, m1,b1,m2,b2), ylim=(-1,6))"
   ]
  },
  {
   "cell_type": "markdown",
   "metadata": {
    "slideshow": {
     "slide_type": "subslide"
    }
   },
   "source": [
    "By stacking and combining ReLU functions, neural networks can create intricate mappings between inputs and outputs. This allows them to approximate non-linear functions, which is essential for tasks like image recognition and natural language processing.\n",
    "\n",
    "This exact same approach can be expanded to functions of 2, 3, or more parameters."
   ]
  },
  {
   "cell_type": "markdown",
   "metadata": {},
   "source": [
    "The basic idea is that by using multiple **linear layers** in a model, we allow it to perform more computations, thereby making it capable of modeling increasingly complex functions. However, if we simply stack one linear layer directly after another without any nonlinearity in between, it does not increase the expressive power of the model.\n",
    "\n",
    "### Why Multiple Linear Layers Alone are Not Sufficient\n",
    "\n",
    "Let’s break this down mathematically:\n",
    "\n",
    "1. **Linear Transformation**: A linear layer performs a transformation on its input, given by:\n",
    "\n",
    "   $$\n",
    "   f(x) = W \\cdot x + b\n",
    "   $$\n",
    "   \n",
    "   where:\n",
    "   - $ W $ is a matrix of weights,\n",
    "   - $ x $ is the input vector, and\n",
    "   - $ b $ is a bias vector.\n",
    "\n",
    "2. **Composition of Linear Functions**: Suppose we apply two consecutive linear layers, $ f(x) = W_1 \\cdot x + b_1 $ and $ g(x) = W_2 \\cdot f(x) + b_2 $. Expanding $ g(x) $ yields:\n",
    "   \n",
    "   $$\n",
    "   g(x) = W_2 \\cdot (W_1 \\cdot x + b_1) + b_2\n",
    "   $$\n",
    "\n",
    "   This simplifies to:\n",
    "   \n",
    "   $$\n",
    "   g(x) = (W_2 \\cdot W_1) \\cdot x + (W_2 \\cdot b_1 + b_2)\n",
    "   $$\n",
    "   \n",
    "   which is again a linear transformation of $ x $. Thus, applying multiple linear layers in sequence still results in a single linear transformation. \n",
    "\n",
    "> **Mathematical Insight**: The composition of two linear transformations is itself a linear transformation. Therefore, stacking multiple linear layers without any nonlinear activation functions in between results in a model no more expressive than a single linear layer.\n"
   ]
  },
  {
   "cell_type": "markdown",
   "metadata": {},
   "source": [
    "\n",
    "### Adding Nonlinearity: The Key to Complex Representations\n",
    "\n",
    "To overcome this limitation, we introduce a **nonlinear function**, also known as an **activation function**, between the layers. This breaks the linearity of the transformation chain and allows each layer to learn different aspects of the data.\n",
    "\n",
    "Consider the **ReLU (Rectified Linear Unit)** activation function, which is one of the simplest and most effective nonlinear functions in deep learning. ReLU is defined as:\n",
    "\n",
    "$$\n",
    "\\text{ReLU}(z) = \\max(0, z)\n",
    "$$\n",
    "\n",
    "where $ z = W \\cdot x + b $.\n",
    "\n",
    "ReLU has two important properties:\n",
    "1. **Nonlinearity**: By setting negative values to zero, ReLU introduces a nonlinear element, which means that the composition of layers containing ReLU functions is no longer purely linear.\n",
    "2. **Conditional Behavior**: The ReLU function can be thought of as a simple `if` statement that returns 0 for negative inputs and the input itself for positive inputs, effectively adding a decision-making element to each layer.\n",
    "\n",
    "### Building Complex Models with Layers and Activation Functions\n",
    "\n",
    "With this nonlinear function, we can build a network that consists of:\n",
    "- A **sequence of linear transformations** (layers), each with its own set of weights and biases.\n",
    "- **Activation functions** (such as ReLU) inserted between these layers to add complexity to the model’s behavior.\n",
    "\n",
    "Consider a neural network with two layers:\n",
    "1. **First Layer**: Applies a linear transformation, followed by a ReLU: \n",
    "\n",
    "   $$\n",
    "   h(x) = \\text{ReLU}(W_1 \\cdot x + b_1)\n",
    "   $$  \n",
    "\n",
    "2. **Second Layer**: Applies another linear transformation to the output of the ReLU:\n",
    "\n",
    "   $$\n",
    "   f(x) = W_2 \\cdot h(x) + b_2\n",
    "   $$\n",
    "\n",
    "Now, $ f(x) $ is no longer a simple linear function of $ x $; it is a composition of linear and nonlinear transformations, enabling it to capture much more complex patterns.\n",
    "\n",
    "### The Universal Approximation Theorem\n",
    "\n",
    "The addition of nonlinearity allows neural networks to approximate any continuous function to an arbitrary degree of accuracy, provided they have enough layers and units. This concept is formalized in the **Universal Approximation Theorem**, which states that:\n",
    "\n",
    "> A neural network with at least one hidden layer containing a sufficient number of neurons, and a non-linear activation function, can approximate any continuous function on a compact subset of $\\mathbb{R}^n$ to any desired accuracy.\n",
    "\n",
    "This means that, theoretically, a neural network with just one hidden layer and a nonlinear activation function can approximate functions as complex as we need, given sufficient capacity.\n"
   ]
  },
  {
   "cell_type": "markdown",
   "metadata": {},
   "source": [
    "## Activation Functions"
   ]
  },
  {
   "cell_type": "markdown",
   "metadata": {},
   "source": [
    "Activation functions decide whether a neuron should be activated or not by calculating the weighted sum and further adding bias to it. They are differentiable operators for transforming input signals to outputs, while most of them add nonlinearity. Because activation functions are fundamental to deep learning, let’s briefly survey some common ones."
   ]
  },
  {
   "cell_type": "markdown",
   "metadata": {},
   "source": [
    "### ReLU Function\n",
    "\n",
    "The most popular choice, due to both simplicity of implementation and its good performance on a variety of predictive tasks, is the rectified linear unit (ReLU) (Nair and Hinton, 2010). ReLU provides a very simple nonlinear transformation. Given an element, the function is defined as the maximum of that element and \n",
    "\n",
    "$$\n",
    "\\text{ReLU}(z) = \\max(0, z)\n",
    "$$\n",
    "\n",
    "Informally, the ReLU function retains only positive elements and discards all negative elements by setting the corresponding activations to 0. To gain some intuition, we can plot the function. As you can see, the activation function is piecewise linear."
   ]
  },
  {
   "cell_type": "code",
   "execution_count": 35,
   "metadata": {},
   "outputs": [
    {
     "data": {
      "image/png": "[encoded data removed]",
      "text/plain": [
       "<Figure size 640x480 with 1 Axes>"
      ]
     },
     "metadata": {},
     "output_type": "display_data"
    }
   ],
   "source": [
    "plot_function(torch.relu, title='ReLU Function', min=-8, max=8, color='r', ylim=(-0.1,8))"
   ]
  },
  {
   "cell_type": "markdown",
   "metadata": {},
   "source": [
    "When the input is negative, the derivative of the ReLU function is 0, and when the input is positive, the derivative of the ReLU function is 1. Note that the ReLU function is not differentiable when the input takes value precisely equal to 0. In these cases, we default to the left-hand-side derivative and say that the derivative is 0 when the input is 0. We can get away with this because the input may never actually be zero (mathematicians would say that it is nondifferentiable on a set of measure zero)."
   ]
  },
  {
   "cell_type": "markdown",
   "metadata": {},
   "source": [
    "The reason for using ReLU is that its derivatives are particularly well behaved: either they vanish or they just let the argument through. This makes optimization better behaved and it mitigated the well-documented problem of vanishing gradients that plagued previous versions of neural networks."
   ]
  },
  {
   "cell_type": "markdown",
   "metadata": {},
   "source": [
    "### Sigmoid Function\n",
    "\n",
    "The *sigmoid function* transforms those inputs whose values lie in the\n",
    "domain $\\mathbb{R}$, to outputs that lie on the interval (0, 1).\n",
    "For that reason, the sigmoid is often called a *squashing function*: it\n",
    "squashes any input in the range (-inf, inf) to some value in the range\n",
    "(0, 1):\n",
    "\n",
    "$$ \\operatorname{sigmoid}(x) = \\frac{1}{1 + \\exp(-x)}.$$\n",
    "\n",
    "In the earliest neural networks, scientists were interested in modeling\n",
    "biological neurons that either *fire* or *do not fire*. Thus the\n",
    "pioneers of this field, going all the way back to McCulloch and Pitts,\n",
    "the inventors of the artificial neuron, focused on thresholding units. A thresholding activation takes value 0\n",
    "when its input is below some threshold and value 1 when the input\n",
    "exceeds the threshold.\n",
    "\n",
    "When attention shifted to gradient-based learning, the sigmoid function\n",
    "was a natural choice because it is a smooth, differentiable\n",
    "approximation to a thresholding unit. Sigmoids are still widely used as\n",
    "activation functions on the output units when we want to interpret the\n",
    "outputs as probabilities for binary classification problems: you can\n",
    "think of the sigmoid as a special case of the softmax. However, the\n",
    "sigmoid has largely been replaced by the simpler and more easily\n",
    "trainable ReLU for most use in hidden layers. Much of this has to do\n",
    "with the fact that the sigmoid poses challenges for optimization since its gradient vanishes for large\n",
    "positive *and* negative arguments. This can lead to plateaus that are\n",
    "difficult to escape from. Nonetheless sigmoids are important. For example, recurrent neural networks leverage sigmoid units to control the\n",
    "flow of information across time.\n",
    "\n",
    "Below, we plot the sigmoid function. Note that when the input is close\n",
    "to 0, the sigmoid function approaches a linear transformation.\n"
   ]
  },
  {
   "cell_type": "code",
   "execution_count": 32,
   "metadata": {},
   "outputs": [
    {
     "data": {
      "image/png": "[encoded data removed]",
      "text/plain": [
       "<Figure size 640x480 with 1 Axes>"
      ]
     },
     "metadata": {},
     "output_type": "display_data"
    }
   ],
   "source": [
    "plot_function(torch.sigmoid, title='Sigmoid Function', min=-8, max=8, color='b', ylim=(-0.1,1.1))"
   ]
  },
  {
   "cell_type": "markdown",
   "metadata": {},
   "source": [
    "The derivative of the sigmoid function is given by the following\n",
    "equation:\n",
    "\n",
    "$$\\frac{d}{dx} \\operatorname{sigmoid}(x) = \\frac{\\exp(-x)}{(1 + \\exp(-x))^2} = \\operatorname{sigmoid}(x)\\left(1-\\operatorname{sigmoid}(x)\\right).$$\n",
    "\n",
    "Note that when the input is 0, the derivative of the sigmoid function reaches a maximum\n",
    "of 0.25. As the input diverges from 0 in either direction, the\n",
    "derivative approaches 0."
   ]
  },
  {
   "cell_type": "markdown",
   "metadata": {},
   "source": [
    "### Tanh Function\n",
    "\n",
    "Like the sigmoid function, the tanh (hyperbolic tangent) function also\n",
    "squashes its inputs, transforming them into elements on the interval\n",
    "between $-1$ and $1$:\n",
    "\n",
    "$$ \\operatorname{tanh}(x) = \\frac{1 - \\exp(-2x)}{1 + \\exp(-2x)}.$$"
   ]
  },
  {
   "cell_type": "code",
   "execution_count": 36,
   "metadata": {},
   "outputs": [
    {
     "data": {
      "image/png": "[encoded data removed]",
      "text/plain": [
       "<Figure size 640x480 with 1 Axes>"
      ]
     },
     "metadata": {},
     "output_type": "display_data"
    }
   ],
   "source": [
    "plot_function(torch.tanh, title='Tanh Function', min=-8, max=8, color='g', ylim=(-1.1,1.1))"
   ]
  },
  {
   "cell_type": "markdown",
   "metadata": {},
   "source": [
    "Note that as input nears 0, the tanh\n",
    "function approaches a linear transformation. Although the shape of the\n",
    "function is similar to that of the sigmoid function, the tanh function\n",
    "exhibits point symmetry about the origin of the coordinate system"
   ]
  }
 ],
 "metadata": {
  "celltoolbar": "Slideshow",
  "kernelspec": {
   "display_name": "book",
   "language": "python",
   "name": "python3"
  },
  "language_info": {
   "codemirror_mode": {
    "name": "ipython",
    "version": 3
   },
   "file_extension": ".py",
   "mimetype": "text/x-python",
   "name": "python",
   "nbconvert_exporter": "python",
   "pygments_lexer": "ipython3",
   "version": "3.12.5"
  },
  "rise": {
   "enable_chalkboard": true,
   "scroll": true,
   "theme": "simple"
  }
 },
 "nbformat": 4,
 "nbformat_minor": 4
}
