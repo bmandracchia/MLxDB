{
 "cells": [
  {
   "cell_type": "code",
   "execution_count": 1,
   "metadata": {
    "slideshow": {
     "slide_type": "skip"
    },
    "tags": [
     "hide-input"
    ]
   },
   "outputs": [],
   "source": [
    "#hide\n",
    "import warnings\n",
    "warnings.filterwarnings('ignore')"
   ]
  },
  {
   "cell_type": "markdown",
   "metadata": {
    "slideshow": {
     "slide_type": "slide"
    }
   },
   "source": [
    "# Deep Learning in Biomedical Engineering "
   ]
  },
  {
   "cell_type": "markdown",
   "metadata": {
    "slideshow": {
     "slide_type": "fragment"
    }
   },
   "source": [
    "Deep learning, a subset of machine learning, has revolutionized numerous fields, including biomedical engineering. By enabling models to automatically learn representations from large datasets, deep learning has become pivotal in applications such as medical image analysis, drug discovery, and patient monitoring. With its ability to handle complex patterns in data, deep learning is increasingly being used to solve critical healthcare challenges, from early disease detection to personalized medicine."
   ]
  },
  {
   "cell_type": "markdown",
   "metadata": {},
   "source": [
    "Deep learning is a computational method that extracts and transforms data through the use of multiple layers of neural networks. In biomedical engineering, it has been applied to areas such as recognizing patterns in medical imaging (e.g., MRI or CT scans) or analyzing gene expression data. Each neural network layer processes inputs from the previous one, progressively refining and improving the output. The layers are trained using algorithms that minimize error and improve accuracy, enabling the network to perform tasks such as diagnosing diseases or predicting patient outcomes. We will discuss training algorithms in detail in the next section."
   ]
  },
  {
   "cell_type": "markdown",
   "metadata": {
    "slideshow": {
     "slide_type": "subslide"
    }
   },
   "source": [
    "Some of the tasks in different areas where deep learning is now leading the world, particularly in biomedical engineering and healthcare:\n",
    "\n",
    "- Natural Language Processing (NLP): Extracting key information from medical records; summarizing clinical notes; automated speech recognition for medical dictation; question-answering systems for clinical decision support.\n",
    "- Medical Imaging: Detecting anomalies in radiology images, including CT, MRI, and X-ray scans; quantifying features in pathology slides; measuring anatomical structures in ultrasounds; diagnosing diabetic retinopathy and other conditions from retinal images.\n",
    "- Genomics and Proteomics: Predicting protein structures (e.g., AlphaFold); classifying proteins based on sequence; analyzing tumor-normal sequencing for cancer research; identifying clinically actionable genetic mutations; classifying cells in microscopy images.\n",
    "- Image Generation: Enhancing medical images by increasing resolution; removing noise from MRI or ultrasound images; generating synthetic medical data for training purposes.\n",
    "- Recommendation Systems: Recommending personalized treatment options; identifying clinical trials for patients based on their genetic and medical history.\n",
    "- Robotics: Assisting in robotic surgeries; automating medical laboratory tasks like handling biological samples; improving precision in drug delivery systems.\n",
    "- Other Applications: Predicting disease progression; forecasting hospital resource allocation; converting text to speech for assisting visually impaired patients, and many more."
   ]
  },
  {
   "cell_type": "markdown",
   "metadata": {
    "slideshow": {
     "slide_type": "subslide"
    }
   },
   "source": [
    "What is remarkable about deep learning is its versatility across so many applications, yet nearly all of these advancements are built on a single type of model: the neural network. In the biomedical field, neural networks are at the core of systems used for diagnosing diseases from medical images, predicting patient outcomes, and even designing personalized treatment plans. The power of this model lies in its ability to learn complex patterns from vast amounts of healthcare data, whether from imaging, genomics, or patient monitoring systems."
   ]
  },
  {
   "cell_type": "markdown",
   "metadata": {
    "slideshow": {
     "slide_type": "slide"
    }
   },
   "source": [
    "## Neural Networks: A Brief History"
   ]
  },
  {
   "cell_type": "markdown",
   "metadata": {},
   "source": [
    "Neural networks, a foundational component of deep learning, have a long history that stretches back to the mid-20th century. Initially inspired by the architecture of the human brain, neural networks have evolved to become one of the most powerful tools in artificial intelligence. Thanks to their ability to learn complex, non-linear relationships,  in biomedical engineering neural networks are used to analyze complex medical datasets, such as those from MRI or CT scans, to detect patterns that can aid in diagnosing diseases. One prominent example is the use of neural networks for early detection of Alzheimer's Disease, where MRI images are processed to identify early signs of brain degeneration.\n"
   ]
  },
  {
   "cell_type": "markdown",
   "metadata": {
    "slideshow": {
     "slide_type": "fragment"
    }
   },
   "source": [
    "In 1943, Warren McCulloch, a neurophysiologist, and Walter Pitts, a logician, collaborated to develop a mathematical model of an artificial neuron. Their foundational paper, A Logical Calculus of the Ideas Immanent in Nervous Activity, proposed that:\n",
    "\n",
    ">Because of the “all-or-none” nature of nervous activity, neural events and their relations can be modeled using propositional logic. The behavior of every neural network can be described using these terms.\n",
    "\n",
    "This early work laid the foundation for modern neural networks, which now drive many biomedical innovations, such as interpreting brain activity, diagnosing neurological diseases, and aiding in cognitive rehabilitation."
   ]
  },
  {
   "cell_type": "markdown",
   "metadata": {
    "slideshow": {
     "slide_type": "subslide"
    }
   },
   "source": [
    "McCulloch and Pitts recognized that a simplified model of a biological neuron could be represented using basic mathematical operations, such as addition and thresholding. This model mimicked the behavior of neurons in the brain, where inputs from various sources are combined, and an output is triggered only if a certain threshold is reached. Today, this concept forms the basis of artificial neural networks used in a variety of biomedical applications, from analyzing neural activity to developing brain-computer interfaces."
   ]
  },
  {
   "cell_type": "markdown",
   "metadata": {
    "slideshow": {
     "slide_type": "fragment"
    }
   },
   "source": [
    "![perceptron](./images/networks/perceptron.png)"
   ]
  },
  {
   "cell_type": "markdown",
   "metadata": {
    "slideshow": {
     "slide_type": "subslide"
    }
   },
   "source": [
    "Rosenblatt advanced the concept of the artificial neuron by giving it the ability to learn. He also built the first device to implement these principles, the Mark I Perceptron. However, in their book *Perceptrons* (MIT Press), Minsky and Papert demonstrated that a single-layer perceptron was unable to learn certain fundamental mathematical functions (like XOR). They also noted that using multiple layers could overcome these limitations, although only the former insight gained wide attention. This led to a significant decline in research on neural networks for the next two decades. Despite this, modern deep learning, especially in biomedical fields like medical imaging and genomics, relies heavily on multi-layered neural networks to address complex healthcare problems."
   ]
  },
  {
   "cell_type": "markdown",
   "metadata": {
    "slideshow": {
     "slide_type": "subslide"
    }
   },
   "source": [
    "Perhaps the most pivotal work in neural networks over the last 50 years was the multi-volume *Parallel Distributed Processing* (PDP) by David Rumelhart, James McClellan, and the PDP Research Group, released in 1986. Chapter 1 expresses hope similar to that of Rosenblatt:\n",
    "\n",
    ">People are smarter than today's computers because the brain employs a basic computational architecture that is more suited to deal with a central aspect of natural information processing tasks. We will introduce a computational framework for modeling cognitive processes that seems closer than other frameworks to the style of computation done by the brain.\n",
    "\n",
    "This premise suggests that traditional computing methods are fundamentally different from how brains operate, and this might explain why computers have struggled to perform tasks, such as recognizing objects in images, which the brain handles effortlessly. In the field of biomedical engineering, this idea has driven the development of neural networks that can analyze brain activity, diagnose neurological conditions, and improve understanding of cognitive processes."
   ]
  },
  {
   "cell_type": "markdown",
   "metadata": {
    "slideshow": {
     "slide_type": "subslide"
    }
   },
   "source": [
    "In fact, the approach outlined in Parallel Distributed Processing (PDP) is strikingly similar to the neural networks we use today, especially in biomedical applications. PDP defined parallel distributed processing using several key components:\n",
    "\n",
    "- A set of **processing units** (neurons, both biological and artificial).\n",
    "- A **state of activation** (whether the neuron is \"firing\" or active).\n",
    "- An **output function** for each unit (how much the neuron is activated).\n",
    "- A **pattern of connectivity** among units (similar to the brain's synaptic connections).\n",
    "- A **propagation rule** for transmitting patterns of activity through the network (similar to the brain's signal transmission).\n",
    "- An **activation rule** for combining inputs and determining the output (mimicking neuron signal processing).\n",
    "- A **learning rule** to adjust the connections based on experience (similar to synaptic plasticity in the brain).\n",
    "- An **environment** within which the system operates (such as data from medical images, genomics, or real-time patient monitoring).\n",
    "\n",
    "These concepts have greatly influenced modern deep learning approaches in healthcare, particularly for applications like medical image analysis, predicting disease progression, and understanding neural processes."
   ]
  },
  {
   "cell_type": "markdown",
   "metadata": {
    "slideshow": {
     "slide_type": "subslide"
    }
   },
   "source": [
    "Although researchers demonstrated over 30 years ago that practical neural networks need more than two layers to achieve good performance, this insight has only recently been fully appreciated and applied. Today, neural networks are finally realizing their potential, especially in biomedical fields, due to the use of deeper networks, advances in computer hardware, increased availability of medical data, and algorithmic improvements that make it easier to train neural networks quickly and efficiently. These developments have enabled breakthroughs in areas such as automated medical diagnosis, drug discovery, and patient-specific treatment planning."
   ]
  },
  {
   "cell_type": "markdown",
   "metadata": {
    "slideshow": {
     "slide_type": "slide"
    }
   },
   "source": [
    "## How to Learn Deep Learning"
   ]
  },
  {
   "cell_type": "markdown",
   "metadata": {},
   "source": [
    "Learning deep learning is an essential skill for solving complex biomedical problems. From analyzing vast datasets of patient records to developing predictive models for disease progression, deep learning is becoming a vital tool for biomedical engineers. This section will guide you through the essential concepts, tools, and resources to help you become proficient in applying deep learning techniques to real-world healthcare challenges."
   ]
  },
  {
   "cell_type": "markdown",
   "metadata": {
    "slideshow": {
     "slide_type": "fragment"
    }
   },
   "source": [
    "The most challenging part of deep learning is practical: How do you ensure you have enough medical data? Is it in the correct format? Is your model training correctly? If not, how do you fix it? This is why learning by doing is essential. In biomedical engineering, hands-on experience with real datasets—such as patient records, imaging data, or genomic sequences—will improve your skills faster than purely focusing on theory. Solving real healthcare problems through coding will provide the necessary context and motivation to dive deeper into the theoretical aspects later."
   ]
  },
  {
   "cell_type": "markdown",
   "metadata": {
    "slideshow": {
     "slide_type": "slide"
    }
   },
   "source": [
    "## What Is a Neural Network?"
   ]
  },
  {
   "cell_type": "markdown",
   "metadata": {},
   "source": [
    "If we regard a neural network as a mathematical function, it is incredibly flexible depending on its weights. According to the *universal approximation theorem*, a neural network can theoretically solve any problem to any level of accuracy. This flexibility makes neural networks particularly suited for solving complex biomedical problems, such as detecting skin lesions or analyzing genomic sequences. The key challenge lies in training the network effectively, which involves finding the right weight assignments for the model.\n",
    "\n",
    "Thankfully, we don’t need a new mechanism for adjusting the weights for every task. Instead, *stochastic gradient descent* (SGD) allows us to automatically update the weights and improve the model for any given task, such as classifying medical images or predicting patient outcomes.\n",
    "\n"
   ]
  },
  {
   "cell_type": "markdown",
   "metadata": {},
   "source": [
    "## Limitations Inherent to Machine Learning\n",
    "\n",
    "Based on this understanding, we can highlight some fundamental aspects of training a deep learning model, particularly in biomedical applications:\n",
    "\n",
    "- A model cannot be created without data.\n",
    "- A model can only learn to recognize the patterns seen in the input data used during training.\n",
    "- This learning approach generates **predictions**, not recommended **actions** (e.g., diagnosing a skin lesion, but not determining treatment).\n",
    "- It's not enough to have just examples of input data; we also need **labels** for that data. For example, having images of skin lesions isn’t enough to train a model—each image needs to be labeled with information such as whether it indicates a benign or malignant condition.\n",
    "\n",
    "In healthcare, many organizations claim they don’t have enough data, but in reality, they often lack enough **labeled** data. For instance, dermatology clinics may have archives of skin lesion images, but these images might not have structured labels, as clinicians often provide free-text reports."
   ]
  },
  {
   "cell_type": "markdown",
   "metadata": {},
   "source": [
    "![cover](./images/networks/cover.png)"
   ]
  },
  {
   "cell_type": "markdown",
   "metadata": {},
   "source": [
    "\n",
    "\n",
    "Another critical insight comes from considering how a model interacts with its environment, particularly in healthcare settings. This interaction can create a **positive feedback loop**, where the more the model is used, the more biased the data becomes, potentially leading to even more biased predictions. For example, if a model trained on limited or biased patient demographics is used in a clinic, its predictions may reinforce existing biases in diagnosis, which can negatively affect patient care.\n"
   ]
  },
  {
   "cell_type": "markdown",
   "metadata": {},
   "source": [
    "## How a Medical Image Recognizer Works\n",
    "\n",
    "In this section, we will build and fine-tune a medical image recognizer that can classify colon pathologies from histology slides using the MedMNIST Dataset.\n",
    "\n",
    "The following code will provide:\n",
    "\n",
    "1. A **dataset**, which contains thousands of images of cancer histology slides labeled for colon pathology detection, will be downloaded to your local machine and extracted.\n",
    "2. A **pretrained model** that has already been trained on large-scale medical imaging datasets will be downloaded from the internet.\n",
    "3. The pretrained model will be **fine-tuned** using transfer learning, creating a model specially customized for recognizing specific diseases, such as pneumonia or lung abnormalities, from chest X-rays.\n"
   ]
  },
  {
   "cell_type": "code",
   "execution_count": 2,
   "metadata": {},
   "outputs": [
    {
     "name": "stdout",
     "output_type": "stream",
     "text": [
      "Using downloaded and verified file: ./datasets/ch8\\pathmnist.npz\n",
      "Using downloaded and verified file: ./datasets/ch8\\pathmnist.npz\n"
     ]
    }
   ],
   "source": [
    "from fastai.vision.all import *\n",
    "import medmnist\n",
    "\n",
    "# Choose a specific MedMNIST dataset (e.g., 'pathmnist')\n",
    "data_flag = 'pathmnist'\n",
    "download = True\n",
    "\n",
    "# Ensure the target folder exists\n",
    "path = './datasets/ch8'\n",
    "os.makedirs(path, exist_ok=True)\n",
    "\n",
    "# Load the chosen MedMNIST dataset\n",
    "info = medmnist.INFO[data_flag]\n",
    "dataset_class = getattr(medmnist, info['python_class'])\n",
    "train_dataset = dataset_class(split='train', download=download, root=path)\n",
    "test_dataset = dataset_class(split='test', download=download, root=path)\n"
   ]
  },
  {
   "cell_type": "code",
   "execution_count": 3,
   "metadata": {},
   "outputs": [
    {
     "name": "stdout",
     "output_type": "stream",
     "text": [
      "Using downloaded and verified file: datasets\\ch8\\pathmnist.npz\n",
      "Using downloaded and verified file: datasets\\ch8\\pathmnist.npz\n"
     ]
    }
   ],
   "source": [
    "from fastai.vision.all import *\n",
    "import medmnist\n",
    "from medmnist import INFO\n",
    "import os\n",
    "from torchvision import transforms\n",
    "\n",
    "# Choose a specific MedMNIST dataset (e.g., 'pathmnist')\n",
    "data_flag = 'pathmnist'\n",
    "download = True\n",
    "\n",
    "# Ensure the target folder exists\n",
    "path = Path('./datasets/ch8')\n",
    "os.makedirs(path, exist_ok=True)\n",
    "\n",
    "# Load the chosen MedMNIST dataset\n",
    "info = INFO[data_flag]\n",
    "dataset_class = getattr(medmnist, info['python_class'])\n",
    "train_dataset = dataset_class(split='train', download=download, root=path)\n",
    "test_dataset = dataset_class(split='test', download=download, root=path)\n"
   ]
  },
  {
   "cell_type": "code",
   "execution_count": 4,
   "metadata": {},
   "outputs": [],
   "source": [
    "# Create a function to convert MedMNIST dataset to Fastai's DataLoader\n",
    "def medmnist_to_fastai(train_dataset, test_dataset):\n",
    "    train_images, train_labels = train_dataset.imgs, train_dataset.labels\n",
    "    test_images, test_labels = test_dataset.imgs, test_dataset.labels\n",
    "    \n",
    "    # Convert images and labels into a DataFrame to work with Fastai's DataBlock\n",
    "    df_train = pd.DataFrame({'image': [Image.fromarray(img, 'RGB') for img in train_images], \n",
    "                             'label': train_labels.squeeze()})\n",
    "    df_test = pd.DataFrame({'image': [Image.fromarray(img, 'RGB') for img in test_images], \n",
    "                            'label': test_labels.squeeze()})\n",
    "    \n",
    "    return df_train, df_test\n",
    "\n",
    "# Convert MedMNIST to DataFrame suitable for Fastai\n",
    "df_train, df_test = medmnist_to_fastai(train_dataset, test_dataset)\n",
    "\n",
    "valid_pct = 0.02 # the validation percentage is low to speed up calculations\n",
    "\n",
    "# Define DataBlock for Fastai\n",
    "dblock = DataBlock(\n",
    "    blocks=(ImageBlock(PILImage), CategoryBlock),\n",
    "    get_x=ColReader('image'),\n",
    "    get_y=ColReader('label'),\n",
    "    splitter=RandomSplitter(valid_pct=valid_pct), \n",
    "    #item_tfms=Resize(28),\n",
    "    batch_tfms=aug_transforms()\n",
    ")"
   ]
  },
  {
   "cell_type": "markdown",
   "metadata": {},
   "source": [
    "`DataLoaders` is a thin class that just stores whatever `DataLoader` objects you pass to it, and makes them available as `train` and `valid`. Although it's a very simple class, it's very important in fastai: it provides the data for your model. The key functionality in `DataLoaders` is provided with just these four lines of code (it has some other minor functionality we'll skip over for now):\n",
    "\n",
    "```python\n",
    "class DataLoaders(GetAttr):\n",
    "    def __init__(self, *loaders): self.loaders = loaders\n",
    "    def __getitem__(self, i): return self.loaders[i]\n",
    "    train,valid = add_props(lambda i,self: self[i])\n",
    "```"
   ]
  },
  {
   "cell_type": "markdown",
   "metadata": {},
   "source": [
    "> DataLoaders: A fastai class that stores multiple `DataLoader` objects you pass to it, normally a `train` and a `valid`, although it's possible to have as many as you like. The first two are made available as properties."
   ]
  },
  {
   "cell_type": "markdown",
   "metadata": {},
   "source": [
    "To turn our downloaded data into a `DataLoaders` object we need to tell fastai at least four things:\n",
    "\n",
    "- What kinds of data we are working with\n",
    "- How to get the list of items\n",
    "- How to label these items\n",
    "- How to create the validation set\n",
    "\n",
    "fastai has a number of *factory methods* for particular combinations of these things, which are convenient when you have an application and data structure that happen to fit into those predefined methods. For when you don't, fastai has an extremely flexible system called the *data block API*. With this API you can fully customize every stage of the creation of your `DataLoaders`."
   ]
  },
  {
   "cell_type": "markdown",
   "metadata": {},
   "source": [
    "Let's look at each of these arguments in turn. First we provide a tuple where we specify what types we want for the independent and dependent variables: \n",
    "\n",
    "```python\n",
    "blocks=(ImageBlock, CategoryBlock)\n",
    "```\n",
    "\n",
    "The *independent variable* is the thing we are using to make predictions from, and the *dependent variable* is our target. In this case, our independent variables are images, and our dependent variables are the categories (type of bear) for each image. \n",
    "\n",
    "For this `DataLoaders` our underlying items will be in a dataframe. To tell fastai how to get them we use:\n",
    "\n",
    "```python\n",
    "get_x=ColReader('image')\n",
    "```"
   ]
  },
  {
   "cell_type": "markdown",
   "metadata": {},
   "source": [
    "The independent variable is often referred to as `x` and the dependent variable is often referred to as `y`. Here, we are telling fastai what function to call to create the labels in our dataset:\n",
    "\n",
    "```python\n",
    "get_y=ColReader('labels')\n",
    "```\n"
   ]
  },
  {
   "cell_type": "markdown",
   "metadata": {},
   "source": [
    "In the data block, we define the `Transform`s that we need. A `Transform` contains code that is applied automatically during training; fastai includes many predefined Transforms, and adding new ones is as simple as creating a Python function. There are two kinds: `item_tfms` are applied to each item, while `batch_tfms` are applied to a *batch* of items at a time using the GPU, so they're particularly fast."
   ]
  },
  {
   "cell_type": "markdown",
   "metadata": {},
   "source": [
    "\n",
    "Now that we have a `DataBlock` object, we use it like a *template* for creating a `DataLoaders`. We still need to tell fastai the actual source of our data—in this case, the dataframe:"
   ]
  },
  {
   "cell_type": "code",
   "execution_count": 5,
   "metadata": {},
   "outputs": [],
   "source": [
    "# Create DataLoaders\n",
    "n = 500\n",
    "dls = dblock.dataloaders(df_train, bs=64, n=n) # to speed up training we use only 500 images from the training dataset, you can either change the number or remove it to use the whole dataset."
   ]
  },
  {
   "cell_type": "markdown",
   "metadata": {},
   "source": [
    "A `DataLoaders` includes validation and training `DataLoader`s. `DataLoader` is a class that provides batches of a few items at a time to the GPU. When you loop through a `DataLoader` fastai will give you 64 (by default) items at a time, all stacked up into a single tensor. We can take a look at a few of those items by calling the `show_batch` method on a `DataLoader`:"
   ]
  },
  {
   "cell_type": "code",
   "execution_count": 6,
   "metadata": {},
   "outputs": [
    {
     "data": {
      "image/png": "[encoded data removed]",
      "text/plain": [
       "<Figure size 900x900 with 9 Axes>"
      ]
     },
     "metadata": {},
     "output_type": "display_data"
    }
   ],
   "source": [
    "dls.show_batch()"
   ]
  },
  {
   "cell_type": "markdown",
   "metadata": {},
   "source": [
    "The next line of the code training our image recognizer tells fastai to create a *convolutional neural network* (CNN) and specifies what *architecture* to use (i.e. what kind of model to create), what data we want to train it on, and what *metric* to use:\n",
    "\n",
    "```python\n",
    "learn = vision_learner(dls, resnet18, metrics=error_rate)\n",
    "```\n",
    "\n",
    "CNN it's the current state-of-the-art approach to creating computer vision models. Their structure is inspired by how the human vision system works.\n",
    "\n",
    "Most of the time, however, picking an architecture isn't a very important part of the deep learning process. It's something that academics love to talk about, but in practice it is unlikely to be something you need to spend much time on. There are some standard architectures that work most of the time, and in this case we're using one called _ResNet_; it is both fast and accurate for many datasets and problems. The `18` in `resnet18` refers to the number of layers in this variant of the architecture (other options are `34`, `50`, `101`, and `152`). Models using architectures with more layers take longer to train, and are more prone to overfitting (i.e. you can't train them for as many epochs before the accuracy on the validation set starts getting worse). On the other hand, when using more data, they can be quite a bit more accurate."
   ]
  },
  {
   "cell_type": "code",
   "execution_count": 7,
   "metadata": {},
   "outputs": [
    {
     "data": {
      "text/html": [
       "\n",
       "<style>\n",
       "    /* Turns off some styling */\n",
       "    progress {\n",
       "        /* gets rid of default border in Firefox and Opera. */\n",
       "        border: none;\n",
       "        /* Needs to be in here for Safari polyfill so background images work as expected. */\n",
       "        background-size: auto;\n",
       "    }\n",
       "    progress:not([value]), progress:not([value])::-webkit-progress-bar {\n",
       "        background: repeating-linear-gradient(45deg, #7e7e7e, #7e7e7e 10px, #5c5c5c 10px, #5c5c5c 20px);\n",
       "    }\n",
       "    .progress-bar-interrupted, .progress-bar-interrupted::-webkit-progress-bar {\n",
       "        background: #F44336;\n",
       "    }\n",
       "</style>\n"
      ],
      "text/plain": [
       "<IPython.core.display.HTML object>"
      ]
     },
     "metadata": {},
     "output_type": "display_data"
    },
    {
     "data": {
      "text/html": [
       "<table border=\"1\" class=\"dataframe\">\n",
       "  <thead>\n",
       "    <tr style=\"text-align: left;\">\n",
       "      <th>epoch</th>\n",
       "      <th>train_loss</th>\n",
       "      <th>valid_loss</th>\n",
       "      <th>error_rate</th>\n",
       "      <th>time</th>\n",
       "    </tr>\n",
       "  </thead>\n",
       "  <tbody>\n",
       "    <tr>\n",
       "      <td>0</td>\n",
       "      <td>3.261369</td>\n",
       "      <td>1.991843</td>\n",
       "      <td>0.743747</td>\n",
       "      <td>00:03</td>\n",
       "    </tr>\n",
       "  </tbody>\n",
       "</table>"
      ],
      "text/plain": [
       "<IPython.core.display.HTML object>"
      ]
     },
     "metadata": {},
     "output_type": "display_data"
    },
    {
     "data": {
      "text/html": [
       "\n",
       "<style>\n",
       "    /* Turns off some styling */\n",
       "    progress {\n",
       "        /* gets rid of default border in Firefox and Opera. */\n",
       "        border: none;\n",
       "        /* Needs to be in here for Safari polyfill so background images work as expected. */\n",
       "        background-size: auto;\n",
       "    }\n",
       "    progress:not([value]), progress:not([value])::-webkit-progress-bar {\n",
       "        background: repeating-linear-gradient(45deg, #7e7e7e, #7e7e7e 10px, #5c5c5c 10px, #5c5c5c 20px);\n",
       "    }\n",
       "    .progress-bar-interrupted, .progress-bar-interrupted::-webkit-progress-bar {\n",
       "        background: #F44336;\n",
       "    }\n",
       "</style>\n"
      ],
      "text/plain": [
       "<IPython.core.display.HTML object>"
      ]
     },
     "metadata": {},
     "output_type": "display_data"
    },
    {
     "data": {
      "text/html": [
       "<table border=\"1\" class=\"dataframe\">\n",
       "  <thead>\n",
       "    <tr style=\"text-align: left;\">\n",
       "      <th>epoch</th>\n",
       "      <th>train_loss</th>\n",
       "      <th>valid_loss</th>\n",
       "      <th>error_rate</th>\n",
       "      <th>time</th>\n",
       "    </tr>\n",
       "  </thead>\n",
       "  <tbody>\n",
       "    <tr>\n",
       "      <td>0</td>\n",
       "      <td>2.329051</td>\n",
       "      <td>1.788579</td>\n",
       "      <td>0.648138</td>\n",
       "      <td>00:06</td>\n",
       "    </tr>\n",
       "    <tr>\n",
       "      <td>1</td>\n",
       "      <td>2.204921</td>\n",
       "      <td>1.521289</td>\n",
       "      <td>0.540300</td>\n",
       "      <td>00:06</td>\n",
       "    </tr>\n",
       "    <tr>\n",
       "      <td>2</td>\n",
       "      <td>2.098126</td>\n",
       "      <td>1.478716</td>\n",
       "      <td>0.496943</td>\n",
       "      <td>00:06</td>\n",
       "    </tr>\n",
       "  </tbody>\n",
       "</table>"
      ],
      "text/plain": [
       "<IPython.core.display.HTML object>"
      ]
     },
     "metadata": {},
     "output_type": "display_data"
    },
    {
     "data": {
      "text/html": [
       "\n",
       "<style>\n",
       "    /* Turns off some styling */\n",
       "    progress {\n",
       "        /* gets rid of default border in Firefox and Opera. */\n",
       "        border: none;\n",
       "        /* Needs to be in here for Safari polyfill so background images work as expected. */\n",
       "        background-size: auto;\n",
       "    }\n",
       "    progress:not([value]), progress:not([value])::-webkit-progress-bar {\n",
       "        background: repeating-linear-gradient(45deg, #7e7e7e, #7e7e7e 10px, #5c5c5c 10px, #5c5c5c 20px);\n",
       "    }\n",
       "    .progress-bar-interrupted, .progress-bar-interrupted::-webkit-progress-bar {\n",
       "        background: #F44336;\n",
       "    }\n",
       "</style>\n"
      ],
      "text/plain": [
       "<IPython.core.display.HTML object>"
      ]
     },
     "metadata": {},
     "output_type": "display_data"
    },
    {
     "data": {
      "text/html": [],
      "text/plain": [
       "<IPython.core.display.HTML object>"
      ]
     },
     "metadata": {},
     "output_type": "display_data"
    },
    {
     "data": {
      "image/png": "[encoded data removed]",
      "text/plain": [
       "<Figure size 900x900 with 9 Axes>"
      ]
     },
     "metadata": {},
     "output_type": "display_data"
    }
   ],
   "source": [
    "# Train the model using a ResNet architecture\n",
    "learn = vision_learner(dls, \n",
    "                       resnet18, \n",
    "                       metrics=error_rate, \n",
    "                       # cbs=ShortEpochCallback(.01, short_valid=False),\n",
    "                       )\n",
    "learn.fine_tune(3)\n",
    "\n",
    "# Show some results\n",
    "learn.show_results()\n"
   ]
  },
  {
   "cell_type": "markdown",
   "metadata": {},
   "source": [
    "A *metric* is a function that measures the quality of the model's predictions using the validation set, and will be printed at the end of each *epoch*. In this case, we're using `error_rate`, which is a function provided by fastai that does just what it says: tells you what percentage of images in the validation set are being classified incorrectly. Another common metric for classification is `accuracy` (which is just `1.0 - error_rate`). \n",
    "\n",
    "The concept of a metric may remind you of *loss*, but there is an important distinction. The entire purpose of loss is to define a \"measure of performance\" that the training system can use to update weights automatically. In other words, a good choice for loss is a choice that is easy for stochastic gradient descent to use. But a metric is defined for human consumption, so a good metric is one that is easy for you to understand, and that is as close as possible to what you want the model to do. At times, you might decide that the loss function is a suitable metric, but that is not necessarily the case."
   ]
  },
  {
   "cell_type": "markdown",
   "metadata": {},
   "source": [
    "`vision_learner` also has a parameter `pretrained`, which defaults to `True` (so it's used in this case, even though we haven't specified it), which sets the weights in your model to values that have already been trained by experts to recognize a thousand different categories across 1.3 million photos (using the famous [*ImageNet* dataset](http://www.image-net.org/)). A model that has weights that have already been trained on some other dataset is called a *pretrained model*. A pretrained model can be very useful, because it means that your model, before you've even shown it any of your data, is already very capable. And, as you'll see, in a deep learning model many of these capabilities are things you'll need, almost regardless of the details of your project. For instance, parts of pretrained models will handle edge, gradient, and color detection, which are needed for many tasks.\n",
    "\n",
    "When using a pretrained model, `vision_learner` will remove the last layer, since that is always specifically customized to the original training task (i.e. ImageNet dataset classification), and replace it with one or more new layers with randomized weights, of an appropriate size for the dataset you are working with. This last part of the model is known as the *head*.\n",
    "\n",
    "Using pretrained models is the *most* important method we have to allow us to train more accurate models, more quickly, with less data, and less time and money. \n"
   ]
  },
  {
   "cell_type": "markdown",
   "metadata": {},
   "source": [
    "> Transfer learning: Using a pretrained model for a task different to what it was originally trained for."
   ]
  },
  {
   "cell_type": "markdown",
   "metadata": {},
   "source": [
    "fastai will *always* show the model's accuracy using *only* the validation set, *never* the training set. This is absolutely critical, because if you train a large enough model for a long enough time, it will eventually memorize the label of every item in your dataset! The result will not actually be a useful model, because what we care about is how well our model works on *previously unseen images*. That is always our goal when creating a model: for it to be useful on data that the model only sees in the future, after it has been trained.\n",
    "\n",
    "Even when your model has not fully memorized all your data, earlier on in training it may have memorized certain parts of it. As a result, the longer you train for, the better your accuracy will get on the training set; the validation set accuracy will also improve for a while, but eventually it will start getting worse as the model starts to memorize the training set, rather than finding generalizable underlying patterns in the data. When this happens, we say that the model is *overfitting*.\n"
   ]
  },
  {
   "cell_type": "markdown",
   "metadata": {},
   "source": [
    "\n",
    "\n",
    "The model we just fine-tuned uses a **pretrained ResNet** model, which has already learned to recognize general images. We then adapted it to the PathMNIST dataset. After fine-tuning, the model is specialized in classifying colon pathologies.\n"
   ]
  },
  {
   "cell_type": "markdown",
   "metadata": {},
   "source": [
    "So, how do we know if this model is any good? In the last column of the table, you can see the **error rate**, which represents the proportion of images that were incorrectly classified (e.g., misdiagnosing a pathology). The error rate is our key metric, providing an intuitive measure of the model’s quality.\n"
   ]
  },
  {
   "cell_type": "code",
   "execution_count": 9,
   "metadata": {},
   "outputs": [
    {
     "data": {
      "text/html": [
       "\n",
       "<style>\n",
       "    /* Turns off some styling */\n",
       "    progress {\n",
       "        /* gets rid of default border in Firefox and Opera. */\n",
       "        border: none;\n",
       "        /* Needs to be in here for Safari polyfill so background images work as expected. */\n",
       "        background-size: auto;\n",
       "    }\n",
       "    progress:not([value]), progress:not([value])::-webkit-progress-bar {\n",
       "        background: repeating-linear-gradient(45deg, #7e7e7e, #7e7e7e 10px, #5c5c5c 10px, #5c5c5c 20px);\n",
       "    }\n",
       "    .progress-bar-interrupted, .progress-bar-interrupted::-webkit-progress-bar {\n",
       "        background: #F44336;\n",
       "    }\n",
       "</style>\n"
      ],
      "text/plain": [
       "<IPython.core.display.HTML object>"
      ]
     },
     "metadata": {},
     "output_type": "display_data"
    },
    {
     "data": {
      "text/html": [],
      "text/plain": [
       "<IPython.core.display.HTML object>"
      ]
     },
     "metadata": {},
     "output_type": "display_data"
    },
    {
     "data": {
      "text/html": [
       "\n",
       "<style>\n",
       "    /* Turns off some styling */\n",
       "    progress {\n",
       "        /* gets rid of default border in Firefox and Opera. */\n",
       "        border: none;\n",
       "        /* Needs to be in here for Safari polyfill so background images work as expected. */\n",
       "        background-size: auto;\n",
       "    }\n",
       "    progress:not([value]), progress:not([value])::-webkit-progress-bar {\n",
       "        background: repeating-linear-gradient(45deg, #7e7e7e, #7e7e7e 10px, #5c5c5c 10px, #5c5c5c 20px);\n",
       "    }\n",
       "    .progress-bar-interrupted, .progress-bar-interrupted::-webkit-progress-bar {\n",
       "        background: #F44336;\n",
       "    }\n",
       "</style>\n"
      ],
      "text/plain": [
       "<IPython.core.display.HTML object>"
      ]
     },
     "metadata": {},
     "output_type": "display_data"
    },
    {
     "data": {
      "text/html": [],
      "text/plain": [
       "<IPython.core.display.HTML object>"
      ]
     },
     "metadata": {},
     "output_type": "display_data"
    },
    {
     "data": {
      "image/png": "[encoded data removed]",
      "text/plain": [
       "<Figure size 640x480 with 1 Axes>"
      ]
     },
     "metadata": {},
     "output_type": "display_data"
    }
   ],
   "source": [
    "# Evaluate the model\n",
    "interp = ClassificationInterpretation.from_learner(learn)\n",
    "interp.plot_confusion_matrix()"
   ]
  },
  {
   "cell_type": "markdown",
   "metadata": {},
   "source": [
    "\n",
    "The confusion matrix shows the number of correct and incorrect predictions the model made. This visualization helps us understand where the model struggles, such as distinguishing between similar skin lesions.\n"
   ]
  },
  {
   "cell_type": "markdown",
   "metadata": {},
   "source": [
    "Now you can pass a histology slide image to the model for classification. Ensure that it is a valid image. The notebook will analyze the image and provide its prediction along with a confidence score.\n"
   ]
  },
  {
   "cell_type": "code",
   "execution_count": 10,
   "metadata": {},
   "outputs": [
    {
     "data": {
      "text/html": [
       "\n",
       "<style>\n",
       "    /* Turns off some styling */\n",
       "    progress {\n",
       "        /* gets rid of default border in Firefox and Opera. */\n",
       "        border: none;\n",
       "        /* Needs to be in here for Safari polyfill so background images work as expected. */\n",
       "        background-size: auto;\n",
       "    }\n",
       "    progress:not([value]), progress:not([value])::-webkit-progress-bar {\n",
       "        background: repeating-linear-gradient(45deg, #7e7e7e, #7e7e7e 10px, #5c5c5c 10px, #5c5c5c 20px);\n",
       "    }\n",
       "    .progress-bar-interrupted, .progress-bar-interrupted::-webkit-progress-bar {\n",
       "        background: #F44336;\n",
       "    }\n",
       "</style>\n"
      ],
      "text/plain": [
       "<IPython.core.display.HTML object>"
      ]
     },
     "metadata": {},
     "output_type": "display_data"
    },
    {
     "data": {
      "text/html": [],
      "text/plain": [
       "<IPython.core.display.HTML object>"
      ]
     },
     "metadata": {},
     "output_type": "display_data"
    },
    {
     "name": "stdout",
     "output_type": "stream",
     "text": [
      "Prediction: 7; Probability: 0.3714\n"
     ]
    },
    {
     "data": {
      "text/plain": [
       "<Axes: >"
      ]
     },
     "execution_count": 10,
     "metadata": {},
     "output_type": "execute_result"
    },
    {
     "data": {
      "image/png": "[encoded data removed]",
      "text/plain": [
       "<Figure size 100x100 with 1 Axes>"
      ]
     },
     "metadata": {},
     "output_type": "display_data"
    }
   ],
   "source": [
    "im = PILImage.create(test_dataset.imgs[0])\n",
    "pred, pred_idx, probs = learn.predict(im)\n",
    "print(f\"Prediction: {pred}; Probability: {probs[pred_idx]:.04f}\")\n",
    "im.show()"
   ]
  },
  {
   "cell_type": "markdown",
   "metadata": {},
   "source": [
    "\n",
    "\n",
    "### How Neural Networks Make Predictions\n",
    "\n",
    "When you pass an image through the neural network, the model processes it through several layers. Each layer performs mathematical operations on the input data (e.g., pixels of the image) and progressively refines its understanding of the image's features. For instance, the first layers might detect simple patterns like edges, while deeper layers might recognize complex structures, such as shapes that are characteristic of certain skin lesions. Finally, the model makes a prediction by assigning a probability to each possible class (e.g., benign or malignant).\n",
    "\n",
    "\n"
   ]
  },
  {
   "cell_type": "markdown",
   "metadata": {},
   "source": [
    "\n",
    "\n",
    "### Improving the Model\n",
    "\n",
    "If the model’s performance isn’t satisfactory, there are several ways we can improve it:\n",
    "\n",
    "1. **Data Augmentation**: Applying transformations like flipping, rotating, and zooming in on the images to artificially increase the diversity of the training set.\n",
    "   \n",
    "2. **Fine-tuning**: Training the model for more epochs or adjusting the learning rate to improve performance.\n",
    "\n"
   ]
  },
  {
   "cell_type": "code",
   "execution_count": 14,
   "metadata": {},
   "outputs": [
    {
     "data": {
      "text/html": [
       "\n",
       "<style>\n",
       "    /* Turns off some styling */\n",
       "    progress {\n",
       "        /* gets rid of default border in Firefox and Opera. */\n",
       "        border: none;\n",
       "        /* Needs to be in here for Safari polyfill so background images work as expected. */\n",
       "        background-size: auto;\n",
       "    }\n",
       "    progress:not([value]), progress:not([value])::-webkit-progress-bar {\n",
       "        background: repeating-linear-gradient(45deg, #7e7e7e, #7e7e7e 10px, #5c5c5c 10px, #5c5c5c 20px);\n",
       "    }\n",
       "    .progress-bar-interrupted, .progress-bar-interrupted::-webkit-progress-bar {\n",
       "        background: #F44336;\n",
       "    }\n",
       "</style>\n"
      ],
      "text/plain": [
       "<IPython.core.display.HTML object>"
      ]
     },
     "metadata": {},
     "output_type": "display_data"
    },
    {
     "data": {
      "text/html": [
       "<table border=\"1\" class=\"dataframe\">\n",
       "  <thead>\n",
       "    <tr style=\"text-align: left;\">\n",
       "      <th>epoch</th>\n",
       "      <th>train_loss</th>\n",
       "      <th>valid_loss</th>\n",
       "      <th>error_rate</th>\n",
       "      <th>time</th>\n",
       "    </tr>\n",
       "  </thead>\n",
       "  <tbody>\n",
       "    <tr>\n",
       "      <td>0</td>\n",
       "      <td>3.223267</td>\n",
       "      <td>1.971703</td>\n",
       "      <td>0.767649</td>\n",
       "      <td>00:03</td>\n",
       "    </tr>\n",
       "  </tbody>\n",
       "</table>"
      ],
      "text/plain": [
       "<IPython.core.display.HTML object>"
      ]
     },
     "metadata": {},
     "output_type": "display_data"
    },
    {
     "data": {
      "text/html": [
       "\n",
       "<style>\n",
       "    /* Turns off some styling */\n",
       "    progress {\n",
       "        /* gets rid of default border in Firefox and Opera. */\n",
       "        border: none;\n",
       "        /* Needs to be in here for Safari polyfill so background images work as expected. */\n",
       "        background-size: auto;\n",
       "    }\n",
       "    progress:not([value]), progress:not([value])::-webkit-progress-bar {\n",
       "        background: repeating-linear-gradient(45deg, #7e7e7e, #7e7e7e 10px, #5c5c5c 10px, #5c5c5c 20px);\n",
       "    }\n",
       "    .progress-bar-interrupted, .progress-bar-interrupted::-webkit-progress-bar {\n",
       "        background: #F44336;\n",
       "    }\n",
       "</style>\n"
      ],
      "text/plain": [
       "<IPython.core.display.HTML object>"
      ]
     },
     "metadata": {},
     "output_type": "display_data"
    },
    {
     "data": {
      "text/html": [
       "<table border=\"1\" class=\"dataframe\">\n",
       "  <thead>\n",
       "    <tr style=\"text-align: left;\">\n",
       "      <th>epoch</th>\n",
       "      <th>train_loss</th>\n",
       "      <th>valid_loss</th>\n",
       "      <th>error_rate</th>\n",
       "      <th>time</th>\n",
       "    </tr>\n",
       "  </thead>\n",
       "  <tbody>\n",
       "    <tr>\n",
       "      <td>0</td>\n",
       "      <td>2.756138</td>\n",
       "      <td>1.978324</td>\n",
       "      <td>0.758755</td>\n",
       "      <td>00:07</td>\n",
       "    </tr>\n",
       "    <tr>\n",
       "      <td>1</td>\n",
       "      <td>2.596331</td>\n",
       "      <td>1.620664</td>\n",
       "      <td>0.555864</td>\n",
       "      <td>00:07</td>\n",
       "    </tr>\n",
       "    <tr>\n",
       "      <td>2</td>\n",
       "      <td>2.398460</td>\n",
       "      <td>1.464274</td>\n",
       "      <td>0.487493</td>\n",
       "      <td>00:06</td>\n",
       "    </tr>\n",
       "    <tr>\n",
       "      <td>3</td>\n",
       "      <td>2.201341</td>\n",
       "      <td>1.493079</td>\n",
       "      <td>0.470817</td>\n",
       "      <td>00:07</td>\n",
       "    </tr>\n",
       "    <tr>\n",
       "      <td>4</td>\n",
       "      <td>2.026988</td>\n",
       "      <td>1.461085</td>\n",
       "      <td>0.450806</td>\n",
       "      <td>00:06</td>\n",
       "    </tr>\n",
       "    <tr>\n",
       "      <td>5</td>\n",
       "      <td>1.895333</td>\n",
       "      <td>1.492575</td>\n",
       "      <td>0.429127</td>\n",
       "      <td>00:07</td>\n",
       "    </tr>\n",
       "    <tr>\n",
       "      <td>6</td>\n",
       "      <td>1.818913</td>\n",
       "      <td>1.432546</td>\n",
       "      <td>0.412451</td>\n",
       "      <td>00:07</td>\n",
       "    </tr>\n",
       "    <tr>\n",
       "      <td>7</td>\n",
       "      <td>1.730843</td>\n",
       "      <td>1.443276</td>\n",
       "      <td>0.413007</td>\n",
       "      <td>00:06</td>\n",
       "    </tr>\n",
       "    <tr>\n",
       "      <td>8</td>\n",
       "      <td>1.669149</td>\n",
       "      <td>1.406350</td>\n",
       "      <td>0.410228</td>\n",
       "      <td>00:07</td>\n",
       "    </tr>\n",
       "    <tr>\n",
       "      <td>9</td>\n",
       "      <td>1.632360</td>\n",
       "      <td>1.405136</td>\n",
       "      <td>0.409672</td>\n",
       "      <td>00:07</td>\n",
       "    </tr>\n",
       "  </tbody>\n",
       "</table>"
      ],
      "text/plain": [
       "<IPython.core.display.HTML object>"
      ]
     },
     "metadata": {},
     "output_type": "display_data"
    }
   ],
   "source": [
    "# Example of data augmentation\n",
    "dblock = DataBlock(\n",
    "    blocks=(ImageBlock(PILImage), CategoryBlock),\n",
    "    get_x=ColReader('image'),\n",
    "    get_y=ColReader('label'),\n",
    "    splitter=RandomSplitter(valid_pct=valid_pct),\n",
    "    #item_tfms=Resize(28),\n",
    "    batch_tfms=aug_transforms(do_flip=True, flip_vert=True, max_rotate=30)\n",
    ")\n",
    "\n",
    "# Create DataLoaders\n",
    "dls = dblock.dataloaders(df_train, bs=64, n=n)\n",
    "learn = vision_learner(dls, \n",
    "                       resnet18, \n",
    "                       metrics=error_rate,\n",
    "                    #    cbs=ShortEpochCallback(.1, short_valid=False),\n",
    "                       )\n",
    "learn.fine_tune(10)"
   ]
  },
  {
   "cell_type": "markdown",
   "metadata": {},
   "source": [
    "\n",
    "By augmenting the data and fine-tuning the model, we can potentially reduce the error rate and improve the model’s ability to generalize."
   ]
  },
  {
   "cell_type": "markdown",
   "metadata": {},
   "source": [
    "\n",
    "\n",
    "### Evaluating Model Performance\n",
    "\n",
    "Once the model has been trained, it’s crucial to evaluate its performance using a validation set. In our case, we split the dataset into 80% training images and 20% validation images. The model’s performance on the validation set is a strong indicator of how well it will generalize to new, unseen data.\n",
    "\n"
   ]
  },
  {
   "cell_type": "code",
   "execution_count": 15,
   "metadata": {},
   "outputs": [
    {
     "data": {
      "text/plain": [
       "<Axes: title={'center': 'learning curve'}, xlabel='steps', ylabel='loss'>"
      ]
     },
     "execution_count": 15,
     "metadata": {},
     "output_type": "execute_result"
    },
    {
     "data": {
      "image/png": "[encoded data removed]",
      "text/plain": [
       "<Figure size 640x480 with 1 Axes>"
      ]
     },
     "metadata": {},
     "output_type": "display_data"
    }
   ],
   "source": [
    "# Plot the loss curves to evaluate training and validation performance\n",
    "learn.recorder.plot_loss(0)"
   ]
  },
  {
   "cell_type": "markdown",
   "metadata": {},
   "source": [
    "\n",
    "The loss curve helps us understand whether the model is overfitting (learning too much from the training data but performing poorly on new data) or underfitting (failing to capture the complexity of the data).\n",
    "\n"
   ]
  },
  {
   "cell_type": "markdown",
   "metadata": {},
   "source": [
    "\n",
    "### Limitations and Ethical Considerations\n",
    "\n",
    "It’s important to recognize that while machine learning models like this one can assist in diagnosing medical conditions, they are not perfect. Misclassifications can occur, and it's crucial to ensure that such models are evaluated rigorously before being used in clinical settings. Additionally, considerations like data privacy, informed consent, and bias in training data must be addressed to avoid unintended consequences, such as biased diagnoses for certain demographic groups.\n",
    "\n"
   ]
  },
  {
   "cell_type": "markdown",
   "metadata": {},
   "source": [
    "### Handling Overfitting\n",
    "\n",
    "One of the most common challenges in machine learning, particularly with smaller datasets like the ISIC dataset, is **overfitting**. Overfitting occurs when the model learns the details and noise in the training data to the extent that it negatively impacts its performance on new data. To mitigate overfitting, we can use techniques such as **dropout** and **regularization**.\n",
    "\n"
   ]
  },
  {
   "cell_type": "code",
   "execution_count": 16,
   "metadata": {},
   "outputs": [
    {
     "data": {
      "text/html": [
       "\n",
       "<style>\n",
       "    /* Turns off some styling */\n",
       "    progress {\n",
       "        /* gets rid of default border in Firefox and Opera. */\n",
       "        border: none;\n",
       "        /* Needs to be in here for Safari polyfill so background images work as expected. */\n",
       "        background-size: auto;\n",
       "    }\n",
       "    progress:not([value]), progress:not([value])::-webkit-progress-bar {\n",
       "        background: repeating-linear-gradient(45deg, #7e7e7e, #7e7e7e 10px, #5c5c5c 10px, #5c5c5c 20px);\n",
       "    }\n",
       "    .progress-bar-interrupted, .progress-bar-interrupted::-webkit-progress-bar {\n",
       "        background: #F44336;\n",
       "    }\n",
       "</style>\n"
      ],
      "text/plain": [
       "<IPython.core.display.HTML object>"
      ]
     },
     "metadata": {},
     "output_type": "display_data"
    },
    {
     "data": {
      "text/html": [
       "<table border=\"1\" class=\"dataframe\">\n",
       "  <thead>\n",
       "    <tr style=\"text-align: left;\">\n",
       "      <th>epoch</th>\n",
       "      <th>train_loss</th>\n",
       "      <th>valid_loss</th>\n",
       "      <th>error_rate</th>\n",
       "      <th>time</th>\n",
       "    </tr>\n",
       "  </thead>\n",
       "  <tbody>\n",
       "    <tr>\n",
       "      <td>0</td>\n",
       "      <td>3.199423</td>\n",
       "      <td>2.032626</td>\n",
       "      <td>0.748193</td>\n",
       "      <td>00:03</td>\n",
       "    </tr>\n",
       "  </tbody>\n",
       "</table>"
      ],
      "text/plain": [
       "<IPython.core.display.HTML object>"
      ]
     },
     "metadata": {},
     "output_type": "display_data"
    },
    {
     "data": {
      "text/html": [
       "\n",
       "<style>\n",
       "    /* Turns off some styling */\n",
       "    progress {\n",
       "        /* gets rid of default border in Firefox and Opera. */\n",
       "        border: none;\n",
       "        /* Needs to be in here for Safari polyfill so background images work as expected. */\n",
       "        background-size: auto;\n",
       "    }\n",
       "    progress:not([value]), progress:not([value])::-webkit-progress-bar {\n",
       "        background: repeating-linear-gradient(45deg, #7e7e7e, #7e7e7e 10px, #5c5c5c 10px, #5c5c5c 20px);\n",
       "    }\n",
       "    .progress-bar-interrupted, .progress-bar-interrupted::-webkit-progress-bar {\n",
       "        background: #F44336;\n",
       "    }\n",
       "</style>\n"
      ],
      "text/plain": [
       "<IPython.core.display.HTML object>"
      ]
     },
     "metadata": {},
     "output_type": "display_data"
    },
    {
     "data": {
      "text/html": [
       "<table border=\"1\" class=\"dataframe\">\n",
       "  <thead>\n",
       "    <tr style=\"text-align: left;\">\n",
       "      <th>epoch</th>\n",
       "      <th>train_loss</th>\n",
       "      <th>valid_loss</th>\n",
       "      <th>error_rate</th>\n",
       "      <th>time</th>\n",
       "    </tr>\n",
       "  </thead>\n",
       "  <tbody>\n",
       "    <tr>\n",
       "      <td>0</td>\n",
       "      <td>2.659537</td>\n",
       "      <td>1.905746</td>\n",
       "      <td>0.707615</td>\n",
       "      <td>00:07</td>\n",
       "    </tr>\n",
       "    <tr>\n",
       "      <td>1</td>\n",
       "      <td>2.471174</td>\n",
       "      <td>1.614642</td>\n",
       "      <td>0.548638</td>\n",
       "      <td>00:07</td>\n",
       "    </tr>\n",
       "    <tr>\n",
       "      <td>2</td>\n",
       "      <td>2.308626</td>\n",
       "      <td>1.510100</td>\n",
       "      <td>0.504169</td>\n",
       "      <td>00:06</td>\n",
       "    </tr>\n",
       "    <tr>\n",
       "      <td>3</td>\n",
       "      <td>2.131850</td>\n",
       "      <td>1.447852</td>\n",
       "      <td>0.467482</td>\n",
       "      <td>00:07</td>\n",
       "    </tr>\n",
       "    <tr>\n",
       "      <td>4</td>\n",
       "      <td>1.974621</td>\n",
       "      <td>1.428242</td>\n",
       "      <td>0.440245</td>\n",
       "      <td>00:06</td>\n",
       "    </tr>\n",
       "    <tr>\n",
       "      <td>5</td>\n",
       "      <td>1.838841</td>\n",
       "      <td>1.494769</td>\n",
       "      <td>0.429127</td>\n",
       "      <td>00:07</td>\n",
       "    </tr>\n",
       "    <tr>\n",
       "      <td>6</td>\n",
       "      <td>1.726485</td>\n",
       "      <td>1.509884</td>\n",
       "      <td>0.424125</td>\n",
       "      <td>00:07</td>\n",
       "    </tr>\n",
       "    <tr>\n",
       "      <td>7</td>\n",
       "      <td>1.658963</td>\n",
       "      <td>1.474761</td>\n",
       "      <td>0.418566</td>\n",
       "      <td>00:06</td>\n",
       "    </tr>\n",
       "    <tr>\n",
       "      <td>8</td>\n",
       "      <td>1.602255</td>\n",
       "      <td>1.444819</td>\n",
       "      <td>0.414675</td>\n",
       "      <td>00:07</td>\n",
       "    </tr>\n",
       "    <tr>\n",
       "      <td>9</td>\n",
       "      <td>1.580153</td>\n",
       "      <td>1.485377</td>\n",
       "      <td>0.420233</td>\n",
       "      <td>00:07</td>\n",
       "    </tr>\n",
       "  </tbody>\n",
       "</table>"
      ],
      "text/plain": [
       "<IPython.core.display.HTML object>"
      ]
     },
     "metadata": {},
     "output_type": "display_data"
    }
   ],
   "source": [
    "# Apply dropout and regularization to improve generalization\n",
    "learn = vision_learner(dls, resnet18, metrics=error_rate, \n",
    "                       model_dir='/tmp/model/',\n",
    "                       ps=0.5, # probabilities used for the dropouts\n",
    "                    #    cbs=ShortEpochCallback(.1, short_valid=False),\n",
    "                       )\n",
    "learn.fine_tune(10)"
   ]
  },
  {
   "cell_type": "markdown",
   "metadata": {},
   "source": [
    "\n",
    "By adding dropout to the network, we randomly disable a fraction of the neurons during training, which helps prevent the model from becoming too reliant on any single feature in the data.\n",
    "\n"
   ]
  },
  {
   "cell_type": "markdown",
   "metadata": {},
   "source": [
    "\n",
    "\n",
    "### Transfer Learning\n",
    "Transfer learning is particularly useful in biomedical engineering because medical datasets are often small and expensive to collect. By using a model pretrained on a large, general dataset and fine-tuning it on a smaller, domain-specific dataset, we can achieve high performance without needing a vast amount of labeled data.\n",
    "\n",
    "In this notebook, we leveraged a pretrained ResNet model, which was originally trained on millions of general images, and fine-tuned it to specialize in classifying skin lesions.\n"
   ]
  },
  {
   "cell_type": "code",
   "execution_count": 17,
   "metadata": {},
   "outputs": [
    {
     "data": {
      "text/html": [
       "\n",
       "<style>\n",
       "    /* Turns off some styling */\n",
       "    progress {\n",
       "        /* gets rid of default border in Firefox and Opera. */\n",
       "        border: none;\n",
       "        /* Needs to be in here for Safari polyfill so background images work as expected. */\n",
       "        background-size: auto;\n",
       "    }\n",
       "    progress:not([value]), progress:not([value])::-webkit-progress-bar {\n",
       "        background: repeating-linear-gradient(45deg, #7e7e7e, #7e7e7e 10px, #5c5c5c 10px, #5c5c5c 20px);\n",
       "    }\n",
       "    .progress-bar-interrupted, .progress-bar-interrupted::-webkit-progress-bar {\n",
       "        background: #F44336;\n",
       "    }\n",
       "</style>\n"
      ],
      "text/plain": [
       "<IPython.core.display.HTML object>"
      ]
     },
     "metadata": {},
     "output_type": "display_data"
    },
    {
     "data": {
      "text/html": [
       "<table border=\"1\" class=\"dataframe\">\n",
       "  <thead>\n",
       "    <tr style=\"text-align: left;\">\n",
       "      <th>epoch</th>\n",
       "      <th>train_loss</th>\n",
       "      <th>valid_loss</th>\n",
       "      <th>error_rate</th>\n",
       "      <th>time</th>\n",
       "    </tr>\n",
       "  </thead>\n",
       "  <tbody>\n",
       "    <tr>\n",
       "      <td>0</td>\n",
       "      <td>3.211165</td>\n",
       "      <td>2.640593</td>\n",
       "      <td>0.889939</td>\n",
       "      <td>00:04</td>\n",
       "    </tr>\n",
       "  </tbody>\n",
       "</table>"
      ],
      "text/plain": [
       "<IPython.core.display.HTML object>"
      ]
     },
     "metadata": {},
     "output_type": "display_data"
    },
    {
     "data": {
      "text/html": [
       "\n",
       "<style>\n",
       "    /* Turns off some styling */\n",
       "    progress {\n",
       "        /* gets rid of default border in Firefox and Opera. */\n",
       "        border: none;\n",
       "        /* Needs to be in here for Safari polyfill so background images work as expected. */\n",
       "        background-size: auto;\n",
       "    }\n",
       "    progress:not([value]), progress:not([value])::-webkit-progress-bar {\n",
       "        background: repeating-linear-gradient(45deg, #7e7e7e, #7e7e7e 10px, #5c5c5c 10px, #5c5c5c 20px);\n",
       "    }\n",
       "    .progress-bar-interrupted, .progress-bar-interrupted::-webkit-progress-bar {\n",
       "        background: #F44336;\n",
       "    }\n",
       "</style>\n"
      ],
      "text/plain": [
       "<IPython.core.display.HTML object>"
      ]
     },
     "metadata": {},
     "output_type": "display_data"
    },
    {
     "data": {
      "text/html": [
       "<table border=\"1\" class=\"dataframe\">\n",
       "  <thead>\n",
       "    <tr style=\"text-align: left;\">\n",
       "      <th>epoch</th>\n",
       "      <th>train_loss</th>\n",
       "      <th>valid_loss</th>\n",
       "      <th>error_rate</th>\n",
       "      <th>time</th>\n",
       "    </tr>\n",
       "  </thead>\n",
       "  <tbody>\n",
       "    <tr>\n",
       "      <td>0</td>\n",
       "      <td>2.742377</td>\n",
       "      <td>1.971537</td>\n",
       "      <td>0.689828</td>\n",
       "      <td>00:05</td>\n",
       "    </tr>\n",
       "    <tr>\n",
       "      <td>1</td>\n",
       "      <td>2.629692</td>\n",
       "      <td>1.749916</td>\n",
       "      <td>0.586993</td>\n",
       "      <td>00:05</td>\n",
       "    </tr>\n",
       "    <tr>\n",
       "      <td>2</td>\n",
       "      <td>2.525275</td>\n",
       "      <td>1.714116</td>\n",
       "      <td>0.554753</td>\n",
       "      <td>00:05</td>\n",
       "    </tr>\n",
       "    <tr>\n",
       "      <td>3</td>\n",
       "      <td>2.372823</td>\n",
       "      <td>1.741643</td>\n",
       "      <td>0.534742</td>\n",
       "      <td>00:05</td>\n",
       "    </tr>\n",
       "    <tr>\n",
       "      <td>4</td>\n",
       "      <td>2.299573</td>\n",
       "      <td>1.752741</td>\n",
       "      <td>0.535853</td>\n",
       "      <td>00:05</td>\n",
       "    </tr>\n",
       "    <tr>\n",
       "      <td>5</td>\n",
       "      <td>2.243513</td>\n",
       "      <td>1.792108</td>\n",
       "      <td>0.531406</td>\n",
       "      <td>00:05</td>\n",
       "    </tr>\n",
       "    <tr>\n",
       "      <td>6</td>\n",
       "      <td>2.158350</td>\n",
       "      <td>1.798456</td>\n",
       "      <td>0.533074</td>\n",
       "      <td>00:05</td>\n",
       "    </tr>\n",
       "    <tr>\n",
       "      <td>7</td>\n",
       "      <td>2.102549</td>\n",
       "      <td>1.737350</td>\n",
       "      <td>0.518621</td>\n",
       "      <td>00:05</td>\n",
       "    </tr>\n",
       "    <tr>\n",
       "      <td>8</td>\n",
       "      <td>2.066642</td>\n",
       "      <td>1.729988</td>\n",
       "      <td>0.526959</td>\n",
       "      <td>00:05</td>\n",
       "    </tr>\n",
       "    <tr>\n",
       "      <td>9</td>\n",
       "      <td>2.045389</td>\n",
       "      <td>1.736192</td>\n",
       "      <td>0.530295</td>\n",
       "      <td>00:05</td>\n",
       "    </tr>\n",
       "  </tbody>\n",
       "</table>"
      ],
      "text/plain": [
       "<IPython.core.display.HTML object>"
      ]
     },
     "metadata": {},
     "output_type": "display_data"
    }
   ],
   "source": [
    "# Example of using a different pretrained model, such as EfficientNet\n",
    "learn = vision_learner(dls, efficientnet_b0, metrics=error_rate, \n",
    "                    #    cbs=ShortEpochCallback(.1, short_valid=False),\n",
    "                       )\n",
    "learn.fine_tune(10)"
   ]
  },
  {
   "cell_type": "markdown",
   "metadata": {},
   "source": [
    "\n",
    "EfficientNet is another powerful architecture that can often provide even better performance than ResNet when fine-tuned for specific tasks."
   ]
  },
  {
   "cell_type": "markdown",
   "metadata": {},
   "source": [
    "The last line of our previous code tells fastai how to *fit* the model:\n",
    "\n",
    "```python\n",
    "learn.fine_tune(1)\n",
    "```\n",
    "\n",
    "The architecture only describes a *template* for a mathematical function; it doesn't actually do anything until we provide values for the millions of parameters it contains.\n",
    "\n",
    "This is the key to deep learning —determining how to fit the parameters of a model to get it to solve your problem. In order to fit a model, we have to provide at least one piece of information: how many times to look at each image (known as number of *epochs*). The number of epochs you select will largely depend on how much time you have available, and how long you find it takes in practice to fit your model. If you select a number that is too small, you can always train for more epochs later.\n",
    "\n",
    "But why is the method called `fine_tune`, and not `fit`? fastai actually *does* have a method called `fit`, which does indeed fit a model. But in this case, we've started with a pretrained model, and we don't want to throw away all those capabilities that it already has. "
   ]
  },
  {
   "cell_type": "markdown",
   "metadata": {},
   "source": [
    "> Fine-tuning: A transfer learning technique where the parameters of a pretrained model are updated by training for additional epochs using a different task to that used for pretraining."
   ]
  },
  {
   "cell_type": "markdown",
   "metadata": {},
   "source": [
    "When you use the `fine_tune` method, fastai will use these tricks for you. There are a few parameters you can set, but in the default form shown here, it does two steps:\n",
    "\n",
    "1. Use one epoch to fit just those parts of the model necessary to get the new random head to work correctly with your dataset.\n",
    "1. Use the number of epochs requested when calling the method to fit the entire model, updating the weights of the later layers (especially the head) faster than the earlier layers (which, as we'll see, generally don't require many changes from the pretrained weights).\n",
    "\n",
    "The *head* of a model is the part that is newly added to be specific to the new dataset. An *epoch* is one complete pass through the dataset. After calling `fit`, the results after each epoch are printed, showing the epoch number, the training and validation set losses (the \"measure of performance\" used for training the model), and any *metrics* you've requested (error rate, in this case)."
   ]
  },
  {
   "cell_type": "markdown",
   "metadata": {},
   "source": [
    "\n",
    "\n",
    "### Deploying the Model for Real-World Use\n",
    "\n",
    "Once the model is trained and validated, it can be deployed to assist healthcare professionals in real-world scenarios. For deployment on a local device or cloud platform, the model can be exported and integrated into medical software.\n"
   ]
  },
  {
   "cell_type": "code",
   "execution_count": 18,
   "metadata": {},
   "outputs": [],
   "source": [
    "# Export the model for deployment\n",
    "learn.export('model.pkl')"
   ]
  },
  {
   "cell_type": "markdown",
   "metadata": {},
   "source": [
    "\n",
    "This exported model can then be loaded in other applications.\n",
    "\n",
    "\n",
    "\n"
   ]
  },
  {
   "cell_type": "code",
   "execution_count": 19,
   "metadata": {},
   "outputs": [
    {
     "data": {
      "text/html": [
       "\n",
       "<style>\n",
       "    /* Turns off some styling */\n",
       "    progress {\n",
       "        /* gets rid of default border in Firefox and Opera. */\n",
       "        border: none;\n",
       "        /* Needs to be in here for Safari polyfill so background images work as expected. */\n",
       "        background-size: auto;\n",
       "    }\n",
       "    progress:not([value]), progress:not([value])::-webkit-progress-bar {\n",
       "        background: repeating-linear-gradient(45deg, #7e7e7e, #7e7e7e 10px, #5c5c5c 10px, #5c5c5c 20px);\n",
       "    }\n",
       "    .progress-bar-interrupted, .progress-bar-interrupted::-webkit-progress-bar {\n",
       "        background: #F44336;\n",
       "    }\n",
       "</style>\n"
      ],
      "text/plain": [
       "<IPython.core.display.HTML object>"
      ]
     },
     "metadata": {},
     "output_type": "display_data"
    },
    {
     "data": {
      "text/html": [],
      "text/plain": [
       "<IPython.core.display.HTML object>"
      ]
     },
     "metadata": {},
     "output_type": "display_data"
    },
    {
     "name": "stdout",
     "output_type": "stream",
     "text": [
      "Prediction: 6; Probability: 0.8935\n"
     ]
    }
   ],
   "source": [
    "# Load the exported model\n",
    "learn_inf = load_learner('model.pkl')\n",
    "pred, pred_idx, probs = learn_inf.predict(im)\n",
    "print(f\"Prediction: {pred}; Probability: {probs[pred_idx]:.04f}\")"
   ]
  },
  {
   "cell_type": "markdown",
   "metadata": {
    "slideshow": {
     "slide_type": "slide"
    }
   },
   "source": [
    "### Validation Sets and Test Sets"
   ]
  },
  {
   "cell_type": "markdown",
   "metadata": {},
   "source": [
    "When training a model, the process focuses on optimizing predictions based solely on the training data to determine weight parameters. However, we, as modelers, are indirectly influencing the model in a way the training process does not: we adjust hyperparameters based on performance observed in the validation data. This means that our exploration and adjustments can inadvertently lead to \"overfitting\" on the validation data itself, as we repeatedly tweak and test based on it. In the same way that the model is at risk of overfitting the training data, we are at risk of overfitting our hyperparameter choices to the validation data.\n",
    "\n",
    "The solution to this dilemma is to add a further layer of withheld data: the *test set*. Just as the validation set is kept separate from training, the test set must be entirely reserved, even from our own tuning efforts. The test set should never be used to adjust or improve the model; instead, it is reserved solely for evaluating the final model’s performance. In this structure, the data is split into a hierarchy based on exposure: the training data is fully utilized, the validation data is partially used for tuning, and the test data is kept entirely hidden until the end. This hierarchy aligns with our modeling stages: training through backpropagation, manual hyperparameter tuning, and the ultimate evaluation of the model’s generalizability.\n",
    "\n",
    "To get reliable accuracy estimates, both the test and validation sets should include enough data. For example, if you’re building a cat detector, you’ll want at least 30 images of cats in the validation set. If you have a large dataset, the standard 20% split for validation might be more than necessary; conversely, when data is plentiful, using some for validation usually has little impact on the model’s ability to generalize."
   ]
  }
 ],
 "metadata": {
  "celltoolbar": "Slideshow",
  "jupytext": {
   "split_at_heading": true
  },
  "kernelspec": {
   "display_name": "book",
   "language": "python",
   "name": "python3"
  },
  "language_info": {
   "codemirror_mode": {
    "name": "ipython",
    "version": 3
   },
   "file_extension": ".py",
   "mimetype": "text/x-python",
   "name": "python",
   "nbconvert_exporter": "python",
   "pygments_lexer": "ipython3",
   "version": "3.12.5"
  },
  "rise": {
   "enable_chalkboard": true,
   "scroll": true,
   "theme": "simple"
  }
 },
 "nbformat": 4,
 "nbformat_minor": 4
}
