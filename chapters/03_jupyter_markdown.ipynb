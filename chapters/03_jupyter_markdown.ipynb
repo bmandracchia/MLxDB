{
 "cells": [
  {
   "cell_type": "markdown",
   "id": "606aa118-71f1-46cf-947e-c5be63827d0c",
   "metadata": {
    "slideshow": {
     "slide_type": "slide"
    },
    "tags": []
   },
   "source": [
    "# Jupyter & Markdown\n",
    "\n",
    "## Introduction to Jupyter Notebook\n",
    "Jupyter Notebook is an interactive and versatile tool that allows you to combine code, text (in the form of markdown), visualizations, and other media into a single document. It's particularly useful for data analysis, machine learning, scientific computing, and more. You can write code in Python, R, Julia, or other languages, and also include rich text formatted using Markdown.\n",
    "\n",
    "## Running Code Blocks\n",
    "To execute a block of code within Jupyter Notebook:\n",
    "1. Click on the code block you want to run.\n",
    "2. Press \"Run\" (or use the shortcut `Ctrl+Enter` for Windows/Linux, or `Cmd+Enter` for macOS).\n",
    "\n",
    "### Example: Printing \"Hello World!\" in Python\n",
    "```python\n",
    "print(\"Hello world!\")\n",
    "```\n"
   ]
  },
  {
   "cell_type": "markdown",
   "id": "d0993053-9b54-4ec6-ac63-a2f794e8067e",
   "metadata": {
    "slideshow": {
     "slide_type": "slide"
    },
    "tags": []
   },
   "source": [
    "### Using the Help Function\n",
    "You can access detailed information about any function by using the help() function. For example:"
   ]
  },
  {
   "cell_type": "code",
   "execution_count": null,
   "id": "c2e457b1",
   "metadata": {
    "slideshow": {
     "slide_type": "subslide"
    }
   },
   "outputs": [],
   "source": [
    "help(print)"
   ]
  },
  {
   "cell_type": "markdown",
   "id": "9475701c",
   "metadata": {},
   "source": [
    "or to get inline help:"
   ]
  },
  {
   "cell_type": "code",
   "execution_count": null,
   "id": "4a6e6581",
   "metadata": {
    "slideshow": {
     "slide_type": "subslide"
    }
   },
   "outputs": [],
   "source": [
    "print?"
   ]
  },
  {
   "cell_type": "markdown",
   "id": "bdb2fd94",
   "metadata": {},
   "source": [
    "### Jupyter Notebook Magic Commands\n",
    "Magic commands are special commands in Jupyter Notebook that perform tasks beyond regular Python or Markdown functionality. They start with a percent sign % for line magics and double percent signs %% for cell magics, and can be used to execute shell commands as well.\n",
    "\n",
    "To list all available magic functions:"
   ]
  },
  {
   "cell_type": "code",
   "execution_count": null,
   "id": "baa6181e",
   "metadata": {},
   "outputs": [],
   "source": [
    "%lsmagic"
   ]
  },
  {
   "cell_type": "markdown",
   "id": "9046a690",
   "metadata": {},
   "source": [
    "### Writing to a File in Jupyter Notebook\n",
    "You can write Python scripts directly within the notebook using a special magic command:"
   ]
  },
  {
   "cell_type": "code",
   "execution_count": null,
   "id": "5b97ba78",
   "metadata": {},
   "outputs": [],
   "source": [
    "%%writefile quiz.py\n",
    "from random import randint\n",
    "\n",
    "#how big a number should we guess? \n",
    "max_number = 12\n",
    "first_line = \"Guess a number between 1 and %d\" % max_number\n",
    "print(first_line)\n",
    "\n",
    "number = randint(1, max_number)\n",
    "\n",
    "not_solved = True\n",
    "\n",
    "#keep looping until we guess correctly\n",
    "while not_solved:\n",
    "    answer = int(input('?'))\n",
    "    you_said = \"You typed %d\" % answer\n",
    "    print (you_said)\n",
    "    if answer > number:\n",
    "        print (\"The number is lower\")\n",
    "    elif answer < number:\n",
    "       print (\"The number is higher\")\n",
    "    else:\n",
    "        print (\"You got it right\")\n",
    "        not_solved = False"
   ]
  },
  {
   "cell_type": "markdown",
   "id": "caafc762",
   "metadata": {},
   "source": [
    "### Running external code\n",
    "To execute a Python script from an external file, use the following command:"
   ]
  },
  {
   "cell_type": "markdown",
   "id": "6c44e363",
   "metadata": {},
   "source": [
    "```python\n",
    "%run quiz.py\n",
    "```"
   ]
  },
  {
   "cell_type": "markdown",
   "id": "0847651f",
   "metadata": {},
   "source": [
    "### Loading Code from External Scripts\n",
    "If you want to include and run code from another script file directly within your notebook, you can load it using:"
   ]
  },
  {
   "cell_type": "markdown",
   "id": "96c019f1",
   "metadata": {},
   "source": [
    "%load quiz.py\n"
   ]
  },
  {
   "cell_type": "markdown",
   "id": "42106eb3",
   "metadata": {},
   "source": [
    "### Measuring Execution Time of Code\n",
    "You can quickly measure the execution time of a small Python function with:"
   ]
  },
  {
   "cell_type": "code",
   "execution_count": null,
   "id": "d97f5404",
   "metadata": {},
   "outputs": [],
   "source": [
    "%timeit sum(range(1000))"
   ]
  },
  {
   "cell_type": "markdown",
   "id": "02f4a973",
   "metadata": {},
   "source": [
    "This command times how long it takes for the code within the cell to execute and displays the average time."
   ]
  },
  {
   "cell_type": "markdown",
   "id": "87c0ab00",
   "metadata": {},
   "source": [
    "For a complete list of magic functions, visit iPython site at https://ipython.readthedocs.io/en/stable/interactive/magics.html"
   ]
  },
  {
   "cell_type": "markdown",
   "id": "06de7070",
   "metadata": {
    "slideshow": {
     "slide_type": "slide"
    }
   },
   "source": [
    "### Markdown in Jupyter Notebook\n",
    "Jupyter Notebook allows you to write formatted text using Markdown. Below is an example of basic Markdown formatting:\n"
   ]
  },
  {
   "cell_type": "markdown",
   "id": "56d426a6",
   "metadata": {
    "slideshow": {
     "slide_type": "fragment"
    }
   },
   "source": [
    "\"Hello world!\""
   ]
  },
  {
   "cell_type": "markdown",
   "id": "9c7e86a5",
   "metadata": {
    "slideshow": {
     "slide_type": "slide"
    }
   },
   "source": [
    "For more complex Markdown features, you can use extended syntax like bold, italics, lists, and code blocks.\n",
    "\n",
    "Example of Markdown Formatting in Jupyter Notebook"
   ]
  },
  {
   "cell_type": "markdown",
   "id": "bab309d0",
   "metadata": {
    "slideshow": {
     "slide_type": "slide"
    }
   },
   "source": [
    "**bold text**\n",
    "\n",
    "*italicized text*\n",
    "\n",
    "> blockquote\n",
    "\n",
    "1. First item\n",
    "2. Second item\n",
    "3. Third item\n",
    "\n",
    "\t- First item\n",
    "- Second item\n",
    "- Third item\n",
    "\n",
    "`code`\n",
    "\n",
    "---\n",
    "\n",
    "[link](https://www.example.com)\n",
    "\n",
    "\n",
    "| Syntax | Description |\n",
    "| ----------- | ----------- |\n",
    "| Header | Title |\n",
    "| Paragraph | Text |\n",
    "\n",
    "\n",
    "```\n",
    "print(\"Hello world!\")\n",
    "print(\"This is a multi-line code snippet\")\n",
    "```\n",
    "\n",
    "term\n",
    ": definition\n",
    "\n",
    "~~The world is flat.~~\n",
    "\n",
    "- [x] Write the press release\n",
    "- [ ] Update the website\n",
    "- [ ] Contact the media\n",
    "\n",
    "![alt text](https://cdn0.iconfinder.com/data/icons/octicons/1024/markdown-512.png)\n"
   ]
  },
  {
   "cell_type": "markdown",
   "id": "61c88ad6",
   "metadata": {},
   "source": [
    "This example was borrowed from [markdownguide.org](https://www.markdownguide.org/cheat-sheet/)"
   ]
  },
  {
   "cell_type": "markdown",
   "id": "eb54c16b",
   "metadata": {
    "slideshow": {
     "slide_type": "slide"
    }
   },
   "source": [
    "### Terminology and Key Concepts\n",
    "- **Edit mode**: This is the default editing state where you can type, run code cells, or write markdown content. You enter this mode by clicking into a cell or using arrow keys to select a cell and pressing `Enter`.\n",
    " \n",
    "- **Command mode**: This is the navigation state where you use keyboard shortcuts to perform actions such as running code, adding new cells, converting cells between code and markdown, etc. To enter command mode, press the `Escape` key.\n",
    "\n",
    "### Key Shortcuts in Command Mode\n",
    "Here are some essential shortcuts to remember:\n",
    "- **Add a new block below**: Press `b`.\n",
    "- **Convert a block to markdown**: Press `m`.\n",
    "- **Convert a block to code**: Press `y`.\n",
    "- **Delete a block**: Press `d` followed by `d`."
   ]
  }
 ],
 "metadata": {
  "celltoolbar": "Slideshow",
  "kernelspec": {
   "display_name": "Python 3 (ipykernel)",
   "language": "python",
   "name": "python3"
  },
  "language_info": {
   "codemirror_mode": {
    "name": "ipython",
    "version": 3
   },
   "file_extension": ".py",
   "mimetype": "text/x-python",
   "name": "python",
   "nbconvert_exporter": "python",
   "pygments_lexer": "ipython3",
   "version": "3.9.12"
  },
  "rise": {
   "enable_chalkboard": true,
   "scroll": true,
   "theme": "simple"
  }
 },
 "nbformat": 4,
 "nbformat_minor": 5
}
