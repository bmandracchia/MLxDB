{
 "cells": [
  {
   "cell_type": "code",
   "execution_count": 1,
   "metadata": {
    "slideshow": {
     "slide_type": "skip"
    },
    "tags": [
     "hide-input"
    ]
   },
   "outputs": [],
   "source": [
    "#hide\n",
    "from fastai.vision.all import *\n",
    "\n",
    "matplotlib.rc('image', cmap='Greys')"
   ]
  },
  {
   "cell_type": "markdown",
   "metadata": {
    "slideshow": {
     "slide_type": "slide"
    }
   },
   "source": [
    "# Training a Digit Classifier"
   ]
  },
  {
   "cell_type": "markdown",
   "metadata": {},
   "source": [
    "We'll explore the steps involved in building a simple digit classifier. We will:\n",
    "- Discuss the role of arrays and tensors, and introduce broadcasting, a powerful technique that makes operations on these data structures more expressive.\n",
    "- Define a suitable loss function for this classification task, and introduce the concept of mini-batches to optimize the training process.\n",
    "- Explain the mathematical operations performed by a basic neural network.\n",
    "\n",
    "By the end, we’ll combine all these pieces to create a model capable of classifying images of digits."
   ]
  },
  {
   "cell_type": "markdown",
   "metadata": {},
   "source": [
    "## Image Classification\n",
    "\n",
    "We will build an image classifier to explore the key steps and techniques in the deep learning pipeline.\n",
    "\n",
    "In image classification, our goal is to assign a label $ y $ to each image $ X $ from a set of possible classes $ C $, where $ C $ could be categories like pet breeds, disease states, or cell types. Mathematically, we can represent this as a function $ f: X \\rightarrow y $, which maps each image to a class label. This is achieved by training a model to minimize a loss function that quantifies the difference between predicted and true labels.\n",
    "\n",
    "For binary classification (e.g., identifying the presence or absence of a disease), the output is a single probability score $ p $, with $ y = 1 $ if $ p \\geq 0.5 $ and $ y = 0 $ otherwise. For multi-class classification (e.g., identifying different types of tumors), the model outputs a vector of probabilities $ \\mathbf{p} = [p_1, p_2, \\dots, p_k] $ for each class $ k $, where $ \\sum_{i=1}^k p_i = 1 $.\n",
    "\n"
   ]
  },
  {
   "cell_type": "markdown",
   "metadata": {
    "slideshow": {
     "slide_type": "slide"
    }
   },
   "source": [
    "## Pixels: The Foundations of Computer Vision\n",
    "\n",
    "Our goal is to build a model that can classify an image as either a \"3\" or a \"7.\" To start, let's download a sample of the MNIST dataset that includes images of just these digits:"
   ]
  },
  {
   "cell_type": "code",
   "execution_count": 2,
   "metadata": {},
   "outputs": [
    {
     "data": {
      "text/html": [
       "\n",
       "<style>\n",
       "    /* Turns off some styling */\n",
       "    progress {\n",
       "        /* gets rid of default border in Firefox and Opera. */\n",
       "        border: none;\n",
       "        /* Needs to be in here for Safari polyfill so background images work as expected. */\n",
       "        background-size: auto;\n",
       "    }\n",
       "    progress:not([value]), progress:not([value])::-webkit-progress-bar {\n",
       "        background: repeating-linear-gradient(45deg, #7e7e7e, #7e7e7e 10px, #5c5c5c 10px, #5c5c5c 20px);\n",
       "    }\n",
       "    .progress-bar-interrupted, .progress-bar-interrupted::-webkit-progress-bar {\n",
       "        background: #F44336;\n",
       "    }\n",
       "</style>\n"
      ],
      "text/plain": [
       "<IPython.core.display.HTML object>"
      ]
     },
     "metadata": {},
     "output_type": "display_data"
    },
    {
     "data": {
      "text/html": [
       "\n",
       "    <div>\n",
       "      <progress value='3219456' class='' max='3214948' style='width:300px; height:20px; vertical-align: middle;'></progress>\n",
       "      100.14% [3219456/3214948 00:40&lt;00:00]\n",
       "    </div>\n",
       "    "
      ],
      "text/plain": [
       "<IPython.core.display.HTML object>"
      ]
     },
     "metadata": {},
     "output_type": "display_data"
    },
    {
     "data": {
      "text/plain": [
       "(#3) [Path('C:/Users/biagi/.fastai/data/mnist_sample/labels.csv'),Path('C:/Users/biagi/.fastai/data/mnist_sample/train'),Path('C:/Users/biagi/.fastai/data/mnist_sample/valid')]"
      ]
     },
     "execution_count": 2,
     "metadata": {},
     "output_type": "execute_result"
    }
   ],
   "source": [
    "# Load the MNIST sample dataset\n",
    "path = untar_data(URLs.MNIST_SAMPLE)\n",
    "\n",
    "# Check the directory contents\n",
    "path.ls()"
   ]
  },
  {
   "cell_type": "markdown",
   "metadata": {
    "slideshow": {
     "slide_type": "subslide"
    }
   },
   "source": [
    "The MNIST dataset follows a common layout for machine learning datasets, with separate folders for the training and validation sets. Inside the training set, there are folders named for each label (3 and 7), which contain the images for each respective digit.\n"
   ]
  },
  {
   "cell_type": "code",
   "execution_count": 3,
   "metadata": {},
   "outputs": [
    {
     "data": {
      "text/plain": [
       "(#2) [Path('C:/Users/biagi/.fastai/data/mnist_sample/train/3'),Path('C:/Users/biagi/.fastai/data/mnist_sample/train/7')]"
      ]
     },
     "execution_count": 3,
     "metadata": {},
     "output_type": "execute_result"
    }
   ],
   "source": [
    "(path/'train').ls()"
   ]
  },
  {
   "cell_type": "markdown",
   "metadata": {},
   "source": [
    "In this dataset, \"3\" and \"7\" are the *labels* or *targets*. Let’s take a look at a sample image of a handwritten \"3\":"
   ]
  },
  {
   "cell_type": "code",
   "execution_count": 4,
   "metadata": {},
   "outputs": [],
   "source": [
    "# Get the path for the images of \"3\"\n",
    "threes = (path/'train'/'3').ls().sorted()\n",
    "\n",
    "# Open and display an example image\n",
    "im3_path = threes[1]\n",
    "im3 = Image.open(im3_path)\n",
    "im3.show()"
   ]
  },
  {
   "cell_type": "markdown",
   "metadata": {
    "slideshow": {
     "slide_type": "subslide"
    }
   },
   "source": [
    "Images in Python are often represented by the `Image` class from the *Python Imaging Library* (PIL). Converting an image to a numerical format, like a NumPy array or PyTorch tensor, allows us to perform mathematical operations directly on the image data."
   ]
  },
  {
   "cell_type": "code",
   "execution_count": 5,
   "metadata": {},
   "outputs": [
    {
     "data": {
      "text/plain": [
       "array([[  0,   0,   0,   0,   0,   0],\n",
       "       [  0,   0,   0,   0,   0,  29],\n",
       "       [  0,   0,   0,  48, 166, 224],\n",
       "       [  0,  93, 244, 249, 253, 187],\n",
       "       [  0, 107, 253, 253, 230,  48],\n",
       "       [  0,   3,  20,  20,  15,   0]], dtype=uint8)"
      ]
     },
     "execution_count": 5,
     "metadata": {},
     "output_type": "execute_result"
    }
   ],
   "source": [
    "array(im3)[4:10,4:10]"
   ]
  },
  {
   "cell_type": "markdown",
   "metadata": {
    "slideshow": {
     "slide_type": "subslide"
    }
   },
   "source": [
    "Each pixel in the image has a value between 0 and 255, where 0 represents black and 255 represents white, with shades of gray in between. Converting the image to a PyTorch tensor allows us to manipulate and process it further:"
   ]
  },
  {
   "cell_type": "code",
   "execution_count": 6,
   "metadata": {},
   "outputs": [
    {
     "data": {
      "text/plain": [
       "tensor([[  0,   0,   0,   0,   0,   0],\n",
       "        [  0,   0,   0,   0,   0,  29],\n",
       "        [  0,   0,   0,  48, 166, 224],\n",
       "        [  0,  93, 244, 249, 253, 187],\n",
       "        [  0, 107, 253, 253, 230,  48],\n",
       "        [  0,   3,  20,  20,  15,   0]], dtype=torch.uint8)"
      ]
     },
     "execution_count": 6,
     "metadata": {},
     "output_type": "execute_result"
    }
   ],
   "source": [
    "tensor(im3)[4:10,4:10]"
   ]
  },
  {
   "cell_type": "markdown",
   "metadata": {
    "slideshow": {
     "slide_type": "slide"
    }
   },
   "source": [
    "## Pixel Similarity"
   ]
  },
  {
   "cell_type": "markdown",
   "metadata": {},
   "source": [
    "As a simple baseline model, let's calculate the average pixel values for all images of \"3\" and \"7\" separately. This will give us an \"ideal\" version of each digit, which we can use for comparison. To classify an image, we’ll check which of these ideal representations the image most closely resembles."
   ]
  },
  {
   "cell_type": "code",
   "execution_count": 7,
   "metadata": {},
   "outputs": [
    {
     "data": {
      "text/plain": [
       "<Axes: >"
      ]
     },
     "execution_count": 7,
     "metadata": {},
     "output_type": "execute_result"
    },
    {
     "data": {
      "image/png": "[encoded data removed]",
      "text/plain": [
       "<Figure size 100x100 with 1 Axes>"
      ]
     },
     "metadata": {},
     "output_type": "display_data"
    },
    {
     "data": {
      "image/png": "[encoded data removed]",
      "text/plain": [
       "<Figure size 100x100 with 1 Axes>"
      ]
     },
     "metadata": {},
     "output_type": "display_data"
    }
   ],
   "source": [
    "# Load images of 3s and 7s as tensors\n",
    "three_tensors = [tensor(Image.open(o)) for o in threes]\n",
    "seven_tensors = [tensor(Image.open(o)) for o in (path/'train'/'7').ls().sorted()]\n",
    "\n",
    "# Stack tensors and normalize\n",
    "stacked_threes = torch.stack(three_tensors).float()/255\n",
    "stacked_sevens = torch.stack(seven_tensors).float()/255\n",
    "\n",
    "# Calculate the average image (mean) for each digit\n",
    "mean3 = stacked_threes.mean(0)\n",
    "mean7 = stacked_sevens.mean(0)\n",
    "\n",
    "# Display the \"ideal\" 3 and 7\n",
    "show_image(mean3)\n",
    "show_image(mean7)"
   ]
  },
  {
   "cell_type": "markdown",
   "metadata": {},
   "source": [
    "This approach provides a very basic model: for any new image, we calculate its \"distance\" from the average 3 and average 7, then classify it as the closest match. Distance can be calculated using either:\n",
    "- **Mean Absolute Difference** (L1 norm)\n",
    "- **Root Mean Squared Error** (L2 norm)"
   ]
  },
  {
   "cell_type": "markdown",
   "metadata": {},
   "source": [
    "If the distance to the ideal 3 is smaller, we classify the image as a 3, otherwise as a 7."
   ]
  },
  {
   "cell_type": "markdown",
   "metadata": {
    "slideshow": {
     "slide_type": "subslide"
    }
   },
   "source": [
    "Let's try both of these now:"
   ]
  },
  {
   "cell_type": "code",
   "execution_count": 9,
   "metadata": {},
   "outputs": [
    {
     "data": {
      "image/png": "[encoded data removed]",
      "text/plain": [
       "<Figure size 100x100 with 1 Axes>"
      ]
     },
     "metadata": {},
     "output_type": "display_data"
    }
   ],
   "source": [
    "a_3 = stacked_threes[1]\n",
    "show_image(a_3);"
   ]
  },
  {
   "cell_type": "code",
   "execution_count": 10,
   "metadata": {},
   "outputs": [
    {
     "data": {
      "text/plain": [
       "(tensor(0.1114), tensor(0.2021))"
      ]
     },
     "execution_count": 10,
     "metadata": {},
     "output_type": "execute_result"
    }
   ],
   "source": [
    "dist_3_abs = (a_3 - mean3).abs().mean()\n",
    "dist_3_sqr = ((a_3 - mean3)**2).mean().sqrt()\n",
    "dist_3_abs,dist_3_sqr"
   ]
  },
  {
   "cell_type": "code",
   "execution_count": 11,
   "metadata": {},
   "outputs": [
    {
     "data": {
      "text/plain": [
       "(tensor(0.1586), tensor(0.3021))"
      ]
     },
     "execution_count": 11,
     "metadata": {},
     "output_type": "execute_result"
    }
   ],
   "source": [
    "dist_7_abs = (a_3 - mean7).abs().mean()\n",
    "dist_7_sqr = ((a_3 - mean7)**2).mean().sqrt()\n",
    "dist_7_abs,dist_7_sqr"
   ]
  },
  {
   "cell_type": "markdown",
   "metadata": {
    "slideshow": {
     "slide_type": "subslide"
    }
   },
   "source": [
    "In both cases, the distance between our 3 and the \"ideal\" 3 is less than the distance to the ideal 7. So our simple model will give the right prediction in this case."
   ]
  },
  {
   "cell_type": "markdown",
   "metadata": {
    "slideshow": {
     "slide_type": "subslide"
    }
   },
   "source": [
    ">  Intuitively, the difference between L1 norm and mean squared error (MSE) is that the latter will penalize bigger mistakes more heavily than the former (and be more lenient with small mistakes)."
   ]
  },
  {
   "cell_type": "markdown",
   "metadata": {
    "slideshow": {
     "slide_type": "slide"
    }
   },
   "source": [
    "## Computing Metrics"
   ]
  },
  {
   "cell_type": "markdown",
   "metadata": {},
   "source": [
    "To evaluate the performance of our model, we need a way to measure how well it’s doing. This measurement is called a **metric**. Metrics are calculated based on the model’s predictions compared to the actual labels in the dataset. For classification tasks like this, a common metric is **accuracy**.\n",
    "\n",
    "In our case, we want to determine if each image is classified correctly as either a \"3\" or a \"7.\" Accuracy for this task can be computed by:\n",
    "1. Calculating the model’s prediction for each image.\n",
    "2. Checking if the prediction matches the actual label.\n",
    "3. Averaging these correct/incorrect results across the entire dataset.\n",
    "\n",
    "We have two sets of validation images: one for 3s and one for 7s. Let’s load and prepare these validation sets as tensors:"
   ]
  },
  {
   "cell_type": "code",
   "execution_count": 12,
   "metadata": {},
   "outputs": [
    {
     "data": {
      "text/plain": [
       "(torch.Size([1010, 28, 28]), torch.Size([1028, 28, 28]))"
      ]
     },
     "execution_count": 12,
     "metadata": {},
     "output_type": "execute_result"
    }
   ],
   "source": [
    "# Load and normalize validation sets\n",
    "valid_3_tens = torch.stack([tensor(Image.open(o)) for o in (path/'valid'/'3').ls()]).float()/255\n",
    "valid_7_tens = torch.stack([tensor(Image.open(o)) for o in (path/'valid'/'7').ls()]).float()/255\n",
    "\n",
    "# Check shapes of validation tensors\n",
    "valid_3_tens.shape, valid_7_tens.shape"
   ]
  },
  {
   "cell_type": "markdown",
   "metadata": {},
   "source": [
    "Each tensor has the shape `[number_of_images, height, width]`, where:\n",
    "- `valid_3_tens` has 1,010 images of 3s.\n",
    "- `valid_7_tens` has 1,028 images of 7s.\n",
    "  \n",
    "This setup allows us to test our function across both categories and compute accuracy based on all validation images."
   ]
  },
  {
   "cell_type": "markdown",
   "metadata": {},
   "source": [
    "### PyTorch Tensors and Broadcasting\n",
    "\n",
    "Tensors are multidimensional arrays that enable fast computation in PyTorch. Unlike Python lists, which are slow, tensors allow us to perform large-scale mathematical operations quickly.\n",
    "\n",
    "For instance, let's add 1 to each element in a tensor and multiply it by another tensor, without any Python loops:\n",
    "\n",
    "```python\n",
    "tns = tensor([[1,2,3],[4,5,6]])\n",
    "tns + 1\n",
    "tns * 1.5\n",
    "```\n",
    "\n",
    "Broadcasting is a powerful technique that allows us to perform operations between tensors of different shapes. For example, subtracting an \"ideal\" digit from each image in a batch is possible because PyTorch will \"broadcast\" the ideal digit to match the batch size."
   ]
  },
  {
   "cell_type": "markdown",
   "metadata": {},
   "source": [
    "### Defining a Distance Function with Broadcasting\n",
    "\n",
    "To classify an image, we need to calculate its \"distance\" from the \"ideal\" 3 and 7 (the averages we calculated earlier). A useful function for calculating this distance is **mean absolute error** (MAE).\n",
    "\n",
    "With broadcasting, we can apply the same distance calculation to an entire set of images without writing loops. Here’s our distance function:\n"
   ]
  },
  {
   "cell_type": "code",
   "execution_count": 13,
   "metadata": {},
   "outputs": [
    {
     "data": {
      "text/plain": [
       "tensor(0.1280)"
      ]
     },
     "execution_count": 13,
     "metadata": {},
     "output_type": "execute_result"
    }
   ],
   "source": [
    "# Define distance function using broadcasting\n",
    "def mnist_distance(a, b): \n",
    "    return (a - b).abs().mean((-1, -2))\n",
    "\n",
    "# Calculate distance from an example image to the ideal 3\n",
    "a_3 = valid_3_tens[0]\n",
    "mnist_distance(a_3, mean3)"
   ]
  },
  {
   "cell_type": "markdown",
   "metadata": {},
   "source": [
    "When we pass `valid_3_tens` (all 3s in the validation set) and `mean3` (the ideal 3) to this function, broadcasting automatically expands `mean3` to match the shape of `valid_3_tens`, calculating the distance for each image in the set:"
   ]
  },
  {
   "cell_type": "code",
   "execution_count": 14,
   "metadata": {},
   "outputs": [
    {
     "data": {
      "text/plain": [
       "torch.Size([1010])"
      ]
     },
     "execution_count": 14,
     "metadata": {},
     "output_type": "execute_result"
    }
   ],
   "source": [
    "# Calculate distance for all 3s in the validation set\n",
    "valid_3_dist = mnist_distance(valid_3_tens, mean3)\n",
    "valid_3_dist.shape  # Output should be a vector of distances"
   ]
  },
  {
   "cell_type": "markdown",
   "metadata": {},
   "source": [
    "Broadcasting makes this possible by \"stretching\" `mean3` to align with each image in `valid_3_tens`, allowing the distance function to operate on all images simultaneously. This avoids the need for loops and makes the computation faster and more efficient."
   ]
  },
  {
   "cell_type": "markdown",
   "metadata": {},
   "source": [
    "### Classifying an Image with Distance\n",
    "\n",
    "To classify a new image, we compare its distance to `mean3` and `mean7`. If it’s closer to `mean3`, we classify it as a 3; if it’s closer to `mean7`, we classify it as a 7:"
   ]
  },
  {
   "cell_type": "code",
   "execution_count": 15,
   "metadata": {},
   "outputs": [
    {
     "data": {
      "text/plain": [
       "tensor(True)"
      ]
     },
     "execution_count": 15,
     "metadata": {},
     "output_type": "execute_result"
    }
   ],
   "source": [
    "# Define classification function\n",
    "def is_3(x): \n",
    "    return mnist_distance(x, mean3) < mnist_distance(x, mean7)\n",
    "\n",
    "# Test classification on a sample 3\n",
    "is_3(a_3)"
   ]
  },
  {
   "cell_type": "markdown",
   "metadata": {},
   "source": [
    "For the validation set, we can use broadcasting to classify every image at once:"
   ]
  },
  {
   "cell_type": "code",
   "execution_count": 16,
   "metadata": {},
   "outputs": [
    {
     "data": {
      "text/plain": [
       "tensor([ True,  True,  True,  ..., False,  True,  True])"
      ]
     },
     "execution_count": 16,
     "metadata": {},
     "output_type": "execute_result"
    }
   ],
   "source": [
    "# Classify all 3s in the validation set\n",
    "is_3(valid_3_tens)"
   ]
  },
  {
   "cell_type": "markdown",
   "metadata": {},
   "source": [
    "### Calculating Accuracy\n",
    "\n",
    "To compute accuracy, we calculate the proportion of correct predictions:\n",
    "- For images of 3s, we check if the model predicted 3 (output is `True`).\n",
    "- For images of 7s, we check if the model predicted 7 (output is `False`).\n",
    "\n",
    "Here’s how to calculate accuracy for each set and the overall accuracy:"
   ]
  },
  {
   "cell_type": "code",
   "execution_count": 17,
   "metadata": {},
   "outputs": [
    {
     "data": {
      "text/plain": [
       "(tensor(0.9168), tensor(0.9854), tensor(0.9511))"
      ]
     },
     "execution_count": 17,
     "metadata": {},
     "output_type": "execute_result"
    }
   ],
   "source": [
    "# Calculate accuracy for each digit\n",
    "accuracy_3s = is_3(valid_3_tens).float().mean()  # Accuracy on 3s\n",
    "accuracy_7s = (1 - is_3(valid_7_tens).float()).mean()  # Accuracy on 7s\n",
    "\n",
    "# Calculate overall accuracy\n",
    "overall_accuracy = (accuracy_3s + accuracy_7s) / 2\n",
    "accuracy_3s, accuracy_7s, overall_accuracy"
   ]
  },
  {
   "cell_type": "markdown",
   "metadata": {},
   "source": [
    "In this example, `accuracy_3s` and `accuracy_7s` represent the accuracy for classifying 3s and 7s, respectively. By averaging these, we get an overall measure of the model's performance.\n"
   ]
  },
  {
   "cell_type": "markdown",
   "metadata": {},
   "source": [
    "## Defining a Loss Function\n",
    "\n",
    "In deep learning, the loss function is a critical component used to guide the training process. It quantifies how well our model’s predictions match the target values (labels), allowing us to improve the model by minimizing this loss over successive iterations.\n",
    "\n",
    "Our goal here is to create a loss function that:\n",
    "1. Produces a value reflecting how far the model's predictions are from the true labels.\n",
    "2. Has a gradient that can guide the optimization process, making it possible to update the model's parameters effectively.\n",
    "\n",
    "### Why Not Use Accuracy as a Loss Function?\n",
    "\n",
    "A straightforward choice for measuring model performance is **accuracy**, which calculates the proportion of correct predictions. However, accuracy is unsuitable as a loss function for two reasons:\n",
    "1. **Flat gradients**: Small changes in weights often do not affect accuracy, because the predictions remain classified the same way (correct or incorrect). This causes \"flat\" gradients, making it difficult to improve the model.\n",
    "2. **Discrete metric**: Accuracy is a discrete measure that doesn’t capture \"how wrong\" a prediction is. For instance, if the model is very close to the correct answer, accuracy won’t reflect this, but a good loss function should.\n",
    "\n",
    "For these reasons, accuracy is often used as a **metric** (to evaluate the model’s performance), while the **loss function** drives the learning process.\n",
    "\n",
    "### Defining a Loss Function for Binary Classification\n",
    "\n",
    "In our MNIST task, we are trying to classify images as either a \"3\" or a \"7.\" We can treat this as a binary classification problem:\n",
    "- **1** for images of \"3\".\n",
    "- **0** for images of \"7\".\n",
    "\n",
    "Our goal is to ensure that the model outputs values close to 1 for images of \"3\" and values close to 0 for images of \"7.\" A common approach in binary classification is to use the **mean absolute error** or **cross-entropy loss**.\n",
    "\n",
    "In this example, we'll use a custom function that measures the distance between the model's predictions and the true labels, ensuring that:\n",
    "- For images of \"3\" (target 1), the prediction is close to 1.\n",
    "- For images of \"7\" (target 0), the prediction is close to 0.\n"
   ]
  },
  {
   "cell_type": "markdown",
   "metadata": {},
   "source": [
    "### Implementing a Simple Loss Function\n",
    "\n",
    "Suppose we have three images with labels `[1, 0, 1]` (representing \"3,\" \"7,\" and \"3\"). Let's say our model’s predictions are `[0.9, 0.4, 0.2]`. These predictions mean:\n",
    "- The model is confident the first image is a 3.\n",
    "- The model is slightly confident that the second image is a 7.\n",
    "- The model incorrectly predicts the third image as a 7.\n",
    "\n",
    "Here’s a simple loss function to measure how far the predictions are from the target labels:"
   ]
  },
  {
   "cell_type": "code",
   "execution_count": 18,
   "metadata": {},
   "outputs": [],
   "source": [
    "# Define sample targets and predictions\n",
    "targets = tensor([1, 0, 1])\n",
    "predictions = tensor([0.9, 0.4, 0.2])\n",
    "\n",
    "# Define the MNIST loss function\n",
    "def mnist_loss(predictions, targets):\n",
    "    return torch.where(targets == 1, 1 - predictions, predictions).mean()"
   ]
  },
  {
   "cell_type": "markdown",
   "metadata": {},
   "source": [
    "In this function:\n",
    "- `torch.where(targets == 1, 1 - predictions, predictions)` calculates the distance between each prediction and the target (1 or 0).\n",
    "- If `targets == 1` (for a 3), we calculate `1 - prediction` to measure how close the prediction is to 1.\n",
    "- If `targets == 0` (for a 7), we simply use `prediction` to measure how close it is to 0.\n",
    "- We then take the mean of all these distances to get the overall loss.\n",
    "\n",
    "Let’s test it with our example values:"
   ]
  },
  {
   "cell_type": "code",
   "execution_count": 19,
   "metadata": {},
   "outputs": [
    {
     "data": {
      "text/plain": [
       "tensor(0.4333)"
      ]
     },
     "execution_count": 19,
     "metadata": {},
     "output_type": "execute_result"
    }
   ],
   "source": [
    "# Calculate loss\n",
    "mnist_loss(predictions, targets)"
   ]
  },
  {
   "cell_type": "markdown",
   "metadata": {},
   "source": [
    "A lower loss indicates that the predictions are closer to the targets. For instance, if we change the prediction for the third image from `0.2` to `0.8`, which is closer to the target of 1, the loss decreases:"
   ]
  },
  {
   "cell_type": "code",
   "execution_count": 20,
   "metadata": {},
   "outputs": [
    {
     "data": {
      "text/plain": [
       "tensor(0.2333)"
      ]
     },
     "execution_count": 20,
     "metadata": {},
     "output_type": "execute_result"
    }
   ],
   "source": [
    "mnist_loss(tensor([0.9, 0.4, 0.8]), targets)"
   ]
  },
  {
   "cell_type": "markdown",
   "metadata": {},
   "source": [
    "### Ensuring Predictions are Between 0 and 1 with the Sigmoid Function\n",
    "\n",
    "To use the loss function effectively, we need to ensure that predictions fall between 0 and 1. This can be done using the **sigmoid function**, defined as:\n",
    "\n",
    "$$ \\text{sigmoid}(x) = \\frac{1}{1 + e^{-x}} $$\n",
    "\n",
    "The sigmoid function squashes any input to a range between 0 and 1, making it perfect for binary classification tasks. In PyTorch, we can use `torch.sigmoid` for this purpose."
   ]
  },
  {
   "cell_type": "code",
   "execution_count": 21,
   "metadata": {},
   "outputs": [
    {
     "data": {
      "image/png": "[encoded data removed]",
      "text/plain": [
       "<Figure size 640x480 with 1 Axes>"
      ]
     },
     "metadata": {},
     "output_type": "display_data"
    }
   ],
   "source": [
    "# Define the sigmoid function (PyTorch version)\n",
    "def sigmoid(x): return 1 / (1 + torch.exp(-x))\n",
    "\n",
    "# Plot the sigmoid function\n",
    "import matplotlib.pyplot as plt\n",
    "x = torch.linspace(-4, 4, 100)\n",
    "plt.plot(x, sigmoid(x))\n",
    "plt.title(\"Sigmoid Function\")\n",
    "plt.xlabel(\"Input\")\n",
    "plt.ylabel(\"Output (0 to 1)\")\n",
    "plt.show()"
   ]
  },
  {
   "cell_type": "markdown",
   "metadata": {},
   "source": [
    "The sigmoid function maps any real-valued input to a value between 0 and 1, which means that predictions can now represent probabilities. "
   ]
  },
  {
   "cell_type": "markdown",
   "metadata": {},
   "source": [
    "### Updating the Loss Function with Sigmoid\n",
    "\n",
    "We can update our `mnist_loss` function to first apply the sigmoid to the predictions. This ensures that the loss function works even if the model outputs are not constrained between 0 and 1:"
   ]
  },
  {
   "cell_type": "code",
   "execution_count": 22,
   "metadata": {},
   "outputs": [],
   "source": [
    "# Updated MNIST loss function with sigmoid\n",
    "def mnist_loss(predictions, targets):\n",
    "    predictions = predictions.sigmoid()\n",
    "    return torch.where(targets == 1, 1 - predictions, predictions).mean()"
   ]
  },
  {
   "cell_type": "markdown",
   "metadata": {},
   "source": [
    "### Why Do We Need a Separate Loss Function?\n",
    "\n",
    "The key difference between **metrics** (like accuracy) and **loss functions** is their purpose:\n",
    "- **Metrics**: Used to evaluate model performance, providing a number that indicates how well the model performs on a specific task. Metrics don’t need to be differentiable, as they’re not used in the optimization process.\n",
    "- **Loss Functions**: Guide the learning process by calculating gradients, which indicate how to adjust model parameters to improve performance. Loss functions must be smooth and differentiable, as their derivatives are used in optimization.\n",
    "\n",
    "By using this custom loss function, we provide a signal that tells the model to get closer to correct answers, even when predictions are slightly off."
   ]
  },
  {
   "cell_type": "markdown",
   "metadata": {},
   "source": [
    "## Optimization with Stochastic Gradient Descent (SGD) and Mini-Batches\n",
    "\n",
    "In machine learning, **Stochastic Gradient Descent (SGD)** is an optimization technique used to minimize the loss function, which guides the learning process of a model. Unlike regular **Gradient Descent**, which computes the gradient of the loss with respect to each parameter over the entire dataset, SGD approximates this by computing gradients over small, random subsets of the data called **mini-batches**.\n",
    "\n",
    "SGD allows for faster training and can lead to better generalization due to the randomness in mini-batch sampling, which helps the model avoid getting stuck in certain local minima.\n"
   ]
  },
  {
   "cell_type": "markdown",
   "metadata": {},
   "source": [
    "\n",
    "### Why Use Mini-Batches? \n",
    "\n",
    "Using mini-batches instead of the whole dataset or a single data item for each gradient update has several advantages:\n",
    "\n",
    "1. **Faster Computation**: Calculating gradients over the entire dataset can be slow, especially for large datasets. Mini-batches allow us to update model parameters more frequently without waiting to process the whole dataset.\n",
    "   \n",
    "2. **Stable Gradient Estimates**: A single data item may produce a noisy and unstable gradient estimate, while the entire dataset provides a more accurate but computationally expensive estimate. Mini-batches provide a balance between these two, resulting in more stable gradient updates.\n",
    "\n",
    "3. **Optimized GPU Utilization**: When using hardware accelerators like GPUs, mini-batches allow for parallel computations, maximizing the utilization of these resources.\n",
    "\n",
    "4. **Improved Generalization**: The random sampling of mini-batches introduces stochasticity (randomness) in parameter updates, helping the model avoid overfitting and improve generalization.\n"
   ]
  },
  {
   "cell_type": "markdown",
   "metadata": {},
   "source": [
    "### Choosing a Batch Size\n",
    "\n",
    "At the heart of the decision to use minibatches is computational efficiency.\n",
    "Processing single observations requires us to perform many single matrix-vector (or even vector-vector)\n",
    "multiplications, which is quite expensive and which incurs a significant\n",
    "overhead on behalf of the underlying deep learning framework. This\n",
    "applies both to evaluating a network when applied to data (often\n",
    "referred to as inference) and when computing gradients to update\n",
    "parameters. That is, this applies whenever we perform\n",
    "$\\mathbf{w} \\leftarrow \\mathbf{w} - \\eta_t \\mathbf{g}_t$ where\n",
    "\n",
    "$$ \\mathbf{g}_t = \\partial_{\\mathbf{w}} f(\\mathbf{x}_{t}, \\mathbf{w}) $$\n",
    "\n",
    "We can increase the *computational* efficiency of this operation by\n",
    "applying it to a minibatch of observations at a time. That is, we\n",
    "replace the gradient $\\mathbf{g}_t$ over a single observation by\n",
    "one over a small batch\n",
    "\n",
    "$$ \\mathbf{g}_t = \\partial_{\\mathbf{w}} \\frac{1}{|\\mathcal{B}_t|} \\sum_{i \\in \\mathcal{B}_t} f(\\mathbf{x}_{i}, \\mathbf{w}) $$\n",
    "\n",
    "Let's see what this does to the statistical properties of\n",
    "$\\mathbf{g}_t$: since both $\\mathbf{x}_t$ and also all\n",
    "elements of the minibatch $\\mathcal{B}_t$ are drawn uniformly at\n",
    "random from the training set, the expectation of the gradient remains\n",
    "unchanged. The variance, on the other hand, is reduced significantly.\n",
    "Since the minibatch gradient is composed of\n",
    "$b \\stackrel{\\textrm{def}}{=} |\\mathcal{B}_t|$ independent\n",
    "gradients which are being averaged, its standard deviation is reduced by\n",
    "a factor of $b^{-\\frac{1}{2}}$. This, by itself, is a good thing,\n",
    "since it means that the updates are more reliably aligned with the full\n",
    "gradient.\n",
    "\n",
    "Naively this would indicate that choosing a large minibatch\n",
    "$\\mathcal{B}_t$ would be universally desirable. Alas, after some\n",
    "point, the additional reduction in standard deviation is minimal when\n",
    "compared to the linear increase in computational cost. So, we may say that:\n",
    "- **Larger batch sizes** produce more stable gradient estimates, but training may be slower per update step.\n",
    "- **Smaller batch sizes** allow for faster updates but may produce noisy gradients, which can make training less stable.\n",
    "\n",
    "Then, in practice we pick a minibatch that is large enough to offer good computational\n",
    "efficiency while still fitting into the memory of a GPU.\n"
   ]
  },
  {
   "cell_type": "markdown",
   "metadata": {},
   "source": [
    "\n",
    "### Shuffling the Data\n",
    "\n",
    "To prevent the model from seeing data in a fixed order, which could introduce unwanted patterns in updates, it’s standard practice to shuffle the dataset before dividing it into mini-batches. Shuffling the data in each epoch ensures that the model doesn’t rely on any specific order in the data.\n",
    "\n",
    "PyTorch provides the `DataLoader` class, which automatically handles shuffling and mini-batch creation. Here’s a simple example of using `DataLoader` to create mini-batches from a dataset:\n",
    "\n"
   ]
  },
  {
   "cell_type": "code",
   "execution_count": 23,
   "metadata": {},
   "outputs": [
    {
     "data": {
      "text/plain": [
       "[tensor([ 3,  7,  0,  8, 10]),\n",
       " tensor([ 4, 17,  1, 16, 12]),\n",
       " tensor([ 5, 15, 13, 11, 19]),\n",
       " tensor([14,  6,  9,  2, 18])]"
      ]
     },
     "execution_count": 23,
     "metadata": {},
     "output_type": "execute_result"
    }
   ],
   "source": [
    "from torch.utils.data import DataLoader\n",
    "\n",
    "# Sample data for demonstration\n",
    "data = range(20)\n",
    "\n",
    "# Create a DataLoader with batch size 5 and shuffling enabled\n",
    "dl = DataLoader(data, batch_size=5, shuffle=True)\n",
    "list(dl)"
   ]
  },
  {
   "cell_type": "markdown",
   "metadata": {},
   "source": [
    "In this example, `dl` creates batches of size 5, and the `shuffle=True` argument ensures that the data order is randomized with each epoch.\n"
   ]
  },
  {
   "cell_type": "markdown",
   "metadata": {},
   "source": [
    "\n",
    "### Applying Mini-Batches to Images and Labels\n",
    "\n",
    "For our MNIST classification task, we need to process both the images (features) and the labels (targets). Here’s how we can create a `DataLoader` for the MNIST dataset:\n",
    "\n",
    "1. **Combine images and labels** into a PyTorch Dataset.\n",
    "2. **Use a DataLoader** to create mini-batches of this dataset.\n",
    "\n"
   ]
  },
  {
   "cell_type": "code",
   "execution_count": 28,
   "metadata": {},
   "outputs": [],
   "source": [
    "# Create the dataset for training\n",
    "train_x = torch.cat([stacked_threes, stacked_sevens]).view(-1, 28 * 28)\n",
    "train_y = tensor([1] * len(stacked_threes) + [0] * len(stacked_sevens)).unsqueeze(1)\n",
    "train_dataset = list(zip(train_x, train_y))\n",
    "valid_x = torch.cat([valid_3_tens, valid_7_tens]).view(-1, 28*28)\n",
    "valid_y = tensor([1]*len(valid_3_tens) + [0]*len(valid_7_tens)).unsqueeze(1)\n",
    "valid_dset = list(zip(valid_x,valid_y))\n",
    "\n",
    "# Create the DataLoader for mini-batch processing\n",
    "batch_size = 256\n",
    "train_dl = DataLoader(train_dataset, batch_size=batch_size, shuffle=True)\n",
    "valid_dl = DataLoader(valid_dset, batch_size=256)"
   ]
  },
  {
   "cell_type": "markdown",
   "metadata": {},
   "source": [
    "\n",
    "The `DataLoader` here will yield mini-batches of 256 images and their corresponding labels, shuffling the dataset in each epoch."
   ]
  },
  {
   "cell_type": "markdown",
   "metadata": {},
   "source": [
    "\n",
    "\n",
    "### Implementing an SGD Step with Mini-Batches\n",
    "\n",
    "For each mini-batch, we need to:\n",
    "1. **Calculate predictions** based on the current model parameters.\n",
    "2. **Compute the loss** to see how far these predictions are from the true labels.\n",
    "3. **Calculate gradients** with respect to each parameter.\n",
    "4. **Update parameters** by subtracting a small proportion (learning rate) of the gradient from each parameter.\n",
    "\n",
    "Here’s an implementation of one epoch of SGD with mini-batches:\n"
   ]
  },
  {
   "cell_type": "code",
   "execution_count": 29,
   "metadata": {},
   "outputs": [],
   "source": [
    "# Define the learning rate\n",
    "learning_rate = 0.1\n",
    "\n",
    "# Training loop for one epoch\n",
    "def train_epoch(model, train_dl, optimizer):\n",
    "    for xb, yb in train_dl:\n",
    "        # Forward pass: calculate predictions\n",
    "        preds = model(xb)\n",
    "        \n",
    "        # Calculate loss\n",
    "        loss = mnist_loss(preds, yb)\n",
    "        \n",
    "        # Backward pass: compute gradients\n",
    "        loss.backward()\n",
    "        \n",
    "        # Update parameters and zero gradients\n",
    "        optimizer.step()\n",
    "        optimizer.zero_grad()"
   ]
  },
  {
   "cell_type": "markdown",
   "metadata": {},
   "source": [
    "\n",
    "### Updating Parameters with `optimizer.step()`\n",
    "\n",
    "The line `optimizer.step()` updates the parameters using the computed gradients. We then use `optimizer.zero_grad()` to reset gradients before the next mini-batch; otherwise, PyTorch accumulates gradients, which would lead to incorrect updates.\n"
   ]
  },
  {
   "cell_type": "markdown",
   "metadata": {},
   "source": [
    "\n",
    "### Mini-Batch Accuracy Calculation\n",
    "\n",
    "To evaluate the model’s performance, we can compute the accuracy on the validation set. For each mini-batch, we check if each prediction matches the true label and average these correct predictions."
   ]
  },
  {
   "cell_type": "code",
   "execution_count": 30,
   "metadata": {},
   "outputs": [],
   "source": [
    "# Define accuracy calculation function\n",
    "def batch_accuracy(xb, yb):\n",
    "    preds = xb.sigmoid()\n",
    "    correct = (preds > 0.5) == yb\n",
    "    return correct.float().mean()\n",
    "\n",
    "# Validation accuracy calculation\n",
    "def validate_epoch(model, valid_dl):\n",
    "    accs = [batch_accuracy(model(xb), yb) for xb, yb in valid_dl]\n",
    "    return round(torch.stack(accs).mean().item(), 4)"
   ]
  },
  {
   "cell_type": "markdown",
   "metadata": {},
   "source": [
    "\n",
    "### Putting It All Together\n",
    "\n",
    "We can now use these functions to train our model over several epochs, updating the parameters based on each mini-batch and calculating the accuracy on the validation set at the end of each epoch.\n"
   ]
  },
  {
   "cell_type": "code",
   "execution_count": 31,
   "metadata": {},
   "outputs": [
    {
     "name": "stdout",
     "output_type": "stream",
     "text": [
      "Epoch 1 accuracy: 0.9657\n",
      "Epoch 2 accuracy: 0.9687\n",
      "Epoch 3 accuracy: 0.9691\n",
      "Epoch 4 accuracy: 0.9691\n",
      "Epoch 5 accuracy: 0.9701\n"
     ]
    }
   ],
   "source": [
    "# Define the number of epochs\n",
    "epochs = 5\n",
    "\n",
    "# Initialize model and optimizer\n",
    "model = nn.Linear(28*28, 1)  # Simple linear model for demonstration\n",
    "optimizer = torch.optim.SGD(model.parameters(), lr=learning_rate)\n",
    "\n",
    "# Training loop\n",
    "for epoch in range(epochs):\n",
    "    train_epoch(model, train_dl, optimizer)\n",
    "    print(f\"Epoch {epoch+1} accuracy:\", validate_epoch(model, valid_dl))"
   ]
  },
  {
   "cell_type": "markdown",
   "metadata": {},
   "source": [
    "## Creating an Optimizer\n",
    "\n",
    "An **optimizer** is an essential component in training a neural network, responsible for updating the model's parameters (weights and biases) based on the computed gradients. This process is typically done after each mini-batch, where the optimizer adjusts the parameters in the direction that minimizes the loss function.\n",
    "\n",
    "### Why Do We Need an Optimizer?\n",
    "\n",
    "In our previous section, we implemented Stochastic Gradient Descent (SGD) manually by:\n",
    "1. Calculating gradients for each parameter using backpropagation.\n",
    "2. Subtracting a fraction of the gradient (scaled by the learning rate) from each parameter.\n",
    "\n",
    "While this process works, it can be simplified and optimized further using dedicated optimizers. PyTorch provides several built-in optimizers, each with different strategies for updating parameters. Using these optimizers streamlines the code and allows us to experiment with different optimization techniques easily.\n",
    "\n",
    "### Common Optimizers in Deep Learning\n",
    "\n",
    "1. **SGD (Stochastic Gradient Descent)**: Updates parameters by subtracting a fraction of the gradient. This method is simple but can be slow and may oscillate around local minima.\n",
    "  \n",
    "2. **Momentum-based SGD**: Builds on SGD by accumulating gradients in the direction of steepest descent, which helps accelerate convergence. \n",
    "\n",
    "3. **Adam (Adaptive Moment Estimation)**: Uses adaptive learning rates for each parameter, combining the ideas of momentum and adaptive learning rates, making it popular for many deep learning applications.\n",
    "\n",
    "For this section, we'll start by creating a basic custom optimizer similar to SGD, then show how to use PyTorch’s built-in optimizers."
   ]
  },
  {
   "cell_type": "markdown",
   "metadata": {},
   "source": [
    "### Custom Basic Optimizer\n",
    "\n",
    "Let’s define a simple optimizer called `BasicOptim` that implements standard SGD. This optimizer will:\n",
    "1. Store the parameters to be updated.\n",
    "2. Take a step size (learning rate) to scale the updates.\n",
    "3. Include a `step` method to update each parameter by subtracting the product of the gradient and learning rate.\n",
    "4. Reset gradients after each update to avoid accumulating them.\n",
    "\n",
    "Here’s an implementation of a basic optimizer:"
   ]
  },
  {
   "cell_type": "code",
   "execution_count": 32,
   "metadata": {},
   "outputs": [],
   "source": [
    "# Define a custom basic optimizer\n",
    "class BasicOptim:\n",
    "    def __init__(self, params, lr):\n",
    "        self.params = list(params)  # Parameters to optimize\n",
    "        self.lr = lr                # Learning rate\n",
    "    \n",
    "    def step(self):\n",
    "        # Update each parameter by its gradient\n",
    "        for p in self.params:\n",
    "            p.data -= p.grad.data * self.lr\n",
    "    \n",
    "    def zero_grad(self):\n",
    "        # Set gradients to None for each parameter\n",
    "        for p in self.params:\n",
    "            p.grad = None"
   ]
  },
  {
   "cell_type": "markdown",
   "metadata": {},
   "source": [
    "\n",
    "### Using `BasicOptim` with a Model\n",
    "\n",
    "To use this optimizer, we pass the model’s parameters to `BasicOptim` and specify a learning rate. Here’s a simple training loop that demonstrates how to use this custom optimizer:\n"
   ]
  },
  {
   "cell_type": "code",
   "execution_count": 33,
   "metadata": {},
   "outputs": [],
   "source": [
    "# Initialize model and optimizer\n",
    "model = nn.Linear(28*28, 1)  # Simple linear model for demonstration\n",
    "opt = BasicOptim(model.parameters(), lr=0.1)\n",
    "\n",
    "# Training loop for one epoch\n",
    "for xb, yb in train_dl:\n",
    "    # Forward pass: calculate predictions\n",
    "    preds = model(xb)\n",
    "    \n",
    "    # Calculate loss\n",
    "    loss = mnist_loss(preds, yb)\n",
    "    \n",
    "    # Backward pass: compute gradients\n",
    "    loss.backward()\n",
    "    \n",
    "    # Update parameters and zero gradients\n",
    "    opt.step()\n",
    "    opt.zero_grad()\n"
   ]
  },
  {
   "cell_type": "markdown",
   "metadata": {},
   "source": [
    "In this example:\n",
    "- `opt.step()` updates each parameter by subtracting the scaled gradient.\n",
    "- `opt.zero_grad()` resets gradients for each parameter, ensuring that gradients from one mini-batch don’t interfere with the next.\n"
   ]
  },
  {
   "cell_type": "markdown",
   "metadata": {},
   "source": [
    "### Using PyTorch’s Built-in Optimizers\n",
    "\n",
    "While `BasicOptim` demonstrates the core concept of SGD, PyTorch provides a built-in `SGD` optimizer, which includes additional features like momentum. Using PyTorch’s `torch.optim` library simplifies optimization and provides more options.\n",
    "\n",
    "Here’s an example of using PyTorch’s built-in `SGD` optimizer with momentum:\n"
   ]
  },
  {
   "cell_type": "code",
   "execution_count": 34,
   "metadata": {},
   "outputs": [],
   "source": [
    "from torch.optim import SGD\n",
    "\n",
    "# Initialize model and optimizer\n",
    "model = nn.Linear(28*28, 1)\n",
    "opt = SGD(model.parameters(), lr=0.1, momentum=0.9)\n",
    "\n",
    "# Training loop\n",
    "for xb, yb in train_dl:\n",
    "    preds = model(xb)\n",
    "    loss = mnist_loss(preds, yb)\n",
    "    loss.backward()\n",
    "    opt.step()\n",
    "    opt.zero_grad()"
   ]
  },
  {
   "cell_type": "markdown",
   "metadata": {},
   "source": [
    "With PyTorch’s `SGD` optimizer, we only need to specify the learning rate and optionally, a momentum factor. The optimizer handles both the parameter updates and gradient reset internally.\n",
    "\n",
    "### Switching to the Adam Optimizer\n",
    "\n",
    "Adam (Adaptive Moment Estimation) is another popular optimizer that automatically adjusts learning rates for each parameter based on historical gradients and updates. This approach often improves convergence, especially in deep networks.\n",
    "\n",
    "Switching to Adam requires only a change in the optimizer initialization, while the training loop remains the same:\n"
   ]
  },
  {
   "cell_type": "code",
   "execution_count": 35,
   "metadata": {},
   "outputs": [],
   "source": [
    "from torch.optim import Adam\n",
    "\n",
    "# Initialize model and optimizer\n",
    "model = nn.Linear(28*28, 1)\n",
    "opt = Adam(model.parameters(), lr=0.001)  # Lower learning rate for Adam\n",
    "\n",
    "# Training loop\n",
    "for xb, yb in train_dl:\n",
    "    preds = model(xb)\n",
    "    loss = mnist_loss(preds, yb)\n",
    "    loss.backward()\n",
    "    opt.step()\n",
    "    opt.zero_grad()"
   ]
  },
  {
   "cell_type": "markdown",
   "metadata": {},
   "source": [
    "\n",
    "With Adam, you typically use a lower learning rate (e.g., `0.001`) than with SGD, as Adam adapts the learning rate dynamically during training.\n"
   ]
  },
  {
   "cell_type": "markdown",
   "metadata": {},
   "source": [
    "The fastai library simplifies training by integrating the optimizer, loss function, and metrics within a single class, the `Learner`. To use `Learner`, we need to:\n",
    "1. Create a `DataLoaders` object from our training and validation data.\n",
    "2. Pass the model, optimizer, loss function, and metrics to `Learner`."
   ]
  },
  {
   "cell_type": "code",
   "execution_count": 37,
   "metadata": {},
   "outputs": [
    {
     "data": {
      "text/html": [
       "\n",
       "<style>\n",
       "    /* Turns off some styling */\n",
       "    progress {\n",
       "        /* gets rid of default border in Firefox and Opera. */\n",
       "        border: none;\n",
       "        /* Needs to be in here for Safari polyfill so background images work as expected. */\n",
       "        background-size: auto;\n",
       "    }\n",
       "    progress:not([value]), progress:not([value])::-webkit-progress-bar {\n",
       "        background: repeating-linear-gradient(45deg, #7e7e7e, #7e7e7e 10px, #5c5c5c 10px, #5c5c5c 20px);\n",
       "    }\n",
       "    .progress-bar-interrupted, .progress-bar-interrupted::-webkit-progress-bar {\n",
       "        background: #F44336;\n",
       "    }\n",
       "</style>\n"
      ],
      "text/plain": [
       "<IPython.core.display.HTML object>"
      ]
     },
     "metadata": {},
     "output_type": "display_data"
    },
    {
     "data": {
      "text/html": [
       "<table border=\"1\" class=\"dataframe\">\n",
       "  <thead>\n",
       "    <tr style=\"text-align: left;\">\n",
       "      <th>epoch</th>\n",
       "      <th>train_loss</th>\n",
       "      <th>valid_loss</th>\n",
       "      <th>batch_accuracy</th>\n",
       "      <th>time</th>\n",
       "    </tr>\n",
       "  </thead>\n",
       "  <tbody>\n",
       "    <tr>\n",
       "      <td>0</td>\n",
       "      <td>0.112948</td>\n",
       "      <td>0.086621</td>\n",
       "      <td>0.967615</td>\n",
       "      <td>00:00</td>\n",
       "    </tr>\n",
       "    <tr>\n",
       "      <td>1</td>\n",
       "      <td>0.080888</td>\n",
       "      <td>0.063943</td>\n",
       "      <td>0.970069</td>\n",
       "      <td>00:00</td>\n",
       "    </tr>\n",
       "    <tr>\n",
       "      <td>2</td>\n",
       "      <td>0.062337</td>\n",
       "      <td>0.053072</td>\n",
       "      <td>0.970069</td>\n",
       "      <td>00:00</td>\n",
       "    </tr>\n",
       "    <tr>\n",
       "      <td>3</td>\n",
       "      <td>0.051248</td>\n",
       "      <td>0.046404</td>\n",
       "      <td>0.972522</td>\n",
       "      <td>00:00</td>\n",
       "    </tr>\n",
       "    <tr>\n",
       "      <td>4</td>\n",
       "      <td>0.043826</td>\n",
       "      <td>0.041867</td>\n",
       "      <td>0.973994</td>\n",
       "      <td>00:00</td>\n",
       "    </tr>\n",
       "    <tr>\n",
       "      <td>5</td>\n",
       "      <td>0.038403</td>\n",
       "      <td>0.038589</td>\n",
       "      <td>0.973994</td>\n",
       "      <td>00:00</td>\n",
       "    </tr>\n",
       "    <tr>\n",
       "      <td>6</td>\n",
       "      <td>0.034838</td>\n",
       "      <td>0.035652</td>\n",
       "      <td>0.975957</td>\n",
       "      <td>00:00</td>\n",
       "    </tr>\n",
       "    <tr>\n",
       "      <td>7</td>\n",
       "      <td>0.031702</td>\n",
       "      <td>0.033551</td>\n",
       "      <td>0.977920</td>\n",
       "      <td>00:00</td>\n",
       "    </tr>\n",
       "    <tr>\n",
       "      <td>8</td>\n",
       "      <td>0.029177</td>\n",
       "      <td>0.031640</td>\n",
       "      <td>0.978410</td>\n",
       "      <td>00:00</td>\n",
       "    </tr>\n",
       "    <tr>\n",
       "      <td>9</td>\n",
       "      <td>0.027235</td>\n",
       "      <td>0.030236</td>\n",
       "      <td>0.978410</td>\n",
       "      <td>00:00</td>\n",
       "    </tr>\n",
       "  </tbody>\n",
       "</table>"
      ],
      "text/plain": [
       "<IPython.core.display.HTML object>"
      ]
     },
     "metadata": {},
     "output_type": "display_data"
    }
   ],
   "source": [
    "from fastai.vision.all import Learner, DataLoaders, Adam \n",
    "\n",
    "# Create DataLoaders\n",
    "dls = DataLoaders(train_dl, valid_dl)\n",
    "\n",
    "# Initialize Learner with model, optimizer, and metrics\n",
    "learn = Learner(dls, model, opt_func=Adam, loss_func=mnist_loss, metrics=batch_accuracy)\n",
    "\n",
    "# Train model using fit\n",
    "learn.fit(10, lr=0.001)"
   ]
  },
  {
   "cell_type": "markdown",
   "metadata": {},
   "source": [
    "With `Learner`, we can use the `fit` method to train our model over multiple epochs, making it easier to manage training while automatically handling optimizations."
   ]
  },
  {
   "cell_type": "markdown",
   "metadata": {
    "slideshow": {
     "slide_type": "slide"
    }
   },
   "source": [
    "## Adding a Nonlinearity"
   ]
  },
  {
   "cell_type": "markdown",
   "metadata": {},
   "source": [
    "So far, we have only used linear transformations, which are limited in their capacity to capture complex patterns. Adding a **nonlinear activation function** like the *ReLU* (Rectified Linear Unit) between layers gives our model the ability to approximate more complex functions."
   ]
  },
  {
   "cell_type": "code",
   "execution_count": 64,
   "metadata": {},
   "outputs": [],
   "source": [
    "import torch.nn.functional as F\n",
    "\n",
    "# Define a simple neural network\n",
    "simple_net = nn.Sequential(nn.Linear(28*28, 1), nn.ReLU())"
   ]
  },
  {
   "cell_type": "code",
   "execution_count": 65,
   "metadata": {},
   "outputs": [],
   "source": [
    "learn = Learner(dls, simple_net, opt_func=Adam,\n",
    "                loss_func=mnist_loss, metrics=batch_accuracy)"
   ]
  },
  {
   "cell_type": "code",
   "execution_count": 66,
   "metadata": {
    "slideshow": {
     "slide_type": "subslide"
    }
   },
   "outputs": [
    {
     "data": {
      "text/html": [
       "\n",
       "<style>\n",
       "    /* Turns off some styling */\n",
       "    progress {\n",
       "        /* gets rid of default border in Firefox and Opera. */\n",
       "        border: none;\n",
       "        /* Needs to be in here for Safari polyfill so background images work as expected. */\n",
       "        background-size: auto;\n",
       "    }\n",
       "    progress:not([value]), progress:not([value])::-webkit-progress-bar {\n",
       "        background: repeating-linear-gradient(45deg, #7e7e7e, #7e7e7e 10px, #5c5c5c 10px, #5c5c5c 20px);\n",
       "    }\n",
       "    .progress-bar-interrupted, .progress-bar-interrupted::-webkit-progress-bar {\n",
       "        background: #F44336;\n",
       "    }\n",
       "</style>\n"
      ],
      "text/plain": [
       "<IPython.core.display.HTML object>"
      ]
     },
     "metadata": {},
     "output_type": "display_data"
    },
    {
     "data": {
      "text/html": [
       "<table border=\"1\" class=\"dataframe\">\n",
       "  <thead>\n",
       "    <tr style=\"text-align: left;\">\n",
       "      <th>epoch</th>\n",
       "      <th>train_loss</th>\n",
       "      <th>valid_loss</th>\n",
       "      <th>batch_accuracy</th>\n",
       "      <th>time</th>\n",
       "    </tr>\n",
       "  </thead>\n",
       "  <tbody>\n",
       "    <tr>\n",
       "      <td>0</td>\n",
       "      <td>0.350354</td>\n",
       "      <td>0.307095</td>\n",
       "      <td>0.866536</td>\n",
       "      <td>00:00</td>\n",
       "    </tr>\n",
       "    <tr>\n",
       "      <td>1</td>\n",
       "      <td>0.309842</td>\n",
       "      <td>0.287336</td>\n",
       "      <td>0.912659</td>\n",
       "      <td>00:00</td>\n",
       "    </tr>\n",
       "    <tr>\n",
       "      <td>2</td>\n",
       "      <td>0.292670</td>\n",
       "      <td>0.279801</td>\n",
       "      <td>0.929343</td>\n",
       "      <td>00:00</td>\n",
       "    </tr>\n",
       "    <tr>\n",
       "      <td>3</td>\n",
       "      <td>0.282408</td>\n",
       "      <td>0.275418</td>\n",
       "      <td>0.937193</td>\n",
       "      <td>00:00</td>\n",
       "    </tr>\n",
       "    <tr>\n",
       "      <td>4</td>\n",
       "      <td>0.276669</td>\n",
       "      <td>0.272627</td>\n",
       "      <td>0.940628</td>\n",
       "      <td>00:00</td>\n",
       "    </tr>\n",
       "    <tr>\n",
       "      <td>5</td>\n",
       "      <td>0.272500</td>\n",
       "      <td>0.270300</td>\n",
       "      <td>0.952895</td>\n",
       "      <td>00:00</td>\n",
       "    </tr>\n",
       "    <tr>\n",
       "      <td>6</td>\n",
       "      <td>0.270921</td>\n",
       "      <td>0.268845</td>\n",
       "      <td>0.952404</td>\n",
       "      <td>00:00</td>\n",
       "    </tr>\n",
       "    <tr>\n",
       "      <td>7</td>\n",
       "      <td>0.268304</td>\n",
       "      <td>0.267622</td>\n",
       "      <td>0.957311</td>\n",
       "      <td>00:00</td>\n",
       "    </tr>\n",
       "    <tr>\n",
       "      <td>8</td>\n",
       "      <td>0.266692</td>\n",
       "      <td>0.266830</td>\n",
       "      <td>0.955839</td>\n",
       "      <td>00:00</td>\n",
       "    </tr>\n",
       "    <tr>\n",
       "      <td>9</td>\n",
       "      <td>0.265534</td>\n",
       "      <td>0.265906</td>\n",
       "      <td>0.963199</td>\n",
       "      <td>00:00</td>\n",
       "    </tr>\n",
       "    <tr>\n",
       "      <td>10</td>\n",
       "      <td>0.264709</td>\n",
       "      <td>0.265318</td>\n",
       "      <td>0.965653</td>\n",
       "      <td>00:00</td>\n",
       "    </tr>\n",
       "    <tr>\n",
       "      <td>11</td>\n",
       "      <td>0.264081</td>\n",
       "      <td>0.264861</td>\n",
       "      <td>0.965653</td>\n",
       "      <td>00:00</td>\n",
       "    </tr>\n",
       "    <tr>\n",
       "      <td>12</td>\n",
       "      <td>0.262702</td>\n",
       "      <td>0.264238</td>\n",
       "      <td>0.968597</td>\n",
       "      <td>00:00</td>\n",
       "    </tr>\n",
       "    <tr>\n",
       "      <td>13</td>\n",
       "      <td>0.261738</td>\n",
       "      <td>0.263872</td>\n",
       "      <td>0.969087</td>\n",
       "      <td>00:00</td>\n",
       "    </tr>\n",
       "    <tr>\n",
       "      <td>14</td>\n",
       "      <td>0.262061</td>\n",
       "      <td>0.263767</td>\n",
       "      <td>0.968597</td>\n",
       "      <td>00:00</td>\n",
       "    </tr>\n",
       "    <tr>\n",
       "      <td>15</td>\n",
       "      <td>0.261289</td>\n",
       "      <td>0.263374</td>\n",
       "      <td>0.968597</td>\n",
       "      <td>00:00</td>\n",
       "    </tr>\n",
       "    <tr>\n",
       "      <td>16</td>\n",
       "      <td>0.260988</td>\n",
       "      <td>0.263057</td>\n",
       "      <td>0.970069</td>\n",
       "      <td>00:00</td>\n",
       "    </tr>\n",
       "    <tr>\n",
       "      <td>17</td>\n",
       "      <td>0.259774</td>\n",
       "      <td>0.262870</td>\n",
       "      <td>0.970069</td>\n",
       "      <td>00:00</td>\n",
       "    </tr>\n",
       "    <tr>\n",
       "      <td>18</td>\n",
       "      <td>0.260101</td>\n",
       "      <td>0.262619</td>\n",
       "      <td>0.971541</td>\n",
       "      <td>00:00</td>\n",
       "    </tr>\n",
       "    <tr>\n",
       "      <td>19</td>\n",
       "      <td>0.260612</td>\n",
       "      <td>0.262189</td>\n",
       "      <td>0.973994</td>\n",
       "      <td>00:00</td>\n",
       "    </tr>\n",
       "    <tr>\n",
       "      <td>20</td>\n",
       "      <td>0.259833</td>\n",
       "      <td>0.262367</td>\n",
       "      <td>0.972031</td>\n",
       "      <td>00:00</td>\n",
       "    </tr>\n",
       "    <tr>\n",
       "      <td>21</td>\n",
       "      <td>0.259831</td>\n",
       "      <td>0.262024</td>\n",
       "      <td>0.974485</td>\n",
       "      <td>00:00</td>\n",
       "    </tr>\n",
       "    <tr>\n",
       "      <td>22</td>\n",
       "      <td>0.259971</td>\n",
       "      <td>0.261906</td>\n",
       "      <td>0.973994</td>\n",
       "      <td>00:00</td>\n",
       "    </tr>\n",
       "    <tr>\n",
       "      <td>23</td>\n",
       "      <td>0.259046</td>\n",
       "      <td>0.261707</td>\n",
       "      <td>0.975466</td>\n",
       "      <td>00:00</td>\n",
       "    </tr>\n",
       "    <tr>\n",
       "      <td>24</td>\n",
       "      <td>0.259220</td>\n",
       "      <td>0.261573</td>\n",
       "      <td>0.975957</td>\n",
       "      <td>00:00</td>\n",
       "    </tr>\n",
       "    <tr>\n",
       "      <td>25</td>\n",
       "      <td>0.258700</td>\n",
       "      <td>0.261645</td>\n",
       "      <td>0.974485</td>\n",
       "      <td>00:00</td>\n",
       "    </tr>\n",
       "    <tr>\n",
       "      <td>26</td>\n",
       "      <td>0.258644</td>\n",
       "      <td>0.261260</td>\n",
       "      <td>0.977429</td>\n",
       "      <td>00:00</td>\n",
       "    </tr>\n",
       "    <tr>\n",
       "      <td>27</td>\n",
       "      <td>0.258487</td>\n",
       "      <td>0.261341</td>\n",
       "      <td>0.975957</td>\n",
       "      <td>00:00</td>\n",
       "    </tr>\n",
       "    <tr>\n",
       "      <td>28</td>\n",
       "      <td>0.259515</td>\n",
       "      <td>0.261156</td>\n",
       "      <td>0.975957</td>\n",
       "      <td>00:00</td>\n",
       "    </tr>\n",
       "    <tr>\n",
       "      <td>29</td>\n",
       "      <td>0.258409</td>\n",
       "      <td>0.261124</td>\n",
       "      <td>0.975957</td>\n",
       "      <td>00:00</td>\n",
       "    </tr>\n",
       "    <tr>\n",
       "      <td>30</td>\n",
       "      <td>0.259996</td>\n",
       "      <td>0.261100</td>\n",
       "      <td>0.975466</td>\n",
       "      <td>00:00</td>\n",
       "    </tr>\n",
       "    <tr>\n",
       "      <td>31</td>\n",
       "      <td>0.259218</td>\n",
       "      <td>0.260876</td>\n",
       "      <td>0.977920</td>\n",
       "      <td>00:00</td>\n",
       "    </tr>\n",
       "    <tr>\n",
       "      <td>32</td>\n",
       "      <td>0.258971</td>\n",
       "      <td>0.260800</td>\n",
       "      <td>0.977429</td>\n",
       "      <td>00:00</td>\n",
       "    </tr>\n",
       "    <tr>\n",
       "      <td>33</td>\n",
       "      <td>0.259217</td>\n",
       "      <td>0.260877</td>\n",
       "      <td>0.976448</td>\n",
       "      <td>00:00</td>\n",
       "    </tr>\n",
       "    <tr>\n",
       "      <td>34</td>\n",
       "      <td>0.259145</td>\n",
       "      <td>0.260698</td>\n",
       "      <td>0.979392</td>\n",
       "      <td>00:00</td>\n",
       "    </tr>\n",
       "    <tr>\n",
       "      <td>35</td>\n",
       "      <td>0.258376</td>\n",
       "      <td>0.260633</td>\n",
       "      <td>0.980373</td>\n",
       "      <td>00:00</td>\n",
       "    </tr>\n",
       "    <tr>\n",
       "      <td>36</td>\n",
       "      <td>0.258933</td>\n",
       "      <td>0.260632</td>\n",
       "      <td>0.979392</td>\n",
       "      <td>00:00</td>\n",
       "    </tr>\n",
       "    <tr>\n",
       "      <td>37</td>\n",
       "      <td>0.258818</td>\n",
       "      <td>0.260599</td>\n",
       "      <td>0.980864</td>\n",
       "      <td>00:00</td>\n",
       "    </tr>\n",
       "    <tr>\n",
       "      <td>38</td>\n",
       "      <td>0.258597</td>\n",
       "      <td>0.260769</td>\n",
       "      <td>0.975957</td>\n",
       "      <td>00:00</td>\n",
       "    </tr>\n",
       "    <tr>\n",
       "      <td>39</td>\n",
       "      <td>0.259025</td>\n",
       "      <td>0.260742</td>\n",
       "      <td>0.977920</td>\n",
       "      <td>00:00</td>\n",
       "    </tr>\n",
       "  </tbody>\n",
       "</table>"
      ],
      "text/plain": [
       "<IPython.core.display.HTML object>"
      ]
     },
     "metadata": {},
     "output_type": "display_data"
    }
   ],
   "source": [
    "#hide_output\n",
    "learn.fit(40, 0.001)"
   ]
  },
  {
   "cell_type": "markdown",
   "metadata": {
    "slideshow": {
     "slide_type": "subslide"
    }
   },
   "source": [
    "The training process is recorded in `learn.recorder`, with the table of output stored in the `values` attribute, so we can plot the accuracy over training as:"
   ]
  },
  {
   "cell_type": "code",
   "execution_count": 69,
   "metadata": {},
   "outputs": [
    {
     "data": {
      "image/png": "[encoded data removed]",
      "text/plain": [
       "<Figure size 640x480 with 1 Axes>"
      ]
     },
     "metadata": {},
     "output_type": "display_data"
    }
   ],
   "source": [
    "plt.plot(L(learn.recorder.values).itemgot(2), scaley=False);"
   ]
  },
  {
   "cell_type": "markdown",
   "metadata": {},
   "source": [
    "And we can view the final accuracy:"
   ]
  },
  {
   "cell_type": "code",
   "execution_count": 68,
   "metadata": {},
   "outputs": [
    {
     "data": {
      "text/plain": [
       "0.9779195189476013"
      ]
     },
     "execution_count": 68,
     "metadata": {},
     "output_type": "execute_result"
    }
   ],
   "source": [
    "learn.recorder.values[-1][2]"
   ]
  }
 ],
 "metadata": {
  "celltoolbar": "Slideshow",
  "jupytext": {
   "split_at_heading": true
  },
  "kernelspec": {
   "display_name": "book",
   "language": "python",
   "name": "python3"
  },
  "language_info": {
   "codemirror_mode": {
    "name": "ipython",
    "version": 3
   },
   "file_extension": ".py",
   "mimetype": "text/x-python",
   "name": "python",
   "nbconvert_exporter": "python",
   "pygments_lexer": "ipython3",
   "version": "3.12.5"
  },
  "rise": {
   "enable_chalkboard": true,
   "scroll": true,
   "theme": "simple"
  }
 },
 "nbformat": 4,
 "nbformat_minor": 4
}
